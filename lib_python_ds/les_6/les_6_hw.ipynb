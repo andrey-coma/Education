{
 "cells": [
  {
   "cell_type": "code",
   "execution_count": 1,
   "id": "c2a5f6be-70e2-4da9-a66c-afdeb9723b24",
   "metadata": {
    "tags": []
   },
   "outputs": [
    {
     "name": "stderr",
     "output_type": "stream",
     "text": [
      "/home/w_lander/anaconda3/envs/dowgrade/lib/python3.9/site-packages/pandas/core/arrays/masked.py:60: UserWarning: Pandas requires version '1.3.6' or newer of 'bottleneck' (version '1.3.5' currently installed).\n",
      "  from pandas.core import (\n"
     ]
    }
   ],
   "source": [
    "import numpy as np\n",
    "import pandas as pd\n",
    "import matplotlib.pyplot as plt\n",
    "import seaborn as sns\n",
    "from matplotlib.colors import ListedColormap\n",
    "\n",
    "from sklearn.model_selection import train_test_split, cross_val_score, learning_curve\n",
    "from sklearn.linear_model import LogisticRegression\n",
    "\n",
    "# стандартизация\n",
    "from sklearn.preprocessing import StandardScaler\n",
    "\n",
    "# метрики\n",
    "from sklearn.metrics import (accuracy_score, f1_score, classification_report, confusion_matrix, ConfusionMatrixDisplay)\n",
    "\n",
    "# регуляризация\n",
    "from sklearn.linear_model import Lasso, Ridge\n",
    "\n",
    "import warnings\n",
    "warnings.filterwarnings('ignore')"
   ]
  },
  {
   "cell_type": "markdown",
   "id": "33947705-9d7c-49ab-86e5-b166902d4aa3",
   "metadata": {},
   "source": [
    "### Ваша задача — построить модель машинного обучения для предсказания целевой переменной на примере датасета ирисы Фишера. \n",
    "* В процессе выполнения задания вы должны применить концепции переобучения и недообучения, кросс-валидации, регуляризации (L1 и L2), а также оценить способность вашей модели к обобщению."
   ]
  },
  {
   "cell_type": "markdown",
   "id": "cac8b54f-74a1-4016-b775-756a4ada3ff3",
   "metadata": {},
   "source": [
    "### Предварительная обработка данных.\n",
    "* Загрузите данные и проведите их первичный анализ. Очистите данные, если это необходимо, и проведите их нормализацию/стандартизацию.\n",
    "* Разделите данные на тренировочный и тестовый наборы."
   ]
  },
  {
   "cell_type": "code",
   "execution_count": 2,
   "id": "022b3931-d1fc-489a-b943-288ab82abe29",
   "metadata": {
    "tags": []
   },
   "outputs": [],
   "source": [
    "from sklearn.datasets import load_iris\n",
    "\n",
    "iris = load_iris()"
   ]
  },
  {
   "cell_type": "code",
   "execution_count": 3,
   "id": "1dfe562f-aad1-470c-a54f-0047e864d366",
   "metadata": {
    "tags": []
   },
   "outputs": [
    {
     "data": {
      "text/plain": [
       "dict_keys(['data', 'target', 'frame', 'target_names', 'DESCR', 'feature_names', 'filename', 'data_module'])"
      ]
     },
     "execution_count": 3,
     "metadata": {},
     "output_type": "execute_result"
    }
   ],
   "source": [
    "iris.keys()"
   ]
  },
  {
   "cell_type": "code",
   "execution_count": 4,
   "id": "a72e7041-379e-48c0-9ac3-21fbd0575838",
   "metadata": {
    "tags": []
   },
   "outputs": [
    {
     "name": "stdout",
     "output_type": "stream",
     "text": [
      ".. _iris_dataset:\n",
      "\n",
      "Iris plants dataset\n",
      "--------------------\n",
      "\n",
      "**Data Set Characteristics:**\n",
      "\n",
      "    :Number of Instances: 150 (50 in each of three classes)\n",
      "    :Number of Attributes: 4 numeric, predictive attributes and the class\n",
      "    :Attribute Information:\n",
      "        - sepal length in cm\n",
      "        - sepal width in cm\n",
      "        - petal length in cm\n",
      "        - petal width in cm\n",
      "        - class:\n",
      "                - Iris-Setosa\n",
      "                - Iris-Versicolour\n",
      "                - Iris-Virginica\n",
      "                \n",
      "    :Summary Statistics:\n",
      "\n",
      "    ============== ==== ==== ======= ===== ====================\n",
      "                    Min  Max   Mean    SD   Class Correlation\n",
      "    ============== ==== ==== ======= ===== ====================\n",
      "    sepal length:   4.3  7.9   5.84   0.83    0.7826\n",
      "    sepal width:    2.0  4.4   3.05   0.43   -0.4194\n",
      "    petal length:   1.0  6.9   3.76   1.76    0.9490  (high!)\n",
      "    petal width:    0.1  2.5   1.20   0.76    0.9565  (high!)\n",
      "    ============== ==== ==== ======= ===== ====================\n",
      "\n",
      "    :Missing Attribute Values: None\n",
      "    :Class Distribution: 33.3% for each of 3 classes.\n",
      "    :Creator: R.A. Fisher\n",
      "    :Donor: Michael Marshall (MARSHALL%PLU@io.arc.nasa.gov)\n",
      "    :Date: July, 1988\n",
      "\n",
      "The famous Iris database, first used by Sir R.A. Fisher. The dataset is taken\n",
      "from Fisher's paper. Note that it's the same as in R, but not as in the UCI\n",
      "Machine Learning Repository, which has two wrong data points.\n",
      "\n",
      "This is perhaps the best known database to be found in the\n",
      "pattern recognition literature.  Fisher's paper is a classic in the field and\n",
      "is referenced frequently to this day.  (See Duda & Hart, for example.)  The\n",
      "data set contains 3 classes of 50 instances each, where each class refers to a\n",
      "type of iris plant.  One class is linearly separable from the other 2; the\n",
      "latter are NOT linearly separable from each other.\n",
      "\n",
      ".. topic:: References\n",
      "\n",
      "   - Fisher, R.A. \"The use of multiple measurements in taxonomic problems\"\n",
      "     Annual Eugenics, 7, Part II, 179-188 (1936); also in \"Contributions to\n",
      "     Mathematical Statistics\" (John Wiley, NY, 1950).\n",
      "   - Duda, R.O., & Hart, P.E. (1973) Pattern Classification and Scene Analysis.\n",
      "     (Q327.D83) John Wiley & Sons.  ISBN 0-471-22361-1.  See page 218.\n",
      "   - Dasarathy, B.V. (1980) \"Nosing Around the Neighborhood: A New System\n",
      "     Structure and Classification Rule for Recognition in Partially Exposed\n",
      "     Environments\".  IEEE Transactions on Pattern Analysis and Machine\n",
      "     Intelligence, Vol. PAMI-2, No. 1, 67-71.\n",
      "   - Gates, G.W. (1972) \"The Reduced Nearest Neighbor Rule\".  IEEE Transactions\n",
      "     on Information Theory, May 1972, 431-433.\n",
      "   - See also: 1988 MLC Proceedings, 54-64.  Cheeseman et al\"s AUTOCLASS II\n",
      "     conceptual clustering system finds 3 classes in the data.\n",
      "   - Many, many more ...\n"
     ]
    }
   ],
   "source": [
    "print(iris.DESCR)"
   ]
  },
  {
   "cell_type": "code",
   "execution_count": 5,
   "id": "35b83540-7a7d-4972-8b43-401d10b86a59",
   "metadata": {},
   "outputs": [],
   "source": [
    "# sepal length - длина чашелистика\n",
    "# sepal width  - ширина чашелистика\n",
    "# petal length - длина лепестка\n",
    "# petal width  - ширина лепестка"
   ]
  },
  {
   "cell_type": "code",
   "execution_count": 6,
   "id": "c6942f38-14e9-40ee-9115-1adf414db77e",
   "metadata": {
    "tags": []
   },
   "outputs": [],
   "source": [
    "df_iris = pd.DataFrame(iris.data, columns=iris.feature_names)"
   ]
  },
  {
   "cell_type": "code",
   "execution_count": 7,
   "id": "8b1345b3-c7f6-47b5-b8fb-30a42474c07d",
   "metadata": {
    "tags": []
   },
   "outputs": [],
   "source": [
    "df_iris['target'] = iris.target"
   ]
  },
  {
   "cell_type": "code",
   "execution_count": 8,
   "id": "f51294e6-96d2-4a1a-895a-ba0def90e626",
   "metadata": {
    "tags": []
   },
   "outputs": [
    {
     "data": {
      "text/html": [
       "<div>\n",
       "<style scoped>\n",
       "    .dataframe tbody tr th:only-of-type {\n",
       "        vertical-align: middle;\n",
       "    }\n",
       "\n",
       "    .dataframe tbody tr th {\n",
       "        vertical-align: top;\n",
       "    }\n",
       "\n",
       "    .dataframe thead th {\n",
       "        text-align: right;\n",
       "    }\n",
       "</style>\n",
       "<table border=\"1\" class=\"dataframe\">\n",
       "  <thead>\n",
       "    <tr style=\"text-align: right;\">\n",
       "      <th></th>\n",
       "      <th>sepal length (cm)</th>\n",
       "      <th>sepal width (cm)</th>\n",
       "      <th>petal length (cm)</th>\n",
       "      <th>petal width (cm)</th>\n",
       "      <th>target</th>\n",
       "    </tr>\n",
       "  </thead>\n",
       "  <tbody>\n",
       "    <tr>\n",
       "      <th>53</th>\n",
       "      <td>5.5</td>\n",
       "      <td>2.3</td>\n",
       "      <td>4.0</td>\n",
       "      <td>1.3</td>\n",
       "      <td>1</td>\n",
       "    </tr>\n",
       "    <tr>\n",
       "      <th>137</th>\n",
       "      <td>6.4</td>\n",
       "      <td>3.1</td>\n",
       "      <td>5.5</td>\n",
       "      <td>1.8</td>\n",
       "      <td>2</td>\n",
       "    </tr>\n",
       "    <tr>\n",
       "      <th>55</th>\n",
       "      <td>5.7</td>\n",
       "      <td>2.8</td>\n",
       "      <td>4.5</td>\n",
       "      <td>1.3</td>\n",
       "      <td>1</td>\n",
       "    </tr>\n",
       "    <tr>\n",
       "      <th>111</th>\n",
       "      <td>6.4</td>\n",
       "      <td>2.7</td>\n",
       "      <td>5.3</td>\n",
       "      <td>1.9</td>\n",
       "      <td>2</td>\n",
       "    </tr>\n",
       "    <tr>\n",
       "      <th>61</th>\n",
       "      <td>5.9</td>\n",
       "      <td>3.0</td>\n",
       "      <td>4.2</td>\n",
       "      <td>1.5</td>\n",
       "      <td>1</td>\n",
       "    </tr>\n",
       "  </tbody>\n",
       "</table>\n",
       "</div>"
      ],
      "text/plain": [
       "     sepal length (cm)  sepal width (cm)  petal length (cm)  petal width (cm)  \\\n",
       "53                 5.5               2.3                4.0               1.3   \n",
       "137                6.4               3.1                5.5               1.8   \n",
       "55                 5.7               2.8                4.5               1.3   \n",
       "111                6.4               2.7                5.3               1.9   \n",
       "61                 5.9               3.0                4.2               1.5   \n",
       "\n",
       "     target  \n",
       "53        1  \n",
       "137       2  \n",
       "55        1  \n",
       "111       2  \n",
       "61        1  "
      ]
     },
     "execution_count": 8,
     "metadata": {},
     "output_type": "execute_result"
    }
   ],
   "source": [
    "df_iris.sample(5)"
   ]
  },
  {
   "cell_type": "code",
   "execution_count": 9,
   "id": "37b0d9a6-37f7-45da-9650-96ede14be79a",
   "metadata": {
    "tags": []
   },
   "outputs": [
    {
     "data": {
      "text/plain": [
       "target\n",
       "0    50\n",
       "1    50\n",
       "2    50\n",
       "Name: count, dtype: int64"
      ]
     },
     "execution_count": 9,
     "metadata": {},
     "output_type": "execute_result"
    }
   ],
   "source": [
    "df_iris['target'].value_counts()"
   ]
  },
  {
   "cell_type": "code",
   "execution_count": 10,
   "id": "6cf59821-5606-414c-bff0-91ffe9fe51ce",
   "metadata": {
    "tags": []
   },
   "outputs": [],
   "source": [
    "# Выборка сбалансировна"
   ]
  },
  {
   "cell_type": "code",
   "execution_count": 11,
   "id": "40b07d4b-12b8-418b-8352-a944b08e7d79",
   "metadata": {
    "tags": []
   },
   "outputs": [
    {
     "name": "stdout",
     "output_type": "stream",
     "text": [
      "<class 'pandas.core.frame.DataFrame'>\n",
      "RangeIndex: 150 entries, 0 to 149\n",
      "Data columns (total 5 columns):\n",
      " #   Column             Non-Null Count  Dtype  \n",
      "---  ------             --------------  -----  \n",
      " 0   sepal length (cm)  150 non-null    float64\n",
      " 1   sepal width (cm)   150 non-null    float64\n",
      " 2   petal length (cm)  150 non-null    float64\n",
      " 3   petal width (cm)   150 non-null    float64\n",
      " 4   target             150 non-null    int64  \n",
      "dtypes: float64(4), int64(1)\n",
      "memory usage: 6.0 KB\n"
     ]
    }
   ],
   "source": [
    "df_iris.info()"
   ]
  },
  {
   "cell_type": "code",
   "execution_count": 12,
   "id": "79b94cbf-d693-4447-b5a1-505f9de70fa4",
   "metadata": {
    "tags": []
   },
   "outputs": [
    {
     "data": {
      "text/plain": [
       "sepal length (cm)    0\n",
       "sepal width (cm)     0\n",
       "petal length (cm)    0\n",
       "petal width (cm)     0\n",
       "target               0\n",
       "dtype: int64"
      ]
     },
     "execution_count": 12,
     "metadata": {},
     "output_type": "execute_result"
    }
   ],
   "source": [
    "df_iris.isna().sum()"
   ]
  },
  {
   "cell_type": "code",
   "execution_count": 13,
   "id": "68eaf246-4063-4767-8e08-5a3452f3d4ee",
   "metadata": {
    "tags": []
   },
   "outputs": [],
   "source": [
    "# Пропусков нет"
   ]
  },
  {
   "cell_type": "code",
   "execution_count": 14,
   "id": "737f4553-b3bb-4e13-8c7d-fa9022f858aa",
   "metadata": {
    "tags": []
   },
   "outputs": [
    {
     "data": {
      "text/html": [
       "<div>\n",
       "<style scoped>\n",
       "    .dataframe tbody tr th:only-of-type {\n",
       "        vertical-align: middle;\n",
       "    }\n",
       "\n",
       "    .dataframe tbody tr th {\n",
       "        vertical-align: top;\n",
       "    }\n",
       "\n",
       "    .dataframe thead th {\n",
       "        text-align: right;\n",
       "    }\n",
       "</style>\n",
       "<table border=\"1\" class=\"dataframe\">\n",
       "  <thead>\n",
       "    <tr style=\"text-align: right;\">\n",
       "      <th></th>\n",
       "      <th>sepal length (cm)</th>\n",
       "      <th>sepal width (cm)</th>\n",
       "      <th>petal length (cm)</th>\n",
       "      <th>petal width (cm)</th>\n",
       "      <th>target</th>\n",
       "    </tr>\n",
       "  </thead>\n",
       "  <tbody>\n",
       "    <tr>\n",
       "      <th>count</th>\n",
       "      <td>150.000000</td>\n",
       "      <td>150.000000</td>\n",
       "      <td>150.000000</td>\n",
       "      <td>150.000000</td>\n",
       "      <td>150.000000</td>\n",
       "    </tr>\n",
       "    <tr>\n",
       "      <th>mean</th>\n",
       "      <td>5.843333</td>\n",
       "      <td>3.057333</td>\n",
       "      <td>3.758000</td>\n",
       "      <td>1.199333</td>\n",
       "      <td>1.000000</td>\n",
       "    </tr>\n",
       "    <tr>\n",
       "      <th>std</th>\n",
       "      <td>0.828066</td>\n",
       "      <td>0.435866</td>\n",
       "      <td>1.765298</td>\n",
       "      <td>0.762238</td>\n",
       "      <td>0.819232</td>\n",
       "    </tr>\n",
       "    <tr>\n",
       "      <th>min</th>\n",
       "      <td>4.300000</td>\n",
       "      <td>2.000000</td>\n",
       "      <td>1.000000</td>\n",
       "      <td>0.100000</td>\n",
       "      <td>0.000000</td>\n",
       "    </tr>\n",
       "    <tr>\n",
       "      <th>25%</th>\n",
       "      <td>5.100000</td>\n",
       "      <td>2.800000</td>\n",
       "      <td>1.600000</td>\n",
       "      <td>0.300000</td>\n",
       "      <td>0.000000</td>\n",
       "    </tr>\n",
       "    <tr>\n",
       "      <th>50%</th>\n",
       "      <td>5.800000</td>\n",
       "      <td>3.000000</td>\n",
       "      <td>4.350000</td>\n",
       "      <td>1.300000</td>\n",
       "      <td>1.000000</td>\n",
       "    </tr>\n",
       "    <tr>\n",
       "      <th>75%</th>\n",
       "      <td>6.400000</td>\n",
       "      <td>3.300000</td>\n",
       "      <td>5.100000</td>\n",
       "      <td>1.800000</td>\n",
       "      <td>2.000000</td>\n",
       "    </tr>\n",
       "    <tr>\n",
       "      <th>max</th>\n",
       "      <td>7.900000</td>\n",
       "      <td>4.400000</td>\n",
       "      <td>6.900000</td>\n",
       "      <td>2.500000</td>\n",
       "      <td>2.000000</td>\n",
       "    </tr>\n",
       "  </tbody>\n",
       "</table>\n",
       "</div>"
      ],
      "text/plain": [
       "       sepal length (cm)  sepal width (cm)  petal length (cm)  \\\n",
       "count         150.000000        150.000000         150.000000   \n",
       "mean            5.843333          3.057333           3.758000   \n",
       "std             0.828066          0.435866           1.765298   \n",
       "min             4.300000          2.000000           1.000000   \n",
       "25%             5.100000          2.800000           1.600000   \n",
       "50%             5.800000          3.000000           4.350000   \n",
       "75%             6.400000          3.300000           5.100000   \n",
       "max             7.900000          4.400000           6.900000   \n",
       "\n",
       "       petal width (cm)      target  \n",
       "count        150.000000  150.000000  \n",
       "mean           1.199333    1.000000  \n",
       "std            0.762238    0.819232  \n",
       "min            0.100000    0.000000  \n",
       "25%            0.300000    0.000000  \n",
       "50%            1.300000    1.000000  \n",
       "75%            1.800000    2.000000  \n",
       "max            2.500000    2.000000  "
      ]
     },
     "execution_count": 14,
     "metadata": {},
     "output_type": "execute_result"
    }
   ],
   "source": [
    "df_iris.describe()"
   ]
  },
  {
   "cell_type": "code",
   "execution_count": 15,
   "id": "32353b53-89df-4d1b-8566-fdff9eea4271",
   "metadata": {
    "tags": []
   },
   "outputs": [
    {
     "data": {
      "image/png": "[encoded data removed]",
      "text/plain": [
       "<Figure size 1000x800 with 6 Axes>"
      ]
     },
     "metadata": {},
     "output_type": "display_data"
    }
   ],
   "source": [
    "# Генерируем гистограммы для всех числовых столбцов в DataFrame\n",
    "df_iris.hist(figsize=(10, 8), bins=10)\n",
    "plt.tight_layout() # Улучшает размещение подграфиков чтобы они не пересекались\n",
    "plt.grid(alpha=0.3)\n",
    "plt.show()"
   ]
  },
  {
   "cell_type": "code",
   "execution_count": 16,
   "id": "2da567d6-3d61-4675-8dc9-9e960cc169ae",
   "metadata": {
    "tags": []
   },
   "outputs": [],
   "source": [
    "X = df_iris.drop('target', axis=1)\n",
    "Y = df_iris['target']\n",
    "\n",
    "X_scaled = StandardScaler().fit_transform(X)\n",
    "\n",
    "X_train, X_test, y_train, y_test = train_test_split(X, Y, test_size=30, random_state=42, shuffle=True)"
   ]
  },
  {
   "cell_type": "code",
   "execution_count": 17,
   "id": "401c45e7-b705-4161-ae48-9eedb586e7b4",
   "metadata": {
    "tags": []
   },
   "outputs": [
    {
     "data": {
      "text/plain": [
       "((120, 4), (30,))"
      ]
     },
     "execution_count": 17,
     "metadata": {},
     "output_type": "execute_result"
    }
   ],
   "source": [
    "X_train.shape, y_test.shape"
   ]
  },
  {
   "cell_type": "markdown",
   "id": "b003a93a-389c-44f9-b7fc-e6a92b427105",
   "metadata": {},
   "source": [
    "### 2. Обучение модели.\n",
    "* Обучите модель логистической регрессии без регуляризации. Оцените её качество на тренировочных и тестовых данных.\n",
    "* Повторите шаг с добавлением L1- и L2-регуляризации. Подберите оптимальные значения параметра регуляризации с помощью кросс-валидации."
   ]
  },
  {
   "cell_type": "code",
   "execution_count": 18,
   "id": "48e2b32b-3516-411c-a756-7e8e0a467027",
   "metadata": {
    "tags": []
   },
   "outputs": [
    {
     "name": "stdout",
     "output_type": "stream",
     "text": [
      "TRAIN\n",
      "              precision    recall  f1-score   support\n",
      "\n",
      "           0       1.00      1.00      1.00        40\n",
      "           1       1.00      0.93      0.96        41\n",
      "           2       0.93      1.00      0.96        39\n",
      "\n",
      "    accuracy                           0.97       120\n",
      "   macro avg       0.98      0.98      0.97       120\n",
      "weighted avg       0.98      0.97      0.97       120\n",
      "\n"
     ]
    }
   ],
   "source": [
    "model = LogisticRegression(penalty='none', solver='saga') # без регуляризации\n",
    "\n",
    "model.fit(X_train, y_train)\n",
    "\n",
    "predictions_no_reg = model.predict(X_train)\n",
    "print('TRAIN')\n",
    "print(classification_report(y_train, predictions_no_reg))"
   ]
  },
  {
   "cell_type": "code",
   "execution_count": 19,
   "id": "ef54f3e4-9deb-4e03-9d2b-b745aa086dea",
   "metadata": {
    "tags": []
   },
   "outputs": [
    {
     "name": "stdout",
     "output_type": "stream",
     "text": [
      "TEST\n",
      "              precision    recall  f1-score   support\n",
      "\n",
      "           0       1.00      1.00      1.00        10\n",
      "           1       1.00      1.00      1.00         9\n",
      "           2       1.00      1.00      1.00        11\n",
      "\n",
      "    accuracy                           1.00        30\n",
      "   macro avg       1.00      1.00      1.00        30\n",
      "weighted avg       1.00      1.00      1.00        30\n",
      "\n"
     ]
    }
   ],
   "source": [
    "predictions_no_reg = model.predict(X_test) # без регуляризации\n",
    "print('TEST')\n",
    "print(classification_report(y_test, predictions_no_reg))"
   ]
  },
  {
   "cell_type": "code",
   "execution_count": 20,
   "id": "7aab799f-7f56-477f-9852-e8448d4ab50f",
   "metadata": {
    "tags": []
   },
   "outputs": [],
   "source": [
    "# Полученные данные свидетельствовуют о переобучении"
   ]
  },
  {
   "cell_type": "code",
   "execution_count": 21,
   "id": "f4544ef9-e342-474c-9be5-bf349e4a6475",
   "metadata": {
    "tags": []
   },
   "outputs": [
    {
     "name": "stdout",
     "output_type": "stream",
     "text": [
      "Однократная оценка эффективности (accuracy): 1.0\n",
      "Среднее значение accuracy по 5-кратной кросс-валидации: 0.9733333333333334\n",
      "Среднее значение accuracy при 10-кратной кросс-валидации: 0.9800000000000001\n"
     ]
    }
   ],
   "source": [
    "# Подберите оптимальные значения параметра регуляризации с помощью кросс-валидации.\n",
    "\n",
    "# Однократная оценка на тестовых данных\n",
    "single_score = accuracy_score(y_test, model.predict(X_test))\n",
    "print(\"Однократная оценка эффективности (accuracy):\", single_score)\n",
    "\n",
    "# 5-кратная кросс-валидация на всем датасете\n",
    "cross_val_scores = cross_val_score(model, X_scaled, Y, cv=5, scoring='accuracy')\n",
    "print(\"Среднее значение accuracy по 5-кратной кросс-валидации:\", cross_val_scores.mean())\n",
    "\n",
    "scores_10 = cross_val_score(model, X_scaled, Y, cv=10, scoring='accuracy')\n",
    "print(\"Среднее значение accuracy при 10-кратной кросс-валидации:\", scores_10.mean())"
   ]
  },
  {
   "cell_type": "markdown",
   "id": "9c659dc4-2902-4fc3-ba18-716f8114adcb",
   "metadata": {},
   "source": [
    "Однократная оценка - свидетельствовуют о сильном переобучении\n",
    "\n",
    "Модель обучается на некоторых из этих фолдов и валидируется на оставшихся, процесс повторяется несколько раз с разными наборами фолдов. Это позволяет использовать все доступные данные как для обучения, так и для валидации модели, предоставляя более обобщённую оценку её качества."
   ]
  },
  {
   "cell_type": "code",
   "execution_count": 22,
   "id": "b4bdaa65-5245-40ee-83d7-8954f2042150",
   "metadata": {
    "tags": []
   },
   "outputs": [],
   "source": [
    "alphas = [0.01, 0.1, 1.0, 10.0, 100.0]"
   ]
  },
  {
   "cell_type": "raw",
   "id": "447534e4-f102-4fe0-b609-426901802795",
   "metadata": {},
   "source": [
    "Warning The choice of the algorithm depends on the penalty chosen:\n",
    "Supported penalties by solver:\n",
    "‘newton-cg’ - [‘l2’, ‘none’]                - multiclass - yes\n",
    "‘lbfgs’ - [‘l2’, ‘none’]                    - multiclass - yes\n",
    "‘liblinear’ - [‘l1’, ‘l2’]                  - multiclass - no\n",
    "‘sag’ - [‘l2’, ‘none’]                      - multiclass - no\n",
    "‘saga’ - [‘elasticnet’, ‘l1’, ‘l2’, ‘none’] - multiclass - yes"
   ]
  },
  {
   "cell_type": "code",
   "execution_count": 23,
   "id": "13760210-de60-4e5c-884d-996c10692848",
   "metadata": {
    "tags": []
   },
   "outputs": [],
   "source": [
    "models = []\n",
    "coefs = []\n",
    "models.append(LogisticRegression(penalty='none').fit(X_train, y_train))\n",
    "\n",
    "for a in alphas:\n",
    "    model_reg_l1 = LogisticRegression(penalty='l1', solver='saga', C=1/a).fit(X_train, y_train)\n",
    "    models.append(model_reg_l1)\n",
    "    coefs.append(model_reg_l1.coef_)"
   ]
  },
  {
   "cell_type": "code",
   "execution_count": 24,
   "id": "505bfaf7-1827-472d-b2ba-2f820a77ef9a",
   "metadata": {
    "tags": []
   },
   "outputs": [],
   "source": [
    "for a in alphas:\n",
    "    model_reg_l_2 = LogisticRegression(penalty='l2', solver='saga', C=1/a).fit(X_train, y_train)\n",
    "    models.append(model_reg_l_2)\n",
    "    coefs.append(model_reg_l_2.coef_)"
   ]
  },
  {
   "cell_type": "code",
   "execution_count": 25,
   "id": "96104ed9-6c39-492e-aed9-677317198074",
   "metadata": {
    "tags": []
   },
   "outputs": [
    {
     "data": {
      "text/plain": [
       "(3, 4)"
      ]
     },
     "execution_count": 25,
     "metadata": {},
     "output_type": "execute_result"
    }
   ],
   "source": [
    "coefs[0].shape"
   ]
  },
  {
   "cell_type": "code",
   "execution_count": 26,
   "id": "dc441715-5166-4a52-9b17-77e388a40c63",
   "metadata": {
    "tags": []
   },
   "outputs": [
    {
     "data": {
      "text/plain": [
       "[LogisticRegression(penalty='none'),\n",
       " LogisticRegression(C=100.0, penalty='l1', solver='saga'),\n",
       " LogisticRegression(C=10.0, penalty='l1', solver='saga'),\n",
       " LogisticRegression(penalty='l1', solver='saga'),\n",
       " LogisticRegression(C=0.1, penalty='l1', solver='saga'),\n",
       " LogisticRegression(C=0.01, penalty='l1', solver='saga'),\n",
       " LogisticRegression(C=100.0, solver='saga'),\n",
       " LogisticRegression(C=10.0, solver='saga'),\n",
       " LogisticRegression(solver='saga'),\n",
       " LogisticRegression(C=0.1, solver='saga'),\n",
       " LogisticRegression(C=0.01, solver='saga')]"
      ]
     },
     "execution_count": 26,
     "metadata": {},
     "output_type": "execute_result"
    }
   ],
   "source": [
    "models"
   ]
  },
  {
   "cell_type": "code",
   "execution_count": 27,
   "id": "3c39bff1-fa33-4f8e-98fb-66a830740827",
   "metadata": {
    "tags": []
   },
   "outputs": [],
   "source": [
    "scores = []\n",
    "scores.append(\n",
    "    \n",
    "        {\n",
    "            'alpha': 'no',\n",
    "            'penalty': 'no',\n",
    "            'train_acc': models[0].score(X_train, y_train),\n",
    "            'test_acc': models[0].score(X_test, y_test)\n",
    "        }\n",
    "    )"
   ]
  },
  {
   "cell_type": "code",
   "execution_count": 28,
   "id": "22486994-aa38-4681-ad0c-4979ac0dfdd6",
   "metadata": {
    "tags": []
   },
   "outputs": [],
   "source": [
    "for i, m in enumerate(models[1:6]):\n",
    "    alpha = alphas[i]\n",
    "    scores.append(\n",
    "        \n",
    "        {\n",
    "            'alpha': alpha,\n",
    "            'penalty': m.penalty,\n",
    "            'train_acc': m.score(X_train, y_train),\n",
    "            'test_acc': m.score(X_test, y_test)\n",
    "        }\n",
    "    )"
   ]
  },
  {
   "cell_type": "code",
   "execution_count": 29,
   "id": "a6d468ea-3fd9-459b-9f2c-85578151a8dd",
   "metadata": {
    "tags": []
   },
   "outputs": [],
   "source": [
    "for i, m in enumerate(models[6:]):\n",
    "    alpha = alphas[i]\n",
    "    scores.append(\n",
    "        {\n",
    "            'alpha': alpha,\n",
    "            'penalty': m.penalty,\n",
    "            'train_acc': m.score(X_train, y_train),\n",
    "            'test_acc': m.score(X_test, y_test)\n",
    "        }\n",
    "    )"
   ]
  },
  {
   "cell_type": "code",
   "execution_count": 30,
   "id": "59fd4159-6d54-43cc-8b3c-47ce48d9420f",
   "metadata": {
    "tags": []
   },
   "outputs": [
    {
     "data": {
      "text/html": [
       "<div>\n",
       "<style scoped>\n",
       "    .dataframe tbody tr th:only-of-type {\n",
       "        vertical-align: middle;\n",
       "    }\n",
       "\n",
       "    .dataframe tbody tr th {\n",
       "        vertical-align: top;\n",
       "    }\n",
       "\n",
       "    .dataframe thead th {\n",
       "        text-align: right;\n",
       "    }\n",
       "</style>\n",
       "<table border=\"1\" class=\"dataframe\">\n",
       "  <thead>\n",
       "    <tr style=\"text-align: right;\">\n",
       "      <th></th>\n",
       "      <th>alpha</th>\n",
       "      <th>penalty</th>\n",
       "      <th>train_acc</th>\n",
       "      <th>test_acc</th>\n",
       "    </tr>\n",
       "  </thead>\n",
       "  <tbody>\n",
       "    <tr>\n",
       "      <th>0</th>\n",
       "      <td>no</td>\n",
       "      <td>no</td>\n",
       "      <td>0.983333</td>\n",
       "      <td>1.000000</td>\n",
       "    </tr>\n",
       "    <tr>\n",
       "      <th>1</th>\n",
       "      <td>0.01</td>\n",
       "      <td>l1</td>\n",
       "      <td>0.975000</td>\n",
       "      <td>1.000000</td>\n",
       "    </tr>\n",
       "    <tr>\n",
       "      <th>2</th>\n",
       "      <td>0.1</td>\n",
       "      <td>l1</td>\n",
       "      <td>0.975000</td>\n",
       "      <td>1.000000</td>\n",
       "    </tr>\n",
       "    <tr>\n",
       "      <th>3</th>\n",
       "      <td>1.0</td>\n",
       "      <td>l1</td>\n",
       "      <td>0.975000</td>\n",
       "      <td>1.000000</td>\n",
       "    </tr>\n",
       "    <tr>\n",
       "      <th>4</th>\n",
       "      <td>10.0</td>\n",
       "      <td>l1</td>\n",
       "      <td>0.950000</td>\n",
       "      <td>0.966667</td>\n",
       "    </tr>\n",
       "    <tr>\n",
       "      <th>5</th>\n",
       "      <td>100.0</td>\n",
       "      <td>l1</td>\n",
       "      <td>0.333333</td>\n",
       "      <td>0.333333</td>\n",
       "    </tr>\n",
       "    <tr>\n",
       "      <th>6</th>\n",
       "      <td>0.01</td>\n",
       "      <td>l2</td>\n",
       "      <td>0.975000</td>\n",
       "      <td>1.000000</td>\n",
       "    </tr>\n",
       "    <tr>\n",
       "      <th>7</th>\n",
       "      <td>0.1</td>\n",
       "      <td>l2</td>\n",
       "      <td>0.975000</td>\n",
       "      <td>1.000000</td>\n",
       "    </tr>\n",
       "    <tr>\n",
       "      <th>8</th>\n",
       "      <td>1.0</td>\n",
       "      <td>l2</td>\n",
       "      <td>0.975000</td>\n",
       "      <td>1.000000</td>\n",
       "    </tr>\n",
       "    <tr>\n",
       "      <th>9</th>\n",
       "      <td>10.0</td>\n",
       "      <td>l2</td>\n",
       "      <td>0.975000</td>\n",
       "      <td>1.000000</td>\n",
       "    </tr>\n",
       "    <tr>\n",
       "      <th>10</th>\n",
       "      <td>100.0</td>\n",
       "      <td>l2</td>\n",
       "      <td>0.866667</td>\n",
       "      <td>0.933333</td>\n",
       "    </tr>\n",
       "  </tbody>\n",
       "</table>\n",
       "</div>"
      ],
      "text/plain": [
       "    alpha penalty  train_acc  test_acc\n",
       "0      no      no   0.983333  1.000000\n",
       "1    0.01      l1   0.975000  1.000000\n",
       "2     0.1      l1   0.975000  1.000000\n",
       "3     1.0      l1   0.975000  1.000000\n",
       "4    10.0      l1   0.950000  0.966667\n",
       "5   100.0      l1   0.333333  0.333333\n",
       "6    0.01      l2   0.975000  1.000000\n",
       "7     0.1      l2   0.975000  1.000000\n",
       "8     1.0      l2   0.975000  1.000000\n",
       "9    10.0      l2   0.975000  1.000000\n",
       "10  100.0      l2   0.866667  0.933333"
      ]
     },
     "execution_count": 30,
     "metadata": {},
     "output_type": "execute_result"
    }
   ],
   "source": [
    "results_score = pd.DataFrame(scores)\n",
    "results_score"
   ]
  },
  {
   "cell_type": "code",
   "execution_count": 31,
   "id": "7ba6918a-1547-4125-a0d2-f5fac9215907",
   "metadata": {
    "tags": []
   },
   "outputs": [],
   "source": [
    "# Для модели без регуляризации accuracy = 1.0. - Модель идеально подстроилась под тестовые данные, но не обязательно будет хорошо работать на новых данных\n",
    "# Для L1-регуляризации параметром оптимизатора solver='saga' и alpha = 10 значение accuracy достигает наилучшего результата почти 0.97\n",
    "# Для L2-регуляризации параметром оптимизатора solver='saga' и alpha = 100 значение accuracy достигает наилучшего результата почти 0.93"
   ]
  },
  {
   "cell_type": "markdown",
   "id": "432466df-9faf-461b-872c-516c16c6d98d",
   "metadata": {},
   "source": [
    "### 3. Анализ результатов.\n",
    "* Сравните качество всех трёх моделей (без регуляризации, с L1- и с L2-регуляризацией). Как влияют L1 и L2 на качество модели по сравнению с базовой моделью?\n",
    "* Постройте графики кривых обучения для каждой из моделей. Что вы можете сказать о способности ваших моделей к обобщению?"
   ]
  },
  {
   "cell_type": "code",
   "execution_count": 32,
   "id": "7b1101e4-a2da-4d37-8602-12af61c3c49f",
   "metadata": {
    "tags": []
   },
   "outputs": [
    {
     "data": {
      "image/png": "[encoded data removed]",
      "text/plain": [
       "<Figure size 640x480 with 1 Axes>"
      ]
     },
     "metadata": {},
     "output_type": "display_data"
    }
   ],
   "source": [
    "# модель без ругуляризации\n",
    "model_no_reg = LogisticRegression(penalty='none', solver='saga')\n",
    "\n",
    "# Получение кривых обучения\n",
    "train_sizes, train_scores, validation_scores = learning_curve(\n",
    "                                                              estimator=model_no_reg,\n",
    "                                                              X=X_scaled,\n",
    "                                                              y=Y,\n",
    "                                                              train_sizes=np.linspace(0.1, 1.0, 10),\n",
    "                                                              cv=5,\n",
    "                                                              scoring='accuracy'\n",
    "                                                             )\n",
    "\n",
    "# Средние значения и стандартное отклонение ошибок обучения\n",
    "train_mean = np.mean(train_scores, axis=1)\n",
    "train_std = np.std(train_scores, axis=1)\n",
    "\n",
    "# Средние значения и стандартное отклонение ошибок валидации\n",
    "validation_mean = np.mean(validation_scores, axis=1)\n",
    "validation_std = np.std(validation_scores, axis=1)\n",
    "\n",
    "# Построение графиков\n",
    "plt.fill_between(train_sizes, train_mean - train_std, train_mean + train_std, color='#DDDDDD')\n",
    "plt.fill_between(train_sizes, validation_mean - validation_std, validation_mean + validation_std, color='#FFDDDD')\n",
    "plt.plot(train_sizes, train_mean, 'o-', color='b', label='Training error')\n",
    "plt.plot(train_sizes, validation_mean, 'o-', color='r', label='Validation error')\n",
    "\n",
    "plt.title('Learning Curves (solver=saga, penalty=none)')\n",
    "plt.xlabel('Training Set Size')\n",
    "plt.ylabel('Accuracy')\n",
    "plt.grid(alpha=0.5)\n",
    "plt.legend()\n",
    "plt.show()"
   ]
  },
  {
   "cell_type": "code",
   "execution_count": 33,
   "id": "ef1da5ec-7404-4b7e-8205-41016f55d0f8",
   "metadata": {
    "tags": []
   },
   "outputs": [
    {
     "data": {
      "image/png": "[encoded data removed]",
      "text/plain": [
       "<Figure size 640x480 with 1 Axes>"
      ]
     },
     "metadata": {},
     "output_type": "display_data"
    }
   ],
   "source": [
    "# модель с ругуляризацией l1\n",
    "model_reg_l1 = LogisticRegression(C=10, solver='saga', penalty='l1')\n",
    "\n",
    "# Получение кривых обучения\n",
    "train_sizes, train_scores, validation_scores = learning_curve(\n",
    "                                                              estimator=model_reg_l1,\n",
    "                                                              X=X_scaled,\n",
    "                                                              y=Y,\n",
    "                                                              train_sizes=np.linspace(0.1, 1.0, 10),\n",
    "                                                              cv=5,\n",
    "                                                              scoring='accuracy'\n",
    "                                                             )\n",
    "\n",
    "# Средние значения и стандартное отклонение ошибок обучения\n",
    "train_mean = np.mean(train_scores, axis=1)\n",
    "train_std = np.std(train_scores, axis=1)\n",
    "\n",
    "# Средние значения и стандартное отклонение ошибок валидации\n",
    "validation_mean = np.mean(validation_scores, axis=1)\n",
    "validation_std = np.std(validation_scores, axis=1)\n",
    "\n",
    "# Построение графиков\n",
    "plt.fill_between(train_sizes, train_mean - train_std, train_mean + train_std, color='#DDDDDD')\n",
    "plt.fill_between(train_sizes, validation_mean - validation_std, validation_mean + validation_std, color='#FFDDDD')\n",
    "plt.plot(train_sizes, train_mean, 'o-', color='b', label='Training error')\n",
    "plt.plot(train_sizes, validation_mean, 'o-', color='r', label='Validation error')\n",
    "\n",
    "plt.title('Learning Curves (solver=saga, penalty=l1, alpha=10)')\n",
    "plt.xlabel('Training Set Size')\n",
    "plt.ylabel('Accuracy')\n",
    "plt.grid(alpha=0.5)\n",
    "plt.legend()\n",
    "plt.show()"
   ]
  },
  {
   "cell_type": "code",
   "execution_count": 34,
   "id": "1293d072-ebfe-4ff9-9176-883fce3975ea",
   "metadata": {
    "tags": []
   },
   "outputs": [
    {
     "data": {
      "image/png": "[encoded data removed]",
      "text/plain": [
       "<Figure size 640x480 with 1 Axes>"
      ]
     },
     "metadata": {},
     "output_type": "display_data"
    }
   ],
   "source": [
    "# модель с ругуляризацией l1\n",
    "model_reg_l2 = LogisticRegression(C=100, solver='saga', penalty='l2')\n",
    "\n",
    "# Получение кривых обучения\n",
    "train_sizes, train_scores, validation_scores = learning_curve(\n",
    "                                                              estimator=model_reg_l2,\n",
    "                                                              X=X_scaled,\n",
    "                                                              y=Y,\n",
    "                                                              train_sizes=np.linspace(0.1, 1.0, 10),\n",
    "                                                              cv=5,\n",
    "                                                              scoring='accuracy'\n",
    "                                                             )\n",
    "\n",
    "# Средние значения и стандартное отклонение ошибок обучения\n",
    "train_mean = np.mean(train_scores, axis=1)\n",
    "train_std = np.std(train_scores, axis=1)\n",
    "\n",
    "# Средние значения и стандартное отклонение ошибок валидации\n",
    "validation_mean = np.mean(validation_scores, axis=1)\n",
    "validation_std = np.std(validation_scores, axis=1)\n",
    "\n",
    "# Построение графиков\n",
    "plt.fill_between(train_sizes, train_mean - train_std, train_mean + train_std, color='#DDDDDD')\n",
    "plt.fill_between(train_sizes, validation_mean - validation_std, validation_mean + validation_std, color='#FFDDDD')\n",
    "plt.plot(train_sizes, train_mean, 'o-', color='b', label='Training error')\n",
    "plt.plot(train_sizes, validation_mean, 'o-', color='r', label='Validation error')\n",
    "\n",
    "plt.title('Learning Curves (solver=saga, penalty=l2, alpha=100)')\n",
    "plt.xlabel('Training Set Size')\n",
    "plt.ylabel('Accuracy')\n",
    "plt.grid(alpha=0.5)\n",
    "plt.legend()\n",
    "plt.show()"
   ]
  },
  {
   "cell_type": "code",
   "execution_count": 35,
   "id": "bf668777-7971-4bfb-9d53-ab0d8886673b",
   "metadata": {
    "tags": []
   },
   "outputs": [],
   "source": [
    "# На маленьком размере обучающей выборке 45-75, ошибка на валидации большая, и уменашается при увеличении обучающей выборке. Ошибка на обучающей\n",
    "# низкая, что свидетельствует о переобучении на мальньких данных.\n",
    "\n",
    "# Далее после 80 ошибки начинают сходится (на валидации и обуч. выборке). \n",
    "# С учетом роста данных поведение модели улчшается."
   ]
  }
 ],
 "metadata": {
  "kernelspec": {
   "display_name": "Python 3 (ipykernel)",
   "language": "python",
   "name": "python3"
  },
  "language_info": {
   "codemirror_mode": {
    "name": "ipython",
    "version": 3
   },
   "file_extension": ".py",
   "mimetype": "text/x-python",
   "name": "python",
   "nbconvert_exporter": "python",
   "pygments_lexer": "ipython3",
   "version": "3.9.17"
  }
 },
 "nbformat": 4,
 "nbformat_minor": 5
}
