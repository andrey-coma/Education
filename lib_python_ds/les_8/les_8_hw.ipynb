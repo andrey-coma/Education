{
 "cells": [
  {
   "cell_type": "code",
   "execution_count": 1,
   "id": "69c673cf-35a0-4273-9bae-f0fade38af7b",
   "metadata": {
    "tags": []
   },
   "outputs": [
    {
     "name": "stderr",
     "output_type": "stream",
     "text": [
      "/home/w_lander/anaconda3/envs/dowgrade/lib/python3.9/site-packages/pandas/core/arrays/masked.py:60: UserWarning: Pandas requires version '1.3.6' or newer of 'bottleneck' (version '1.3.5' currently installed).\n",
      "  from pandas.core import (\n"
     ]
    }
   ],
   "source": [
    "import numpy as np\n",
    "import pandas as pd\n",
    "import matplotlib.pyplot as plt\n",
    "import seaborn as sns\n",
    "from matplotlib.colors import ListedColormap\n",
    "\n",
    "from sklearn.model_selection import train_test_split, cross_val_score, learning_curve\n",
    "from sklearn.model_selection import GridSearchCV, KFold, RandomizedSearchCV\n",
    "\n",
    "# модели\n",
    "from sklearn.linear_model import LogisticRegression\n",
    "from sklearn.ensemble import GradientBoostingRegressor, RandomForestRegressor\n",
    "\n",
    "# стандартизация\n",
    "from sklearn.preprocessing import StandardScaler\n",
    "\n",
    "# метрики\n",
    "from sklearn.metrics import (r2_score)\n",
    "\n",
    "# кодирование признаков\n",
    "from sklearn.preprocessing import OneHotEncoder, LabelEncoder\n",
    "\n",
    "\n",
    "import warnings\n",
    "warnings.filterwarnings('ignore')"
   ]
  },
  {
   "cell_type": "markdown",
   "id": "5f64ef59-4aa3-4dd3-b166-23765d9eff87",
   "metadata": {},
   "source": [
    "В вашем распоряжении набор данных о качестве сна Sleep_health_and_lifestyle_dataset.csv.\n",
    "* ваша задача — подготовить данные к моделированию, сгенерировать новые признаки, \n",
    "* применить методы отбора признаков для улучшения качества предсказательной модели\n",
    "* подобрать оптимальные гиперпараметры для модели регрессии."
   ]
  },
  {
   "cell_type": "code",
   "execution_count": 2,
   "id": "05fde927-0fe4-497c-a7f4-a098f3faab6e",
   "metadata": {
    "tags": []
   },
   "outputs": [
    {
     "data": {
      "text/html": [
       "<div>\n",
       "<style scoped>\n",
       "    .dataframe tbody tr th:only-of-type {\n",
       "        vertical-align: middle;\n",
       "    }\n",
       "\n",
       "    .dataframe tbody tr th {\n",
       "        vertical-align: top;\n",
       "    }\n",
       "\n",
       "    .dataframe thead th {\n",
       "        text-align: right;\n",
       "    }\n",
       "</style>\n",
       "<table border=\"1\" class=\"dataframe\">\n",
       "  <thead>\n",
       "    <tr style=\"text-align: right;\">\n",
       "      <th></th>\n",
       "      <th>Person ID</th>\n",
       "      <th>Gender</th>\n",
       "      <th>Age</th>\n",
       "      <th>Occupation</th>\n",
       "      <th>Sleep Duration</th>\n",
       "      <th>Quality of Sleep</th>\n",
       "      <th>Physical Activity Level</th>\n",
       "      <th>Stress Level</th>\n",
       "      <th>BMI Category</th>\n",
       "      <th>Blood Pressure</th>\n",
       "      <th>Heart Rate</th>\n",
       "      <th>Daily Steps</th>\n",
       "      <th>Sleep Disorder</th>\n",
       "    </tr>\n",
       "  </thead>\n",
       "  <tbody>\n",
       "    <tr>\n",
       "      <th>0</th>\n",
       "      <td>1</td>\n",
       "      <td>Male</td>\n",
       "      <td>27</td>\n",
       "      <td>Software Engineer</td>\n",
       "      <td>6.1</td>\n",
       "      <td>6</td>\n",
       "      <td>42</td>\n",
       "      <td>6</td>\n",
       "      <td>Overweight</td>\n",
       "      <td>126/83</td>\n",
       "      <td>77</td>\n",
       "      <td>4200</td>\n",
       "      <td>NaN</td>\n",
       "    </tr>\n",
       "    <tr>\n",
       "      <th>1</th>\n",
       "      <td>2</td>\n",
       "      <td>Male</td>\n",
       "      <td>28</td>\n",
       "      <td>Doctor</td>\n",
       "      <td>6.2</td>\n",
       "      <td>6</td>\n",
       "      <td>60</td>\n",
       "      <td>8</td>\n",
       "      <td>Normal</td>\n",
       "      <td>125/80</td>\n",
       "      <td>75</td>\n",
       "      <td>10000</td>\n",
       "      <td>NaN</td>\n",
       "    </tr>\n",
       "    <tr>\n",
       "      <th>2</th>\n",
       "      <td>3</td>\n",
       "      <td>Male</td>\n",
       "      <td>28</td>\n",
       "      <td>Doctor</td>\n",
       "      <td>6.2</td>\n",
       "      <td>6</td>\n",
       "      <td>60</td>\n",
       "      <td>8</td>\n",
       "      <td>Normal</td>\n",
       "      <td>125/80</td>\n",
       "      <td>75</td>\n",
       "      <td>10000</td>\n",
       "      <td>NaN</td>\n",
       "    </tr>\n",
       "    <tr>\n",
       "      <th>3</th>\n",
       "      <td>4</td>\n",
       "      <td>Male</td>\n",
       "      <td>28</td>\n",
       "      <td>Sales Representative</td>\n",
       "      <td>5.9</td>\n",
       "      <td>4</td>\n",
       "      <td>30</td>\n",
       "      <td>8</td>\n",
       "      <td>Obese</td>\n",
       "      <td>140/90</td>\n",
       "      <td>85</td>\n",
       "      <td>3000</td>\n",
       "      <td>Sleep Apnea</td>\n",
       "    </tr>\n",
       "    <tr>\n",
       "      <th>4</th>\n",
       "      <td>5</td>\n",
       "      <td>Male</td>\n",
       "      <td>28</td>\n",
       "      <td>Sales Representative</td>\n",
       "      <td>5.9</td>\n",
       "      <td>4</td>\n",
       "      <td>30</td>\n",
       "      <td>8</td>\n",
       "      <td>Obese</td>\n",
       "      <td>140/90</td>\n",
       "      <td>85</td>\n",
       "      <td>3000</td>\n",
       "      <td>Sleep Apnea</td>\n",
       "    </tr>\n",
       "    <tr>\n",
       "      <th>5</th>\n",
       "      <td>6</td>\n",
       "      <td>Male</td>\n",
       "      <td>28</td>\n",
       "      <td>Software Engineer</td>\n",
       "      <td>5.9</td>\n",
       "      <td>4</td>\n",
       "      <td>30</td>\n",
       "      <td>8</td>\n",
       "      <td>Obese</td>\n",
       "      <td>140/90</td>\n",
       "      <td>85</td>\n",
       "      <td>3000</td>\n",
       "      <td>Insomnia</td>\n",
       "    </tr>\n",
       "    <tr>\n",
       "      <th>6</th>\n",
       "      <td>7</td>\n",
       "      <td>Male</td>\n",
       "      <td>29</td>\n",
       "      <td>Teacher</td>\n",
       "      <td>6.3</td>\n",
       "      <td>6</td>\n",
       "      <td>40</td>\n",
       "      <td>7</td>\n",
       "      <td>Obese</td>\n",
       "      <td>140/90</td>\n",
       "      <td>82</td>\n",
       "      <td>3500</td>\n",
       "      <td>Insomnia</td>\n",
       "    </tr>\n",
       "    <tr>\n",
       "      <th>7</th>\n",
       "      <td>8</td>\n",
       "      <td>Male</td>\n",
       "      <td>29</td>\n",
       "      <td>Doctor</td>\n",
       "      <td>7.8</td>\n",
       "      <td>7</td>\n",
       "      <td>75</td>\n",
       "      <td>6</td>\n",
       "      <td>Normal</td>\n",
       "      <td>120/80</td>\n",
       "      <td>70</td>\n",
       "      <td>8000</td>\n",
       "      <td>NaN</td>\n",
       "    </tr>\n",
       "    <tr>\n",
       "      <th>8</th>\n",
       "      <td>9</td>\n",
       "      <td>Male</td>\n",
       "      <td>29</td>\n",
       "      <td>Doctor</td>\n",
       "      <td>7.8</td>\n",
       "      <td>7</td>\n",
       "      <td>75</td>\n",
       "      <td>6</td>\n",
       "      <td>Normal</td>\n",
       "      <td>120/80</td>\n",
       "      <td>70</td>\n",
       "      <td>8000</td>\n",
       "      <td>NaN</td>\n",
       "    </tr>\n",
       "    <tr>\n",
       "      <th>9</th>\n",
       "      <td>10</td>\n",
       "      <td>Male</td>\n",
       "      <td>29</td>\n",
       "      <td>Doctor</td>\n",
       "      <td>7.8</td>\n",
       "      <td>7</td>\n",
       "      <td>75</td>\n",
       "      <td>6</td>\n",
       "      <td>Normal</td>\n",
       "      <td>120/80</td>\n",
       "      <td>70</td>\n",
       "      <td>8000</td>\n",
       "      <td>NaN</td>\n",
       "    </tr>\n",
       "  </tbody>\n",
       "</table>\n",
       "</div>"
      ],
      "text/plain": [
       "   Person ID Gender  Age            Occupation  Sleep Duration  \\\n",
       "0          1   Male   27     Software Engineer             6.1   \n",
       "1          2   Male   28                Doctor             6.2   \n",
       "2          3   Male   28                Doctor             6.2   \n",
       "3          4   Male   28  Sales Representative             5.9   \n",
       "4          5   Male   28  Sales Representative             5.9   \n",
       "5          6   Male   28     Software Engineer             5.9   \n",
       "6          7   Male   29               Teacher             6.3   \n",
       "7          8   Male   29                Doctor             7.8   \n",
       "8          9   Male   29                Doctor             7.8   \n",
       "9         10   Male   29                Doctor             7.8   \n",
       "\n",
       "   Quality of Sleep  Physical Activity Level  Stress Level BMI Category  \\\n",
       "0                 6                       42             6   Overweight   \n",
       "1                 6                       60             8       Normal   \n",
       "2                 6                       60             8       Normal   \n",
       "3                 4                       30             8        Obese   \n",
       "4                 4                       30             8        Obese   \n",
       "5                 4                       30             8        Obese   \n",
       "6                 6                       40             7        Obese   \n",
       "7                 7                       75             6       Normal   \n",
       "8                 7                       75             6       Normal   \n",
       "9                 7                       75             6       Normal   \n",
       "\n",
       "  Blood Pressure  Heart Rate  Daily Steps Sleep Disorder  \n",
       "0         126/83          77         4200            NaN  \n",
       "1         125/80          75        10000            NaN  \n",
       "2         125/80          75        10000            NaN  \n",
       "3         140/90          85         3000    Sleep Apnea  \n",
       "4         140/90          85         3000    Sleep Apnea  \n",
       "5         140/90          85         3000       Insomnia  \n",
       "6         140/90          82         3500       Insomnia  \n",
       "7         120/80          70         8000            NaN  \n",
       "8         120/80          70         8000            NaN  \n",
       "9         120/80          70         8000            NaN  "
      ]
     },
     "execution_count": 2,
     "metadata": {},
     "output_type": "execute_result"
    }
   ],
   "source": [
    "df_sleep_health = pd.read_csv('data/Sleep_health_and_lifestyle_dataset.csv')\n",
    "df_sleep_health.head(10)"
   ]
  },
  {
   "cell_type": "markdown",
   "id": "b0a4bd7d-cde7-4c45-8839-88bea8e98d93",
   "metadata": {
    "tags": []
   },
   "source": [
    "### 1. Предобработка данных:\n",
    "* Очистите данные от пропусков и аномалий.\n",
    "* Преобразуйте категориальные переменные с помощью One-Hot Encoding или Label Encoding."
   ]
  },
  {
   "cell_type": "markdown",
   "id": "ca7ab2e2-9822-44c2-a5d4-20b17c8714df",
   "metadata": {},
   "source": [
    "Информация о наборе данных:  \n",
    "`Person ID: ` Идентификатор для каждого человека.  \n",
    "`Gender:` Пол человека (мужчины/женщины).  \n",
    "`Age:` Возраст человека в годах.  \n",
    "`Occupation: ` Род занятий или профессия человека.  \n",
    "`Sleep Duration (hours):` Количество часов, которые человек спит в сутки.  \n",
    "`Quality of Sleep (scale: 1-10): `Субъективная оценка качества сна в диапазоне от 1 до 10.  \n",
    "`Physical Activity Level (minutes/day):` Количество минут, которые человек ежедневно уделяет физической активности.  \n",
    "`Stress Level (scale: 1-10):` Субъективная оценка уровня стресса, испытываемого человеком, в диапазоне от 1 до 10.  \n",
    "`BMI Category: ` Категория ИМТ человека (например, недостаточный вес, нормальный, избыточный вес с избыточной массой тела).  \n",
    "`Blood Pressure (systolic/diastolic): `Измерение артериального давления человека, показывающее превышение систолического давления над диастолическим давлением.  \n",
    "`Heart Rate (bpm):` Частота сердечных сокращений человека в состоянии покоя в ударах в минуту.  \n",
    "`Daily Steps:`  Количество шагов, которые человек делает за день.  \n",
    "`Sleep Disorder:` Наличие или отсутствие у человека нарушений сна (отсутствие таковых, бессонница, апноэ во сне)."
   ]
  },
  {
   "cell_type": "code",
   "execution_count": 3,
   "id": "8fa00d9f-2451-4209-bb4a-3e86d7ae252e",
   "metadata": {
    "tags": []
   },
   "outputs": [
    {
     "name": "stdout",
     "output_type": "stream",
     "text": [
      "<class 'pandas.core.frame.DataFrame'>\n",
      "RangeIndex: 374 entries, 0 to 373\n",
      "Data columns (total 13 columns):\n",
      " #   Column                   Non-Null Count  Dtype  \n",
      "---  ------                   --------------  -----  \n",
      " 0   Person ID                374 non-null    int64  \n",
      " 1   Gender                   374 non-null    object \n",
      " 2   Age                      374 non-null    int64  \n",
      " 3   Occupation               374 non-null    object \n",
      " 4   Sleep Duration           374 non-null    float64\n",
      " 5   Quality of Sleep         374 non-null    int64  \n",
      " 6   Physical Activity Level  374 non-null    int64  \n",
      " 7   Stress Level             374 non-null    int64  \n",
      " 8   BMI Category             374 non-null    object \n",
      " 9   Blood Pressure           374 non-null    object \n",
      " 10  Heart Rate               374 non-null    int64  \n",
      " 11  Daily Steps              374 non-null    int64  \n",
      " 12  Sleep Disorder           155 non-null    object \n",
      "dtypes: float64(1), int64(7), object(5)\n",
      "memory usage: 38.1+ KB\n"
     ]
    }
   ],
   "source": [
    "df_sleep_health.info()"
   ]
  },
  {
   "cell_type": "markdown",
   "id": "b77e0a13-7864-4a22-8211-59a3ef884892",
   "metadata": {},
   "source": [
    "DataFrame содержит 374 записи, индексированные от 0 до 373.\n",
    "- Всего в DataFrame 13 столбцов с различными типами данных:  \n",
    "  - `Person ID:` целочисленный тип (int64), каждое значение в столбце непустое (non-null), представляет собой уникальный идентификатор человека.  \n",
    "  - `Gender:` тип данных object, возможно, содержит строки, указывающие на пол. Все значения непустые.  \n",
    "  - `Age:` целочисленный тип (int64), содержит возраст участников, все значения непустые.\n",
    "  - `Occupation:` тип данных object, предположительно содержит информацию о профессии участников, все значения непустые.\n",
    "  - `Sleep Duration:` тип данных с плавающей запятой (float64), отражает продолжительность сна, все значения непустые.\n",
    "  - `Quality of Sleep:` целочисленный тип (int64), представляет качество сна, возможно, в некоторой шкале оценок, все значения непустые.\n",
    "  - `Physical Activity Level:` целочисленный тип (int64), описывает уровень физической активности, все значения непустые.\n",
    "  - `Stress Level:` целочисленный тип (int64), показывает уровень стресса, все значения непустые.\n",
    "  - `BMI Category:` тип данных object, возможно, содержит категории индекса массы тела, все значения непустые.\n",
    "  - `Blood Pressure:` тип данных object, содержит данные о давлении крови, все значения непустые.\n",
    "  - `Heart Rate:` целочисленный тип (int64), отражает показатели сердечного ритма, все значения непустые.\n",
    "  - `Daily Steps:` целочисленный тип (int64), показывает количество шагов в день, все значения непустые.\n",
    "  - `Sleep Disorder:` тип данных object, содержит информацию о наличии расстройств сна, только 155 значений непусты, что означает, что у остальных участников либо нет расстройства сна, либо данная информация не была предоставлена."
   ]
  },
  {
   "cell_type": "code",
   "execution_count": 4,
   "id": "38b1f3ed-7451-4d11-9f40-36d6697c00f2",
   "metadata": {
    "tags": []
   },
   "outputs": [
    {
     "data": {
      "text/plain": [
       "Person ID                    0\n",
       "Gender                       0\n",
       "Age                          0\n",
       "Occupation                   0\n",
       "Sleep Duration               0\n",
       "Quality of Sleep             0\n",
       "Physical Activity Level      0\n",
       "Stress Level                 0\n",
       "BMI Category                 0\n",
       "Blood Pressure               0\n",
       "Heart Rate                   0\n",
       "Daily Steps                  0\n",
       "Sleep Disorder             219\n",
       "dtype: int64"
      ]
     },
     "execution_count": 4,
     "metadata": {},
     "output_type": "execute_result"
    }
   ],
   "source": [
    "df_sleep_health.isna().sum()"
   ]
  },
  {
   "cell_type": "code",
   "execution_count": 5,
   "id": "ebfbe969-6d76-4089-ac9b-ee88c815bfeb",
   "metadata": {
    "tags": []
   },
   "outputs": [],
   "source": [
    "# Обработка признака Blood Pressure\n",
    "df_sleep_health[['Systolic', 'Diastolic']] = df_sleep_health['Blood Pressure'].str.split('/', expand=True)\n",
    "df_sleep_health['Systolic'] = pd.to_numeric(df_sleep_health['Systolic'])\n",
    "df_sleep_health['Diastolic'] = pd.to_numeric(df_sleep_health['Diastolic'])\n",
    "\n",
    "# Формула MBP для определения среднего значения артериального давления\n",
    "df_sleep_health['MBP'] = df_sleep_health['Diastolic'] + (df_sleep_health['Systolic'] - df_sleep_health['Diastolic']) / 3"
   ]
  },
  {
   "cell_type": "code",
   "execution_count": 6,
   "id": "0c6a528a-f064-461c-9444-9d4d9b6adcea",
   "metadata": {
    "tags": []
   },
   "outputs": [
    {
     "data": {
      "text/plain": [
       "Sleep Disorder\n",
       "Sleep Apnea    78\n",
       "Insomnia       77\n",
       "Name: count, dtype: int64"
      ]
     },
     "execution_count": 6,
     "metadata": {},
     "output_type": "execute_result"
    }
   ],
   "source": [
    "df_sleep_health['Sleep Disorder'].value_counts()"
   ]
  },
  {
   "cell_type": "code",
   "execution_count": 7,
   "id": "7b00cd8b-0a82-40f8-95d6-0424c2c99fdc",
   "metadata": {
    "tags": []
   },
   "outputs": [],
   "source": [
    "# Будем счтитать, что у остальных участников нет расстройства сна\n",
    "df_sleep_health['Sleep Disorder'].fillna('No Disorder', inplace=True)"
   ]
  },
  {
   "cell_type": "code",
   "execution_count": 8,
   "id": "4bd57cf7-9160-4984-b4ac-42559695cc03",
   "metadata": {
    "tags": []
   },
   "outputs": [
    {
     "data": {
      "text/plain": [
       "Sleep Disorder\n",
       "No Disorder    219\n",
       "Sleep Apnea     78\n",
       "Insomnia        77\n",
       "Name: count, dtype: int64"
      ]
     },
     "execution_count": 8,
     "metadata": {},
     "output_type": "execute_result"
    }
   ],
   "source": [
    "df_sleep_health['Sleep Disorder'].value_counts()"
   ]
  },
  {
   "cell_type": "code",
   "execution_count": 9,
   "id": "2621e376-5ac5-495b-8179-7b5f9a74aec4",
   "metadata": {
    "tags": []
   },
   "outputs": [],
   "source": [
    "# применим Mapping\n",
    "map_dict = {'Insomnia' : 1, # Бессонница\n",
    "            'Sleep Apnea' : 2, # Апноэ во сне\n",
    "            'No Disorder': 3} # Нет нарушения\n",
    "\n",
    "df_sleep_health['Sleep Disorder'] = df_sleep_health['Sleep Disorder'].map(map_dict).astype('int')"
   ]
  },
  {
   "cell_type": "code",
   "execution_count": 10,
   "id": "ed4b7ac4-70fb-4976-a2a4-eb9a0a871653",
   "metadata": {
    "tags": []
   },
   "outputs": [
    {
     "data": {
      "text/plain": [
       "Gender\n",
       "Male      189\n",
       "Female    185\n",
       "Name: count, dtype: int64"
      ]
     },
     "execution_count": 10,
     "metadata": {},
     "output_type": "execute_result"
    }
   ],
   "source": [
    "df_sleep_health['Gender'].value_counts()"
   ]
  },
  {
   "cell_type": "code",
   "execution_count": 11,
   "id": "ab1cff69-2d8e-41f1-9752-748e22ea6f8a",
   "metadata": {
    "tags": []
   },
   "outputs": [],
   "source": [
    "# произведем замену Мужчины - 0, Женщины - 1\n",
    "df_sleep_health['Gender'] = df_sleep_health['Gender'].replace({'Male': 0, 'Female': 1}).astype('int')"
   ]
  },
  {
   "cell_type": "code",
   "execution_count": 12,
   "id": "9bcf484c-57c9-4926-8824-2fb755a19d39",
   "metadata": {
    "tags": []
   },
   "outputs": [
    {
     "data": {
      "text/plain": [
       "Occupation\n",
       "Nurse                   73\n",
       "Doctor                  71\n",
       "Engineer                63\n",
       "Lawyer                  47\n",
       "Teacher                 40\n",
       "Accountant              37\n",
       "Salesperson             32\n",
       "Software Engineer        4\n",
       "Scientist                4\n",
       "Sales Representative     2\n",
       "Manager                  1\n",
       "Name: count, dtype: int64"
      ]
     },
     "execution_count": 12,
     "metadata": {},
     "output_type": "execute_result"
    }
   ],
   "source": [
    "df_sleep_health['Occupation'].value_counts()"
   ]
  },
  {
   "cell_type": "raw",
   "id": "d029418d-3598-4683-bf72-3a7e38faca3f",
   "metadata": {
    "tags": []
   },
   "source": [
    "# применим OneHotEncoder к столбцам Occupation, BMI Category\n",
    "\n",
    "ohe = OneHotEncoder(sparse=False)\n",
    "ohe_col = pd.DataFrame(ohe.fit_transform(df_sleep_health[['BMI Category']]))\n",
    "ohe_col.columns = ohe.get_feature_names_out()\n",
    "df_sleep_health = df_sleep_health.join(ohe_col)"
   ]
  },
  {
   "cell_type": "code",
   "execution_count": 13,
   "id": "c5650c63-4ce7-46f1-a92d-9c98381a6b39",
   "metadata": {
    "tags": []
   },
   "outputs": [
    {
     "data": {
      "text/html": [
       "<div>\n",
       "<style scoped>\n",
       "    .dataframe tbody tr th:only-of-type {\n",
       "        vertical-align: middle;\n",
       "    }\n",
       "\n",
       "    .dataframe tbody tr th {\n",
       "        vertical-align: top;\n",
       "    }\n",
       "\n",
       "    .dataframe thead th {\n",
       "        text-align: right;\n",
       "    }\n",
       "</style>\n",
       "<table border=\"1\" class=\"dataframe\">\n",
       "  <thead>\n",
       "    <tr style=\"text-align: right;\">\n",
       "      <th></th>\n",
       "      <th>Person ID</th>\n",
       "      <th>Gender</th>\n",
       "      <th>Age</th>\n",
       "      <th>Occupation</th>\n",
       "      <th>Sleep Duration</th>\n",
       "      <th>Quality of Sleep</th>\n",
       "      <th>Physical Activity Level</th>\n",
       "      <th>Stress Level</th>\n",
       "      <th>BMI Category</th>\n",
       "      <th>Blood Pressure</th>\n",
       "      <th>Heart Rate</th>\n",
       "      <th>Daily Steps</th>\n",
       "      <th>Sleep Disorder</th>\n",
       "      <th>Systolic</th>\n",
       "      <th>Diastolic</th>\n",
       "      <th>MBP</th>\n",
       "    </tr>\n",
       "  </thead>\n",
       "  <tbody>\n",
       "    <tr>\n",
       "      <th>0</th>\n",
       "      <td>1</td>\n",
       "      <td>0</td>\n",
       "      <td>27</td>\n",
       "      <td>Software Engineer</td>\n",
       "      <td>6.1</td>\n",
       "      <td>6</td>\n",
       "      <td>42</td>\n",
       "      <td>6</td>\n",
       "      <td>Overweight</td>\n",
       "      <td>126/83</td>\n",
       "      <td>77</td>\n",
       "      <td>4200</td>\n",
       "      <td>3</td>\n",
       "      <td>126</td>\n",
       "      <td>83</td>\n",
       "      <td>97.333333</td>\n",
       "    </tr>\n",
       "    <tr>\n",
       "      <th>1</th>\n",
       "      <td>2</td>\n",
       "      <td>0</td>\n",
       "      <td>28</td>\n",
       "      <td>Doctor</td>\n",
       "      <td>6.2</td>\n",
       "      <td>6</td>\n",
       "      <td>60</td>\n",
       "      <td>8</td>\n",
       "      <td>Normal</td>\n",
       "      <td>125/80</td>\n",
       "      <td>75</td>\n",
       "      <td>10000</td>\n",
       "      <td>3</td>\n",
       "      <td>125</td>\n",
       "      <td>80</td>\n",
       "      <td>95.000000</td>\n",
       "    </tr>\n",
       "    <tr>\n",
       "      <th>2</th>\n",
       "      <td>3</td>\n",
       "      <td>0</td>\n",
       "      <td>28</td>\n",
       "      <td>Doctor</td>\n",
       "      <td>6.2</td>\n",
       "      <td>6</td>\n",
       "      <td>60</td>\n",
       "      <td>8</td>\n",
       "      <td>Normal</td>\n",
       "      <td>125/80</td>\n",
       "      <td>75</td>\n",
       "      <td>10000</td>\n",
       "      <td>3</td>\n",
       "      <td>125</td>\n",
       "      <td>80</td>\n",
       "      <td>95.000000</td>\n",
       "    </tr>\n",
       "    <tr>\n",
       "      <th>3</th>\n",
       "      <td>4</td>\n",
       "      <td>0</td>\n",
       "      <td>28</td>\n",
       "      <td>Sales Representative</td>\n",
       "      <td>5.9</td>\n",
       "      <td>4</td>\n",
       "      <td>30</td>\n",
       "      <td>8</td>\n",
       "      <td>Obese</td>\n",
       "      <td>140/90</td>\n",
       "      <td>85</td>\n",
       "      <td>3000</td>\n",
       "      <td>2</td>\n",
       "      <td>140</td>\n",
       "      <td>90</td>\n",
       "      <td>106.666667</td>\n",
       "    </tr>\n",
       "    <tr>\n",
       "      <th>4</th>\n",
       "      <td>5</td>\n",
       "      <td>0</td>\n",
       "      <td>28</td>\n",
       "      <td>Sales Representative</td>\n",
       "      <td>5.9</td>\n",
       "      <td>4</td>\n",
       "      <td>30</td>\n",
       "      <td>8</td>\n",
       "      <td>Obese</td>\n",
       "      <td>140/90</td>\n",
       "      <td>85</td>\n",
       "      <td>3000</td>\n",
       "      <td>2</td>\n",
       "      <td>140</td>\n",
       "      <td>90</td>\n",
       "      <td>106.666667</td>\n",
       "    </tr>\n",
       "  </tbody>\n",
       "</table>\n",
       "</div>"
      ],
      "text/plain": [
       "   Person ID  Gender  Age            Occupation  Sleep Duration  \\\n",
       "0          1       0   27     Software Engineer             6.1   \n",
       "1          2       0   28                Doctor             6.2   \n",
       "2          3       0   28                Doctor             6.2   \n",
       "3          4       0   28  Sales Representative             5.9   \n",
       "4          5       0   28  Sales Representative             5.9   \n",
       "\n",
       "   Quality of Sleep  Physical Activity Level  Stress Level BMI Category  \\\n",
       "0                 6                       42             6   Overweight   \n",
       "1                 6                       60             8       Normal   \n",
       "2                 6                       60             8       Normal   \n",
       "3                 4                       30             8        Obese   \n",
       "4                 4                       30             8        Obese   \n",
       "\n",
       "  Blood Pressure  Heart Rate  Daily Steps  Sleep Disorder  Systolic  \\\n",
       "0         126/83          77         4200               3       126   \n",
       "1         125/80          75        10000               3       125   \n",
       "2         125/80          75        10000               3       125   \n",
       "3         140/90          85         3000               2       140   \n",
       "4         140/90          85         3000               2       140   \n",
       "\n",
       "   Diastolic         MBP  \n",
       "0         83   97.333333  \n",
       "1         80   95.000000  \n",
       "2         80   95.000000  \n",
       "3         90  106.666667  \n",
       "4         90  106.666667  "
      ]
     },
     "execution_count": 13,
     "metadata": {},
     "output_type": "execute_result"
    }
   ],
   "source": [
    "df_sleep_health.head()"
   ]
  },
  {
   "cell_type": "code",
   "execution_count": 14,
   "id": "901a0cd9-2c20-4a34-881e-e815ccd51f88",
   "metadata": {
    "tags": []
   },
   "outputs": [],
   "source": [
    "# применим get_dummes к столбцам Occupation, BMI Category\n",
    "for cat_colname in df_sleep_health[['Occupation', 'BMI Category']]:\n",
    "    df_sleep_health = pd.concat([df_sleep_health, pd.get_dummies(df_sleep_health[cat_colname], prefix=cat_colname)], axis=1)"
   ]
  },
  {
   "cell_type": "code",
   "execution_count": 15,
   "id": "41313dbc-22b0-4ecb-8e3e-56afa8d488e6",
   "metadata": {
    "tags": []
   },
   "outputs": [
    {
     "name": "stdout",
     "output_type": "stream",
     "text": [
      "<class 'pandas.core.frame.DataFrame'>\n",
      "RangeIndex: 374 entries, 0 to 373\n",
      "Data columns (total 31 columns):\n",
      " #   Column                           Non-Null Count  Dtype  \n",
      "---  ------                           --------------  -----  \n",
      " 0   Person ID                        374 non-null    int64  \n",
      " 1   Gender                           374 non-null    int64  \n",
      " 2   Age                              374 non-null    int64  \n",
      " 3   Occupation                       374 non-null    object \n",
      " 4   Sleep Duration                   374 non-null    float64\n",
      " 5   Quality of Sleep                 374 non-null    int64  \n",
      " 6   Physical Activity Level          374 non-null    int64  \n",
      " 7   Stress Level                     374 non-null    int64  \n",
      " 8   BMI Category                     374 non-null    object \n",
      " 9   Blood Pressure                   374 non-null    object \n",
      " 10  Heart Rate                       374 non-null    int64  \n",
      " 11  Daily Steps                      374 non-null    int64  \n",
      " 12  Sleep Disorder                   374 non-null    int64  \n",
      " 13  Systolic                         374 non-null    int64  \n",
      " 14  Diastolic                        374 non-null    int64  \n",
      " 15  MBP                              374 non-null    float64\n",
      " 16  Occupation_Accountant            374 non-null    bool   \n",
      " 17  Occupation_Doctor                374 non-null    bool   \n",
      " 18  Occupation_Engineer              374 non-null    bool   \n",
      " 19  Occupation_Lawyer                374 non-null    bool   \n",
      " 20  Occupation_Manager               374 non-null    bool   \n",
      " 21  Occupation_Nurse                 374 non-null    bool   \n",
      " 22  Occupation_Sales Representative  374 non-null    bool   \n",
      " 23  Occupation_Salesperson           374 non-null    bool   \n",
      " 24  Occupation_Scientist             374 non-null    bool   \n",
      " 25  Occupation_Software Engineer     374 non-null    bool   \n",
      " 26  Occupation_Teacher               374 non-null    bool   \n",
      " 27  BMI Category_Normal              374 non-null    bool   \n",
      " 28  BMI Category_Normal Weight       374 non-null    bool   \n",
      " 29  BMI Category_Obese               374 non-null    bool   \n",
      " 30  BMI Category_Overweight          374 non-null    bool   \n",
      "dtypes: bool(15), float64(2), int64(11), object(3)\n",
      "memory usage: 52.4+ KB\n"
     ]
    }
   ],
   "source": [
    "df_sleep_health.info()"
   ]
  },
  {
   "cell_type": "code",
   "execution_count": 16,
   "id": "cc4a861e-a96c-4824-b14c-8fc8eb870c8a",
   "metadata": {
    "tags": []
   },
   "outputs": [
    {
     "data": {
      "text/html": [
       "<div>\n",
       "<style scoped>\n",
       "    .dataframe tbody tr th:only-of-type {\n",
       "        vertical-align: middle;\n",
       "    }\n",
       "\n",
       "    .dataframe tbody tr th {\n",
       "        vertical-align: top;\n",
       "    }\n",
       "\n",
       "    .dataframe thead th {\n",
       "        text-align: right;\n",
       "    }\n",
       "</style>\n",
       "<table border=\"1\" class=\"dataframe\">\n",
       "  <thead>\n",
       "    <tr style=\"text-align: right;\">\n",
       "      <th></th>\n",
       "      <th>Person ID</th>\n",
       "      <th>Gender</th>\n",
       "      <th>Age</th>\n",
       "      <th>Sleep Duration</th>\n",
       "      <th>Quality of Sleep</th>\n",
       "      <th>Physical Activity Level</th>\n",
       "      <th>Stress Level</th>\n",
       "      <th>Heart Rate</th>\n",
       "      <th>Daily Steps</th>\n",
       "      <th>Sleep Disorder</th>\n",
       "      <th>Systolic</th>\n",
       "      <th>Diastolic</th>\n",
       "      <th>MBP</th>\n",
       "    </tr>\n",
       "  </thead>\n",
       "  <tbody>\n",
       "    <tr>\n",
       "      <th>count</th>\n",
       "      <td>374.000</td>\n",
       "      <td>374.000</td>\n",
       "      <td>374.000</td>\n",
       "      <td>374.000</td>\n",
       "      <td>374.000</td>\n",
       "      <td>374.000</td>\n",
       "      <td>374.000</td>\n",
       "      <td>374.000</td>\n",
       "      <td>374.000</td>\n",
       "      <td>374.000</td>\n",
       "      <td>374.000</td>\n",
       "      <td>374.000</td>\n",
       "      <td>374.000</td>\n",
       "    </tr>\n",
       "    <tr>\n",
       "      <th>mean</th>\n",
       "      <td>187.500</td>\n",
       "      <td>0.495</td>\n",
       "      <td>42.184</td>\n",
       "      <td>7.132</td>\n",
       "      <td>7.313</td>\n",
       "      <td>59.171</td>\n",
       "      <td>5.385</td>\n",
       "      <td>70.166</td>\n",
       "      <td>6816.845</td>\n",
       "      <td>2.380</td>\n",
       "      <td>128.553</td>\n",
       "      <td>84.650</td>\n",
       "      <td>99.284</td>\n",
       "    </tr>\n",
       "    <tr>\n",
       "      <th>std</th>\n",
       "      <td>108.109</td>\n",
       "      <td>0.501</td>\n",
       "      <td>8.673</td>\n",
       "      <td>0.796</td>\n",
       "      <td>1.197</td>\n",
       "      <td>20.831</td>\n",
       "      <td>1.775</td>\n",
       "      <td>4.136</td>\n",
       "      <td>1617.916</td>\n",
       "      <td>0.806</td>\n",
       "      <td>7.748</td>\n",
       "      <td>6.162</td>\n",
       "      <td>6.647</td>\n",
       "    </tr>\n",
       "    <tr>\n",
       "      <th>min</th>\n",
       "      <td>1.000</td>\n",
       "      <td>0.000</td>\n",
       "      <td>27.000</td>\n",
       "      <td>5.800</td>\n",
       "      <td>4.000</td>\n",
       "      <td>30.000</td>\n",
       "      <td>3.000</td>\n",
       "      <td>65.000</td>\n",
       "      <td>3000.000</td>\n",
       "      <td>1.000</td>\n",
       "      <td>115.000</td>\n",
       "      <td>75.000</td>\n",
       "      <td>88.333</td>\n",
       "    </tr>\n",
       "    <tr>\n",
       "      <th>25%</th>\n",
       "      <td>94.250</td>\n",
       "      <td>0.000</td>\n",
       "      <td>35.250</td>\n",
       "      <td>6.400</td>\n",
       "      <td>6.000</td>\n",
       "      <td>45.000</td>\n",
       "      <td>4.000</td>\n",
       "      <td>68.000</td>\n",
       "      <td>5600.000</td>\n",
       "      <td>2.000</td>\n",
       "      <td>125.000</td>\n",
       "      <td>80.000</td>\n",
       "      <td>95.000</td>\n",
       "    </tr>\n",
       "    <tr>\n",
       "      <th>50%</th>\n",
       "      <td>187.500</td>\n",
       "      <td>0.000</td>\n",
       "      <td>43.000</td>\n",
       "      <td>7.200</td>\n",
       "      <td>7.000</td>\n",
       "      <td>60.000</td>\n",
       "      <td>5.000</td>\n",
       "      <td>70.000</td>\n",
       "      <td>7000.000</td>\n",
       "      <td>3.000</td>\n",
       "      <td>130.000</td>\n",
       "      <td>85.000</td>\n",
       "      <td>100.000</td>\n",
       "    </tr>\n",
       "    <tr>\n",
       "      <th>75%</th>\n",
       "      <td>280.750</td>\n",
       "      <td>1.000</td>\n",
       "      <td>50.000</td>\n",
       "      <td>7.800</td>\n",
       "      <td>8.000</td>\n",
       "      <td>75.000</td>\n",
       "      <td>7.000</td>\n",
       "      <td>72.000</td>\n",
       "      <td>8000.000</td>\n",
       "      <td>3.000</td>\n",
       "      <td>135.000</td>\n",
       "      <td>90.000</td>\n",
       "      <td>105.000</td>\n",
       "    </tr>\n",
       "    <tr>\n",
       "      <th>max</th>\n",
       "      <td>374.000</td>\n",
       "      <td>1.000</td>\n",
       "      <td>59.000</td>\n",
       "      <td>8.500</td>\n",
       "      <td>9.000</td>\n",
       "      <td>90.000</td>\n",
       "      <td>8.000</td>\n",
       "      <td>86.000</td>\n",
       "      <td>10000.000</td>\n",
       "      <td>3.000</td>\n",
       "      <td>142.000</td>\n",
       "      <td>95.000</td>\n",
       "      <td>110.000</td>\n",
       "    </tr>\n",
       "  </tbody>\n",
       "</table>\n",
       "</div>"
      ],
      "text/plain": [
       "       Person ID   Gender      Age  Sleep Duration  Quality of Sleep  \\\n",
       "count    374.000  374.000  374.000         374.000           374.000   \n",
       "mean     187.500    0.495   42.184           7.132             7.313   \n",
       "std      108.109    0.501    8.673           0.796             1.197   \n",
       "min        1.000    0.000   27.000           5.800             4.000   \n",
       "25%       94.250    0.000   35.250           6.400             6.000   \n",
       "50%      187.500    0.000   43.000           7.200             7.000   \n",
       "75%      280.750    1.000   50.000           7.800             8.000   \n",
       "max      374.000    1.000   59.000           8.500             9.000   \n",
       "\n",
       "       Physical Activity Level  Stress Level  Heart Rate  Daily Steps  \\\n",
       "count                  374.000       374.000     374.000      374.000   \n",
       "mean                    59.171         5.385      70.166     6816.845   \n",
       "std                     20.831         1.775       4.136     1617.916   \n",
       "min                     30.000         3.000      65.000     3000.000   \n",
       "25%                     45.000         4.000      68.000     5600.000   \n",
       "50%                     60.000         5.000      70.000     7000.000   \n",
       "75%                     75.000         7.000      72.000     8000.000   \n",
       "max                     90.000         8.000      86.000    10000.000   \n",
       "\n",
       "       Sleep Disorder  Systolic  Diastolic      MBP  \n",
       "count         374.000   374.000    374.000  374.000  \n",
       "mean            2.380   128.553     84.650   99.284  \n",
       "std             0.806     7.748      6.162    6.647  \n",
       "min             1.000   115.000     75.000   88.333  \n",
       "25%             2.000   125.000     80.000   95.000  \n",
       "50%             3.000   130.000     85.000  100.000  \n",
       "75%             3.000   135.000     90.000  105.000  \n",
       "max             3.000   142.000     95.000  110.000  "
      ]
     },
     "execution_count": 16,
     "metadata": {},
     "output_type": "execute_result"
    }
   ],
   "source": [
    "df_sleep_health.describe().round(3)"
   ]
  },
  {
   "cell_type": "code",
   "execution_count": 17,
   "id": "19f8ecbe-e1e5-4053-9751-abc469b98933",
   "metadata": {
    "tags": []
   },
   "outputs": [],
   "source": [
    "# средняя примерно равна медиане по всем принзнакам, это сввидетельствует об отсутствии выбросов"
   ]
  },
  {
   "cell_type": "code",
   "execution_count": 18,
   "id": "084dde33-2112-4f8e-a11f-f5290a119dbe",
   "metadata": {
    "tags": []
   },
   "outputs": [
    {
     "data": {
      "text/html": [
       "<div>\n",
       "<style scoped>\n",
       "    .dataframe tbody tr th:only-of-type {\n",
       "        vertical-align: middle;\n",
       "    }\n",
       "\n",
       "    .dataframe tbody tr th {\n",
       "        vertical-align: top;\n",
       "    }\n",
       "\n",
       "    .dataframe thead th {\n",
       "        text-align: right;\n",
       "    }\n",
       "</style>\n",
       "<table border=\"1\" class=\"dataframe\">\n",
       "  <thead>\n",
       "    <tr style=\"text-align: right;\">\n",
       "      <th></th>\n",
       "      <th>Person ID</th>\n",
       "      <th>Gender</th>\n",
       "      <th>Age</th>\n",
       "      <th>Occupation</th>\n",
       "      <th>Sleep Duration</th>\n",
       "      <th>Quality of Sleep</th>\n",
       "      <th>Physical Activity Level</th>\n",
       "      <th>Stress Level</th>\n",
       "      <th>BMI Category</th>\n",
       "      <th>Blood Pressure</th>\n",
       "      <th>...</th>\n",
       "      <th>Occupation_Nurse</th>\n",
       "      <th>Occupation_Sales Representative</th>\n",
       "      <th>Occupation_Salesperson</th>\n",
       "      <th>Occupation_Scientist</th>\n",
       "      <th>Occupation_Software Engineer</th>\n",
       "      <th>Occupation_Teacher</th>\n",
       "      <th>BMI Category_Normal</th>\n",
       "      <th>BMI Category_Normal Weight</th>\n",
       "      <th>BMI Category_Obese</th>\n",
       "      <th>BMI Category_Overweight</th>\n",
       "    </tr>\n",
       "  </thead>\n",
       "  <tbody>\n",
       "    <tr>\n",
       "      <th>0</th>\n",
       "      <td>1</td>\n",
       "      <td>0</td>\n",
       "      <td>27</td>\n",
       "      <td>Software Engineer</td>\n",
       "      <td>6.1</td>\n",
       "      <td>6</td>\n",
       "      <td>42</td>\n",
       "      <td>6</td>\n",
       "      <td>Overweight</td>\n",
       "      <td>126/83</td>\n",
       "      <td>...</td>\n",
       "      <td>False</td>\n",
       "      <td>False</td>\n",
       "      <td>False</td>\n",
       "      <td>False</td>\n",
       "      <td>True</td>\n",
       "      <td>False</td>\n",
       "      <td>False</td>\n",
       "      <td>False</td>\n",
       "      <td>False</td>\n",
       "      <td>True</td>\n",
       "    </tr>\n",
       "    <tr>\n",
       "      <th>1</th>\n",
       "      <td>2</td>\n",
       "      <td>0</td>\n",
       "      <td>28</td>\n",
       "      <td>Doctor</td>\n",
       "      <td>6.2</td>\n",
       "      <td>6</td>\n",
       "      <td>60</td>\n",
       "      <td>8</td>\n",
       "      <td>Normal</td>\n",
       "      <td>125/80</td>\n",
       "      <td>...</td>\n",
       "      <td>False</td>\n",
       "      <td>False</td>\n",
       "      <td>False</td>\n",
       "      <td>False</td>\n",
       "      <td>False</td>\n",
       "      <td>False</td>\n",
       "      <td>True</td>\n",
       "      <td>False</td>\n",
       "      <td>False</td>\n",
       "      <td>False</td>\n",
       "    </tr>\n",
       "    <tr>\n",
       "      <th>2</th>\n",
       "      <td>3</td>\n",
       "      <td>0</td>\n",
       "      <td>28</td>\n",
       "      <td>Doctor</td>\n",
       "      <td>6.2</td>\n",
       "      <td>6</td>\n",
       "      <td>60</td>\n",
       "      <td>8</td>\n",
       "      <td>Normal</td>\n",
       "      <td>125/80</td>\n",
       "      <td>...</td>\n",
       "      <td>False</td>\n",
       "      <td>False</td>\n",
       "      <td>False</td>\n",
       "      <td>False</td>\n",
       "      <td>False</td>\n",
       "      <td>False</td>\n",
       "      <td>True</td>\n",
       "      <td>False</td>\n",
       "      <td>False</td>\n",
       "      <td>False</td>\n",
       "    </tr>\n",
       "    <tr>\n",
       "      <th>3</th>\n",
       "      <td>4</td>\n",
       "      <td>0</td>\n",
       "      <td>28</td>\n",
       "      <td>Sales Representative</td>\n",
       "      <td>5.9</td>\n",
       "      <td>4</td>\n",
       "      <td>30</td>\n",
       "      <td>8</td>\n",
       "      <td>Obese</td>\n",
       "      <td>140/90</td>\n",
       "      <td>...</td>\n",
       "      <td>False</td>\n",
       "      <td>True</td>\n",
       "      <td>False</td>\n",
       "      <td>False</td>\n",
       "      <td>False</td>\n",
       "      <td>False</td>\n",
       "      <td>False</td>\n",
       "      <td>False</td>\n",
       "      <td>True</td>\n",
       "      <td>False</td>\n",
       "    </tr>\n",
       "    <tr>\n",
       "      <th>4</th>\n",
       "      <td>5</td>\n",
       "      <td>0</td>\n",
       "      <td>28</td>\n",
       "      <td>Sales Representative</td>\n",
       "      <td>5.9</td>\n",
       "      <td>4</td>\n",
       "      <td>30</td>\n",
       "      <td>8</td>\n",
       "      <td>Obese</td>\n",
       "      <td>140/90</td>\n",
       "      <td>...</td>\n",
       "      <td>False</td>\n",
       "      <td>True</td>\n",
       "      <td>False</td>\n",
       "      <td>False</td>\n",
       "      <td>False</td>\n",
       "      <td>False</td>\n",
       "      <td>False</td>\n",
       "      <td>False</td>\n",
       "      <td>True</td>\n",
       "      <td>False</td>\n",
       "    </tr>\n",
       "  </tbody>\n",
       "</table>\n",
       "<p>5 rows × 31 columns</p>\n",
       "</div>"
      ],
      "text/plain": [
       "   Person ID  Gender  Age            Occupation  Sleep Duration  \\\n",
       "0          1       0   27     Software Engineer             6.1   \n",
       "1          2       0   28                Doctor             6.2   \n",
       "2          3       0   28                Doctor             6.2   \n",
       "3          4       0   28  Sales Representative             5.9   \n",
       "4          5       0   28  Sales Representative             5.9   \n",
       "\n",
       "   Quality of Sleep  Physical Activity Level  Stress Level BMI Category  \\\n",
       "0                 6                       42             6   Overweight   \n",
       "1                 6                       60             8       Normal   \n",
       "2                 6                       60             8       Normal   \n",
       "3                 4                       30             8        Obese   \n",
       "4                 4                       30             8        Obese   \n",
       "\n",
       "  Blood Pressure  ...  Occupation_Nurse  Occupation_Sales Representative  \\\n",
       "0         126/83  ...             False                            False   \n",
       "1         125/80  ...             False                            False   \n",
       "2         125/80  ...             False                            False   \n",
       "3         140/90  ...             False                             True   \n",
       "4         140/90  ...             False                             True   \n",
       "\n",
       "   Occupation_Salesperson  Occupation_Scientist  Occupation_Software Engineer  \\\n",
       "0                   False                 False                          True   \n",
       "1                   False                 False                         False   \n",
       "2                   False                 False                         False   \n",
       "3                   False                 False                         False   \n",
       "4                   False                 False                         False   \n",
       "\n",
       "   Occupation_Teacher  BMI Category_Normal  BMI Category_Normal Weight  \\\n",
       "0               False                False                       False   \n",
       "1               False                 True                       False   \n",
       "2               False                 True                       False   \n",
       "3               False                False                       False   \n",
       "4               False                False                       False   \n",
       "\n",
       "   BMI Category_Obese  BMI Category_Overweight  \n",
       "0               False                     True  \n",
       "1               False                    False  \n",
       "2               False                    False  \n",
       "3                True                    False  \n",
       "4                True                    False  \n",
       "\n",
       "[5 rows x 31 columns]"
      ]
     },
     "execution_count": 18,
     "metadata": {},
     "output_type": "execute_result"
    }
   ],
   "source": [
    "df_sleep_health.head()"
   ]
  },
  {
   "cell_type": "markdown",
   "id": "0ae9167e-c8dd-4a46-9989-69bb194731f9",
   "metadata": {},
   "source": [
    "### Отберем признаки и сохраним датасет"
   ]
  },
  {
   "cell_type": "code",
   "execution_count": 19,
   "id": "6d2449f5-ec1a-4b48-af93-7f3dd23c1901",
   "metadata": {
    "tags": []
   },
   "outputs": [
    {
     "data": {
      "text/plain": [
       "Index(['Person ID', 'Gender', 'Age', 'Occupation', 'Sleep Duration',\n",
       "       'Quality of Sleep', 'Physical Activity Level', 'Stress Level',\n",
       "       'BMI Category', 'Blood Pressure', 'Heart Rate', 'Daily Steps',\n",
       "       'Sleep Disorder', 'Systolic', 'Diastolic', 'MBP',\n",
       "       'Occupation_Accountant', 'Occupation_Doctor', 'Occupation_Engineer',\n",
       "       'Occupation_Lawyer', 'Occupation_Manager', 'Occupation_Nurse',\n",
       "       'Occupation_Sales Representative', 'Occupation_Salesperson',\n",
       "       'Occupation_Scientist', 'Occupation_Software Engineer',\n",
       "       'Occupation_Teacher', 'BMI Category_Normal',\n",
       "       'BMI Category_Normal Weight', 'BMI Category_Obese',\n",
       "       'BMI Category_Overweight'],\n",
       "      dtype='object')"
      ]
     },
     "execution_count": 19,
     "metadata": {},
     "output_type": "execute_result"
    }
   ],
   "source": [
    "df_sleep_health.columns"
   ]
  },
  {
   "cell_type": "code",
   "execution_count": 20,
   "id": "460fa03e-2a7c-446b-99e6-861588355945",
   "metadata": {
    "tags": []
   },
   "outputs": [],
   "source": [
    "df = df_sleep_health.drop(['Occupation', 'BMI Category', 'Blood Pressure'], axis=1)"
   ]
  },
  {
   "cell_type": "code",
   "execution_count": 21,
   "id": "7a984fe5-eee5-46a0-84cd-33509ac49b3e",
   "metadata": {
    "tags": []
   },
   "outputs": [
    {
     "data": {
      "text/html": [
       "<div>\n",
       "<style scoped>\n",
       "    .dataframe tbody tr th:only-of-type {\n",
       "        vertical-align: middle;\n",
       "    }\n",
       "\n",
       "    .dataframe tbody tr th {\n",
       "        vertical-align: top;\n",
       "    }\n",
       "\n",
       "    .dataframe thead th {\n",
       "        text-align: right;\n",
       "    }\n",
       "</style>\n",
       "<table border=\"1\" class=\"dataframe\">\n",
       "  <thead>\n",
       "    <tr style=\"text-align: right;\">\n",
       "      <th></th>\n",
       "      <th>Person ID</th>\n",
       "      <th>Gender</th>\n",
       "      <th>Age</th>\n",
       "      <th>Sleep Duration</th>\n",
       "      <th>Quality of Sleep</th>\n",
       "      <th>Physical Activity Level</th>\n",
       "      <th>Stress Level</th>\n",
       "      <th>Heart Rate</th>\n",
       "      <th>Daily Steps</th>\n",
       "      <th>Sleep Disorder</th>\n",
       "      <th>...</th>\n",
       "      <th>Occupation_Nurse</th>\n",
       "      <th>Occupation_Sales Representative</th>\n",
       "      <th>Occupation_Salesperson</th>\n",
       "      <th>Occupation_Scientist</th>\n",
       "      <th>Occupation_Software Engineer</th>\n",
       "      <th>Occupation_Teacher</th>\n",
       "      <th>BMI Category_Normal</th>\n",
       "      <th>BMI Category_Normal Weight</th>\n",
       "      <th>BMI Category_Obese</th>\n",
       "      <th>BMI Category_Overweight</th>\n",
       "    </tr>\n",
       "  </thead>\n",
       "  <tbody>\n",
       "    <tr>\n",
       "      <th>0</th>\n",
       "      <td>1</td>\n",
       "      <td>0</td>\n",
       "      <td>27</td>\n",
       "      <td>6.1</td>\n",
       "      <td>6</td>\n",
       "      <td>42</td>\n",
       "      <td>6</td>\n",
       "      <td>77</td>\n",
       "      <td>4200</td>\n",
       "      <td>3</td>\n",
       "      <td>...</td>\n",
       "      <td>False</td>\n",
       "      <td>False</td>\n",
       "      <td>False</td>\n",
       "      <td>False</td>\n",
       "      <td>True</td>\n",
       "      <td>False</td>\n",
       "      <td>False</td>\n",
       "      <td>False</td>\n",
       "      <td>False</td>\n",
       "      <td>True</td>\n",
       "    </tr>\n",
       "    <tr>\n",
       "      <th>1</th>\n",
       "      <td>2</td>\n",
       "      <td>0</td>\n",
       "      <td>28</td>\n",
       "      <td>6.2</td>\n",
       "      <td>6</td>\n",
       "      <td>60</td>\n",
       "      <td>8</td>\n",
       "      <td>75</td>\n",
       "      <td>10000</td>\n",
       "      <td>3</td>\n",
       "      <td>...</td>\n",
       "      <td>False</td>\n",
       "      <td>False</td>\n",
       "      <td>False</td>\n",
       "      <td>False</td>\n",
       "      <td>False</td>\n",
       "      <td>False</td>\n",
       "      <td>True</td>\n",
       "      <td>False</td>\n",
       "      <td>False</td>\n",
       "      <td>False</td>\n",
       "    </tr>\n",
       "    <tr>\n",
       "      <th>2</th>\n",
       "      <td>3</td>\n",
       "      <td>0</td>\n",
       "      <td>28</td>\n",
       "      <td>6.2</td>\n",
       "      <td>6</td>\n",
       "      <td>60</td>\n",
       "      <td>8</td>\n",
       "      <td>75</td>\n",
       "      <td>10000</td>\n",
       "      <td>3</td>\n",
       "      <td>...</td>\n",
       "      <td>False</td>\n",
       "      <td>False</td>\n",
       "      <td>False</td>\n",
       "      <td>False</td>\n",
       "      <td>False</td>\n",
       "      <td>False</td>\n",
       "      <td>True</td>\n",
       "      <td>False</td>\n",
       "      <td>False</td>\n",
       "      <td>False</td>\n",
       "    </tr>\n",
       "    <tr>\n",
       "      <th>3</th>\n",
       "      <td>4</td>\n",
       "      <td>0</td>\n",
       "      <td>28</td>\n",
       "      <td>5.9</td>\n",
       "      <td>4</td>\n",
       "      <td>30</td>\n",
       "      <td>8</td>\n",
       "      <td>85</td>\n",
       "      <td>3000</td>\n",
       "      <td>2</td>\n",
       "      <td>...</td>\n",
       "      <td>False</td>\n",
       "      <td>True</td>\n",
       "      <td>False</td>\n",
       "      <td>False</td>\n",
       "      <td>False</td>\n",
       "      <td>False</td>\n",
       "      <td>False</td>\n",
       "      <td>False</td>\n",
       "      <td>True</td>\n",
       "      <td>False</td>\n",
       "    </tr>\n",
       "    <tr>\n",
       "      <th>4</th>\n",
       "      <td>5</td>\n",
       "      <td>0</td>\n",
       "      <td>28</td>\n",
       "      <td>5.9</td>\n",
       "      <td>4</td>\n",
       "      <td>30</td>\n",
       "      <td>8</td>\n",
       "      <td>85</td>\n",
       "      <td>3000</td>\n",
       "      <td>2</td>\n",
       "      <td>...</td>\n",
       "      <td>False</td>\n",
       "      <td>True</td>\n",
       "      <td>False</td>\n",
       "      <td>False</td>\n",
       "      <td>False</td>\n",
       "      <td>False</td>\n",
       "      <td>False</td>\n",
       "      <td>False</td>\n",
       "      <td>True</td>\n",
       "      <td>False</td>\n",
       "    </tr>\n",
       "  </tbody>\n",
       "</table>\n",
       "<p>5 rows × 28 columns</p>\n",
       "</div>"
      ],
      "text/plain": [
       "   Person ID  Gender  Age  Sleep Duration  Quality of Sleep  \\\n",
       "0          1       0   27             6.1                 6   \n",
       "1          2       0   28             6.2                 6   \n",
       "2          3       0   28             6.2                 6   \n",
       "3          4       0   28             5.9                 4   \n",
       "4          5       0   28             5.9                 4   \n",
       "\n",
       "   Physical Activity Level  Stress Level  Heart Rate  Daily Steps  \\\n",
       "0                       42             6          77         4200   \n",
       "1                       60             8          75        10000   \n",
       "2                       60             8          75        10000   \n",
       "3                       30             8          85         3000   \n",
       "4                       30             8          85         3000   \n",
       "\n",
       "   Sleep Disorder  ...  Occupation_Nurse  Occupation_Sales Representative  \\\n",
       "0               3  ...             False                            False   \n",
       "1               3  ...             False                            False   \n",
       "2               3  ...             False                            False   \n",
       "3               2  ...             False                             True   \n",
       "4               2  ...             False                             True   \n",
       "\n",
       "   Occupation_Salesperson  Occupation_Scientist  Occupation_Software Engineer  \\\n",
       "0                   False                 False                          True   \n",
       "1                   False                 False                         False   \n",
       "2                   False                 False                         False   \n",
       "3                   False                 False                         False   \n",
       "4                   False                 False                         False   \n",
       "\n",
       "   Occupation_Teacher  BMI Category_Normal  BMI Category_Normal Weight  \\\n",
       "0               False                False                       False   \n",
       "1               False                 True                       False   \n",
       "2               False                 True                       False   \n",
       "3               False                False                       False   \n",
       "4               False                False                       False   \n",
       "\n",
       "   BMI Category_Obese  BMI Category_Overweight  \n",
       "0               False                     True  \n",
       "1               False                    False  \n",
       "2               False                    False  \n",
       "3                True                    False  \n",
       "4                True                    False  \n",
       "\n",
       "[5 rows x 28 columns]"
      ]
     },
     "execution_count": 21,
     "metadata": {},
     "output_type": "execute_result"
    }
   ],
   "source": [
    "df.head()"
   ]
  },
  {
   "cell_type": "code",
   "execution_count": 22,
   "id": "d679c073-dcda-4e05-b4d4-0a4a03554493",
   "metadata": {
    "tags": []
   },
   "outputs": [],
   "source": [
    "df.to_csv('data/df.csv', encoding='utf8')"
   ]
  },
  {
   "cell_type": "code",
   "execution_count": 23,
   "id": "de334e91-685f-4abc-99bf-f309a929de95",
   "metadata": {
    "tags": []
   },
   "outputs": [
    {
     "data": {
      "image/png": "[encoded data removed]",
      "text/plain": [
       "<Figure size 1400x500 with 2 Axes>"
      ]
     },
     "metadata": {},
     "output_type": "display_data"
    }
   ],
   "source": [
    "plt.figure(figsize=(14,5))\n",
    "plt.subplot(121)\n",
    "df['Sleep Duration'].hist(density=False, bins=20, linewidth=0.5, edgecolor='k')\n",
    "plt.title('Распределение Sleep Duration')\n",
    "plt.ylabel('Количество')\n",
    "plt.xlabel('Количество часов, которые человек спит в сутки')\n",
    "# plt.grid(False)\n",
    "plt.subplot(122)\n",
    "sns.kdeplot(df['Sleep Duration'], shade=True, legend=False)\n",
    "plt.xlabel('Количество часов, которые человек спит в сутки')\n",
    "plt.grid()\n",
    "\n",
    "plt.show()"
   ]
  },
  {
   "cell_type": "code",
   "execution_count": 24,
   "id": "481eaa2d-a430-4434-bdf1-bdec28e5f391",
   "metadata": {
    "tags": []
   },
   "outputs": [
    {
     "data": {
      "image/png": "[encoded data removed]",
      "text/plain": [
       "<Figure size 1400x500 with 2 Axes>"
      ]
     },
     "metadata": {},
     "output_type": "display_data"
    }
   ],
   "source": [
    "plt.figure(figsize=(14,5))\n",
    "plt.subplot(121)\n",
    "df['Quality of Sleep'].hist(density=False, bins=20, linewidth=0.5, edgecolor='k')\n",
    "plt.title('Распределение Quality of Sleep')\n",
    "plt.ylabel('Количество')\n",
    "plt.xlabel('Оценка качества сна в диапазоне от 1 до 10')\n",
    "# plt.grid(False)\n",
    "plt.subplot(122)\n",
    "sns.kdeplot(df['Quality of Sleep'], shade=True, legend=False)\n",
    "plt.xlabel('Оценка качества сна в диапазоне от 1 до 10')\n",
    "plt.grid()\n",
    "\n",
    "plt.show()"
   ]
  },
  {
   "cell_type": "code",
   "execution_count": 25,
   "id": "235cdb70-a3f0-4129-a22c-308f9d73827f",
   "metadata": {
    "tags": []
   },
   "outputs": [
    {
     "data": {
      "image/png": "[encoded data removed]",
      "text/plain": [
       "<Figure size 1000x800 with 16 Axes>"
      ]
     },
     "metadata": {},
     "output_type": "display_data"
    }
   ],
   "source": [
    "# Генерируем гистограммы для всех числовых столбцов в DataFrame\n",
    "df.hist(figsize=(10, 8), bins=10)\n",
    "plt.tight_layout() # Улучшает размещение подграфиков чтобы они не пересекались\n",
    "plt.grid(alpha=0.3)\n",
    "plt.show()"
   ]
  },
  {
   "cell_type": "markdown",
   "id": "2e9adceb-f2fc-49ee-8825-7c889f9ee26c",
   "metadata": {},
   "source": [
    "### 2. Генерация новых признаков:\n",
    "* Создайте комбинированные признаки, которые могут помочь улучшить модель.\n",
    "* Используйте полиномиальные признаки для числовых переменных."
   ]
  },
  {
   "cell_type": "markdown",
   "id": "8b8d6740-3758-42a0-bd81-17582211c27b",
   "metadata": {},
   "source": [
    "### Построение модели"
   ]
  },
  {
   "cell_type": "code",
   "execution_count": 26,
   "id": "bf135485-c813-43c0-bf47-7959ca5c9608",
   "metadata": {
    "tags": []
   },
   "outputs": [
    {
     "data": {
      "text/plain": [
       "Index(['Person ID', 'Gender', 'Age', 'Sleep Duration', 'Quality of Sleep',\n",
       "       'Physical Activity Level', 'Stress Level', 'Heart Rate', 'Daily Steps',\n",
       "       'Sleep Disorder', 'Systolic', 'Diastolic', 'MBP',\n",
       "       'Occupation_Accountant', 'Occupation_Doctor', 'Occupation_Engineer',\n",
       "       'Occupation_Lawyer', 'Occupation_Manager', 'Occupation_Nurse',\n",
       "       'Occupation_Sales Representative', 'Occupation_Salesperson',\n",
       "       'Occupation_Scientist', 'Occupation_Software Engineer',\n",
       "       'Occupation_Teacher', 'BMI Category_Normal',\n",
       "       'BMI Category_Normal Weight', 'BMI Category_Obese',\n",
       "       'BMI Category_Overweight'],\n",
       "      dtype='object')"
      ]
     },
     "execution_count": 26,
     "metadata": {},
     "output_type": "execute_result"
    }
   ],
   "source": [
    "df.columns"
   ]
  },
  {
   "cell_type": "code",
   "execution_count": 27,
   "id": "eb0842ba-c42e-48a1-8789-f72ebd31b3fc",
   "metadata": {
    "tags": []
   },
   "outputs": [],
   "source": [
    "X = df.drop(['Quality of Sleep', 'Person ID'], axis=1)\n",
    "#X = df[['Physical Activity Level','Heart Rate']]\n",
    "Y = df['Quality of Sleep']\n",
    "#X_scaled = StandardScaler().fit_transform(X)\n",
    "X_train, X_test, y_train, y_test = train_test_split(X, Y, test_size=0.30, random_state=42)"
   ]
  },
  {
   "cell_type": "code",
   "execution_count": 28,
   "id": "4140c382-0e5b-4c6e-a1ec-2f9040767e37",
   "metadata": {
    "tags": []
   },
   "outputs": [
    {
     "name": "stdout",
     "output_type": "stream",
     "text": [
      "r2_score_trian: 0.999586651056977\n",
      "r2_score_test: 0.9929464124230987\n",
      "CPU times: user 84.9 ms, sys: 3.92 ms, total: 88.8 ms\n",
      "Wall time: 87.1 ms\n"
     ]
    }
   ],
   "source": [
    "%%time\n",
    "gr_boost_model = GradientBoostingRegressor()\n",
    "gr_boost_model.fit(X_train, y_train)\n",
    "\n",
    "print(f'r2_score_trian: {gr_boost_model.score(X_train, y_train)}')\n",
    "print(f'r2_score_test: {gr_boost_model.score(X_test, y_test)}')"
   ]
  },
  {
   "cell_type": "code",
   "execution_count": 29,
   "id": "5d4c6f85-fa63-4002-aa3d-0f71e782a34d",
   "metadata": {
    "tags": []
   },
   "outputs": [],
   "source": [
    "# модель выглядит переобученной"
   ]
  },
  {
   "cell_type": "markdown",
   "id": "017a82e6-3013-4585-a4d3-0d2e1623c2f9",
   "metadata": {},
   "source": [
    "### 3. Отбор признаков:\n",
    "* Примените несколько методов отбора признаков (например, RFE, SelectKBest).\n",
    "* Сравните качество модели до и после отбора признаков."
   ]
  },
  {
   "cell_type": "code",
   "execution_count": 30,
   "id": "f710c321-7bdd-4efe-9169-819a1299d140",
   "metadata": {
    "tags": []
   },
   "outputs": [
    {
     "name": "stdout",
     "output_type": "stream",
     "text": [
      "                            Feature  Ranking\n",
      "12                Occupation_Doctor        1\n",
      "1                               Age        1\n",
      "2                    Sleep Duration        1\n",
      "3           Physical Activity Level        1\n",
      "4                      Stress Level        1\n",
      "5                        Heart Rate        1\n",
      "6                       Daily Steps        1\n",
      "22              BMI Category_Normal        1\n",
      "8                          Systolic        1\n",
      "9                         Diastolic        1\n",
      "11            Occupation_Accountant        1\n",
      "21               Occupation_Teacher        1\n",
      "10                              MBP        2\n",
      "13              Occupation_Engineer        3\n",
      "25          BMI Category_Overweight        4\n",
      "0                            Gender        5\n",
      "23       BMI Category_Normal Weight        6\n",
      "14                Occupation_Lawyer        7\n",
      "15               Occupation_Manager        8\n",
      "24               BMI Category_Obese        9\n",
      "19             Occupation_Scientist       10\n",
      "16                 Occupation_Nurse       11\n",
      "7                    Sleep Disorder       12\n",
      "20     Occupation_Software Engineer       13\n",
      "18           Occupation_Salesperson       14\n",
      "17  Occupation_Sales Representative       15\n"
     ]
    }
   ],
   "source": [
    "from sklearn.feature_selection import RFE\n",
    "# Создаем RFE модель\n",
    "rfe = RFE(estimator=gr_boost_model, n_features_to_select=12)\n",
    "rfe = rfe.fit(X, Y)\n",
    "\n",
    "# Показываем какие признаки выбраны\n",
    "selected_features = pd.DataFrame({\n",
    "    'Feature': X.columns,  # Здесь X.columns должен содержать названия столбцов, использованных для X\n",
    "    'Ranking': rfe.ranking_\n",
    "})\n",
    "print(selected_features.sort_values(by='Ranking'))"
   ]
  },
  {
   "cell_type": "code",
   "execution_count": 31,
   "id": "edd675a7-9a8a-46ca-ae19-ee2be601df7f",
   "metadata": {
    "tags": []
   },
   "outputs": [],
   "source": [
    "top_features = selected_features.sort_values(by='Ranking')[:8]\n",
    "X_train_selected = X_train[top_features.Feature]\n",
    "X_test_selected = X_test[top_features.Feature]"
   ]
  },
  {
   "cell_type": "code",
   "execution_count": 32,
   "id": "8b0e824d-c015-4ce3-ac5e-f5ce9842dcb2",
   "metadata": {
    "tags": []
   },
   "outputs": [
    {
     "name": "stdout",
     "output_type": "stream",
     "text": [
      "r2_score_trian: 0.9991115094535423\n",
      "r2_score_test: 0.9904271839565976\n",
      "CPU times: user 76.3 ms, sys: 958 µs, total: 77.3 ms\n",
      "Wall time: 76.4 ms\n"
     ]
    }
   ],
   "source": [
    "%%time\n",
    "gr_boost_model = GradientBoostingRegressor(random_state=42)\n",
    "gr_boost_model.fit(X_train_selected, y_train)\n",
    "\n",
    "print(f'r2_score_trian: {gr_boost_model.score(X_train_selected, y_train)}')\n",
    "print(f'r2_score_test: {gr_boost_model.score(X_test_selected, y_test)}')"
   ]
  },
  {
   "cell_type": "markdown",
   "id": "d25164e6-8820-473e-8137-2b38eb42f79e",
   "metadata": {},
   "source": [
    "### 4. Подбор гиперпараметров:\n",
    "* Используйте GridSearchCV или RandomizedSearchCV для настройки параметров вашей модели регрессии.\n",
    "* Оцените, как изменение гиперпараметров влияет на качество предсказаний."
   ]
  },
  {
   "cell_type": "code",
   "execution_count": 33,
   "id": "2f798b5e-5bc8-4a1a-9611-b3c0a268aae3",
   "metadata": {
    "tags": []
   },
   "outputs": [
    {
     "name": "stderr",
     "output_type": "stream",
     "text": [
      "/home/w_lander/anaconda3/envs/dowgrade/lib/python3.9/site-packages/pandas/core/arrays/masked.py:60: UserWarning: Pandas requires version '1.3.6' or newer of 'bottleneck' (version '1.3.5' currently installed).\n",
      "  from pandas.core import (\n",
      "/home/w_lander/anaconda3/envs/dowgrade/lib/python3.9/site-packages/pandas/core/arrays/masked.py:60: UserWarning: Pandas requires version '1.3.6' or newer of 'bottleneck' (version '1.3.5' currently installed).\n",
      "  from pandas.core import (\n",
      "/home/w_lander/anaconda3/envs/dowgrade/lib/python3.9/site-packages/pandas/core/arrays/masked.py:60: UserWarning: Pandas requires version '1.3.6' or newer of 'bottleneck' (version '1.3.5' currently installed).\n",
      "  from pandas.core import (\n",
      "/home/w_lander/anaconda3/envs/dowgrade/lib/python3.9/site-packages/pandas/core/arrays/masked.py:60: UserWarning: Pandas requires version '1.3.6' or newer of 'bottleneck' (version '1.3.5' currently installed).\n",
      "  from pandas.core import (\n",
      "/home/w_lander/anaconda3/envs/dowgrade/lib/python3.9/site-packages/pandas/core/arrays/masked.py:60: UserWarning: Pandas requires version '1.3.6' or newer of 'bottleneck' (version '1.3.5' currently installed).\n",
      "  from pandas.core import (\n",
      "/home/w_lander/anaconda3/envs/dowgrade/lib/python3.9/site-packages/pandas/core/arrays/masked.py:60: UserWarning: Pandas requires version '1.3.6' or newer of 'bottleneck' (version '1.3.5' currently installed).\n",
      "  from pandas.core import (\n",
      "/home/w_lander/anaconda3/envs/dowgrade/lib/python3.9/site-packages/pandas/core/arrays/masked.py:60: UserWarning: Pandas requires version '1.3.6' or newer of 'bottleneck' (version '1.3.5' currently installed).\n",
      "  from pandas.core import (\n",
      "/home/w_lander/anaconda3/envs/dowgrade/lib/python3.9/site-packages/pandas/core/arrays/masked.py:60: UserWarning: Pandas requires version '1.3.6' or newer of 'bottleneck' (version '1.3.5' currently installed).\n",
      "  from pandas.core import (\n",
      "/home/w_lander/anaconda3/envs/dowgrade/lib/python3.9/site-packages/pandas/core/arrays/masked.py:60: UserWarning: Pandas requires version '1.3.6' or newer of 'bottleneck' (version '1.3.5' currently installed).\n",
      "  from pandas.core import (\n",
      "/home/w_lander/anaconda3/envs/dowgrade/lib/python3.9/site-packages/pandas/core/arrays/masked.py:60: UserWarning: Pandas requires version '1.3.6' or newer of 'bottleneck' (version '1.3.5' currently installed).\n",
      "  from pandas.core import (\n",
      "/home/w_lander/anaconda3/envs/dowgrade/lib/python3.9/site-packages/pandas/core/arrays/masked.py:60: UserWarning: Pandas requires version '1.3.6' or newer of 'bottleneck' (version '1.3.5' currently installed).\n",
      "  from pandas.core import (\n",
      "/home/w_lander/anaconda3/envs/dowgrade/lib/python3.9/site-packages/pandas/core/arrays/masked.py:60: UserWarning: Pandas requires version '1.3.6' or newer of 'bottleneck' (version '1.3.5' currently installed).\n",
      "  from pandas.core import (\n",
      "/home/w_lander/anaconda3/envs/dowgrade/lib/python3.9/site-packages/pandas/core/arrays/masked.py:60: UserWarning: Pandas requires version '1.3.6' or newer of 'bottleneck' (version '1.3.5' currently installed).\n",
      "  from pandas.core import (\n",
      "/home/w_lander/anaconda3/envs/dowgrade/lib/python3.9/site-packages/pandas/core/arrays/masked.py:60: UserWarning: Pandas requires version '1.3.6' or newer of 'bottleneck' (version '1.3.5' currently installed).\n",
      "  from pandas.core import (\n",
      "/home/w_lander/anaconda3/envs/dowgrade/lib/python3.9/site-packages/pandas/core/arrays/masked.py:60: UserWarning: Pandas requires version '1.3.6' or newer of 'bottleneck' (version '1.3.5' currently installed).\n",
      "  from pandas.core import (\n",
      "/home/w_lander/anaconda3/envs/dowgrade/lib/python3.9/site-packages/pandas/core/arrays/masked.py:60: UserWarning: Pandas requires version '1.3.6' or newer of 'bottleneck' (version '1.3.5' currently installed).\n",
      "  from pandas.core import (\n"
     ]
    },
    {
     "name": "stdout",
     "output_type": "stream",
     "text": [
      "CPU times: user 323 ms, sys: 220 ms, total: 543 ms\n",
      "Wall time: 3.36 s\n"
     ]
    },
    {
     "data": {
      "text/html": [
       "<style>#sk-container-id-1 {color: black;}#sk-container-id-1 pre{padding: 0;}#sk-container-id-1 div.sk-toggleable {background-color: white;}#sk-container-id-1 label.sk-toggleable__label {cursor: pointer;display: block;width: 100%;margin-bottom: 0;padding: 0.3em;box-sizing: border-box;text-align: center;}#sk-container-id-1 label.sk-toggleable__label-arrow:before {content: \"▸\";float: left;margin-right: 0.25em;color: #696969;}#sk-container-id-1 label.sk-toggleable__label-arrow:hover:before {color: black;}#sk-container-id-1 div.sk-estimator:hover label.sk-toggleable__label-arrow:before {color: black;}#sk-container-id-1 div.sk-toggleable__content {max-height: 0;max-width: 0;overflow: hidden;text-align: left;background-color: #f0f8ff;}#sk-container-id-1 div.sk-toggleable__content pre {margin: 0.2em;color: black;border-radius: 0.25em;background-color: #f0f8ff;}#sk-container-id-1 input.sk-toggleable__control:checked~div.sk-toggleable__content {max-height: 200px;max-width: 100%;overflow: auto;}#sk-container-id-1 input.sk-toggleable__control:checked~label.sk-toggleable__label-arrow:before {content: \"▾\";}#sk-container-id-1 div.sk-estimator input.sk-toggleable__control:checked~label.sk-toggleable__label {background-color: #d4ebff;}#sk-container-id-1 div.sk-label input.sk-toggleable__control:checked~label.sk-toggleable__label {background-color: #d4ebff;}#sk-container-id-1 input.sk-hidden--visually {border: 0;clip: rect(1px 1px 1px 1px);clip: rect(1px, 1px, 1px, 1px);height: 1px;margin: -1px;overflow: hidden;padding: 0;position: absolute;width: 1px;}#sk-container-id-1 div.sk-estimator {font-family: monospace;background-color: #f0f8ff;border: 1px dotted black;border-radius: 0.25em;box-sizing: border-box;margin-bottom: 0.5em;}#sk-container-id-1 div.sk-estimator:hover {background-color: #d4ebff;}#sk-container-id-1 div.sk-parallel-item::after {content: \"\";width: 100%;border-bottom: 1px solid gray;flex-grow: 1;}#sk-container-id-1 div.sk-label:hover label.sk-toggleable__label {background-color: #d4ebff;}#sk-container-id-1 div.sk-serial::before {content: \"\";position: absolute;border-left: 1px solid gray;box-sizing: border-box;top: 0;bottom: 0;left: 50%;z-index: 0;}#sk-container-id-1 div.sk-serial {display: flex;flex-direction: column;align-items: center;background-color: white;padding-right: 0.2em;padding-left: 0.2em;position: relative;}#sk-container-id-1 div.sk-item {position: relative;z-index: 1;}#sk-container-id-1 div.sk-parallel {display: flex;align-items: stretch;justify-content: center;background-color: white;position: relative;}#sk-container-id-1 div.sk-item::before, #sk-container-id-1 div.sk-parallel-item::before {content: \"\";position: absolute;border-left: 1px solid gray;box-sizing: border-box;top: 0;bottom: 0;left: 50%;z-index: -1;}#sk-container-id-1 div.sk-parallel-item {display: flex;flex-direction: column;z-index: 1;position: relative;background-color: white;}#sk-container-id-1 div.sk-parallel-item:first-child::after {align-self: flex-end;width: 50%;}#sk-container-id-1 div.sk-parallel-item:last-child::after {align-self: flex-start;width: 50%;}#sk-container-id-1 div.sk-parallel-item:only-child::after {width: 0;}#sk-container-id-1 div.sk-dashed-wrapped {border: 1px dashed gray;margin: 0 0.4em 0.5em 0.4em;box-sizing: border-box;padding-bottom: 0.4em;background-color: white;}#sk-container-id-1 div.sk-label label {font-family: monospace;font-weight: bold;display: inline-block;line-height: 1.2em;}#sk-container-id-1 div.sk-label-container {text-align: center;}#sk-container-id-1 div.sk-container {/* jupyter's `normalize.less` sets `[hidden] { display: none; }` but bootstrap.min.css set `[hidden] { display: none !important; }` so we also need the `!important` here to be able to override the default hidden behavior on the sphinx rendered scikit-learn.org. See: https://github.com/scikit-learn/scikit-learn/issues/21755 */display: inline-block !important;position: relative;}#sk-container-id-1 div.sk-text-repr-fallback {display: none;}</style><div id=\"sk-container-id-1\" class=\"sk-top-container\"><div class=\"sk-text-repr-fallback\"><pre>GridSearchCV(cv=KFold(n_splits=5, random_state=42, shuffle=True),\n",
       "             estimator=GradientBoostingRegressor(random_state=42), n_jobs=-1,\n",
       "             param_grid={&#x27;max_depth&#x27;: [3, 5, 7, 10],\n",
       "                         &#x27;n_estimators&#x27;: [50, 100, 200, 400]},\n",
       "             scoring=&#x27;r2&#x27;)</pre><b>In a Jupyter environment, please rerun this cell to show the HTML representation or trust the notebook. <br />On GitHub, the HTML representation is unable to render, please try loading this page with nbviewer.org.</b></div><div class=\"sk-container\" hidden><div class=\"sk-item sk-dashed-wrapped\"><div class=\"sk-label-container\"><div class=\"sk-label sk-toggleable\"><input class=\"sk-toggleable__control sk-hidden--visually\" id=\"sk-estimator-id-1\" type=\"checkbox\" ><label for=\"sk-estimator-id-1\" class=\"sk-toggleable__label sk-toggleable__label-arrow\">GridSearchCV</label><div class=\"sk-toggleable__content\"><pre>GridSearchCV(cv=KFold(n_splits=5, random_state=42, shuffle=True),\n",
       "             estimator=GradientBoostingRegressor(random_state=42), n_jobs=-1,\n",
       "             param_grid={&#x27;max_depth&#x27;: [3, 5, 7, 10],\n",
       "                         &#x27;n_estimators&#x27;: [50, 100, 200, 400]},\n",
       "             scoring=&#x27;r2&#x27;)</pre></div></div></div><div class=\"sk-parallel\"><div class=\"sk-parallel-item\"><div class=\"sk-item\"><div class=\"sk-label-container\"><div class=\"sk-label sk-toggleable\"><input class=\"sk-toggleable__control sk-hidden--visually\" id=\"sk-estimator-id-2\" type=\"checkbox\" ><label for=\"sk-estimator-id-2\" class=\"sk-toggleable__label sk-toggleable__label-arrow\">estimator: GradientBoostingRegressor</label><div class=\"sk-toggleable__content\"><pre>GradientBoostingRegressor(random_state=42)</pre></div></div></div><div class=\"sk-serial\"><div class=\"sk-item\"><div class=\"sk-estimator sk-toggleable\"><input class=\"sk-toggleable__control sk-hidden--visually\" id=\"sk-estimator-id-3\" type=\"checkbox\" ><label for=\"sk-estimator-id-3\" class=\"sk-toggleable__label sk-toggleable__label-arrow\">GradientBoostingRegressor</label><div class=\"sk-toggleable__content\"><pre>GradientBoostingRegressor(random_state=42)</pre></div></div></div></div></div></div></div></div></div></div>"
      ],
      "text/plain": [
       "GridSearchCV(cv=KFold(n_splits=5, random_state=42, shuffle=True),\n",
       "             estimator=GradientBoostingRegressor(random_state=42), n_jobs=-1,\n",
       "             param_grid={'max_depth': [3, 5, 7, 10],\n",
       "                         'n_estimators': [50, 100, 200, 400]},\n",
       "             scoring='r2')"
      ]
     },
     "execution_count": 33,
     "metadata": {},
     "output_type": "execute_result"
    }
   ],
   "source": [
    "%%time\n",
    "\n",
    "# Подбор гиперпараметров для улучшения результатов модели GradientBoostingRegressor\n",
    "\n",
    "params = {'n_estimators': [50, 100, 200, 400],\n",
    "          'max_depth': [3, 5, 7, 10]}\n",
    "\n",
    "gs_gr_boost_model = GridSearchCV(gr_boost_model, \n",
    "                  params,\n",
    "                  scoring='r2',\n",
    "                  cv=KFold(n_splits=5, # колич. разбиений/итераций в кросс-валидации\n",
    "                           random_state=42,\n",
    "                           shuffle=True),\n",
    "                  n_jobs=-1\n",
    "                 )\n",
    "\n",
    "gs_gr_boost_model.fit(X_train_selected, y_train)"
   ]
  },
  {
   "cell_type": "code",
   "execution_count": 34,
   "id": "2452fcd0-4c1e-4588-9b87-f441976f942d",
   "metadata": {
    "tags": []
   },
   "outputs": [
    {
     "data": {
      "text/plain": [
       "{'max_depth': 3, 'n_estimators': 50}"
      ]
     },
     "execution_count": 34,
     "metadata": {},
     "output_type": "execute_result"
    }
   ],
   "source": [
    "gs_gr_boost_model.best_params_"
   ]
  },
  {
   "cell_type": "code",
   "execution_count": 35,
   "id": "5ddaa230-a91f-4f21-9cd7-3516787384cb",
   "metadata": {
    "tags": []
   },
   "outputs": [
    {
     "data": {
      "text/plain": [
       "0.9681867873517721"
      ]
     },
     "execution_count": 35,
     "metadata": {},
     "output_type": "execute_result"
    }
   ],
   "source": [
    "gs_gr_boost_model.best_score_"
   ]
  },
  {
   "cell_type": "code",
   "execution_count": 36,
   "id": "0db064f6-0430-41af-83d0-5fedade9967c",
   "metadata": {
    "tags": []
   },
   "outputs": [
    {
     "name": "stdout",
     "output_type": "stream",
     "text": [
      "r2_score_trian: 0.9961137889617335\n",
      "r2_score_test: 0.9892650755601876\n",
      "CPU times: user 44.8 ms, sys: 992 µs, total: 45.8 ms\n",
      "Wall time: 44.7 ms\n"
     ]
    }
   ],
   "source": [
    "%%time\n",
    "gr_boost_model = GradientBoostingRegressor(random_state=42, max_depth=3, n_estimators=50)\n",
    "gr_boost_model.fit(X_train_selected, y_train)\n",
    "\n",
    "print(f'r2_score_trian: {gr_boost_model.score(X_train_selected, y_train)}')\n",
    "print(f'r2_score_test: {gr_boost_model.score(X_test_selected, y_test)}')"
   ]
  },
  {
   "cell_type": "code",
   "execution_count": 37,
   "id": "aa9cf6aa-78da-43bb-8783-0dcbbb6e80e3",
   "metadata": {
    "tags": []
   },
   "outputs": [
    {
     "name": "stdout",
     "output_type": "stream",
     "text": [
      "Важность признаков для модели GradientBoostingRegressor\n"
     ]
    },
    {
     "data": {
      "text/html": [
       "<div>\n",
       "<style scoped>\n",
       "    .dataframe tbody tr th:only-of-type {\n",
       "        vertical-align: middle;\n",
       "    }\n",
       "\n",
       "    .dataframe tbody tr th {\n",
       "        vertical-align: top;\n",
       "    }\n",
       "\n",
       "    .dataframe thead th {\n",
       "        text-align: right;\n",
       "    }\n",
       "</style>\n",
       "<table border=\"1\" class=\"dataframe\">\n",
       "  <thead>\n",
       "    <tr style=\"text-align: right;\">\n",
       "      <th></th>\n",
       "      <th>feature_name</th>\n",
       "      <th>importance</th>\n",
       "    </tr>\n",
       "  </thead>\n",
       "  <tbody>\n",
       "    <tr>\n",
       "      <th>2</th>\n",
       "      <td>Sleep Duration</td>\n",
       "      <td>0.760805</td>\n",
       "    </tr>\n",
       "    <tr>\n",
       "      <th>4</th>\n",
       "      <td>Stress Level</td>\n",
       "      <td>0.149091</td>\n",
       "    </tr>\n",
       "    <tr>\n",
       "      <th>0</th>\n",
       "      <td>Occupation_Doctor</td>\n",
       "      <td>0.033225</td>\n",
       "    </tr>\n",
       "    <tr>\n",
       "      <th>5</th>\n",
       "      <td>Heart Rate</td>\n",
       "      <td>0.025434</td>\n",
       "    </tr>\n",
       "    <tr>\n",
       "      <th>1</th>\n",
       "      <td>Age</td>\n",
       "      <td>0.017645</td>\n",
       "    </tr>\n",
       "    <tr>\n",
       "      <th>6</th>\n",
       "      <td>Daily Steps</td>\n",
       "      <td>0.009283</td>\n",
       "    </tr>\n",
       "    <tr>\n",
       "      <th>3</th>\n",
       "      <td>Physical Activity Level</td>\n",
       "      <td>0.003403</td>\n",
       "    </tr>\n",
       "    <tr>\n",
       "      <th>7</th>\n",
       "      <td>BMI Category_Normal</td>\n",
       "      <td>0.001114</td>\n",
       "    </tr>\n",
       "  </tbody>\n",
       "</table>\n",
       "</div>"
      ],
      "text/plain": [
       "              feature_name  importance\n",
       "2           Sleep Duration    0.760805\n",
       "4             Stress Level    0.149091\n",
       "0        Occupation_Doctor    0.033225\n",
       "5               Heart Rate    0.025434\n",
       "1                      Age    0.017645\n",
       "6              Daily Steps    0.009283\n",
       "3  Physical Activity Level    0.003403\n",
       "7      BMI Category_Normal    0.001114"
      ]
     },
     "execution_count": 37,
     "metadata": {},
     "output_type": "execute_result"
    }
   ],
   "source": [
    "print('Важность признаков для модели GradientBoostingRegressor')\n",
    "feature_importances = pd.DataFrame(zip(gr_boost_model.feature_names_in_, gr_boost_model.feature_importances_), \n",
    "                                   columns=['feature_name', 'importance'])\n",
    "\n",
    "feature_importances.sort_values(by='importance', ascending=False)"
   ]
  }
 ],
 "metadata": {
  "kernelspec": {
   "display_name": "Python 3 (ipykernel)",
   "language": "python",
   "name": "python3"
  },
  "language_info": {
   "codemirror_mode": {
    "name": "ipython",
    "version": 3
   },
   "file_extension": ".py",
   "mimetype": "text/x-python",
   "name": "python",
   "nbconvert_exporter": "python",
   "pygments_lexer": "ipython3",
   "version": "3.9.17"
  }
 },
 "nbformat": 4,
 "nbformat_minor": 5
}
