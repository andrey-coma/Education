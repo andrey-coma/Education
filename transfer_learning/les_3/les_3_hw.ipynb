{
 "cells": [
  {
   "cell_type": "markdown",
   "metadata": {
    "id": "W2yOM48zCXEi"
   },
   "source": [
    "### Урок 3. Model as a service и разные применения Transfer learning\n",
    "\n"
   ]
  },
  {
   "cell_type": "code",
   "execution_count": 1,
   "metadata": {
    "id": "kDjRZ7SdCTt9"
   },
   "outputs": [
    {
     "name": "stderr",
     "output_type": "stream",
     "text": [
      "/home/w_lander/anaconda3/lib/python3.11/site-packages/transformers/utils/generic.py:260: FutureWarning: `torch.utils._pytree._register_pytree_node` is deprecated. Please use `torch.utils._pytree.register_pytree_node` instead.\n",
      "  torch.utils._pytree._register_pytree_node(\n"
     ]
    }
   ],
   "source": [
    "from transformers import pipeline"
   ]
  },
  {
   "cell_type": "markdown",
   "metadata": {
    "id": "vLflGEetNoGf"
   },
   "source": [
    "Модель RuBERT, доработанная для классификации эмоций в коротких текстах на русском языке.  \n",
    "https://huggingface.co/seara/rubert-base-cased-ru-go-emotions"
   ]
  },
  {
   "cell_type": "code",
   "execution_count": 2,
   "metadata": {
    "id": "IWV6E2NfC0Dd"
   },
   "outputs": [
    {
     "data": {
      "application/vnd.jupyter.widget-view+json": {
       "model_id": "7bdc5190a5984b41b6e0811daea68af7",
       "version_major": 2,
       "version_minor": 0
      },
      "text/plain": [
       "Downloading model.safetensors:   0%|          | 0.00/712M [00:00<?, ?B/s]"
      ]
     },
     "metadata": {},
     "output_type": "display_data"
    },
    {
     "data": {
      "application/vnd.jupyter.widget-view+json": {
       "model_id": "3828ce9f73c342afb27fb95491a10584",
       "version_major": 2,
       "version_minor": 0
      },
      "text/plain": [
       "Downloading tokenizer_config.json:   0%|          | 0.00/395 [00:00<?, ?B/s]"
      ]
     },
     "metadata": {},
     "output_type": "display_data"
    },
    {
     "data": {
      "application/vnd.jupyter.widget-view+json": {
       "model_id": "2519ac76661745dab74f7d579f5cd2e1",
       "version_major": 2,
       "version_minor": 0
      },
      "text/plain": [
       "Downloading vocab.txt:   0%|          | 0.00/1.65M [00:00<?, ?B/s]"
      ]
     },
     "metadata": {},
     "output_type": "display_data"
    },
    {
     "data": {
      "application/vnd.jupyter.widget-view+json": {
       "model_id": "b42c2269542045bca74864fc978c5208",
       "version_major": 2,
       "version_minor": 0
      },
      "text/plain": [
       "Downloading tokenizer.json:   0%|          | 0.00/3.57M [00:00<?, ?B/s]"
      ]
     },
     "metadata": {},
     "output_type": "display_data"
    },
    {
     "data": {
      "application/vnd.jupyter.widget-view+json": {
       "model_id": "02b90775df544cec9dcdcf12d2e10389",
       "version_major": 2,
       "version_minor": 0
      },
      "text/plain": [
       "Downloading (…)cial_tokens_map.json:   0%|          | 0.00/125 [00:00<?, ?B/s]"
      ]
     },
     "metadata": {},
     "output_type": "display_data"
    }
   ],
   "source": [
    "model = pipeline(model=\"seara/rubert-base-cased-ru-go-emotions\")"
   ]
  },
  {
   "cell_type": "code",
   "execution_count": 51,
   "metadata": {
    "id": "A5y0aCvDCz_3"
   },
   "outputs": [],
   "source": [
    "text1 = [\"Все хорошо, знал что покупал\",\n",
    "        \"Рекомендую к покупке. К слову три таких уже настраивал прекрасные агрегаты\",\n",
    "        \"Лёгкий шустрый\",\n",
    "        \"Уже третий ноут данной модели на предприятии и все работают нон-стоп\",\n",
    "        \"Если не играть в игры хороший аппарат\"]"
   ]
  },
  {
   "cell_type": "code",
   "execution_count": 33,
   "metadata": {
    "colab": {
     "base_uri": "https://localhost:8080/"
    },
    "id": "GzyRLjRVCz8l",
    "outputId": "fcc54746-b572-44ce-aa44-9d938895d8c5"
   },
   "outputs": [
    {
     "data": {
      "text/plain": [
       "[{'label': 'optimism', 'score': 0.33648329973220825},\n",
       " {'label': 'admiration', 'score': 0.4463941752910614},\n",
       " {'label': 'admiration', 'score': 0.748630940914154},\n",
       " {'label': 'neutral', 'score': 0.7605527639389038},\n",
       " {'label': 'neutral', 'score': 0.8107975721359253}]"
      ]
     },
     "execution_count": 33,
     "metadata": {},
     "output_type": "execute_result"
    }
   ],
   "source": [
    "model(text1)"
   ]
  },
  {
   "cell_type": "code",
   "execution_count": 34,
   "metadata": {
    "id": "XCDAa_wiE7uu"
   },
   "outputs": [],
   "source": [
    "label_ru = {\n",
    "'admiration': 'восхищение',\n",
    "'amusement': 'веселье',\n",
    "'anger': 'злость',\n",
    "'annoyance': 'раздражение',\n",
    "'approval': 'одобрение',\n",
    "'caring': 'забота',\n",
    "'confusion': 'непонимание',\n",
    "'curiosity': 'любопытство',\n",
    "'desire': 'желание',\n",
    "'disappointment': 'разочарование',\n",
    "'disapproval': 'неодобрение',\n",
    "'disgust': 'отвращение',\n",
    "'embarrassment': 'смущение',\n",
    "'excitement': 'возбуждение',\n",
    "'fear': 'страх',\n",
    "'gratitude': 'признательность',\n",
    "'grief': 'горе',\n",
    "'joy': 'радость',\n",
    "'love': 'любовь',\n",
    "'nervousness': 'нервозность',\n",
    "'optimism': 'оптимизм',\n",
    "'pride': 'гордость',\n",
    "'realization': 'осознание',\n",
    "'relief': 'облегчение',\n",
    "'remorse': 'раскаяние',\n",
    "'sadness': 'грусть',\n",
    "'surprise': 'удивление',\n",
    "'neutral': 'нейтральность'\n",
    "}"
   ]
  },
  {
   "cell_type": "code",
   "execution_count": 35,
   "metadata": {
    "id": "xizzsbqoKr1H"
   },
   "outputs": [],
   "source": [
    "def get_label_ru(text, label_ru, model):\n",
    "  label = model[0]['label']\n",
    "  score = model[0]['score']\n",
    "  return label_ru[label], round(score, 2)"
   ]
  },
  {
   "cell_type": "code",
   "execution_count": 48,
   "metadata": {
    "id": "waYfuE7-J7gv"
   },
   "outputs": [],
   "source": [
    "text2 = [\"Все хорошо, знал что покупал\",\n",
    "        \"Рекомендую к покупке. К слову три таких уже настраивал прекрасные агрегаты\",\n",
    "        \"Лёгкий шустрый\",\n",
    "        \"Уже третий ноут данной модели на предприятии и все работают нон-стоп\",\n",
    "        \"Если не играть в игры хороший аппарат\"]"
   ]
  },
  {
   "cell_type": "code",
   "execution_count": 44,
   "metadata": {
    "colab": {
     "base_uri": "https://localhost:8080/"
    },
    "id": "J0N8JwyiLjGH",
    "outputId": "2bc49f29-f80d-4188-84dc-d269ba02168f"
   },
   "outputs": [
    {
     "name": "stdout",
     "output_type": "stream",
     "text": [
      "('позитивный', 0.98)\n"
     ]
    }
   ],
   "source": [
    "for txt in text2:\n",
    "  print(get_label_ru(txt, label_ru, model(txt)))"
   ]
  },
  {
   "cell_type": "markdown",
   "metadata": {
    "id": "u-KaLYXKOLAt"
   },
   "source": [
    "Модель RuBERT-tiny2, адаптированная для классификации коротких текстов на русском языке по тональности.\n",
    "https://huggingface.co/seara/rubert-tiny2-russian-sentiment"
   ]
  },
  {
   "cell_type": "code",
   "execution_count": 38,
   "metadata": {
    "id": "CewpEw52NhTn"
   },
   "outputs": [
    {
     "data": {
      "application/vnd.jupyter.widget-view+json": {
       "model_id": "8d42962eaedc4b9fbb15a45c8df027cc",
       "version_major": 2,
       "version_minor": 0
      },
      "text/plain": [
       "Downloading config.json:   0%|          | 0.00/911 [00:00<?, ?B/s]"
      ]
     },
     "metadata": {},
     "output_type": "display_data"
    },
    {
     "data": {
      "application/vnd.jupyter.widget-view+json": {
       "model_id": "0d265aac2ab7483fa46f39fd39f743f6",
       "version_major": 2,
       "version_minor": 0
      },
      "text/plain": [
       "Downloading model.safetensors:   0%|          | 0.00/117M [00:00<?, ?B/s]"
      ]
     },
     "metadata": {},
     "output_type": "display_data"
    },
    {
     "data": {
      "application/vnd.jupyter.widget-view+json": {
       "model_id": "462821239eda48eba082abea0f945068",
       "version_major": 2,
       "version_minor": 0
      },
      "text/plain": [
       "Downloading tokenizer_config.json:   0%|          | 0.00/368 [00:00<?, ?B/s]"
      ]
     },
     "metadata": {},
     "output_type": "display_data"
    },
    {
     "data": {
      "application/vnd.jupyter.widget-view+json": {
       "model_id": "3629263c2ed94b8786bf37c4a529f60a",
       "version_major": 2,
       "version_minor": 0
      },
      "text/plain": [
       "Downloading vocab.txt:   0%|          | 0.00/1.08M [00:00<?, ?B/s]"
      ]
     },
     "metadata": {},
     "output_type": "display_data"
    },
    {
     "data": {
      "application/vnd.jupyter.widget-view+json": {
       "model_id": "082b6f2c04094c839aa2df1aa4bcd925",
       "version_major": 2,
       "version_minor": 0
      },
      "text/plain": [
       "Downloading tokenizer.json:   0%|          | 0.00/2.41M [00:00<?, ?B/s]"
      ]
     },
     "metadata": {},
     "output_type": "display_data"
    },
    {
     "data": {
      "application/vnd.jupyter.widget-view+json": {
       "model_id": "b596a10b91b44c2abcb4ebea2042a1f1",
       "version_major": 2,
       "version_minor": 0
      },
      "text/plain": [
       "Downloading (…)cial_tokens_map.json:   0%|          | 0.00/125 [00:00<?, ?B/s]"
      ]
     },
     "metadata": {},
     "output_type": "display_data"
    }
   ],
   "source": [
    "model = pipeline(model=\"seara/rubert-tiny2-russian-sentiment\")"
   ]
  },
  {
   "cell_type": "code",
   "execution_count": 39,
   "metadata": {
    "colab": {
     "base_uri": "https://localhost:8080/"
    },
    "id": "Wn0NIL4yNhD2",
    "outputId": "c4c8185b-7a82-422b-84f9-d949c46b64a2"
   },
   "outputs": [
    {
     "data": {
      "text/plain": [
       "[{'label': 'positive', 'score': 0.9644801020622253},\n",
       " {'label': 'positive', 'score': 0.9794807434082031},\n",
       " {'label': 'positive', 'score': 0.5930216312408447},\n",
       " {'label': 'neutral', 'score': 0.6845656037330627},\n",
       " {'label': 'neutral', 'score': 0.8393188714981079}]"
      ]
     },
     "execution_count": 39,
     "metadata": {},
     "output_type": "execute_result"
    }
   ],
   "source": [
    "model(text1)"
   ]
  },
  {
   "cell_type": "code",
   "execution_count": 49,
   "metadata": {
    "id": "yi7sL_0FKAgx"
   },
   "outputs": [],
   "source": [
    "label_ru = {\n",
    "'neutral': 'нейтральный',\n",
    "'positive': 'позитивный',\n",
    "'negative': 'негативный'\n",
    "}"
   ]
  },
  {
   "cell_type": "code",
   "execution_count": 50,
   "metadata": {
    "colab": {
     "base_uri": "https://localhost:8080/"
    },
    "id": "_mBJUuTwPCL-",
    "outputId": "0a93676d-6252-49ff-f253-4f73b5f5b2af"
   },
   "outputs": [
    {
     "name": "stdout",
     "output_type": "stream",
     "text": [
      "('позитивный', 0.96)\n",
      "('позитивный', 0.98)\n",
      "('позитивный', 0.59)\n",
      "('нейтральный', 0.69)\n",
      "('нейтральный', 0.84)\n"
     ]
    }
   ],
   "source": [
    "for txt in text2:\n",
    "  print(get_label_ru(txt, label_ru, model(txt)))"
   ]
  }
 ],
 "metadata": {
  "colab": {
   "provenance": []
  },
  "kernelspec": {
   "display_name": "Python 3 (ipykernel)",
   "language": "python",
   "name": "python3"
  },
  "language_info": {
   "codemirror_mode": {
    "name": "ipython",
    "version": 3
   },
   "file_extension": ".py",
   "mimetype": "text/x-python",
   "name": "python",
   "nbconvert_exporter": "python",
   "pygments_lexer": "ipython3",
   "version": "3.11.5"
  }
 },
 "nbformat": 4,
 "nbformat_minor": 4
}
