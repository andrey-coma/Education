{
 "cells": [
  {
   "cell_type": "markdown",
   "id": "b6e74f2b-79ce-4bda-9fed-795d1f77f78f",
   "metadata": {},
   "source": [
    "### Урок 4. Изучение Spark Structure Streaming\n",
    "\n",
    "Условие: используйте источник rate, напишите код, который создаст дополнительный столбец, который будет выводить сумму только нечётных чисел."
   ]
  },
  {
   "cell_type": "code",
   "execution_count": 1,
   "id": "808f1b7a-7151-47e7-9865-9863e35d0fee",
   "metadata": {
    "tags": []
   },
   "outputs": [],
   "source": [
    "from pyspark.sql import SparkSession\n",
    "import pyspark.sql.functions as F"
   ]
  },
  {
   "cell_type": "code",
   "execution_count": 11,
   "id": "5b41c4fb-1422-4a95-9893-a72f29acd50f",
   "metadata": {
    "tags": []
   },
   "outputs": [],
   "source": [
    "spark = SparkSession.builder.appName(\"Stream\").getOrCreate()"
   ]
  },
  {
   "cell_type": "code",
   "execution_count": 12,
   "id": "0e41a94f-e897-47d6-bd1c-384d8d1fd9fa",
   "metadata": {
    "tags": []
   },
   "outputs": [],
   "source": [
    "streaming_df = spark.readStream.format('rate').option('rowsPerSecond', 1).load()"
   ]
  },
  {
   "cell_type": "code",
   "execution_count": 13,
   "id": "9343ad7e-94e4-4ea4-bea2-3fa188456eab",
   "metadata": {
    "tags": []
   },
   "outputs": [
    {
     "name": "stderr",
     "output_type": "stream",
     "text": [
      "25/04/29 16:55:07 WARN ResolveWriteToStream: Temporary checkpoint location created which is deleted normally when the query didn't fail: /tmp/temporary-96eda80c-66d9-4bcb-92cc-19086820d74f. If it's required to delete it under any circumstances, please set spark.sql.streaming.forceDeleteTempCheckpointLocation to true. Important to know deleting temp checkpoint folder is best effort.\n",
      "25/04/29 16:55:07 WARN ResolveWriteToStream: spark.sql.adaptive.enabled is not supported in streaming DataFrames/Datasets and will be disabled.\n"
     ]
    },
    {
     "name": "stdout",
     "output_type": "stream",
     "text": [
      "-------------------------------------------\n",
      "Batch: 0\n",
      "-------------------------------------------\n",
      "+-------------+\n",
      "|odd_sum_value|\n",
      "+-------------+\n",
      "+-------------+\n",
      "\n",
      "-------------------------------------------\n",
      "Batch: 1\n",
      "-------------------------------------------\n",
      "+-------------+\n",
      "|odd_sum_value|\n",
      "+-------------+\n",
      "|            0|\n",
      "+-------------+\n",
      "\n",
      "-------------------------------------------\n",
      "Batch: 2\n",
      "-------------------------------------------\n",
      "+-------------+\n",
      "|odd_sum_value|\n",
      "+-------------+\n",
      "|            1|\n",
      "+-------------+\n",
      "\n",
      "-------------------------------------------\n",
      "Batch: 3\n",
      "-------------------------------------------\n",
      "+-------------+\n",
      "|odd_sum_value|\n",
      "+-------------+\n",
      "|            3|\n",
      "+-------------+\n",
      "\n",
      "-------------------------------------------\n",
      "Batch: 4\n",
      "-------------------------------------------\n",
      "+-------------+\n",
      "|odd_sum_value|\n",
      "+-------------+\n",
      "|            6|\n",
      "+-------------+\n",
      "\n",
      "-------------------------------------------\n",
      "Batch: 5\n",
      "-------------------------------------------\n",
      "+-------------+\n",
      "|odd_sum_value|\n",
      "+-------------+\n",
      "|           10|\n",
      "+-------------+\n",
      "\n",
      "-------------------------------------------\n",
      "Batch: 6\n",
      "-------------------------------------------\n",
      "+-------------+\n",
      "|odd_sum_value|\n",
      "+-------------+\n",
      "|           15|\n",
      "+-------------+\n",
      "\n",
      "-------------------------------------------\n",
      "Batch: 7\n",
      "-------------------------------------------\n",
      "+-------------+\n",
      "|odd_sum_value|\n",
      "+-------------+\n",
      "|           21|\n",
      "+-------------+\n",
      "\n"
     ]
    }
   ],
   "source": [
    "add_col = streaming_df.withColumn('odd_num', (F.col('value') % 2 != 0))\n",
    "result = add_col.groupBy().agg(F.sum('value').alias('odd_sum_value'))\n",
    "filter_df = result.filter(F.col('odd_sum_value').isNotNull())\n",
    "query = filter_df.writeStream.outputMode('update').format('console').start()\n",
    "query.awaitTermination(8)\n",
    "query.stop()"
   ]
  }
 ],
 "metadata": {
  "kernelspec": {
   "display_name": "Python 3 (ipykernel)",
   "language": "python",
   "name": "python3"
  },
  "language_info": {
   "codemirror_mode": {
    "name": "ipython",
    "version": 3
   },
   "file_extension": ".py",
   "mimetype": "text/x-python",
   "name": "python",
   "nbconvert_exporter": "python",
   "pygments_lexer": "ipython3",
   "version": "3.9.17"
  }
 },
 "nbformat": 4,
 "nbformat_minor": 5
}
