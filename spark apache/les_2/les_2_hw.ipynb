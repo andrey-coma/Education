{
 "cells": [
  {
   "cell_type": "code",
   "execution_count": 1,
   "id": "b5b74c3c-774e-4d39-9d7a-d3b76bd5cab3",
   "metadata": {
    "tags": []
   },
   "outputs": [
    {
     "name": "stderr",
     "output_type": "stream",
     "text": [
      "/home/w_lander/anaconda3/envs/dowgrade/lib/python3.9/site-packages/pandas/core/arrays/masked.py:60: UserWarning: Pandas requires version '1.3.6' or newer of 'bottleneck' (version '1.3.5' currently installed).\n",
      "  from pandas.core import (\n"
     ]
    }
   ],
   "source": [
    "import pyspark\n",
    "from pyspark import SparkContext\n",
    "from pyspark.sql import SparkSession\n",
    "from pyspark.sql.functions import (abs, avg, median, mean, count, max, month, year, mode, when, sum, round)\n",
    "import pandas as pd\n",
    "from pyspark.sql import functions as F"
   ]
  },
  {
   "cell_type": "markdown",
   "id": "34748847-be7d-477a-bb8c-5b0cf523ff94",
   "metadata": {},
   "source": [
    "### Домашнее задание\n",
    "Условие: дана таблица с колонками (id, name, salary, managerId), студентам необходимо написать код на spark, который создаст эту таблицу (данные указаны ниже) и в результате выдаст таблицу в которой будут имена сотрудников, которые зарабатывают больше своих менеджеров.\n",
    "\n",
    "Данные для таблицы:"
   ]
  },
  {
   "cell_type": "code",
   "execution_count": 2,
   "id": "54d68ccf-46f1-4fe4-895e-2c0336950619",
   "metadata": {
    "tags": []
   },
   "outputs": [
    {
     "data": {
      "text/html": [
       "<div>\n",
       "<style scoped>\n",
       "    .dataframe tbody tr th:only-of-type {\n",
       "        vertical-align: middle;\n",
       "    }\n",
       "\n",
       "    .dataframe tbody tr th {\n",
       "        vertical-align: top;\n",
       "    }\n",
       "\n",
       "    .dataframe thead th {\n",
       "        text-align: right;\n",
       "    }\n",
       "</style>\n",
       "<table border=\"1\" class=\"dataframe\">\n",
       "  <thead>\n",
       "    <tr style=\"text-align: right;\">\n",
       "      <th></th>\n",
       "      <th>id</th>\n",
       "      <th>Name</th>\n",
       "      <th>Salary</th>\n",
       "      <th>ManagerId</th>\n",
       "    </tr>\n",
       "  </thead>\n",
       "  <tbody>\n",
       "    <tr>\n",
       "      <th>0</th>\n",
       "      <td>1</td>\n",
       "      <td>Joe</td>\n",
       "      <td>70</td>\n",
       "      <td>3</td>\n",
       "    </tr>\n",
       "    <tr>\n",
       "      <th>1</th>\n",
       "      <td>2</td>\n",
       "      <td>Henry</td>\n",
       "      <td>80</td>\n",
       "      <td>4</td>\n",
       "    </tr>\n",
       "    <tr>\n",
       "      <th>2</th>\n",
       "      <td>3</td>\n",
       "      <td>Sam</td>\n",
       "      <td>60</td>\n",
       "      <td>Null</td>\n",
       "    </tr>\n",
       "    <tr>\n",
       "      <th>3</th>\n",
       "      <td>4</td>\n",
       "      <td>Max</td>\n",
       "      <td>90</td>\n",
       "      <td>Null</td>\n",
       "    </tr>\n",
       "  </tbody>\n",
       "</table>\n",
       "</div>"
      ],
      "text/plain": [
       "   id   Name Salary ManagerId\n",
       "0   1    Joe     70         3\n",
       "1   2  Henry     80         4\n",
       "2   3    Sam     60      Null\n",
       "3   4    Max     90      Null"
      ]
     },
     "execution_count": 2,
     "metadata": {},
     "output_type": "execute_result"
    }
   ],
   "source": [
    "data = {'id': [1, 2, 3, 4], \n",
    "        'Name': ['Joe', 'Henry', 'Sam', 'Max'],\n",
    "        'Salary':['70', '80', '60', '90'], \n",
    "        'ManagerId':['3', '4', 'Null', 'Null']}\n",
    "df = pd.DataFrame(data)\n",
    "df"
   ]
  },
  {
   "cell_type": "code",
   "execution_count": 14,
   "id": "1bfa8c55-25e2-471a-8db0-f82216c89209",
   "metadata": {
    "tags": []
   },
   "outputs": [],
   "source": [
    "spark = SparkSession.builder.appName(\"Salary\").getOrCreate()"
   ]
  },
  {
   "cell_type": "code",
   "execution_count": 15,
   "id": "4d82347d-c0b0-40a5-aff4-6acb97dc2953",
   "metadata": {},
   "outputs": [],
   "source": [
    "data = [(1, \"Joe\", 70, 3),\n",
    "        (2, \"Henry\", 80, 4),\n",
    "        (3, \"Sam\", 60, None),\n",
    "        (4, \"Max\", 90, None)]"
   ]
  },
  {
   "cell_type": "code",
   "execution_count": 16,
   "id": "3cbc2893-8c84-4b6b-a963-80f1a82a58ff",
   "metadata": {
    "tags": []
   },
   "outputs": [
    {
     "name": "stdout",
     "output_type": "stream",
     "text": [
      "+---+-----+------+---------+\n",
      "| id| Name|Salary|ManagerId|\n",
      "+---+-----+------+---------+\n",
      "|  1|  Joe|    70|        3|\n",
      "|  2|Henry|    80|        4|\n",
      "|  3|  Sam|    60|     NULL|\n",
      "|  4|  Max|    90|     NULL|\n",
      "+---+-----+------+---------+\n",
      "\n"
     ]
    }
   ],
   "source": [
    "# Создаем spark DataFrame\n",
    "df_spark = spark.createDataFrame(data, list(df.columns))\n",
    "df_spark.show()"
   ]
  }
 ],
 "metadata": {
  "kernelspec": {
   "display_name": "Python 3 (ipykernel)",
   "language": "python",
   "name": "python3"
  },
  "language_info": {
   "codemirror_mode": {
    "name": "ipython",
    "version": 3
   },
   "file_extension": ".py",
   "mimetype": "text/x-python",
   "name": "python",
   "nbconvert_exporter": "python",
   "pygments_lexer": "ipython3",
   "version": "3.9.17"
  }
 },
 "nbformat": 4,
 "nbformat_minor": 5
}
