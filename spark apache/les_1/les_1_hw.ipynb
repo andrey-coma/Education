{
 "cells": [
  {
   "cell_type": "markdown",
   "id": "7e053d1b-b24a-4893-b15c-ef82ecda8e76",
   "metadata": {},
   "source": [
    "### Урок 1. SQL & BigData\n",
    "\n",
    "Найти самую длинную последовательность упорядоченных чисел в RDD и вывести её."
   ]
  },
  {
   "cell_type": "code",
   "execution_count": 1,
   "id": "236fb304-ce9e-465e-b7d7-1180f2abb338",
   "metadata": {
    "tags": []
   },
   "outputs": [],
   "source": [
    "import pyspark\n",
    "from pyspark import SparkContext"
   ]
  },
  {
   "cell_type": "code",
   "execution_count": 4,
   "id": "771aef4f-38cb-41da-82a8-9ca0b7514296",
   "metadata": {
    "tags": []
   },
   "outputs": [
    {
     "name": "stderr",
     "output_type": "stream",
     "text": [
      "25/04/23 14:24:32 WARN Utils: Service 'SparkUI' could not bind on port 4040. Attempting port 4041.\n",
      "[Stage 0:>                                                          (0 + 1) / 1]\r"
     ]
    },
    {
     "name": "stdout",
     "output_type": "stream",
     "text": [
      "Самая длинная последовательность: [7, 8, 9, 10, 11]\n"
     ]
    },
    {
     "name": "stderr",
     "output_type": "stream",
     "text": [
      "                                                                                \r"
     ]
    }
   ],
   "source": [
    "sc = SparkContext(\"local\", \"length of numbers\")\n",
    "data_nums = [1, 107, 5, 17, 3, 4, 5, 106, 1, 7, 8, 9, 10, 11, 16, 100, 5, 101, 102, 18, 105, 103, 104, 108]\n",
    "\n",
    "rdd = sc.parallelize(data_nums)\n",
    "\n",
    "# функция для поиска последовательностей\n",
    "def find_seq(nums: list) -> list:\n",
    "    result = []\n",
    "    current_sequence = [nums[0]]\n",
    "\n",
    "    for idx, _ in enumerate(data_nums):\n",
    "        if nums[idx] == nums[idx - 1] + 1:\n",
    "            current_sequence.append(nums[idx])\n",
    "        else:\n",
    "            result.append(current_sequence)\n",
    "            current_sequence = [nums[idx]]\n",
    "\n",
    "    result.append(current_sequence)\n",
    "    \n",
    "    return result\n",
    "\n",
    "\n",
    "# функция для поиска максимальной последовательности\n",
    "def max_seq(data: list) -> list:\n",
    "    current_res = data[0]\n",
    "    for item in data:\n",
    "        if len(current_res) < len(item):\n",
    "            current_res = item\n",
    "\n",
    "    return current_res\n",
    "\n",
    "\n",
    "sequences_rdd = rdd.glom().flatMap(find_seq)\n",
    "#sequences_rdd.collect()\n",
    "\n",
    "print(f'Самая длинная последовательность: {max_seq(sequences_rdd.collect())}')"
   ]
  },
  {
   "cell_type": "code",
   "execution_count": 5,
   "id": "ffdb1dda-9c74-4fef-97fc-9966eeff8e6f",
   "metadata": {
    "tags": []
   },
   "outputs": [],
   "source": [
    "sc.stop()"
   ]
  }
 ],
 "metadata": {
  "kernelspec": {
   "display_name": "Python 3 (ipykernel)",
   "language": "python",
   "name": "python3"
  },
  "language_info": {
   "codemirror_mode": {
    "name": "ipython",
    "version": 3
   },
   "file_extension": ".py",
   "mimetype": "text/x-python",
   "name": "python",
   "nbconvert_exporter": "python",
   "pygments_lexer": "ipython3",
   "version": "3.9.17"
  }
 },
 "nbformat": 4,
 "nbformat_minor": 5
}
