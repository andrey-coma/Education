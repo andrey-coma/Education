{
 "cells": [
  {
   "cell_type": "markdown",
   "id": "2901df9b-e464-4017-9309-97347e3cf4f1",
   "metadata": {},
   "source": [
    "### Условие: создайте csv файл с таким содержимым:\n",
    "\n",
    "title,author,genre,sales,year\n",
    "\n",
    "\"1984\", \"George Orwell\", \"Science Fiction\", 5000, 1949\n",
    "\n",
    "\"The Lord of the Rings\", \"J.R.R. Tolkien\", \"Fantasy\", 3000, 1954\n",
    "\n",
    "\"To Kill a Mockingbird\", \"Harper Lee\", \"Southern Gothic\", 4000, 1960\n",
    "\n",
    "\"The Catcher in the Rye\", \"J.D. Salinger\", \"Novel\", 2000, 1951\n",
    "\n",
    "\"The Great Gatsby\", \"F. Scott Fitzgerald\", \"Novel\", 4500, 1925\n",
    "\n",
    "Задание:\n",
    "\n",
    "- Используя Spark прочитайте данные из файла csv.\n",
    "- Фильтруйте данные, чтобы оставить только книги, продажи которых превышают 3000 экземпляров.\n",
    "- Сгруппируйте данные по жанру и вычислите общий объем продаж для каждого жанра.\n",
    "- Отсортируйте данные по общему объему продаж в порядке убывания.\n",
    "- Выведите результаты на экран.\n"
   ]
  },
  {
   "cell_type": "code",
   "execution_count": 1,
   "id": "5fe30fd7-11a3-4ec2-a2fc-8ddbed4e417a",
   "metadata": {
    "tags": []
   },
   "outputs": [],
   "source": [
    "import pyspark\n",
    "from pyspark import SparkContext, SparkConf\n",
    "from pyspark.sql import SparkSession\n",
    "import pyspark.sql.functions as F"
   ]
  },
  {
   "cell_type": "code",
   "execution_count": 7,
   "id": "b3f70d16-8756-4531-9955-a0ce9c22a728",
   "metadata": {
    "tags": []
   },
   "outputs": [
    {
     "name": "stderr",
     "output_type": "stream",
     "text": [
      "25/04/30 00:07:09 WARN Utils: Service 'SparkUI' could not bind on port 4040. Attempting port 4041.\n",
      "25/04/30 00:07:09 WARN Utils: Service 'SparkUI' could not bind on port 4041. Attempting port 4042.\n"
     ]
    }
   ],
   "source": [
    "conf = SparkConf().setAppName('les_5_hw')\n",
    "sc = SparkContext(conf=conf)\n",
    "\n",
    "spark = SparkSession.builder.getOrCreate()\n",
    "\n",
    "csv_file_path = 'data/books.csv' "
   ]
  },
  {
   "cell_type": "code",
   "execution_count": 8,
   "id": "39fb1ef8-3950-4af6-b752-2b8da06abc41",
   "metadata": {
    "tags": []
   },
   "outputs": [
    {
     "name": "stderr",
     "output_type": "stream",
     "text": [
      "                                                                                \r"
     ]
    }
   ],
   "source": [
    "df = spark.read.csv(csv_file_path, header=True, inferSchema=True)"
   ]
  },
  {
   "cell_type": "code",
   "execution_count": 9,
   "id": "4bb172d0-9bcf-4ea9-8c7e-e5e8b639c7cc",
   "metadata": {
    "tags": []
   },
   "outputs": [
    {
     "name": "stdout",
     "output_type": "stream",
     "text": [
      "+--------------------+--------------------+------------------+------+------+\n",
      "|               title|              author|             genre| sales|  year|\n",
      "+--------------------+--------------------+------------------+------+------+\n",
      "|                1984|     \"George Orwell\"| \"Science Fiction\"|5000.0|1949.0|\n",
      "|The Lord of the R...|    \"J.R.R. Tolkien\"|         \"Fantasy\"|3000.0|1954.0|\n",
      "|To Kill a Mocking...|        \"Harper Lee\"| \"Southern Gothic\"|4000.0|1960.0|\n",
      "|The Catcher in th...|     \"J.D. Salinger\"|           \"Novel\"|2000.0|1951.0|\n",
      "|    The Great Gatsby| \"F. Scott Fitzge...|           \"Novel\"|4500.0|1925.0|\n",
      "+--------------------+--------------------+------------------+------+------+\n",
      "\n"
     ]
    }
   ],
   "source": [
    "df.show()"
   ]
  },
  {
   "cell_type": "code",
   "execution_count": 10,
   "id": "e40e7e92-78f5-4590-a84f-fd675730cab3",
   "metadata": {
    "tags": []
   },
   "outputs": [],
   "source": [
    "df = df.withColumn(\"sales\", df[\"sales\"].cast('int'))\n",
    "df = df.withColumn(\"year\", df[\"year\"].cast('int'))"
   ]
  },
  {
   "cell_type": "code",
   "execution_count": 11,
   "id": "30dddb5e-d56a-4e05-a015-f3a906267e82",
   "metadata": {
    "tags": []
   },
   "outputs": [
    {
     "name": "stdout",
     "output_type": "stream",
     "text": [
      "+--------------------+--------------------+------------------+-----+----+\n",
      "|               title|              author|             genre|sales|year|\n",
      "+--------------------+--------------------+------------------+-----+----+\n",
      "|                1984|     \"George Orwell\"| \"Science Fiction\"| 5000|1949|\n",
      "|To Kill a Mocking...|        \"Harper Lee\"| \"Southern Gothic\"| 4000|1960|\n",
      "|    The Great Gatsby| \"F. Scott Fitzge...|           \"Novel\"| 4500|1925|\n",
      "+--------------------+--------------------+------------------+-----+----+\n",
      "\n"
     ]
    }
   ],
   "source": [
    "# Фильтруйте данные, чтобы оставить только книги, продажи которых превышают 3000 экземпляров.\n",
    "df_filter = df.filter(df.sales > 3000)\n",
    "df_filter.show()"
   ]
  },
  {
   "cell_type": "code",
   "execution_count": 12,
   "id": "b0d840e6-62e8-43ef-9ca6-4b52684d86a7",
   "metadata": {
    "tags": []
   },
   "outputs": [
    {
     "name": "stdout",
     "output_type": "stream",
     "text": [
      "+------------------+------------+\n",
      "|             genre|result_sales|\n",
      "+------------------+------------+\n",
      "| \"Southern Gothic\"|        4000|\n",
      "| \"Science Fiction\"|        5000|\n",
      "|           \"Novel\"|        6500|\n",
      "|         \"Fantasy\"|        3000|\n",
      "+------------------+------------+\n",
      "\n"
     ]
    }
   ],
   "source": [
    "# Сгруппируйте данные по жанру и вычислите общий объем продаж для каждого жанра.\n",
    "df_group_janr = df.groupby('genre').agg(F.sum('sales').alias('result_sales'))\n",
    "df_group_janr.show()"
   ]
  },
  {
   "cell_type": "code",
   "execution_count": 13,
   "id": "b5ea4fb6-9fd8-4d9a-8eb3-62654ea82fb9",
   "metadata": {
    "tags": []
   },
   "outputs": [
    {
     "name": "stdout",
     "output_type": "stream",
     "text": [
      "+--------------------+--------------------+------------------+-----+----+\n",
      "|               title|              author|             genre|sales|year|\n",
      "+--------------------+--------------------+------------------+-----+----+\n",
      "|                1984|     \"George Orwell\"| \"Science Fiction\"| 5000|1949|\n",
      "|    The Great Gatsby| \"F. Scott Fitzge...|           \"Novel\"| 4500|1925|\n",
      "|To Kill a Mocking...|        \"Harper Lee\"| \"Southern Gothic\"| 4000|1960|\n",
      "|The Lord of the R...|    \"J.R.R. Tolkien\"|         \"Fantasy\"| 3000|1954|\n",
      "|The Catcher in th...|     \"J.D. Salinger\"|           \"Novel\"| 2000|1951|\n",
      "+--------------------+--------------------+------------------+-----+----+\n",
      "\n"
     ]
    }
   ],
   "source": [
    "#Отсортируйте данные по общему объему продаж в порядке убывания.\n",
    "df_order = df.orderBy(F.desc('sales'))\n",
    "df_order.show()"
   ]
  },
  {
   "cell_type": "code",
   "execution_count": 14,
   "id": "4e069004-ca89-49ef-8c0c-4797223d90e6",
   "metadata": {
    "tags": []
   },
   "outputs": [],
   "source": [
    "sc.stop()"
   ]
  }
 ],
 "metadata": {
  "kernelspec": {
   "display_name": "Python 3 (ipykernel)",
   "language": "python",
   "name": "python3"
  },
  "language_info": {
   "codemirror_mode": {
    "name": "ipython",
    "version": 3
   },
   "file_extension": ".py",
   "mimetype": "text/x-python",
   "name": "python",
   "nbconvert_exporter": "python",
   "pygments_lexer": "ipython3",
   "version": "3.9.17"
  }
 },
 "nbformat": 4,
 "nbformat_minor": 5
}
