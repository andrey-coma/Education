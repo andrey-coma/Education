{
 "cells": [
  {
   "cell_type": "markdown",
   "id": "79895786-74bb-4ab0-b947-247a53e1a7db",
   "metadata": {},
   "source": [
    "В PySpark приложении датафреймами(pyspark.sql.DataFrame) заданы продукты, категории и их связи. Каждому продукту может соответствовать несколько категорий или ни одной. А каждой категории может соответствовать несколько продуктов или ни одного. Напишите метод на PySpark, который в одном датафрейме вернет все пары «Имя продукта – Имя категории» и имена всех продуктов, у которых нет категорий. Напишите тесты на ваш метод."
   ]
  },
  {
   "cell_type": "code",
   "execution_count": 1,
   "id": "02095b90-9724-4e00-a367-8b94bcef9ea6",
   "metadata": {
    "tags": []
   },
   "outputs": [
    {
     "name": "stderr",
     "output_type": "stream",
     "text": [
      "25/10/16 11:06:47 WARN Utils: Your hostname, ub-xeon-v1 resolves to a loopback address: 127.0.1.1; using 192.168.1.100 instead (on interface enp6s0)\n",
      "25/10/16 11:06:47 WARN Utils: Set SPARK_LOCAL_IP if you need to bind to another address\n",
      "Setting default log level to \"WARN\".\n",
      "To adjust logging level use sc.setLogLevel(newLevel). For SparkR, use setLogLevel(newLevel).\n",
      "25/10/16 11:06:48 WARN NativeCodeLoader: Unable to load native-hadoop library for your platform... using builtin-java classes where applicable\n"
     ]
    }
   ],
   "source": [
    "from pyspark.sql import SparkSession\n",
    "from pyspark.sql.window import Window\n",
    "import pyspark.sql.functions as F\n",
    "from pyspark.sql.types import DateType, IntegerType, StringType\n",
    "\n",
    "spark = SparkSession.builder.appName(\"WindowFunctionExample\").getOrCreate()"
   ]
  },
  {
   "cell_type": "code",
   "execution_count": 2,
   "id": "97e861e1-3ac1-47e3-b63f-c20f538bd1d0",
   "metadata": {
    "tags": []
   },
   "outputs": [],
   "source": [
    "data = [\n",
    "    (1, \"2023-09-25\", \"Вишня\", \"овощи, фрукты, ягоды, зелень\", 100),\n",
    "    (2, \"2024-08-22\", \"Банан\", \"овощи, фрукты, ягоды, зелень\", 200),\n",
    "    (3, \"2024-05-22\", \"Картофель\", \"овощи\", 50),\n",
    "    (4, \"2023-03-24\", \"Сметана\", \"\", 250),\n",
    "    (5, \"2023-01-21\", \"Перец\", \"\", 150),\n",
    "    (6, \"2023-12-21\", \"Петрушка\", \"зелень\", 150),\n",
    "    (7, \"2023-12-21\", \"Макароны\", \"\", 130),\n",
    "    (8, \"2022-12-21\", \"Чай зеленый\", \"бакалея\", 170),\n",
    "    (9, \"2012-12-21\", \"Кориандр\", \"бакалея\", 190),\n",
    "    (10, \"2012-08-22\", \"Оливки\", \"Консервация\", 123),\n",
    "    (11, \"2012-08-22\", \"Папайя\", \"Консервация\", 100),\n",
    "]\n",
    "\n",
    "columns = [\"id\", \"date\",\"product\", \"category\", \"price\"]"
   ]
  },
  {
   "cell_type": "code",
   "execution_count": 3,
   "id": "e3022495-5608-4084-b356-e3bedb7ddca3",
   "metadata": {
    "tags": []
   },
   "outputs": [],
   "source": [
    "# Создание DataFrame\n",
    "df = spark.createDataFrame(data, columns)"
   ]
  },
  {
   "cell_type": "code",
   "execution_count": 4,
   "id": "d48b2f55-1244-4fe3-958c-1f0dfd5d6f67",
   "metadata": {
    "tags": []
   },
   "outputs": [
    {
     "name": "stderr",
     "output_type": "stream",
     "text": [
      "                                                                                \r"
     ]
    },
    {
     "name": "stdout",
     "output_type": "stream",
     "text": [
      "+---+----------+-----------+--------------------+-----+\n",
      "| id|      date|    product|            category|price|\n",
      "+---+----------+-----------+--------------------+-----+\n",
      "|  1|2023-09-25|      Вишня|овощи, фрукты, яг...|  100|\n",
      "|  2|2024-08-22|      Банан|овощи, фрукты, яг...|  200|\n",
      "|  3|2024-05-22|  Картофель|               овощи|   50|\n",
      "|  4|2023-03-24|    Сметана|                    |  250|\n",
      "|  5|2023-01-21|      Перец|                    |  150|\n",
      "|  6|2023-12-21|   Петрушка|              зелень|  150|\n",
      "|  7|2023-12-21|   Макароны|                    |  130|\n",
      "|  8|2022-12-21|Чай зеленый|             бакалея|  170|\n",
      "|  9|2012-12-21|   Кориандр|             бакалея|  190|\n",
      "| 10|2012-08-22|     Оливки|         Консервация|  123|\n",
      "| 11|2012-08-22|     Папайя|         Консервация|  100|\n",
      "+---+----------+-----------+--------------------+-----+\n",
      "\n"
     ]
    }
   ],
   "source": [
    "df.show()"
   ]
  },
  {
   "cell_type": "code",
   "execution_count": 5,
   "id": "1093646f-7a94-4056-bbb1-4bcb85e1a47d",
   "metadata": {
    "tags": []
   },
   "outputs": [],
   "source": [
    "# Преобразование типа дынных в столбце 'date'\n",
    "df = df.withColumn(\"date\", F.col(\"date\").cast(DateType()))\n",
    "#df = df.withColumn(\"category\", col(\"category\").cast('string'))"
   ]
  },
  {
   "cell_type": "code",
   "execution_count": 7,
   "id": "229e279c-301f-4bd7-90c9-817f400dd4db",
   "metadata": {
    "tags": []
   },
   "outputs": [
    {
     "name": "stdout",
     "output_type": "stream",
     "text": [
      "+---+----------+--------+--------+-----+\n",
      "| id|      date| product|category|price|\n",
      "+---+----------+--------+--------+-----+\n",
      "|  4|2023-03-24| Сметана|        |  250|\n",
      "|  5|2023-01-21|   Перец|        |  150|\n",
      "|  7|2023-12-21|Макароны|        |  130|\n",
      "+---+----------+--------+--------+-----+\n",
      "\n"
     ]
    }
   ],
   "source": [
    "no_category.show()"
   ]
  },
  {
   "cell_type": "code",
   "execution_count": 11,
   "id": "3c3905c6-796e-4b15-8c87-804953e18593",
   "metadata": {
    "tags": []
   },
   "outputs": [],
   "source": [
    "# Метод un_category выберая продукты без категорий\n",
    "def un_category(df):\n",
    "    return df.filter(df.category == '')"
   ]
  },
  {
   "cell_type": "code",
   "execution_count": 12,
   "id": "9eae1f65-e21b-4998-bd8a-7d2f09b013bc",
   "metadata": {
    "tags": []
   },
   "outputs": [
    {
     "name": "stdout",
     "output_type": "stream",
     "text": [
      "+---+----------+--------+--------+-----+\n",
      "| id|      date| product|category|price|\n",
      "+---+----------+--------+--------+-----+\n",
      "|  4|2023-03-24| Сметана|        |  250|\n",
      "|  5|2023-01-21|   Перец|        |  150|\n",
      "|  7|2023-12-21|Макароны|        |  130|\n",
      "+---+----------+--------+--------+-----+\n",
      "\n"
     ]
    }
   ],
   "source": [
    "un_category(df).show()"
   ]
  }
 ],
 "metadata": {
  "kernelspec": {
   "display_name": "Python 3 (ipykernel)",
   "language": "python",
   "name": "python3"
  },
  "language_info": {
   "codemirror_mode": {
    "name": "ipython",
    "version": 3
   },
   "file_extension": ".py",
   "mimetype": "text/x-python",
   "name": "python",
   "nbconvert_exporter": "python",
   "pygments_lexer": "ipython3",
   "version": "3.9.17"
  }
 },
 "nbformat": 4,
 "nbformat_minor": 5
}
