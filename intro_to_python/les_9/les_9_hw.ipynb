{
 "cells": [
  {
   "cell_type": "markdown",
   "id": "f18bc171-73c6-417d-ac4e-7e5f7f39bd25",
   "metadata": {},
   "source": [
    "Набор рекламных данных, показывающих, щёлкнул ли конкретный\n",
    "\n",
    "пользователь рекламу на сайте компании или нет. Состоит из двух разных\n",
    "\n",
    "\n",
    "файлов: advertising_1.csv, advertising_2.csv. Описание столбцов\n",
    "датасета:"
   ]
  },
  {
   "cell_type": "markdown",
   "id": "5015b192-dd5d-49bf-8962-016cd561a3de",
   "metadata": {
    "tags": []
   },
   "source": [
    "####  ● Number: Номер пользователя в системе.\n",
    "\n",
    "#### ● Daily Time Spent on Site: Среднее ежедневное время нахождения пользователя на сайте в минутах.\n",
    "\n",
    "#### ● Daily Internet Usage: Среднее ежедневное время нахождения пользователя в интернете в минутах.\n",
    "\n",
    "#### ● Ad Topic Line: Заголовок рекламного объявления.\n",
    "\n",
    "#### ● Clicked on Ad: Кликнул пользователь на рекламу или нет."
   ]
  },
  {
   "cell_type": "code",
   "execution_count": 1,
   "id": "7b7d23b5-fac4-490b-9a7d-d3b4c17cb101",
   "metadata": {
    "tags": []
   },
   "outputs": [],
   "source": [
    "# Задание 1.\n",
    "# Загрузите таблицу из файла advertising_1.csv и сохраните её в датафрейм adv1_df. Укажите в качестве индекса столбец Number. \n",
    "# Выведите на экран первые десять строк."
   ]
  },
  {
   "cell_type": "code",
   "execution_count": 2,
   "id": "733e85e0-2fec-4eca-933d-7035b49afb47",
   "metadata": {
    "tags": []
   },
   "outputs": [
    {
     "name": "stderr",
     "output_type": "stream",
     "text": [
      "/home/w_lander/anaconda3/envs/dowgrade/lib/python3.9/site-packages/pandas/core/arrays/masked.py:60: UserWarning: Pandas requires version '1.3.6' or newer of 'bottleneck' (version '1.3.5' currently installed).\n",
      "  from pandas.core import (\n"
     ]
    }
   ],
   "source": [
    "import numpy as np\n",
    "import pandas as pd"
   ]
  },
  {
   "cell_type": "code",
   "execution_count": 3,
   "id": "95ecafcc-5439-4506-b27b-e39c3865baa2",
   "metadata": {
    "tags": []
   },
   "outputs": [
    {
     "data": {
      "text/html": [
       "<div>\n",
       "<style scoped>\n",
       "    .dataframe tbody tr th:only-of-type {\n",
       "        vertical-align: middle;\n",
       "    }\n",
       "\n",
       "    .dataframe tbody tr th {\n",
       "        vertical-align: top;\n",
       "    }\n",
       "\n",
       "    .dataframe thead th {\n",
       "        text-align: right;\n",
       "    }\n",
       "</style>\n",
       "<table border=\"1\" class=\"dataframe\">\n",
       "  <thead>\n",
       "    <tr style=\"text-align: right;\">\n",
       "      <th></th>\n",
       "      <th>Daily Time Spent on Site</th>\n",
       "      <th>Daily Internet Usage</th>\n",
       "      <th>Ad Topic Line</th>\n",
       "      <th>Clicked on Ad</th>\n",
       "    </tr>\n",
       "    <tr>\n",
       "      <th>Number</th>\n",
       "      <th></th>\n",
       "      <th></th>\n",
       "      <th></th>\n",
       "      <th></th>\n",
       "    </tr>\n",
       "  </thead>\n",
       "  <tbody>\n",
       "    <tr>\n",
       "      <th>5</th>\n",
       "      <td>68.95</td>\n",
       "      <td>256.09</td>\n",
       "      <td>Cloned 5thgeneration orchestration</td>\n",
       "      <td>0</td>\n",
       "    </tr>\n",
       "    <tr>\n",
       "      <th>6</th>\n",
       "      <td>80.23</td>\n",
       "      <td>193.77</td>\n",
       "      <td>Monitored national standardization</td>\n",
       "      <td>0</td>\n",
       "    </tr>\n",
       "    <tr>\n",
       "      <th>8</th>\n",
       "      <td>74.15</td>\n",
       "      <td>245.89</td>\n",
       "      <td>Triple-buffered reciprocal time-frame</td>\n",
       "      <td>0</td>\n",
       "    </tr>\n",
       "    <tr>\n",
       "      <th>9</th>\n",
       "      <td>NaN</td>\n",
       "      <td>225.58</td>\n",
       "      <td>Robust logistical utilization</td>\n",
       "      <td>0</td>\n",
       "    </tr>\n",
       "    <tr>\n",
       "      <th>10</th>\n",
       "      <td>59.99</td>\n",
       "      <td>226.74</td>\n",
       "      <td>Sharable client-driven software</td>\n",
       "      <td>0</td>\n",
       "    </tr>\n",
       "    <tr>\n",
       "      <th>11</th>\n",
       "      <td>88.91</td>\n",
       "      <td>208.36</td>\n",
       "      <td>Enhanced dedicated support</td>\n",
       "      <td>0</td>\n",
       "    </tr>\n",
       "    <tr>\n",
       "      <th>12</th>\n",
       "      <td>NaN</td>\n",
       "      <td>131.76</td>\n",
       "      <td>Reactive local challenge</td>\n",
       "      <td>1</td>\n",
       "    </tr>\n",
       "    <tr>\n",
       "      <th>13</th>\n",
       "      <td>74.53</td>\n",
       "      <td>NaN</td>\n",
       "      <td>Configurable coherent function</td>\n",
       "      <td>0</td>\n",
       "    </tr>\n",
       "    <tr>\n",
       "      <th>14</th>\n",
       "      <td>69.88</td>\n",
       "      <td>183.82</td>\n",
       "      <td>Mandatory homogeneous architecture</td>\n",
       "      <td>0</td>\n",
       "    </tr>\n",
       "    <tr>\n",
       "      <th>15</th>\n",
       "      <td>47.64</td>\n",
       "      <td>122.02</td>\n",
       "      <td>Centralized neutral neural-net</td>\n",
       "      <td>1</td>\n",
       "    </tr>\n",
       "  </tbody>\n",
       "</table>\n",
       "</div>"
      ],
      "text/plain": [
       "        Daily Time Spent on Site  Daily Internet Usage  \\\n",
       "Number                                                   \n",
       "5                          68.95                256.09   \n",
       "6                          80.23                193.77   \n",
       "8                          74.15                245.89   \n",
       "9                            NaN                225.58   \n",
       "10                         59.99                226.74   \n",
       "11                         88.91                208.36   \n",
       "12                           NaN                131.76   \n",
       "13                         74.53                   NaN   \n",
       "14                         69.88                183.82   \n",
       "15                         47.64                122.02   \n",
       "\n",
       "                                Ad Topic Line  Clicked on Ad  \n",
       "Number                                                        \n",
       "5          Cloned 5thgeneration orchestration              0  \n",
       "6          Monitored national standardization              0  \n",
       "8       Triple-buffered reciprocal time-frame              0  \n",
       "9               Robust logistical utilization              0  \n",
       "10            Sharable client-driven software              0  \n",
       "11                 Enhanced dedicated support              0  \n",
       "12                   Reactive local challenge              1  \n",
       "13             Configurable coherent function              0  \n",
       "14         Mandatory homogeneous architecture              0  \n",
       "15             Centralized neutral neural-net              1  "
      ]
     },
     "execution_count": 3,
     "metadata": {},
     "output_type": "execute_result"
    }
   ],
   "source": [
    "adva_df = pd.read_csv('hw/advertising_1.csv', index_col='Number')\n",
    "adva_df.head(10)"
   ]
  },
  {
   "cell_type": "code",
   "execution_count": 4,
   "id": "cf5a2a3f-8072-4dfb-9708-6bb216799bd0",
   "metadata": {
    "tags": []
   },
   "outputs": [],
   "source": [
    "# Задание 2.\n",
    "# Выведите размер датафрейма adv1_df и cреднее ежедневное время\n",
    "# нахождения в интернете пользователя под номером 8."
   ]
  },
  {
   "cell_type": "code",
   "execution_count": 5,
   "id": "641d9afc-0448-49d3-9b81-db3bc5f51ba6",
   "metadata": {
    "tags": []
   },
   "outputs": [
    {
     "data": {
      "text/plain": [
       "(500, 4)"
      ]
     },
     "execution_count": 5,
     "metadata": {},
     "output_type": "execute_result"
    }
   ],
   "source": [
    "adva_df.shape"
   ]
  },
  {
   "cell_type": "code",
   "execution_count": 6,
   "id": "64a5430f-db63-4d3d-b203-dd59e7360e6a",
   "metadata": {
    "tags": []
   },
   "outputs": [
    {
     "data": {
      "text/plain": [
       "245.89"
      ]
     },
     "execution_count": 6,
     "metadata": {},
     "output_type": "execute_result"
    }
   ],
   "source": [
    "adva_df.loc[8, 'Daily Internet Usage']"
   ]
  },
  {
   "cell_type": "code",
   "execution_count": 7,
   "id": "20b8cddc-c189-4629-90dc-45aedf34c97a",
   "metadata": {
    "tags": []
   },
   "outputs": [
    {
     "data": {
      "text/plain": [
       "245.89"
      ]
     },
     "execution_count": 7,
     "metadata": {},
     "output_type": "execute_result"
    }
   ],
   "source": [
    "adva_df.iloc[2, 1]"
   ]
  },
  {
   "cell_type": "code",
   "execution_count": 8,
   "id": "24303d8b-c86d-48f3-9113-c5cd0b781390",
   "metadata": {
    "tags": []
   },
   "outputs": [],
   "source": [
    "# Задание 3.\n",
    "# Загрузите таблицу из файла advertising_2.csv и сохраните её в датафрейм\n",
    "# adv2_df. Укажите в качестве индекса стоблец Number. Выведите на экран\n",
    "# строки для пользователей с номерами с 533-го по 536-й."
   ]
  },
  {
   "cell_type": "code",
   "execution_count": 13,
   "id": "ac406f86-9969-4996-8b06-1623925b85b6",
   "metadata": {
    "tags": []
   },
   "outputs": [
    {
     "data": {
      "text/html": [
       "<div>\n",
       "<style scoped>\n",
       "    .dataframe tbody tr th:only-of-type {\n",
       "        vertical-align: middle;\n",
       "    }\n",
       "\n",
       "    .dataframe tbody tr th {\n",
       "        vertical-align: top;\n",
       "    }\n",
       "\n",
       "    .dataframe thead th {\n",
       "        text-align: right;\n",
       "    }\n",
       "</style>\n",
       "<table border=\"1\" class=\"dataframe\">\n",
       "  <thead>\n",
       "    <tr style=\"text-align: right;\">\n",
       "      <th></th>\n",
       "      <th>Daily Time Spent on Site</th>\n",
       "      <th>Daily Internet Usage</th>\n",
       "      <th>Ad Topic Line</th>\n",
       "      <th>Clicked on Ad</th>\n",
       "    </tr>\n",
       "    <tr>\n",
       "      <th>Number</th>\n",
       "      <th></th>\n",
       "      <th></th>\n",
       "      <th></th>\n",
       "      <th></th>\n",
       "    </tr>\n",
       "  </thead>\n",
       "  <tbody>\n",
       "    <tr>\n",
       "      <th>530</th>\n",
       "      <td>NaN</td>\n",
       "      <td>165.27</td>\n",
       "      <td>Re-engineered impactful software</td>\n",
       "      <td>0</td>\n",
       "    </tr>\n",
       "    <tr>\n",
       "      <th>531</th>\n",
       "      <td>43.65</td>\n",
       "      <td>NaN</td>\n",
       "      <td>Business-focused background synergy</td>\n",
       "      <td>1</td>\n",
       "    </tr>\n",
       "    <tr>\n",
       "      <th>532</th>\n",
       "      <td>59.61</td>\n",
       "      <td>198.45</td>\n",
       "      <td>Future-proofed coherent budgetary management</td>\n",
       "      <td>0</td>\n",
       "    </tr>\n",
       "    <tr>\n",
       "      <th>533</th>\n",
       "      <td>46.61</td>\n",
       "      <td>NaN</td>\n",
       "      <td>Ergonomic methodical encoding</td>\n",
       "      <td>1</td>\n",
       "    </tr>\n",
       "    <tr>\n",
       "      <th>534</th>\n",
       "      <td>NaN</td>\n",
       "      <td>162.03</td>\n",
       "      <td>Compatible dedicated productivity</td>\n",
       "      <td>0</td>\n",
       "    </tr>\n",
       "  </tbody>\n",
       "</table>\n",
       "</div>"
      ],
      "text/plain": [
       "        Daily Time Spent on Site  Daily Internet Usage  \\\n",
       "Number                                                   \n",
       "530                          NaN                165.27   \n",
       "531                        43.65                   NaN   \n",
       "532                        59.61                198.45   \n",
       "533                        46.61                   NaN   \n",
       "534                          NaN                162.03   \n",
       "\n",
       "                                       Ad Topic Line  Clicked on Ad  \n",
       "Number                                                               \n",
       "530                 Re-engineered impactful software              0  \n",
       "531              Business-focused background synergy              1  \n",
       "532     Future-proofed coherent budgetary management              0  \n",
       "533                    Ergonomic methodical encoding              1  \n",
       "534                Compatible dedicated productivity              0  "
      ]
     },
     "execution_count": 13,
     "metadata": {},
     "output_type": "execute_result"
    }
   ],
   "source": [
    "adv2_df = pd.read_csv('hw/advertising_2.csv', index_col='Number')\n",
    "adv2_df.head()"
   ]
  },
  {
   "cell_type": "code",
   "execution_count": 11,
   "id": "23e1f788-f727-4b0b-9d55-8f7f60a68943",
   "metadata": {
    "tags": []
   },
   "outputs": [
    {
     "data": {
      "text/html": [
       "<div>\n",
       "<style scoped>\n",
       "    .dataframe tbody tr th:only-of-type {\n",
       "        vertical-align: middle;\n",
       "    }\n",
       "\n",
       "    .dataframe tbody tr th {\n",
       "        vertical-align: top;\n",
       "    }\n",
       "\n",
       "    .dataframe thead th {\n",
       "        text-align: right;\n",
       "    }\n",
       "</style>\n",
       "<table border=\"1\" class=\"dataframe\">\n",
       "  <thead>\n",
       "    <tr style=\"text-align: right;\">\n",
       "      <th></th>\n",
       "      <th>Daily Time Spent on Site</th>\n",
       "      <th>Daily Internet Usage</th>\n",
       "      <th>Ad Topic Line</th>\n",
       "      <th>Clicked on Ad</th>\n",
       "    </tr>\n",
       "    <tr>\n",
       "      <th>Number</th>\n",
       "      <th></th>\n",
       "      <th></th>\n",
       "      <th></th>\n",
       "      <th></th>\n",
       "    </tr>\n",
       "  </thead>\n",
       "  <tbody>\n",
       "    <tr>\n",
       "      <th>533</th>\n",
       "      <td>46.61</td>\n",
       "      <td>NaN</td>\n",
       "      <td>Ergonomic methodical encoding</td>\n",
       "      <td>1</td>\n",
       "    </tr>\n",
       "    <tr>\n",
       "      <th>534</th>\n",
       "      <td>NaN</td>\n",
       "      <td>162.03</td>\n",
       "      <td>Compatible dedicated productivity</td>\n",
       "      <td>0</td>\n",
       "    </tr>\n",
       "    <tr>\n",
       "      <th>535</th>\n",
       "      <td>65.10</td>\n",
       "      <td>118.10</td>\n",
       "      <td>Up-sized real-time methodology</td>\n",
       "      <td>1</td>\n",
       "    </tr>\n",
       "    <tr>\n",
       "      <th>536</th>\n",
       "      <td>53.44</td>\n",
       "      <td>NaN</td>\n",
       "      <td>Up-sized next generation architecture</td>\n",
       "      <td>1</td>\n",
       "    </tr>\n",
       "  </tbody>\n",
       "</table>\n",
       "</div>"
      ],
      "text/plain": [
       "        Daily Time Spent on Site  Daily Internet Usage  \\\n",
       "Number                                                   \n",
       "533                        46.61                   NaN   \n",
       "534                          NaN                162.03   \n",
       "535                        65.10                118.10   \n",
       "536                        53.44                   NaN   \n",
       "\n",
       "                                Ad Topic Line  Clicked on Ad  \n",
       "Number                                                        \n",
       "533             Ergonomic methodical encoding              1  \n",
       "534         Compatible dedicated productivity              0  \n",
       "535            Up-sized real-time methodology              1  \n",
       "536     Up-sized next generation architecture              1  "
      ]
     },
     "execution_count": 11,
     "metadata": {},
     "output_type": "execute_result"
    }
   ],
   "source": [
    "adv2_df.loc[533:536]"
   ]
  }
 ],
 "metadata": {
  "kernelspec": {
   "display_name": "Python 3 (ipykernel)",
   "language": "python",
   "name": "python3"
  },
  "language_info": {
   "codemirror_mode": {
    "name": "ipython",
    "version": 3
   },
   "file_extension": ".py",
   "mimetype": "text/x-python",
   "name": "python",
   "nbconvert_exporter": "python",
   "pygments_lexer": "ipython3",
   "version": "3.9.17"
  }
 },
 "nbformat": 4,
 "nbformat_minor": 5
}
