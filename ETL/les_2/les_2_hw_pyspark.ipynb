{
 "cells": [
  {
   "cell_type": "markdown",
   "id": "74c87137-3d75-4115-a495-80282e43d1db",
   "metadata": {},
   "source": [
    "# Урок 2. Введение в подготовку данных для аналитиков. Таблицы фактов и таблицы измерений\n",
    "\n",
    "1. Скачайте датасет fifаs2.сsv. Проанализируйте его и определите, какие данные являются неполными. Удалите\n",
    "ненужные колонки и недостающие значения.\n",
    "\n",
    "2. Найдите в датафрейме полные дубликаты и удалите их. Значения могут быть одинаковыми, но написаны по-разному. Например, может отличаться размер регистра (заглавные и строчные буквы). Особое внимание уделить колонке с названиями команд.\n",
    "\n",
    "3. Напишите функцию, которая добавит колонку с разбиением возраста по группам: до 20, от 20 до 30, от 30 до\n",
    "36 и старше 36. Посчитайте количество футболистов в каждой категории."
   ]
  },
  {
   "cell_type": "code",
   "execution_count": 1,
   "id": "c0033efe-6396-409f-b9fe-2dd4589165c4",
   "metadata": {
    "tags": []
   },
   "outputs": [],
   "source": [
    "import pyspark\n",
    "from pyspark import SparkContext, SparkConf\n",
    "from pyspark.sql import SparkSession\n",
    "import pyspark.sql.functions as F\n",
    "from pyspark.sql.functions import udf\n",
    "from pyspark.sql.types import StringType"
   ]
  },
  {
   "cell_type": "code",
   "execution_count": 2,
   "id": "f376495d-41f6-4949-82cc-9339543b6a14",
   "metadata": {
    "tags": []
   },
   "outputs": [
    {
     "name": "stderr",
     "output_type": "stream",
     "text": [
      "25/05/02 21:49:43 WARN Utils: Your hostname, ub-xeon-v1 resolves to a loopback address: 127.0.1.1; using 192.168.1.100 instead (on interface enp6s0)\n",
      "25/05/02 21:49:43 WARN Utils: Set SPARK_LOCAL_IP if you need to bind to another address\n",
      "Setting default log level to \"WARN\".\n",
      "To adjust logging level use sc.setLogLevel(newLevel). For SparkR, use setLogLevel(newLevel).\n",
      "25/05/02 21:49:44 WARN NativeCodeLoader: Unable to load native-hadoop library for your platform... using builtin-java classes where applicable\n",
      "25/05/02 21:49:45 WARN Utils: Service 'SparkUI' could not bind on port 4040. Attempting port 4041.\n"
     ]
    }
   ],
   "source": [
    "conf = SparkConf().setAppName('les_2_hw')\n",
    "sc = SparkContext(conf=conf)\n",
    "\n",
    "spark = SparkSession.builder.getOrCreate()\n",
    "\n",
    "csv_file_path = 'data/fifa_s2.csv' "
   ]
  },
  {
   "cell_type": "code",
   "execution_count": 19,
   "id": "523bd2c2-0c26-48b3-857d-1c3bbca6178b",
   "metadata": {
    "tags": []
   },
   "outputs": [],
   "source": [
    "df = spark.read.csv(csv_file_path, header=True, inferSchema=True)"
   ]
  },
  {
   "cell_type": "code",
   "execution_count": 4,
   "id": "7021ad31-03a5-4acc-ada4-7168cd1b4f62",
   "metadata": {
    "tags": []
   },
   "outputs": [
    {
     "name": "stdout",
     "output_type": "stream",
     "text": [
      "+----+---------+---+-----------+-------+---------+-------------------+-----+----+--------------+------------------------+-----------+--------+------+--------------------+-----------+------+--------------+\n",
      "|  ID|     Name|Age|Nationality|Overall|Potential|               Club|Value|Wage|Preferred Foot|International Reputation|Skill Moves|Position|Joined|Contract Valid Until|     Height|Weight|Release Clause|\n",
      "+----+---------+---+-----------+-------+---------+-------------------+-----+----+--------------+------------------------+-----------+--------+------+--------------------+-----------+------+--------------+\n",
      "|1179|G. Buffon| 40|      Italy|     88|       88|Paris Saint-Germain| 4000|  77|         Right|                       4|          1|      GK|  2018|          01/01/2019|6.333333333| 203.0|        7400.0|\n",
      "|5479| Casillas| 37|      Spain|     82|       82|           FC Porto| 1500|  10|          Left|                       4|          1|    NULL|  2015|          01/01/2019|6.083333333| 185.0|        3000.0|\n",
      "|8205|    Braga| 35|   Portugal|     70|       70|            CD Aves|  750|   5|         Right|                       1|          3|     LCM|  2017|          01/01/2019|5.916666667| 165.0|        1600.0|\n",
      "+----+---------+---+-----------+-------+---------+-------------------+-----+----+--------------+------------------------+-----------+--------+------+--------------------+-----------+------+--------------+\n",
      "only showing top 3 rows\n",
      "\n"
     ]
    }
   ],
   "source": [
    "df.show(3)"
   ]
  },
  {
   "cell_type": "code",
   "execution_count": 5,
   "id": "ee3fadbe-a2f9-44a7-8312-9a0c5ee772c1",
   "metadata": {
    "tags": []
   },
   "outputs": [
    {
     "data": {
      "text/plain": [
       "[('ID', 'int'),\n",
       " ('Name', 'string'),\n",
       " ('Age', 'int'),\n",
       " ('Nationality', 'string'),\n",
       " ('Overall', 'int'),\n",
       " ('Potential', 'int'),\n",
       " ('Club', 'string'),\n",
       " ('Value', 'int'),\n",
       " ('Wage', 'int'),\n",
       " ('Preferred Foot', 'string'),\n",
       " ('International Reputation', 'int'),\n",
       " ('Skill Moves', 'int'),\n",
       " ('Position', 'string'),\n",
       " ('Joined', 'int'),\n",
       " ('Contract Valid Until', 'string'),\n",
       " ('Height', 'double'),\n",
       " ('Weight', 'double'),\n",
       " ('Release Clause', 'double')]"
      ]
     },
     "execution_count": 5,
     "metadata": {},
     "output_type": "execute_result"
    }
   ],
   "source": [
    "df.dtypes"
   ]
  },
  {
   "cell_type": "code",
   "execution_count": 6,
   "id": "118173f0-c1c1-4f01-bccd-c768e2b9f717",
   "metadata": {
    "tags": []
   },
   "outputs": [
    {
     "name": "stdout",
     "output_type": "stream",
     "text": [
      "Nationality - 7 пропусков\n",
      "Club - 241 пропусков\n",
      "Value - 257 пропусков\n",
      "International Reputation - 10 пропусков\n",
      "Skill Moves - 6 пропусков\n",
      "Position - 21 пропусков\n",
      "Contract Valid Until - 273 пропусков\n",
      "Release Clause - 3 пропусков\n"
     ]
    }
   ],
   "source": [
    "data_col = []\n",
    "for col in df.columns:\n",
    "    num_col = df.filter(F.isnull(col)).count()\n",
    "    if num_col != 0:\n",
    "        data_col.append(col)\n",
    "        print(f'{col} - {df.filter(F.isnull(col)).count()} пропусков')"
   ]
  },
  {
   "cell_type": "code",
   "execution_count": 7,
   "id": "18dacfc0-fdbf-4fbc-bfbe-f131c0e61565",
   "metadata": {
    "tags": []
   },
   "outputs": [],
   "source": [
    "df_cleans = df"
   ]
  },
  {
   "cell_type": "code",
   "execution_count": 8,
   "id": "2c2a7fe3-94ca-41ec-9d85-e2ec76babe53",
   "metadata": {
    "tags": []
   },
   "outputs": [],
   "source": [
    "for col in data_col:\n",
    "    df_cleans = df_cleans.filter(df_cleans[col].isNotNull())"
   ]
  },
  {
   "cell_type": "code",
   "execution_count": 9,
   "id": "a9f6bd7e-169f-4a9c-a9de-d6ec0123eff8",
   "metadata": {
    "tags": []
   },
   "outputs": [
    {
     "name": "stdout",
     "output_type": "stream",
     "text": [
      "ID - 0 пропусков\n",
      "Name - 0 пропусков\n",
      "Age - 0 пропусков\n",
      "Nationality - 0 пропусков\n",
      "Overall - 0 пропусков\n",
      "Potential - 0 пропусков\n",
      "Club - 0 пропусков\n",
      "Value - 0 пропусков\n",
      "Wage - 0 пропусков\n",
      "Preferred Foot - 0 пропусков\n",
      "International Reputation - 0 пропусков\n",
      "Skill Moves - 0 пропусков\n",
      "Position - 0 пропусков\n",
      "Joined - 0 пропусков\n",
      "Contract Valid Until - 0 пропусков\n",
      "Height - 0 пропусков\n",
      "Weight - 0 пропусков\n",
      "Release Clause - 0 пропусков\n"
     ]
    }
   ],
   "source": [
    "for col in df_cleans.columns:\n",
    "    print(f'{col} - {df_cleans.filter(F.isnull(col)).count()} пропусков')"
   ]
  },
  {
   "cell_type": "code",
   "execution_count": 10,
   "id": "3e485792-4848-4acd-8a34-7f6d358cae40",
   "metadata": {
    "tags": []
   },
   "outputs": [
    {
     "data": {
      "text/plain": [
       "2075"
      ]
     },
     "execution_count": 10,
     "metadata": {},
     "output_type": "execute_result"
    }
   ],
   "source": [
    "df_cleans.count()"
   ]
  },
  {
   "cell_type": "code",
   "execution_count": 11,
   "id": "4b4d5988-8c7a-47f3-9a11-63c05faee14a",
   "metadata": {
    "tags": []
   },
   "outputs": [],
   "source": [
    "df_cleans = df_cleans.drop('ID')"
   ]
  },
  {
   "cell_type": "code",
   "execution_count": 12,
   "id": "eba58ec0-0cb5-4d18-ac14-7bce2847c79b",
   "metadata": {
    "tags": []
   },
   "outputs": [],
   "source": [
    "Age_Group = ['up to 20', 'from 20 to 30', 'from 30 to 36', 'over 36']"
   ]
  },
  {
   "cell_type": "code",
   "execution_count": 13,
   "id": "4605ffc5-b0e2-4f6f-b5b9-db04e5a238ea",
   "metadata": {
    "tags": []
   },
   "outputs": [],
   "source": [
    "def age_group(value: int) -> str:\n",
    "    if value < 20:\n",
    "        return Age_Group[0]\n",
    "    \n",
    "    elif (value > 20) & (value < 30):\n",
    "        return Age_Group[1]\n",
    "    \n",
    "    elif (value > 30) & (value < 36):\n",
    "        return Age_Group[2]\n",
    "    \n",
    "    else:\n",
    "        return Age_Group[3]"
   ]
  },
  {
   "cell_type": "code",
   "execution_count": 14,
   "id": "6ad880c6-3af2-4d7d-887a-0652c57fd747",
   "metadata": {
    "tags": []
   },
   "outputs": [],
   "source": [
    "my_udf = udf(lambda x: age_group(x), StringType())"
   ]
  },
  {
   "cell_type": "code",
   "execution_count": 15,
   "id": "732150db-6ccc-4185-b716-6e035915a421",
   "metadata": {
    "tags": []
   },
   "outputs": [],
   "source": [
    "df_cleans = df_cleans.withColumn('Age_Group', my_udf(df_cleans.Age))"
   ]
  },
  {
   "cell_type": "code",
   "execution_count": 20,
   "id": "ae61fc63-78be-49b5-9b5b-9ddc59425e18",
   "metadata": {
    "tags": []
   },
   "outputs": [
    {
     "name": "stdout",
     "output_type": "stream",
     "text": [
      "+-----------------+---+-------------+\n",
      "|             Name|Age|    Age_Group|\n",
      "+-----------------+---+-------------+\n",
      "|        G. Buffon| 40|      over 36|\n",
      "|            Braga| 35|from 30 to 36|\n",
      "|        A. Robben| 34|from 30 to 36|\n",
      "|        J. Ibehre| 35|from 30 to 36|\n",
      "|    Ricardo Costa| 37|      over 36|\n",
      "|Cristiano Ronaldo| 33|from 30 to 36|\n",
      "|      D. de Vries| 37|      over 36|\n",
      "|    S. von Bergen| 35|from 30 to 36|\n",
      "|     M. Rosenberg| 35|from 30 to 36|\n",
      "|         S. Proto| 35|from 30 to 36|\n",
      "|       M. Lehmann| 35|from 30 to 36|\n",
      "|        J. Murphy| 36|      over 36|\n",
      "|        C. Gordon| 35|from 30 to 36|\n",
      "|        A. Collin| 33|from 30 to 36|\n",
      "|         L. Grant| 35|from 30 to 36|\n",
      "|       S. Bywater| 37|      over 36|\n",
      "|         T. Berni| 35|from 30 to 36|\n",
      "|         R. Green| 38|      over 36|\n",
      "|        S. Padoin| 34|from 30 to 36|\n",
      "|  S. Lichtsteiner| 34|from 30 to 36|\n",
      "+-----------------+---+-------------+\n",
      "only showing top 20 rows\n",
      "\n"
     ]
    }
   ],
   "source": [
    "df_cleans.select('Name', 'Age', 'Age_Group').show()"
   ]
  },
  {
   "cell_type": "code",
   "execution_count": 17,
   "id": "68f38540-3e7d-4295-b9dc-338ab7a386b6",
   "metadata": {
    "tags": []
   },
   "outputs": [],
   "source": [
    "pivot_df = df_cleans.groupBy().pivot(\"Age_Group\").agg(F.count(\"Age_Group\"))"
   ]
  },
  {
   "cell_type": "code",
   "execution_count": 18,
   "id": "664f3f3d-8ad8-4a09-9c97-2645e689f7f5",
   "metadata": {
    "tags": []
   },
   "outputs": [
    {
     "name": "stdout",
     "output_type": "stream",
     "text": [
      "+-------------+-------------+-------+--------+\n",
      "|from 20 to 30|from 30 to 36|over 36|up to 20|\n",
      "+-------------+-------------+-------+--------+\n",
      "|         1285|          274|    254|     262|\n",
      "+-------------+-------------+-------+--------+\n",
      "\n"
     ]
    }
   ],
   "source": [
    "pivot_df.show()"
   ]
  }
 ],
 "metadata": {
  "kernelspec": {
   "display_name": "Python 3 (ipykernel)",
   "language": "python",
   "name": "python3"
  },
  "language_info": {
   "codemirror_mode": {
    "name": "ipython",
    "version": 3
   },
   "file_extension": ".py",
   "mimetype": "text/x-python",
   "name": "python",
   "nbconvert_exporter": "python",
   "pygments_lexer": "ipython3",
   "version": "3.9.17"
  }
 },
 "nbformat": 4,
 "nbformat_minor": 5
}
