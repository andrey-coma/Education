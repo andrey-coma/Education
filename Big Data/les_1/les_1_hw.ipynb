{
 "cells": [
  {
   "cell_type": "code",
   "execution_count": 1,
   "id": "dbb7c3b3-8ad2-41f4-b3eb-190dfb6be550",
   "metadata": {
    "tags": []
   },
   "outputs": [],
   "source": [
    "import json\n",
    "from functools import reduce\n",
    "from joblib import Parallel, delayed\n",
    "from pathlib import Path"
   ]
  },
  {
   "cell_type": "markdown",
   "id": "8561ed8e-0ebe-4140-91a2-b2841b3d8690",
   "metadata": {},
   "source": [
    "### Домашняя работа\n",
    "\n",
    "* Сделайте mapper и reducer, чтобы посчитать среднее и дисперсию оценок за фильм.\n",
    "* Реализация через цикл (предпогаем, что мы не знаем сколько у нас фильмов):"
   ]
  },
  {
   "cell_type": "code",
   "execution_count": 2,
   "id": "a058934e-2da9-467e-9cdc-5314e254f202",
   "metadata": {
    "tags": []
   },
   "outputs": [
    {
     "name": "stdout",
     "output_type": "stream",
     "text": [
      "8.03 1.0517128885774862\n"
     ]
    }
   ],
   "source": [
    "n, mean, M2 = 0, 0.0, 0\n",
    "for path in Path('data/archive/').glob('**/*'):\n",
    "    if path.is_file() and path.suffix == '.json':\n",
    "        with open(path, 'r') as f:\n",
    "            info = json.load(f)\n",
    "        score = float(info['movieIMDbRating'])\n",
    "        n += 1\n",
    "        delta = score - mean\n",
    "        mean += delta / n\n",
    "        M2 += delta * (score - mean)\n",
    "\n",
    "print(mean, (M2 / n) ** (1/2))"
   ]
  },
  {
   "cell_type": "code",
   "execution_count": 3,
   "id": "9196be5e-78cb-42d9-a019-87980931cb4c",
   "metadata": {
    "tags": []
   },
   "outputs": [],
   "source": [
    "def mapper(path):\n",
    "    if path.is_file() and path.suffix == '.json':\n",
    "        with open(path, 'r') as f:\n",
    "            info = json.load(f)\n",
    "    \n",
    "        return (float(info['movieIMDbRating']),)\n",
    "    \n",
    "\n",
    "def reducer(score_data1, score_data2):\n",
    "    if score_data1 is None and score_data2 is None:\n",
    "        return None\n",
    "    \n",
    "    elif score_data1 is None:\n",
    "        return score_data2\n",
    "    \n",
    "    elif score_data2 is None:\n",
    "        return score_data1\n",
    "    \n",
    "    else:\n",
    "        scores = []\n",
    "        if len(score_data1) == 1.0:\n",
    "            n, mean, M2 = 0, 0.0, 0\n",
    "            scores.append(score_data1[0])\n",
    "        else:\n",
    "            n, mean, M2 = score_data1\n",
    "        scores.append(score_data2[0])\n",
    "        \n",
    "        for score in scores:\n",
    "            n += 1\n",
    "            delta = score - mean\n",
    "            mean += delta / n\n",
    "            M2 += delta * (score - mean)\n",
    "            \n",
    "        return n, mean, M2"
   ]
  },
  {
   "cell_type": "code",
   "execution_count": 4,
   "id": "aa0ceb31-5bce-49a7-9f65-81dfa1f3af7b",
   "metadata": {
    "tags": []
   },
   "outputs": [
    {
     "name": "stdout",
     "output_type": "stream",
     "text": [
      "8.03 1.0517128885774862\n",
      "CPU times: user 3.04 ms, sys: 1.84 ms, total: 4.88 ms\n",
      "Wall time: 3.6 ms\n"
     ]
    }
   ],
   "source": [
    "%%time\n",
    "\n",
    "n, mean, M2 = reduce(reducer, map(mapper, Path('data/archive/').glob('**/*')))\n",
    "print(mean, (M2 / n) ** (1/2))"
   ]
  },
  {
   "cell_type": "code",
   "execution_count": 5,
   "id": "f3ede65a-425b-4e13-8f40-5fea3206dfe3",
   "metadata": {
    "tags": []
   },
   "outputs": [
    {
     "name": "stdout",
     "output_type": "stream",
     "text": [
      "8.030000000000113 1.0517128885774867\n",
      "CPU times: user 3.16 s, sys: 234 ms, total: 3.4 s\n",
      "Wall time: 3.74 s\n"
     ]
    }
   ],
   "source": [
    "%%time\n",
    "\n",
    "paths = list(Path('data/archive/').glob('**/*')) * 10_000\n",
    "\n",
    "n, mean, M2 = reduce(reducer, Parallel(n_jobs=16)(delayed(mapper)(path) for path in paths))\n",
    "print(mean, (M2 / n) ** (1/2))"
   ]
  }
 ],
 "metadata": {
  "kernelspec": {
   "display_name": "Python 3 (ipykernel)",
   "language": "python",
   "name": "python3"
  },
  "language_info": {
   "codemirror_mode": {
    "name": "ipython",
    "version": 3
   },
   "file_extension": ".py",
   "mimetype": "text/x-python",
   "name": "python",
   "nbconvert_exporter": "python",
   "pygments_lexer": "ipython3",
   "version": "3.9.17"
  }
 },
 "nbformat": 4,
 "nbformat_minor": 5
}
