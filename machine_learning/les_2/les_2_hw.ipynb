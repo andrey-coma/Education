{
 "cells": [
  {
   "cell_type": "code",
   "execution_count": 1,
   "id": "a2bfdf9f-1922-4b0d-a5d6-553a1a5a47cd",
   "metadata": {
    "tags": []
   },
   "outputs": [
    {
     "name": "stderr",
     "output_type": "stream",
     "text": [
      "/home/w_lander/anaconda3/envs/dowgrade/lib/python3.9/site-packages/pandas/core/arrays/masked.py:60: UserWarning: Pandas requires version '1.3.6' or newer of 'bottleneck' (version '1.3.5' currently installed).\n",
      "  from pandas.core import (\n"
     ]
    }
   ],
   "source": [
    "import pandas as pd\n",
    "import numpy as np\n",
    "import matplotlib.pyplot as plt\n",
    "import seaborn as sns\n",
    "from matplotlib.colors import ListedColormap\n",
    "\n",
    "from sklearn.metrics import (mean_absolute_error, r2_score, mean_squared_error)\n",
    "\n",
    "from sklearn.linear_model import LinearRegression\n",
    "\n",
    "from sklearn.model_selection import train_test_split\n",
    "\n",
    "from sklearn.preprocessing import StandardScaler"
   ]
  },
  {
   "cell_type": "code",
   "execution_count": 2,
   "id": "e7fa5f5e-f815-424c-a6bc-51709df29e7c",
   "metadata": {
    "tags": []
   },
   "outputs": [
    {
     "data": {
      "text/html": [
       "<div>\n",
       "<style scoped>\n",
       "    .dataframe tbody tr th:only-of-type {\n",
       "        vertical-align: middle;\n",
       "    }\n",
       "\n",
       "    .dataframe tbody tr th {\n",
       "        vertical-align: top;\n",
       "    }\n",
       "\n",
       "    .dataframe thead th {\n",
       "        text-align: right;\n",
       "    }\n",
       "</style>\n",
       "<table border=\"1\" class=\"dataframe\">\n",
       "  <thead>\n",
       "    <tr style=\"text-align: right;\">\n",
       "      <th></th>\n",
       "      <th>SalePrice</th>\n",
       "      <th>GrLivArea</th>\n",
       "      <th>GarageArea</th>\n",
       "      <th>OverallQual</th>\n",
       "      <th>Street</th>\n",
       "      <th>SaleCondition</th>\n",
       "    </tr>\n",
       "  </thead>\n",
       "  <tbody>\n",
       "    <tr>\n",
       "      <th>0</th>\n",
       "      <td>208500</td>\n",
       "      <td>1710</td>\n",
       "      <td>548</td>\n",
       "      <td>7</td>\n",
       "      <td>Pave</td>\n",
       "      <td>Normal</td>\n",
       "    </tr>\n",
       "    <tr>\n",
       "      <th>1</th>\n",
       "      <td>181500</td>\n",
       "      <td>1262</td>\n",
       "      <td>460</td>\n",
       "      <td>6</td>\n",
       "      <td>Pave</td>\n",
       "      <td>Normal</td>\n",
       "    </tr>\n",
       "    <tr>\n",
       "      <th>2</th>\n",
       "      <td>223500</td>\n",
       "      <td>1786</td>\n",
       "      <td>608</td>\n",
       "      <td>7</td>\n",
       "      <td>Pave</td>\n",
       "      <td>Normal</td>\n",
       "    </tr>\n",
       "    <tr>\n",
       "      <th>3</th>\n",
       "      <td>140000</td>\n",
       "      <td>1717</td>\n",
       "      <td>642</td>\n",
       "      <td>7</td>\n",
       "      <td>Pave</td>\n",
       "      <td>Abnorml</td>\n",
       "    </tr>\n",
       "    <tr>\n",
       "      <th>4</th>\n",
       "      <td>250000</td>\n",
       "      <td>2198</td>\n",
       "      <td>836</td>\n",
       "      <td>8</td>\n",
       "      <td>Pave</td>\n",
       "      <td>Normal</td>\n",
       "    </tr>\n",
       "  </tbody>\n",
       "</table>\n",
       "</div>"
      ],
      "text/plain": [
       "   SalePrice  GrLivArea  GarageArea  OverallQual Street SaleCondition\n",
       "0     208500       1710         548            7   Pave        Normal\n",
       "1     181500       1262         460            6   Pave        Normal\n",
       "2     223500       1786         608            7   Pave        Normal\n",
       "3     140000       1717         642            7   Pave       Abnorml\n",
       "4     250000       2198         836            8   Pave        Normal"
      ]
     },
     "execution_count": 2,
     "metadata": {},
     "output_type": "execute_result"
    }
   ],
   "source": [
    "df = pd.read_csv('data/sales.csv')\n",
    "df.head()"
   ]
  },
  {
   "cell_type": "markdown",
   "id": "38070eed-a2bc-4dcc-b5d0-21a42da6e332",
   "metadata": {},
   "source": [
    "### Урок 2. Регрессия на практике"
   ]
  },
  {
   "cell_type": "markdown",
   "id": "ad01785c-014c-4783-be68-4acee803dc8c",
   "metadata": {},
   "source": [
    "### Пусть у нас имеется некоторый набор данных sales.csv о продажах квартир.\n",
    "* цена продажи (SalePrice, зависимая переменная),\n",
    "* наземная жилая зона (GrLivArea),\n",
    "* общее качество (Overall Quality),\n",
    "* территория гаража (GarageArea),\n",
    "* условия сделки (SaleCondition).\n",
    "* Реализуйте построение модели линейной регрессии на этих данных. Проверьте качество модели на обучающей и тестовой выборках с помощью MAE, MSE."
   ]
  },
  {
   "cell_type": "code",
   "execution_count": 3,
   "id": "25a2c067-fec5-441d-9adb-39b4d6a1baef",
   "metadata": {
    "tags": []
   },
   "outputs": [
    {
     "data": {
      "text/plain": [
       "Street\n",
       "Pave    1454\n",
       "Grvl       6\n",
       "Name: count, dtype: int64"
      ]
     },
     "execution_count": 3,
     "metadata": {},
     "output_type": "execute_result"
    }
   ],
   "source": [
    "df['Street'].value_counts()"
   ]
  },
  {
   "cell_type": "code",
   "execution_count": 4,
   "id": "66637fad-4602-44e2-a3e3-64abeb8cbf04",
   "metadata": {
    "tags": []
   },
   "outputs": [
    {
     "data": {
      "text/plain": [
       "SaleCondition\n",
       "Normal     1198\n",
       "Partial     125\n",
       "Abnorml     101\n",
       "Family       20\n",
       "Alloca       12\n",
       "AdjLand       4\n",
       "Name: count, dtype: int64"
      ]
     },
     "execution_count": 4,
     "metadata": {},
     "output_type": "execute_result"
    }
   ],
   "source": [
    "df['SaleCondition'].value_counts()"
   ]
  },
  {
   "cell_type": "code",
   "execution_count": 5,
   "id": "84e614cd-388d-4fc6-ad0f-3acf6ec30191",
   "metadata": {
    "tags": []
   },
   "outputs": [],
   "source": [
    "# обработаем категориальные признаки 'Street', 'SaleCondition'\n",
    "for col in df[['Street', 'SaleCondition']]:\n",
    "    df = pd.concat([df, pd.get_dummies(df[col], prefix=col)], axis=1)"
   ]
  },
  {
   "cell_type": "code",
   "execution_count": 6,
   "id": "fae3aeba-8616-482e-88dc-5029f40f5839",
   "metadata": {
    "tags": []
   },
   "outputs": [
    {
     "data": {
      "text/html": [
       "<div>\n",
       "<style scoped>\n",
       "    .dataframe tbody tr th:only-of-type {\n",
       "        vertical-align: middle;\n",
       "    }\n",
       "\n",
       "    .dataframe tbody tr th {\n",
       "        vertical-align: top;\n",
       "    }\n",
       "\n",
       "    .dataframe thead th {\n",
       "        text-align: right;\n",
       "    }\n",
       "</style>\n",
       "<table border=\"1\" class=\"dataframe\">\n",
       "  <thead>\n",
       "    <tr style=\"text-align: right;\">\n",
       "      <th></th>\n",
       "      <th>SalePrice</th>\n",
       "      <th>GrLivArea</th>\n",
       "      <th>GarageArea</th>\n",
       "      <th>OverallQual</th>\n",
       "      <th>Street</th>\n",
       "      <th>SaleCondition</th>\n",
       "      <th>Street_Grvl</th>\n",
       "      <th>Street_Pave</th>\n",
       "      <th>SaleCondition_Abnorml</th>\n",
       "      <th>SaleCondition_AdjLand</th>\n",
       "      <th>SaleCondition_Alloca</th>\n",
       "      <th>SaleCondition_Family</th>\n",
       "      <th>SaleCondition_Normal</th>\n",
       "      <th>SaleCondition_Partial</th>\n",
       "    </tr>\n",
       "  </thead>\n",
       "  <tbody>\n",
       "    <tr>\n",
       "      <th>0</th>\n",
       "      <td>208500</td>\n",
       "      <td>1710</td>\n",
       "      <td>548</td>\n",
       "      <td>7</td>\n",
       "      <td>Pave</td>\n",
       "      <td>Normal</td>\n",
       "      <td>False</td>\n",
       "      <td>True</td>\n",
       "      <td>False</td>\n",
       "      <td>False</td>\n",
       "      <td>False</td>\n",
       "      <td>False</td>\n",
       "      <td>True</td>\n",
       "      <td>False</td>\n",
       "    </tr>\n",
       "    <tr>\n",
       "      <th>1</th>\n",
       "      <td>181500</td>\n",
       "      <td>1262</td>\n",
       "      <td>460</td>\n",
       "      <td>6</td>\n",
       "      <td>Pave</td>\n",
       "      <td>Normal</td>\n",
       "      <td>False</td>\n",
       "      <td>True</td>\n",
       "      <td>False</td>\n",
       "      <td>False</td>\n",
       "      <td>False</td>\n",
       "      <td>False</td>\n",
       "      <td>True</td>\n",
       "      <td>False</td>\n",
       "    </tr>\n",
       "    <tr>\n",
       "      <th>2</th>\n",
       "      <td>223500</td>\n",
       "      <td>1786</td>\n",
       "      <td>608</td>\n",
       "      <td>7</td>\n",
       "      <td>Pave</td>\n",
       "      <td>Normal</td>\n",
       "      <td>False</td>\n",
       "      <td>True</td>\n",
       "      <td>False</td>\n",
       "      <td>False</td>\n",
       "      <td>False</td>\n",
       "      <td>False</td>\n",
       "      <td>True</td>\n",
       "      <td>False</td>\n",
       "    </tr>\n",
       "    <tr>\n",
       "      <th>3</th>\n",
       "      <td>140000</td>\n",
       "      <td>1717</td>\n",
       "      <td>642</td>\n",
       "      <td>7</td>\n",
       "      <td>Pave</td>\n",
       "      <td>Abnorml</td>\n",
       "      <td>False</td>\n",
       "      <td>True</td>\n",
       "      <td>True</td>\n",
       "      <td>False</td>\n",
       "      <td>False</td>\n",
       "      <td>False</td>\n",
       "      <td>False</td>\n",
       "      <td>False</td>\n",
       "    </tr>\n",
       "    <tr>\n",
       "      <th>4</th>\n",
       "      <td>250000</td>\n",
       "      <td>2198</td>\n",
       "      <td>836</td>\n",
       "      <td>8</td>\n",
       "      <td>Pave</td>\n",
       "      <td>Normal</td>\n",
       "      <td>False</td>\n",
       "      <td>True</td>\n",
       "      <td>False</td>\n",
       "      <td>False</td>\n",
       "      <td>False</td>\n",
       "      <td>False</td>\n",
       "      <td>True</td>\n",
       "      <td>False</td>\n",
       "    </tr>\n",
       "  </tbody>\n",
       "</table>\n",
       "</div>"
      ],
      "text/plain": [
       "   SalePrice  GrLivArea  GarageArea  OverallQual Street SaleCondition  \\\n",
       "0     208500       1710         548            7   Pave        Normal   \n",
       "1     181500       1262         460            6   Pave        Normal   \n",
       "2     223500       1786         608            7   Pave        Normal   \n",
       "3     140000       1717         642            7   Pave       Abnorml   \n",
       "4     250000       2198         836            8   Pave        Normal   \n",
       "\n",
       "   Street_Grvl  Street_Pave  SaleCondition_Abnorml  SaleCondition_AdjLand  \\\n",
       "0        False         True                  False                  False   \n",
       "1        False         True                  False                  False   \n",
       "2        False         True                  False                  False   \n",
       "3        False         True                   True                  False   \n",
       "4        False         True                  False                  False   \n",
       "\n",
       "   SaleCondition_Alloca  SaleCondition_Family  SaleCondition_Normal  \\\n",
       "0                 False                 False                  True   \n",
       "1                 False                 False                  True   \n",
       "2                 False                 False                  True   \n",
       "3                 False                 False                 False   \n",
       "4                 False                 False                  True   \n",
       "\n",
       "   SaleCondition_Partial  \n",
       "0                  False  \n",
       "1                  False  \n",
       "2                  False  \n",
       "3                  False  \n",
       "4                  False  "
      ]
     },
     "execution_count": 6,
     "metadata": {},
     "output_type": "execute_result"
    }
   ],
   "source": [
    "df.head()"
   ]
  },
  {
   "cell_type": "markdown",
   "id": "7f261f98-6ee0-4a59-9b72-4c084563be30",
   "metadata": {
    "tags": []
   },
   "source": [
    "### Построение модели"
   ]
  },
  {
   "cell_type": "code",
   "execution_count": 7,
   "id": "7db01ce5-c5c0-4346-9362-9086b631fc07",
   "metadata": {
    "tags": []
   },
   "outputs": [],
   "source": [
    "select_features = df.drop(['Street', 'SaleCondition'], axis=1)\n",
    "features_scaled = StandardScaler().fit_transform(select_features)"
   ]
  },
  {
   "cell_type": "code",
   "execution_count": 8,
   "id": "97b8ac17-6ef9-4ef3-bd23-9380d6e5dfc5",
   "metadata": {
    "tags": []
   },
   "outputs": [],
   "source": [
    "df_sales = pd.DataFrame(features_scaled, columns=select_features.columns)"
   ]
  },
  {
   "cell_type": "code",
   "execution_count": 9,
   "id": "bdab3cb7-9862-4e01-b294-c20fb864b32f",
   "metadata": {
    "tags": []
   },
   "outputs": [
    {
     "data": {
      "text/html": [
       "<div>\n",
       "<style scoped>\n",
       "    .dataframe tbody tr th:only-of-type {\n",
       "        vertical-align: middle;\n",
       "    }\n",
       "\n",
       "    .dataframe tbody tr th {\n",
       "        vertical-align: top;\n",
       "    }\n",
       "\n",
       "    .dataframe thead th {\n",
       "        text-align: right;\n",
       "    }\n",
       "</style>\n",
       "<table border=\"1\" class=\"dataframe\">\n",
       "  <thead>\n",
       "    <tr style=\"text-align: right;\">\n",
       "      <th></th>\n",
       "      <th>SalePrice</th>\n",
       "      <th>GrLivArea</th>\n",
       "      <th>GarageArea</th>\n",
       "      <th>OverallQual</th>\n",
       "      <th>Street_Grvl</th>\n",
       "      <th>Street_Pave</th>\n",
       "      <th>SaleCondition_Abnorml</th>\n",
       "      <th>SaleCondition_AdjLand</th>\n",
       "      <th>SaleCondition_Alloca</th>\n",
       "      <th>SaleCondition_Family</th>\n",
       "      <th>SaleCondition_Normal</th>\n",
       "      <th>SaleCondition_Partial</th>\n",
       "    </tr>\n",
       "  </thead>\n",
       "  <tbody>\n",
       "    <tr>\n",
       "      <th>0</th>\n",
       "      <td>0.347273</td>\n",
       "      <td>0.370333</td>\n",
       "      <td>0.351000</td>\n",
       "      <td>0.651479</td>\n",
       "      <td>-0.064238</td>\n",
       "      <td>0.064238</td>\n",
       "      <td>-0.272616</td>\n",
       "      <td>-0.052414</td>\n",
       "      <td>-0.091035</td>\n",
       "      <td>-0.117851</td>\n",
       "      <td>0.467651</td>\n",
       "      <td>-0.305995</td>\n",
       "    </tr>\n",
       "    <tr>\n",
       "      <th>1</th>\n",
       "      <td>0.007288</td>\n",
       "      <td>-0.482512</td>\n",
       "      <td>-0.060731</td>\n",
       "      <td>-0.071836</td>\n",
       "      <td>-0.064238</td>\n",
       "      <td>0.064238</td>\n",
       "      <td>-0.272616</td>\n",
       "      <td>-0.052414</td>\n",
       "      <td>-0.091035</td>\n",
       "      <td>-0.117851</td>\n",
       "      <td>0.467651</td>\n",
       "      <td>-0.305995</td>\n",
       "    </tr>\n",
       "    <tr>\n",
       "      <th>2</th>\n",
       "      <td>0.536154</td>\n",
       "      <td>0.515013</td>\n",
       "      <td>0.631726</td>\n",
       "      <td>0.651479</td>\n",
       "      <td>-0.064238</td>\n",
       "      <td>0.064238</td>\n",
       "      <td>-0.272616</td>\n",
       "      <td>-0.052414</td>\n",
       "      <td>-0.091035</td>\n",
       "      <td>-0.117851</td>\n",
       "      <td>0.467651</td>\n",
       "      <td>-0.305995</td>\n",
       "    </tr>\n",
       "    <tr>\n",
       "      <th>3</th>\n",
       "      <td>-0.515281</td>\n",
       "      <td>0.383659</td>\n",
       "      <td>0.790804</td>\n",
       "      <td>0.651479</td>\n",
       "      <td>-0.064238</td>\n",
       "      <td>0.064238</td>\n",
       "      <td>3.668167</td>\n",
       "      <td>-0.052414</td>\n",
       "      <td>-0.091035</td>\n",
       "      <td>-0.117851</td>\n",
       "      <td>-2.138345</td>\n",
       "      <td>-0.305995</td>\n",
       "    </tr>\n",
       "    <tr>\n",
       "      <th>4</th>\n",
       "      <td>0.869843</td>\n",
       "      <td>1.299326</td>\n",
       "      <td>1.698485</td>\n",
       "      <td>1.374795</td>\n",
       "      <td>-0.064238</td>\n",
       "      <td>0.064238</td>\n",
       "      <td>-0.272616</td>\n",
       "      <td>-0.052414</td>\n",
       "      <td>-0.091035</td>\n",
       "      <td>-0.117851</td>\n",
       "      <td>0.467651</td>\n",
       "      <td>-0.305995</td>\n",
       "    </tr>\n",
       "  </tbody>\n",
       "</table>\n",
       "</div>"
      ],
      "text/plain": [
       "   SalePrice  GrLivArea  GarageArea  OverallQual  Street_Grvl  Street_Pave  \\\n",
       "0   0.347273   0.370333    0.351000     0.651479    -0.064238     0.064238   \n",
       "1   0.007288  -0.482512   -0.060731    -0.071836    -0.064238     0.064238   \n",
       "2   0.536154   0.515013    0.631726     0.651479    -0.064238     0.064238   \n",
       "3  -0.515281   0.383659    0.790804     0.651479    -0.064238     0.064238   \n",
       "4   0.869843   1.299326    1.698485     1.374795    -0.064238     0.064238   \n",
       "\n",
       "   SaleCondition_Abnorml  SaleCondition_AdjLand  SaleCondition_Alloca  \\\n",
       "0              -0.272616              -0.052414             -0.091035   \n",
       "1              -0.272616              -0.052414             -0.091035   \n",
       "2              -0.272616              -0.052414             -0.091035   \n",
       "3               3.668167              -0.052414             -0.091035   \n",
       "4              -0.272616              -0.052414             -0.091035   \n",
       "\n",
       "   SaleCondition_Family  SaleCondition_Normal  SaleCondition_Partial  \n",
       "0             -0.117851              0.467651              -0.305995  \n",
       "1             -0.117851              0.467651              -0.305995  \n",
       "2             -0.117851              0.467651              -0.305995  \n",
       "3             -0.117851             -2.138345              -0.305995  \n",
       "4             -0.117851              0.467651              -0.305995  "
      ]
     },
     "execution_count": 9,
     "metadata": {},
     "output_type": "execute_result"
    }
   ],
   "source": [
    "df_sales.head()"
   ]
  },
  {
   "cell_type": "code",
   "execution_count": 10,
   "id": "909f818c-a36e-4322-ada9-8a43939c662a",
   "metadata": {},
   "outputs": [],
   "source": [
    "X = df_sales.drop(['SalePrice'], axis=1)\n",
    "Y = df_sales['SalePrice']\n",
    "\n",
    "X_train, X_test, y_train, y_test = train_test_split(X, Y, test_size=0.2, random_state=42)"
   ]
  },
  {
   "cell_type": "code",
   "execution_count": 11,
   "id": "0c907631-6e6b-47d1-9010-97e6feb5c45c",
   "metadata": {
    "tags": []
   },
   "outputs": [
    {
     "name": "stdout",
     "output_type": "stream",
     "text": [
      "TRAIN\n",
      "MSE: 0.24579056495437268\n",
      "MAE: 0.32966233268212247\n",
      "R2: 0.7401062895372108\n"
     ]
    }
   ],
   "source": [
    "model_lr = LinearRegression().fit(X_train, y_train)\n",
    "\n",
    "train_pred = model_lr.predict(X_train)\n",
    "\n",
    "print('TRAIN')\n",
    "print(f'MSE: {mean_squared_error(y_train, train_pred)}')\n",
    "print(f'MAE: {mean_absolute_error(y_train, train_pred)}')\n",
    "print(f'R2: {r2_score(y_train, train_pred)}')"
   ]
  },
  {
   "cell_type": "code",
   "execution_count": 12,
   "id": "469a1667-27cd-45e5-b20f-2b1dd5570b68",
   "metadata": {
    "tags": []
   },
   "outputs": [
    {
     "name": "stdout",
     "output_type": "stream",
     "text": [
      "TEST\n",
      "MSE: 0.2799408084781353\n",
      "MAE: 0.3432518297232531\n",
      "R2: 0.7698236753178695\n"
     ]
    }
   ],
   "source": [
    "test_pred = model_lr.predict(X_test)\n",
    "\n",
    "print('TEST')\n",
    "print(f'MSE: {mean_squared_error(y_test, test_pred)}')\n",
    "print(f'MAE: {mean_absolute_error(y_test, test_pred)}')\n",
    "print(f'R2: {r2_score(y_test, test_pred)}')"
   ]
  }
 ],
 "metadata": {
  "kernelspec": {
   "display_name": "Python 3 (ipykernel)",
   "language": "python",
   "name": "python3"
  },
  "language_info": {
   "codemirror_mode": {
    "name": "ipython",
    "version": 3
   },
   "file_extension": ".py",
   "mimetype": "text/x-python",
   "name": "python",
   "nbconvert_exporter": "python",
   "pygments_lexer": "ipython3",
   "version": "3.9.17"
  }
 },
 "nbformat": 4,
 "nbformat_minor": 5
}
