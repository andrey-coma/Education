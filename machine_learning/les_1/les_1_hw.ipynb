{
 "cells": [
  {
   "cell_type": "code",
   "execution_count": 1,
   "id": "aca2c547-2dbb-40ac-afba-1134f29566a2",
   "metadata": {
    "tags": []
   },
   "outputs": [
    {
     "name": "stderr",
     "output_type": "stream",
     "text": [
      "/home/w_lander/anaconda3/envs/dowgrade/lib/python3.9/site-packages/pandas/core/arrays/masked.py:60: UserWarning: Pandas requires version '1.3.6' or newer of 'bottleneck' (version '1.3.5' currently installed).\n",
      "  from pandas.core import (\n"
     ]
    }
   ],
   "source": [
    "import pandas as pd\n",
    "import numpy as np\n",
    "import matplotlib.pyplot as plt\n",
    "import seaborn as sns\n",
    "from matplotlib.colors import ListedColormap\n",
    "\n",
    "from sklearn.metrics import (mean_absolute_error, r2_score, mean_squared_error)"
   ]
  },
  {
   "cell_type": "markdown",
   "id": "3e78831d-f4a6-4178-b537-3a596ae30a85",
   "metadata": {},
   "source": [
    "Урок 1. Функция потерь. Загрузка датасетов\n",
    "\n",
    "Вам дан набор данных с фактическими значениями целевой переменной и предсказанными значениями:\n",
    "\n",
    "Фактические значения\n",
    "\n",
    "\n",
    "actual_values = np.array([100, 150, 200, 250])\n",
    "\n",
    "Предсказанные значения\n",
    "\n",
    "\n",
    "predicted_values = np.array([90, 140, 180, 270])\n",
    "\n",
    "Задача студентов состоит в расчете среднеквадратичной ошибки (MSE) и средней абсолютной ошибки (MAE) для данного набора данных без использования модели. Студенты должны использовать правильные значения фактической переменной и предсказанные значения для расчета функций потерь. Они также должны проанализировать результаты и объяснить, какие значения функции потерь указывают на лучшую точность предсказания.\n"
   ]
  },
  {
   "cell_type": "code",
   "execution_count": 2,
   "id": "b666aa57-21cc-4c12-b3bf-6459b82f68e5",
   "metadata": {
    "tags": []
   },
   "outputs": [],
   "source": [
    "actual_values = np.array([100, 150, 200, 250])\n",
    "pred_values = np.array([90, 140, 180, 270])"
   ]
  },
  {
   "cell_type": "code",
   "execution_count": 23,
   "id": "d5daf14a-9faa-411c-abfd-f2fae52c4862",
   "metadata": {
    "tags": []
   },
   "outputs": [
    {
     "name": "stdout",
     "output_type": "stream",
     "text": [
      "MSE: 250.0\n",
      "MAE: 60\n"
     ]
    }
   ],
   "source": [
    "print(f'MSE: {np.mean((actual_values - pred_values) ** 2)}')\n",
    "print(f'MAE: {np.sum(np.abs(actual_values - pred_values))}')\n"
   ]
  },
  {
   "cell_type": "code",
   "execution_count": 5,
   "id": "2b879bf2-0730-4989-ad3b-3369844749fa",
   "metadata": {
    "tags": []
   },
   "outputs": [
    {
     "name": "stdout",
     "output_type": "stream",
     "text": [
      "MSE: 250.0\n",
      "MAE: 15.0\n",
      "R2_score: 0.943\n"
     ]
    }
   ],
   "source": [
    "print(f'MSE: {mean_squared_error(pred_values, actual_values)}')\n",
    "print(f'MAE: {mean_absolute_error(pred_values, actual_values)}')\n",
    "print(f'R2_score: {round(r2_score(pred_values, actual_values), 3)}')"
   ]
  },
  {
   "cell_type": "code",
   "execution_count": null,
   "id": "db7671ae-8bfc-4556-8325-3c9d78a1d23e",
   "metadata": {},
   "outputs": [],
   "source": []
  }
 ],
 "metadata": {
  "kernelspec": {
   "display_name": "Python 3 (ipykernel)",
   "language": "python",
   "name": "python3"
  },
  "language_info": {
   "codemirror_mode": {
    "name": "ipython",
    "version": 3
   },
   "file_extension": ".py",
   "mimetype": "text/x-python",
   "name": "python",
   "nbconvert_exporter": "python",
   "pygments_lexer": "ipython3",
   "version": "3.9.17"
  }
 },
 "nbformat": 4,
 "nbformat_minor": 5
}
