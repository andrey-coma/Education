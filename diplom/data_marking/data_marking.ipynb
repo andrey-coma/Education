{
 "cells": [
  {
   "cell_type": "markdown",
   "id": "3ed78146-2378-42f1-b16c-cdb7f0eee328",
   "metadata": {},
   "source": [
    "### Разметка данных датафрейма `ВкусВилл`"
   ]
  },
  {
   "cell_type": "code",
   "execution_count": 1,
   "id": "2bdc145a-2fae-4d36-a625-bb6bd22ad771",
   "metadata": {},
   "outputs": [],
   "source": [
    "import pandas as pd\n",
    "from transformers import pipeline"
   ]
  },
  {
   "cell_type": "markdown",
   "id": "8076732a-e23d-4b4c-b8eb-174888c5bf05",
   "metadata": {},
   "source": [
    "#### Пояснения по библиотеке Transformers \n",
    "\n",
    "`Введение в библиотеку Transformers и платформу Hugging Face`\n",
    "\n",
    "Платформа Hugging Face это коллекция готовых современных предварительно обученных Deep Learning моделей. А библиотека Transformers предоставляет инструменты и интерфейсы для их простой загрузки и использования. Это позволяет вам экономить время и ресурсы, необходимые для обучения моделей с нуля.\n",
    "\n",
    "* https://habr.com/ru/articles/704592/\n",
    "* https://huggingface.co/\n"
   ]
  },
  {
   "cell_type": "code",
   "execution_count": 2,
   "id": "59056145-a5c5-4525-b292-29c2753af567",
   "metadata": {},
   "outputs": [],
   "source": [
    "# Загрузка датафрейма\n",
    "df_vv = pd.read_csv('../pars/data/vkus_vils_products.csv')"
   ]
  },
  {
   "cell_type": "code",
   "execution_count": 3,
   "id": "8b543023-fc6c-46c3-86d3-126341bce917",
   "metadata": {},
   "outputs": [],
   "source": [
    "# Создадим копию датафрейма\n",
    "df = df_vv.copy()"
   ]
  },
  {
   "cell_type": "code",
   "execution_count": 4,
   "id": "a5383324-d5c4-4ae8-aad7-def0a6f46755",
   "metadata": {},
   "outputs": [
    {
     "name": "stderr",
     "output_type": "stream",
     "text": [
      "Xformers is not installed correctly. If you want to use memorry_efficient_attention to accelerate training use the following command to install Xformers\n",
      "pip install xformers.\n"
     ]
    }
   ],
   "source": [
    "# Модель RuBERT-tiny2, адаптированная для классификации коротких текстов на русском языке по тональности. \n",
    "model = pipeline(model=\"seara/rubert-tiny2-russian-sentiment\")"
   ]
  },
  {
   "cell_type": "code",
   "execution_count": 5,
   "id": "757883e7-2bcc-4a97-be4c-a48f28980176",
   "metadata": {},
   "outputs": [
    {
     "data": {
      "text/plain": [
       "Index(['author', 'comment', 'date', 'url', 'product', 'stars', 'price',\n",
       "       'currency', 'weight'],\n",
       "      dtype='object')"
      ]
     },
     "execution_count": 5,
     "metadata": {},
     "output_type": "execute_result"
    }
   ],
   "source": [
    "df.columns"
   ]
  },
  {
   "cell_type": "markdown",
   "id": "e2b114af-a1f1-4c6f-9d61-01fcd2e36457",
   "metadata": {},
   "source": [
    "### Сведения о датафрейме ВкусВилл\n",
    "ВкусВилл — интернет-магазин продуктов для здорового питания https://vkusvill.ru/\n",
    "\n",
    "Датафрейм был собран с использованием библиотеки Selenium\n",
    "\n",
    "- `author`  -  Автор отзыва;\n",
    "- `comment` -  Отзыв о покупке\n",
    "- `date`    -  Дата покупки и номер дисконтной карты\n",
    "- `url`     -  Веб адрес продукта (товара)\n",
    "- `product` -  Инфо о продутке (название)\n",
    "- `category`-  Категоря товара\n",
    "- `stars`   -  Количество звезд оставленный покупателем\n",
    "- `price`   -  Стоимость товара на момент покупки\n",
    "- `currency`-  Валюта\n",
    "- `weight`  - Единица измерения товара \n",
    "\n",
    "Данные не содержат целевой переменной\n",
    "\n",
    "Пропусков и выбросов нет"
   ]
  },
  {
   "cell_type": "code",
   "execution_count": 6,
   "id": "1e0753d0-70fb-46ab-8485-b183cbb59373",
   "metadata": {},
   "outputs": [
    {
     "name": "stdout",
     "output_type": "stream",
     "text": [
      "<class 'pandas.core.frame.DataFrame'>\n",
      "RangeIndex: 4395 entries, 0 to 4394\n",
      "Data columns (total 9 columns):\n",
      " #   Column    Non-Null Count  Dtype \n",
      "---  ------    --------------  ----- \n",
      " 0   author    4395 non-null   object\n",
      " 1   comment   4395 non-null   object\n",
      " 2   date      4395 non-null   object\n",
      " 3   url       4395 non-null   object\n",
      " 4   product   4395 non-null   object\n",
      " 5   stars     4395 non-null   int64 \n",
      " 6   price     4395 non-null   int64 \n",
      " 7   currency  4395 non-null   object\n",
      " 8   weight    4395 non-null   object\n",
      "dtypes: int64(2), object(7)\n",
      "memory usage: 309.1+ KB\n"
     ]
    }
   ],
   "source": [
    "df.info()"
   ]
  },
  {
   "cell_type": "code",
   "execution_count": 7,
   "id": "b2f4f49f-d801-4f71-9673-87ef9339f03e",
   "metadata": {},
   "outputs": [
    {
     "data": {
      "text/plain": [
       "author      0\n",
       "comment     0\n",
       "date        0\n",
       "url         0\n",
       "product     0\n",
       "stars       0\n",
       "price       0\n",
       "currency    0\n",
       "weight      0\n",
       "dtype: int64"
      ]
     },
     "execution_count": 7,
     "metadata": {},
     "output_type": "execute_result"
    }
   ],
   "source": [
    "df.isnull().sum()"
   ]
  },
  {
   "cell_type": "code",
   "execution_count": 8,
   "id": "6d0e1c7f-2723-423e-925a-aa9d19ae5a03",
   "metadata": {},
   "outputs": [
    {
     "data": {
      "text/html": [
       "<div>\n",
       "<style scoped>\n",
       "    .dataframe tbody tr th:only-of-type {\n",
       "        vertical-align: middle;\n",
       "    }\n",
       "\n",
       "    .dataframe tbody tr th {\n",
       "        vertical-align: top;\n",
       "    }\n",
       "\n",
       "    .dataframe thead th {\n",
       "        text-align: right;\n",
       "    }\n",
       "</style>\n",
       "<table border=\"1\" class=\"dataframe\">\n",
       "  <thead>\n",
       "    <tr style=\"text-align: right;\">\n",
       "      <th></th>\n",
       "      <th>author</th>\n",
       "      <th>comment</th>\n",
       "      <th>date</th>\n",
       "      <th>url</th>\n",
       "      <th>product</th>\n",
       "      <th>stars</th>\n",
       "      <th>price</th>\n",
       "      <th>currency</th>\n",
       "      <th>weight</th>\n",
       "    </tr>\n",
       "  </thead>\n",
       "  <tbody>\n",
       "    <tr>\n",
       "      <th>400</th>\n",
       "      <td>Виктория</td>\n",
       "      <td>1 недозрел, другой перезрел</td>\n",
       "      <td>13 мая 2025  · Карта: xxx02</td>\n",
       "      <td>https://vkusvill.ru/goods/avokado-khass-2-sht-...</td>\n",
       "      <td>Авокадо Хасс, 2 шт</td>\n",
       "      <td>3</td>\n",
       "      <td>270</td>\n",
       "      <td>руб</td>\n",
       "      <td>/шт</td>\n",
       "    </tr>\n",
       "    <tr>\n",
       "      <th>898</th>\n",
       "      <td>Ирина</td>\n",
       "      <td>Шикарный арбуз, маленький, меньше 6 кг, но сла...</td>\n",
       "      <td>16 мая 2025  · Карта: xxx21</td>\n",
       "      <td>https://vkusvill.ru/goods/arbuz-iran-22413.html</td>\n",
       "      <td>Арбуз Иран</td>\n",
       "      <td>5</td>\n",
       "      <td>178</td>\n",
       "      <td>руб</td>\n",
       "      <td>/кг</td>\n",
       "    </tr>\n",
       "    <tr>\n",
       "      <th>739</th>\n",
       "      <td>Татьяна</td>\n",
       "      <td>Очень вялая морковь, просто мягкая, видимо ста...</td>\n",
       "      <td>11 мая 2025  · Карта: xxx60</td>\n",
       "      <td>https://vkusvill.ru/goods/morkov-mytaya-18735....</td>\n",
       "      <td>Морковь мытая</td>\n",
       "      <td>2</td>\n",
       "      <td>102</td>\n",
       "      <td>руб</td>\n",
       "      <td>/кг</td>\n",
       "    </tr>\n",
       "    <tr>\n",
       "      <th>440</th>\n",
       "      <td>Мы Нашли Вашу Карту, Ее Номер</td>\n",
       "      <td>Абрикосы с учетом не сезона очень вкусные но н...</td>\n",
       "      <td>16 мая 2025  · Карта: xxx94</td>\n",
       "      <td>https://vkusvill.ru/goods/abrikos-ferganskiy-5...</td>\n",
       "      <td>Абрикос Ферганский, 500 г</td>\n",
       "      <td>5</td>\n",
       "      <td>370</td>\n",
       "      <td>руб</td>\n",
       "      <td>/шт</td>\n",
       "    </tr>\n",
       "    <tr>\n",
       "      <th>3288</th>\n",
       "      <td>Елизавета</td>\n",
       "      <td>Ужасные помидоры без вкуса.</td>\n",
       "      <td>09 мая 2025  · Карта: xxx57</td>\n",
       "      <td>https://vkusvill.ru/goods/tomaty-krasnye-na-ve...</td>\n",
       "      <td>Томаты красные на ветке</td>\n",
       "      <td>1</td>\n",
       "      <td>175</td>\n",
       "      <td>руб</td>\n",
       "      <td>/кг</td>\n",
       "    </tr>\n",
       "    <tr>\n",
       "      <th>3560</th>\n",
       "      <td>Лейла</td>\n",
       "      <td>Кислая</td>\n",
       "      <td>16 мая 2025  · Карта: xxx46</td>\n",
       "      <td>https://vkusvill.ru/goods/klubnika-krasnodar-4...</td>\n",
       "      <td>Клубника Краснодар</td>\n",
       "      <td>3</td>\n",
       "      <td>898</td>\n",
       "      <td>руб</td>\n",
       "      <td>/кг</td>\n",
       "    </tr>\n",
       "    <tr>\n",
       "      <th>2109</th>\n",
       "      <td>Нина</td>\n",
       "      <td>Мне понравились вкусные</td>\n",
       "      <td>12 мая 2025  · Карта: xxx65</td>\n",
       "      <td>https://vkusvill.ru/goods/grusha-vilyams-22334...</td>\n",
       "      <td>Груша Вильямс</td>\n",
       "      <td>5</td>\n",
       "      <td>342</td>\n",
       "      <td>руб</td>\n",
       "      <td>/кг</td>\n",
       "    </tr>\n",
       "    <tr>\n",
       "      <th>3895</th>\n",
       "      <td>ЕЛЕНА АЛЕКСАНДРОВНА</td>\n",
       "      <td>Не вкусные.</td>\n",
       "      <td>07 апр 2025  · Карта: xxx71</td>\n",
       "      <td>https://vkusvill.ru/goods/yabloko-gala-15846.html</td>\n",
       "      <td>Яблоко Гала</td>\n",
       "      <td>4</td>\n",
       "      <td>205</td>\n",
       "      <td>руб</td>\n",
       "      <td>/кг</td>\n",
       "    </tr>\n",
       "  </tbody>\n",
       "</table>\n",
       "</div>"
      ],
      "text/plain": [
       "                             author  \\\n",
       "400                        Виктория   \n",
       "898                           Ирина   \n",
       "739                         Татьяна   \n",
       "440   Мы Нашли Вашу Карту, Ее Номер   \n",
       "3288                      Елизавета   \n",
       "3560                          Лейла   \n",
       "2109                           Нина   \n",
       "3895            ЕЛЕНА АЛЕКСАНДРОВНА   \n",
       "\n",
       "                                                comment  \\\n",
       "400                         1 недозрел, другой перезрел   \n",
       "898   Шикарный арбуз, маленький, меньше 6 кг, но сла...   \n",
       "739   Очень вялая морковь, просто мягкая, видимо ста...   \n",
       "440   Абрикосы с учетом не сезона очень вкусные но н...   \n",
       "3288                        Ужасные помидоры без вкуса.   \n",
       "3560                                             Кислая   \n",
       "2109                            Мне понравились вкусные   \n",
       "3895                                        Не вкусные.   \n",
       "\n",
       "                             date  \\\n",
       "400   13 мая 2025  · Карта: xxx02   \n",
       "898   16 мая 2025  · Карта: xxx21   \n",
       "739   11 мая 2025  · Карта: xxx60   \n",
       "440   16 мая 2025  · Карта: xxx94   \n",
       "3288  09 мая 2025  · Карта: xxx57   \n",
       "3560  16 мая 2025  · Карта: xxx46   \n",
       "2109  12 мая 2025  · Карта: xxx65   \n",
       "3895  07 апр 2025  · Карта: xxx71   \n",
       "\n",
       "                                                    url  \\\n",
       "400   https://vkusvill.ru/goods/avokado-khass-2-sht-...   \n",
       "898     https://vkusvill.ru/goods/arbuz-iran-22413.html   \n",
       "739   https://vkusvill.ru/goods/morkov-mytaya-18735....   \n",
       "440   https://vkusvill.ru/goods/abrikos-ferganskiy-5...   \n",
       "3288  https://vkusvill.ru/goods/tomaty-krasnye-na-ve...   \n",
       "3560  https://vkusvill.ru/goods/klubnika-krasnodar-4...   \n",
       "2109  https://vkusvill.ru/goods/grusha-vilyams-22334...   \n",
       "3895  https://vkusvill.ru/goods/yabloko-gala-15846.html   \n",
       "\n",
       "                        product  stars  price currency weight  \n",
       "400          Авокадо Хасс, 2 шт      3    270      руб    /шт  \n",
       "898                  Арбуз Иран      5    178      руб    /кг  \n",
       "739               Морковь мытая      2    102      руб    /кг  \n",
       "440   Абрикос Ферганский, 500 г      5    370      руб    /шт  \n",
       "3288    Томаты красные на ветке      1    175      руб    /кг  \n",
       "3560         Клубника Краснодар      3    898      руб    /кг  \n",
       "2109              Груша Вильямс      5    342      руб    /кг  \n",
       "3895                Яблоко Гала      4    205      руб    /кг  "
      ]
     },
     "execution_count": 8,
     "metadata": {},
     "output_type": "execute_result"
    }
   ],
   "source": [
    "df.sample(8)"
   ]
  },
  {
   "cell_type": "markdown",
   "id": "4c9452b9-8af0-454c-a164-ca87626fde79",
   "metadata": {},
   "source": [
    "### Разметка целевой переменной\n",
    "\n",
    "На данный момент мы можем разметить целевую переменную только по признаку `stars`, так как он отражает настроение и посыл покупателя. Но исследовав сами отзывы, можно встретить несоответсвие, например когда количество звезд 5, а сам отзыв негативный. Сколько таких отзывов мы не знаем.\n",
    "\n",
    "В качестве эксперемента произведем разметку дынных несколькими способами. За основу разметки целевой переменной возьмем следующие поля 'comment' и 'stars':\n",
    "\n",
    "- `comment` - Оставленный отзыв покупателем;\n",
    "- `stars` - Количество звезд оставленный покупателем;\n",
    "\n",
    " 1. С помощью нейросети RuBERT-tiny2. Предварительно никак не будем обработывать признак `comment` т.е разметим данные в исходном виде;\n",
    " 2. Используем признак `stars` (от 1-3 негивный отзыв, от 4-5 позитивный отзыв)\n",
    " 3. Посторим разметку нейросетью RuBERT-tiny2 признака `comment` после след. предобработки (токенизацию, морфологический анализ, лемматизацию, удаление стоп-слов)\n",
    "\n",
    "На выходе обучающий датафрейм будет иметь 3 целевые переменные.\n",
    "\n",
    "Целевая переменная будет иметь 1 - позитивный отзыв, 0 - негативный отзыв."
   ]
  },
  {
   "cell_type": "markdown",
   "id": "b14e402c-c598-46a9-8dd8-f2d92f74bf9f",
   "metadata": {},
   "source": [
    "### Разметка целевой переменной"
   ]
  },
  {
   "cell_type": "code",
   "execution_count": 9,
   "id": "77688f9e-940d-47fb-baf1-a465e7fd776a",
   "metadata": {},
   "outputs": [],
   "source": [
    "# Создадим 2 фукции разметки\n",
    "# Функция разметки коментариев с использованим модели Модели нейросети RuBERT-tiny2\n",
    "\n",
    "def get_label_bert(text: str, model: model) -> str:\n",
    "    label_ru = {'neutral': '0', \n",
    "                'positive': '1', \n",
    "                'negative': '0'}\n",
    "    label = model[0]['label']\n",
    "    score = model[0]['score']\n",
    "    \n",
    "    return label_ru[label] #, round(score, 2)\n",
    "\n",
    "# Функция разметки коментариев с использованим поля stars (от 1-3 негивный отзыв, от 4-5 позитивный отзыв)\n",
    "\n",
    "def get_label_stars(num_stars: int) -> int:\n",
    "    if num_stars in (1, 2, 3):\n",
    "        return 0  # отзыв негативный\n",
    "    else:\n",
    "        return 1  # отзыв позитивный"
   ]
  },
  {
   "cell_type": "markdown",
   "id": "4ff7eaea-1b73-4e4d-995c-7f3005964f8d",
   "metadata": {},
   "source": [
    "#### 1. Разметка с помощью нейросети RuBERT-tiny2 (адаптированная для классификации коротких текстов на русском языке по тональности).\n",
    "- https://huggingface.co/seara/rubert-tiny2-russian-sentiment\n",
    "\n",
    "ruBERT-tiny2 представляет собой небольшую версию BERT (Bidirectional Encoder Representations from Transformers), специально адаптированную для работы с русским языком. Эта модель разработана для выполнения различных задач обработки естественного языка и текстового анализа."
   ]
  },
  {
   "cell_type": "code",
   "execution_count": 10,
   "id": "0dfeca2c-dfa8-4216-83eb-55bba395f5e1",
   "metadata": {},
   "outputs": [
    {
     "data": {
      "application/vnd.jupyter.widget-view+json": {
       "model_id": "8e9628c0893247b9873a591af329ef20",
       "version_major": 2,
       "version_minor": 0
      },
      "text/plain": [
       "  0%|          | 0/4395 [00:00<?, ?it/s]"
      ]
     },
     "metadata": {},
     "output_type": "display_data"
    }
   ],
   "source": [
    "from tqdm.auto import tqdm\n",
    "tqdm.pandas()\n",
    "# Создаем колонку с целевой переменной \"target_by_RuBRT-tiny_no_tokens\". Разметим комментарии с использованием нейро сети RuBRT-tiny\n",
    "\n",
    "df['target_by_RuBRT-tiny_no_processing'] = df['comment'].progress_apply(lambda x: get_label_bert(x, model(x))).astype('int8')"
   ]
  },
  {
   "cell_type": "markdown",
   "id": "f1de440d-ec75-48e9-ac5d-20d3e025e5bd",
   "metadata": {},
   "source": [
    "#### 2. Разметка с помощью признака `stars` (будем исходить из того, что от 1 - 3 негативный отзыв, и от 4 - 5 позитивный отзыв)"
   ]
  },
  {
   "cell_type": "code",
   "execution_count": 11,
   "id": "5fcf56dd-b76a-4a99-b322-1c5344c51264",
   "metadata": {},
   "outputs": [],
   "source": [
    "# Создаем 2 колонку с целевой переменной \"target_by_stars\". Разметим комментарии с использованием признака stars\n",
    "df['target_by_stars'] = df['stars'].apply(get_label_stars)"
   ]
  },
  {
   "cell_type": "code",
   "execution_count": 12,
   "id": "cf2f6e73-8a4d-4b2f-b68b-3032434f11ad",
   "metadata": {},
   "outputs": [
    {
     "data": {
      "text/html": [
       "<div>\n",
       "<style scoped>\n",
       "    .dataframe tbody tr th:only-of-type {\n",
       "        vertical-align: middle;\n",
       "    }\n",
       "\n",
       "    .dataframe tbody tr th {\n",
       "        vertical-align: top;\n",
       "    }\n",
       "\n",
       "    .dataframe thead th {\n",
       "        text-align: right;\n",
       "    }\n",
       "</style>\n",
       "<table border=\"1\" class=\"dataframe\">\n",
       "  <thead>\n",
       "    <tr style=\"text-align: right;\">\n",
       "      <th></th>\n",
       "      <th>comment</th>\n",
       "      <th>target_by_RuBRT-tiny_no_processing</th>\n",
       "      <th>target_by_stars</th>\n",
       "    </tr>\n",
       "  </thead>\n",
       "  <tbody>\n",
       "    <tr>\n",
       "      <th>2066</th>\n",
       "      <td>Хорошие огурцы</td>\n",
       "      <td>1</td>\n",
       "      <td>1</td>\n",
       "    </tr>\n",
       "    <tr>\n",
       "      <th>3013</th>\n",
       "      <td>Дыня-сладкий мед. Очень вкусно.</td>\n",
       "      <td>1</td>\n",
       "      <td>1</td>\n",
       "    </tr>\n",
       "    <tr>\n",
       "      <th>1840</th>\n",
       "      <td>Очень сладкие и в меру сочные мандарины 🍊</td>\n",
       "      <td>1</td>\n",
       "      <td>1</td>\n",
       "    </tr>\n",
       "    <tr>\n",
       "      <th>3555</th>\n",
       "      <td>В день покупки клубника была отличнейшего каче...</td>\n",
       "      <td>0</td>\n",
       "      <td>0</td>\n",
       "    </tr>\n",
       "    <tr>\n",
       "      <th>4030</th>\n",
       "      <td>Покислее узбекский. Вкусные сочные.</td>\n",
       "      <td>1</td>\n",
       "      <td>1</td>\n",
       "    </tr>\n",
       "    <tr>\n",
       "      <th>3126</th>\n",
       "      <td>Хороший плотный лук, в шелухе</td>\n",
       "      <td>1</td>\n",
       "      <td>1</td>\n",
       "    </tr>\n",
       "    <tr>\n",
       "      <th>2614</th>\n",
       "      <td>Ставлю 5звёзд за то что привезли ровный не зел...</td>\n",
       "      <td>0</td>\n",
       "      <td>1</td>\n",
       "    </tr>\n",
       "  </tbody>\n",
       "</table>\n",
       "</div>"
      ],
      "text/plain": [
       "                                                comment  \\\n",
       "2066                                     Хорошие огурцы   \n",
       "3013                    Дыня-сладкий мед. Очень вкусно.   \n",
       "1840          Очень сладкие и в меру сочные мандарины 🍊   \n",
       "3555  В день покупки клубника была отличнейшего каче...   \n",
       "4030                Покислее узбекский. Вкусные сочные.   \n",
       "3126                      Хороший плотный лук, в шелухе   \n",
       "2614  Ставлю 5звёзд за то что привезли ровный не зел...   \n",
       "\n",
       "      target_by_RuBRT-tiny_no_processing  target_by_stars  \n",
       "2066                                   1                1  \n",
       "3013                                   1                1  \n",
       "1840                                   1                1  \n",
       "3555                                   0                0  \n",
       "4030                                   1                1  \n",
       "3126                                   1                1  \n",
       "2614                                   0                1  "
      ]
     },
     "execution_count": 12,
     "metadata": {},
     "output_type": "execute_result"
    }
   ],
   "source": [
    "# Проверим результат работы функций get_label_bert, get_label_stars\n",
    "df[['comment','target_by_RuBRT-tiny_no_processing', 'target_by_stars']].sample(7)"
   ]
  },
  {
   "cell_type": "markdown",
   "id": "e8af28eb-1078-4de8-b196-537949a32dc9",
   "metadata": {},
   "source": [
    "#### Для разметки по 3 пунку неоходимо произвести предобработку"
   ]
  },
  {
   "cell_type": "code",
   "execution_count": 13,
   "id": "18a7caf1-0b31-42af-8d6b-cb8faec56929",
   "metadata": {},
   "outputs": [],
   "source": [
    "# Импорт неоходимых библиотек\n",
    "import re # регулярные выражения\n",
    "import numpy as np\n",
    "\n",
    "# лингивистические модули\n",
    "from razdel import tokenize  # сегментация русскоязычного текста на токены и предложения https://github.com/natasha/razdel\n",
    "import pymorphy2  # Морфологический анализатор"
   ]
  },
  {
   "cell_type": "code",
   "execution_count": 14,
   "id": "18153281-b54e-4bd1-a38c-c57e2fe703b6",
   "metadata": {},
   "outputs": [],
   "source": [
    "# лингивистический модуль nltk (импортируем стоп-слова)\n",
    "import nltk\n",
    "from nltk.corpus import stopwords"
   ]
  },
  {
   "cell_type": "markdown",
   "id": "3b3daecf-502a-4a6a-a43f-f4eb8e2691d2",
   "metadata": {
    "tags": []
   },
   "source": [
    "### Пояснения по импортируемым лингивистическим модулям:\n",
    "\n",
    "##### `Модуль razdel (Natasha)`\n",
    "Библиотека Natasha имеет множество функций включая токенизацию, морфологический анализ, лемматизацию, синтаксический анализ и извлечение именованных сущностей.\n",
    "Токенизация и сегментация текста на предложения и токены в Natasha осуществляются с помощью встроенной библиотеки Razdel:\n",
    "* https://github.com/natasha/razdel\n",
    "* https://natasha.github.io/razdel\n",
    "* https://habr.com/ru/companies/otus/articles/808435/\n",
    "\n",
    "##### `Морфологический анализатор pymorphy2`\n",
    "PyMorphy2 также предоставляет функции для морфологического анализа текстов, PyMorphy2 полностью открыта и развивается сообществом. Библиотека использует словари OpenCorpora для анализа и может работать с русским. PyMorphy2 также предлагает API:\n",
    "* https://pymorphy2.readthedocs.io/en/stable/\n",
    "* https://habr.com/ru/companies/otus/articles/808435/\n",
    "\n",
    "##### `Модуль NLTK`\n",
    "NLTK — это свободно распространяемая библиотека Python, разработанная для работы с человеческим языком. Это комплексный набор инструментов, предназначенный для символьной и статистической обработки естественного языка. Она предоставляет легкий доступ к более чем 50 корпусам текстов и лексическим ресурсам, таким как WordNet, а также набор библиотек для классификации, токенизации, стемминга, метки частей речи, синтаксического анализа и семантического рассуждения:\n",
    "* https://habr.com/ru/companies/otus/articles/774498/"
   ]
  },
  {
   "cell_type": "code",
   "execution_count": 15,
   "id": "2e69a5e8-1dd7-43a2-8ec8-c0b7d4dd891d",
   "metadata": {},
   "outputs": [
    {
     "name": "stderr",
     "output_type": "stream",
     "text": [
      "[nltk_data] Downloading package stopwords to\n",
      "[nltk_data]     /home/w_lander/nltk_data...\n",
      "[nltk_data]   Package stopwords is already up-to-date!\n"
     ]
    }
   ],
   "source": [
    "# Создадим список стоп-слов из модуля NLTK\n",
    "nltk.download('stopwords')\n",
    "stopwords_ru = stopwords.words('russian')"
   ]
  },
  {
   "cell_type": "code",
   "execution_count": 16,
   "id": "29e32c92-b31e-47c7-b0f0-f638eb093ce1",
   "metadata": {},
   "outputs": [
    {
     "name": "stdout",
     "output_type": "stream",
     "text": [
      "151\n"
     ]
    }
   ],
   "source": [
    "# Кол-во стоп слов в списке\n",
    "print(len(stopwords_ru))"
   ]
  },
  {
   "cell_type": "code",
   "execution_count": 17,
   "id": "a3dc72e4-62b6-4071-97bc-a6949a239359",
   "metadata": {},
   "outputs": [
    {
     "data": {
      "text/plain": [
       "['и', 'в', 'во', 'не', 'что', 'он', 'на', 'я', 'с', 'со']"
      ]
     },
     "execution_count": 17,
     "metadata": {},
     "output_type": "execute_result"
    }
   ],
   "source": [
    "# Посмотрим содержимое списка\n",
    "stopwords_ru[:10]"
   ]
  },
  {
   "cell_type": "code",
   "execution_count": 18,
   "id": "ede89313-6d6f-46bb-ad5b-95fd446125b6",
   "metadata": {
    "tags": []
   },
   "outputs": [],
   "source": [
    "# Уберем частицу не из словаря стоп-слов\n",
    "stopwords_ru.remove('не')"
   ]
  },
  {
   "cell_type": "code",
   "execution_count": 19,
   "id": "770c92d2-3e89-4e24-88b2-2a0fad40d056",
   "metadata": {},
   "outputs": [],
   "source": [
    "# Дополним стоп-слова из внешнего локального словаря\n",
    "with open('stopwords.txt') as f:\n",
    "    additional_stopwords = [w.strip() for w in f.readlines() if w]\n",
    "    \n",
    "stopwords_ru += additional_stopwords"
   ]
  },
  {
   "cell_type": "code",
   "execution_count": 20,
   "id": "017d6023-1b46-4c12-aed2-926a3c89006f",
   "metadata": {},
   "outputs": [
    {
     "name": "stdout",
     "output_type": "stream",
     "text": [
      "524\n"
     ]
    }
   ],
   "source": [
    "# Кол-во стоп слов в словаре c дополнением\n",
    "print(len(stopwords_ru))"
   ]
  },
  {
   "cell_type": "code",
   "execution_count": 21,
   "id": "15ad4ab0-57f7-4b5c-a0d8-5ed168d8c9ab",
   "metadata": {},
   "outputs": [],
   "source": [
    "# Функция очистки отзывов от лишних пробелов, символов и тд. и тп\n",
    "def clean_text(text):\n",
    "    '''\n",
    "    очистка текста\n",
    "    на выходе очищеный текст\n",
    "    '''\n",
    "    if not isinstance(text, str):\n",
    "        text = str(text)\n",
    "    \n",
    "    text = text.lower()\n",
    "    text = text.strip('\\n').strip('\\r').strip('\\t')\n",
    "    text = re.sub(\"-\\s\\r\\n\\|-\\s\\r\\n|\\r\\n\", '', str(text))\n",
    "    text = re.sub(\"[0-9]|[-—.,:;_%©«»?*!@#№$^•·&()]|[+=]|[[]|[]]|[/]|\", '', text)\n",
    "    text = re.sub(r\"\\r\\n\\t|\\n|\\\\s|\\r\\t|\\\\n\", ' ', text)\n",
    "    text = re.sub(r'[\\xad]|[\\s+]', ' ', text.strip())\n",
    "    text = re.sub('n', ' ', text)\n",
    "    \n",
    "    return text"
   ]
  },
  {
   "cell_type": "code",
   "execution_count": 22,
   "id": "d7df961e-b9bd-494b-a997-3e40a13cd554",
   "metadata": {},
   "outputs": [],
   "source": [
    "# Функция токенизации, лемматизация, удаления стоп-слов\n",
    "cache = {}\n",
    "morph = pymorphy2.MorphAnalyzer()\n",
    "\n",
    "def lemmatization(text: str) -> str:\n",
    "    '''\n",
    "    лемматизация\n",
    "        [0] если зашел тип не `str` делаем его `str`\n",
    "        [1] токенизация предложения через razdel\n",
    "        [2] проверка есть ли в начале слова '-'\n",
    "        [3] проверка токена с одного символа\n",
    "        [4] проверка есть ли данное слово в кэше\n",
    "        [5] лемматизация слова\n",
    "        [6] проверка на стоп-слова\n",
    "    на выходе лист отлемматизированых токенов\n",
    "    '''\n",
    "    # [0]\n",
    "    if not isinstance(text, str):\n",
    "        text = str(text)\n",
    "    \n",
    "    # [1]\n",
    "    tokens = list(tokenize(text))\n",
    "    words = [_.text for _ in tokens]\n",
    "\n",
    "    words_lem = []\n",
    "    \n",
    "    for w in words:\n",
    "        if w[0] == '-': # [2]\n",
    "            w = w[1:]\n",
    "        if len(w) > 1: # [3]\n",
    "            if w in cache: # [4]\n",
    "                words_lem.append(cache[w])\n",
    "            else: # [5]\n",
    "                temp_cach = cache[w] = morph.parse(w)[0].normal_form\n",
    "                words_lem.append(temp_cach)\n",
    "    \n",
    "    words_lem_without_stopwords=[i for i in words_lem if not i in stopwords_ru] # [6]\n",
    "    \n",
    "    return words_lem_without_stopwords"
   ]
  },
  {
   "cell_type": "code",
   "execution_count": 23,
   "id": "397f9081-9297-4026-8f47-1f2c44870f16",
   "metadata": {},
   "outputs": [
    {
     "data": {
      "application/vnd.jupyter.widget-view+json": {
       "model_id": "62e08736f0d54cf583d94cff6af9d9f7",
       "version_major": 2,
       "version_minor": 0
      },
      "text/plain": [
       "  0%|          | 0/4395 [00:00<?, ?it/s]"
      ]
     },
     "metadata": {},
     "output_type": "display_data"
    },
    {
     "name": "stderr",
     "output_type": "stream",
     "text": [
      "/tmp/ipykernel_344455/3016012433.py:13: FutureWarning: Possible nested set at position 39\n",
      "  text = re.sub(\"[0-9]|[-—.,:;_%©«»?*!@#№$^•·&()]|[+=]|[[]|[]]|[/]|\", '', text)\n"
     ]
    }
   ],
   "source": [
    "# Создаем колонку 'comment_clean' и заполним ее очищенными от лишних данных отзывами функцией clean_text\n",
    "df['comment_clean'] = df['comment'].progress_apply(lambda x: clean_text(x))"
   ]
  },
  {
   "cell_type": "code",
   "execution_count": 24,
   "id": "3c9b61f0-05ec-4898-b767-775bb18245f6",
   "metadata": {},
   "outputs": [
    {
     "data": {
      "text/html": [
       "<div>\n",
       "<style scoped>\n",
       "    .dataframe tbody tr th:only-of-type {\n",
       "        vertical-align: middle;\n",
       "    }\n",
       "\n",
       "    .dataframe tbody tr th {\n",
       "        vertical-align: top;\n",
       "    }\n",
       "\n",
       "    .dataframe thead th {\n",
       "        text-align: right;\n",
       "    }\n",
       "</style>\n",
       "<table border=\"1\" class=\"dataframe\">\n",
       "  <thead>\n",
       "    <tr style=\"text-align: right;\">\n",
       "      <th></th>\n",
       "      <th>comment</th>\n",
       "      <th>comment_clean</th>\n",
       "    </tr>\n",
       "  </thead>\n",
       "  <tbody>\n",
       "    <tr>\n",
       "      <th>3550</th>\n",
       "      <td>Кислятина адская. На 1 кг ягод сладких было шт...</td>\n",
       "      <td>кислятина адская на  кг ягод сладких было штук</td>\n",
       "    </tr>\n",
       "    <tr>\n",
       "      <th>1476</th>\n",
       "      <td>Кисловат</td>\n",
       "      <td>кисловат</td>\n",
       "    </tr>\n",
       "    <tr>\n",
       "      <th>1683</th>\n",
       "      <td>не вкусно,наполовину как будто старые и сухие😕</td>\n",
       "      <td>не вкуснонаполовину как будто старые и сухие😕</td>\n",
       "    </tr>\n",
       "    <tr>\n",
       "      <th>3180</th>\n",
       "      <td>Всегда лук испорченный.</td>\n",
       "      <td>всегда лук испорченный</td>\n",
       "    </tr>\n",
       "    <tr>\n",
       "      <th>712</th>\n",
       "      <td>Пришла вся ломаная. Кусочки</td>\n",
       "      <td>пришла вся ломаная кусочки</td>\n",
       "    </tr>\n",
       "  </tbody>\n",
       "</table>\n",
       "</div>"
      ],
      "text/plain": [
       "                                                comment  \\\n",
       "3550  Кислятина адская. На 1 кг ягод сладких было шт...   \n",
       "1476                                           Кисловат   \n",
       "1683     не вкусно,наполовину как будто старые и сухие😕   \n",
       "3180                            Всегда лук испорченный.   \n",
       "712                         Пришла вся ломаная. Кусочки   \n",
       "\n",
       "                                       comment_clean  \n",
       "3550  кислятина адская на  кг ягод сладких было штук  \n",
       "1476                                        кисловат  \n",
       "1683   не вкуснонаполовину как будто старые и сухие😕  \n",
       "3180                          всегда лук испорченный  \n",
       "712                       пришла вся ломаная кусочки  "
      ]
     },
     "execution_count": 24,
     "metadata": {},
     "output_type": "execute_result"
    }
   ],
   "source": [
    "# Проверим как отработа функция clean_text\n",
    "df[['comment', 'comment_clean']].sample(5)"
   ]
  },
  {
   "cell_type": "code",
   "execution_count": 25,
   "id": "7ab4d6c0-2d62-4f61-bc18-01168c1dc63a",
   "metadata": {},
   "outputs": [
    {
     "data": {
      "text/plain": [
       "'бегать'"
      ]
     },
     "execution_count": 25,
     "metadata": {},
     "output_type": "execute_result"
    }
   ],
   "source": [
    "# Проверим работу морфологического анализатора pymorphy2 (на вход подаём слова в разных формах, на выходе получем нормалезованную)\n",
    "morph = pymorphy2.MorphAnalyzer()\n",
    "morph.parse('бегали')[0].normal_form"
   ]
  },
  {
   "cell_type": "code",
   "execution_count": 26,
   "id": "7850a650-e831-4058-a8ee-cb874c1335b8",
   "metadata": {
    "tags": []
   },
   "outputs": [
    {
     "data": {
      "text/plain": [
       "100                         [покупать, отличный, чеснок]\n",
       "101    [странно, особо, корешковый, подрещать, китайс...\n",
       "102    [вчера, чеснок, корешок, всё, головка, чеснок,...\n",
       "103    [обычный, чеснок, высокий, цена, производство,...\n",
       "104          [замечательный, крепкий, ароматный, чеснок]\n",
       "Name: comment_clean, dtype: object"
      ]
     },
     "execution_count": 26,
     "metadata": {},
     "output_type": "execute_result"
    }
   ],
   "source": [
    "# Проверим работу на отзывах функцию lemmatization\n",
    "df['comment_clean'].iloc[100:105].apply(lambda x: lemmatization(x))"
   ]
  },
  {
   "cell_type": "code",
   "execution_count": 27,
   "id": "b0258f9b-a969-450f-8f91-e75e33b98629",
   "metadata": {
    "tags": []
   },
   "outputs": [
    {
     "data": {
      "application/vnd.jupyter.widget-view+json": {
       "model_id": "3dba52f303e04c36979bd8fabf558f63",
       "version_major": 2,
       "version_minor": 0
      },
      "text/plain": [
       "  0%|          | 0/4395 [00:00<?, ?it/s]"
      ]
     },
     "metadata": {},
     "output_type": "display_data"
    }
   ],
   "source": [
    "# Обработаем признак 'comment_clean' применим функцию lemmatization\n",
    "df['comment_clean'] = df['comment_clean'].progress_apply(lambda x: lemmatization(x))"
   ]
  },
  {
   "cell_type": "code",
   "execution_count": 28,
   "id": "357ec94c-9a4b-407f-bd1d-3daa0031ac78",
   "metadata": {
    "tags": []
   },
   "outputs": [
    {
     "data": {
      "text/html": [
       "<div>\n",
       "<style scoped>\n",
       "    .dataframe tbody tr th:only-of-type {\n",
       "        vertical-align: middle;\n",
       "    }\n",
       "\n",
       "    .dataframe tbody tr th {\n",
       "        vertical-align: top;\n",
       "    }\n",
       "\n",
       "    .dataframe thead th {\n",
       "        text-align: right;\n",
       "    }\n",
       "</style>\n",
       "<table border=\"1\" class=\"dataframe\">\n",
       "  <thead>\n",
       "    <tr style=\"text-align: right;\">\n",
       "      <th></th>\n",
       "      <th>comment</th>\n",
       "      <th>comment_clean</th>\n",
       "      <th>target_by_RuBRT-tiny_no_processing</th>\n",
       "      <th>target_by_stars</th>\n",
       "    </tr>\n",
       "  </thead>\n",
       "  <tbody>\n",
       "    <tr>\n",
       "      <th>860</th>\n",
       "      <td>Совсем не сладкий, дорого и невкусно (</td>\n",
       "      <td>[не, сладкий, дорого, невкусно]</td>\n",
       "      <td>0</td>\n",
       "      <td>1</td>\n",
       "    </tr>\n",
       "    <tr>\n",
       "      <th>4318</th>\n",
       "      <td>Крупные,красивые!Брала по зелёной цене !</td>\n",
       "      <td>[крупныекрасивыебрать, зелёный, цена]</td>\n",
       "      <td>1</td>\n",
       "      <td>1</td>\n",
       "    </tr>\n",
       "    <tr>\n",
       "      <th>2532</th>\n",
       "      <td>Из дюжины картофелин три оказались испорченным...</td>\n",
       "      <td>[дюжина, картофелина, испортить, гниль, плесень]</td>\n",
       "      <td>0</td>\n",
       "      <td>0</td>\n",
       "    </tr>\n",
       "    <tr>\n",
       "      <th>992</th>\n",
       "      <td>Совсем не сладкий, хотя внутри красный</td>\n",
       "      <td>[не, сладкий, хотя, внутри, красный]</td>\n",
       "      <td>0</td>\n",
       "      <td>0</td>\n",
       "    </tr>\n",
       "    <tr>\n",
       "      <th>8</th>\n",
       "      <td>Покупала персики 16 мая в магазине г.Королева ...</td>\n",
       "      <td>[покупать, персик, магазин, гкоролева, не, соч...</td>\n",
       "      <td>0</td>\n",
       "      <td>0</td>\n",
       "    </tr>\n",
       "    <tr>\n",
       "      <th>2476</th>\n",
       "      <td>Очень хорошая даже по зц.</td>\n",
       "      <td>[очень, хороший]</td>\n",
       "      <td>1</td>\n",
       "      <td>1</td>\n",
       "    </tr>\n",
       "  </tbody>\n",
       "</table>\n",
       "</div>"
      ],
      "text/plain": [
       "                                                comment  \\\n",
       "860              Совсем не сладкий, дорого и невкусно (   \n",
       "4318           Крупные,красивые!Брала по зелёной цене !   \n",
       "2532  Из дюжины картофелин три оказались испорченным...   \n",
       "992              Совсем не сладкий, хотя внутри красный   \n",
       "8     Покупала персики 16 мая в магазине г.Королева ...   \n",
       "2476                          Очень хорошая даже по зц.   \n",
       "\n",
       "                                          comment_clean  \\\n",
       "860                     [не, сладкий, дорого, невкусно]   \n",
       "4318              [крупныекрасивыебрать, зелёный, цена]   \n",
       "2532   [дюжина, картофелина, испортить, гниль, плесень]   \n",
       "992                [не, сладкий, хотя, внутри, красный]   \n",
       "8     [покупать, персик, магазин, гкоролева, не, соч...   \n",
       "2476                                   [очень, хороший]   \n",
       "\n",
       "      target_by_RuBRT-tiny_no_processing  target_by_stars  \n",
       "860                                    0                1  \n",
       "4318                                   1                1  \n",
       "2532                                   0                0  \n",
       "992                                    0                0  \n",
       "8                                      0                0  \n",
       "2476                                   1                1  "
      ]
     },
     "execution_count": 28,
     "metadata": {},
     "output_type": "execute_result"
    }
   ],
   "source": [
    "# Проверим как отработала функция lemmatization сравним исходную и обработанную колонку\n",
    "df[['comment', 'comment_clean','target_by_RuBRT-tiny_no_processing', 'target_by_stars']].sample(6)"
   ]
  },
  {
   "cell_type": "code",
   "execution_count": 29,
   "id": "bdbebed0-b62b-46d3-aa97-c399e30cf220",
   "metadata": {
    "tags": []
   },
   "outputs": [],
   "source": [
    "# Приведем значения в колонке comment_clean из списка в сроки для векторизации\n",
    "df['comment_clean'] = df['comment_clean'].apply(lambda x: ' '.join(x))"
   ]
  },
  {
   "cell_type": "code",
   "execution_count": 30,
   "id": "e0808b9d-d89e-48c4-a9c4-7f86ae179a3e",
   "metadata": {
    "tags": []
   },
   "outputs": [
    {
     "data": {
      "text/html": [
       "<div>\n",
       "<style scoped>\n",
       "    .dataframe tbody tr th:only-of-type {\n",
       "        vertical-align: middle;\n",
       "    }\n",
       "\n",
       "    .dataframe tbody tr th {\n",
       "        vertical-align: top;\n",
       "    }\n",
       "\n",
       "    .dataframe thead th {\n",
       "        text-align: right;\n",
       "    }\n",
       "</style>\n",
       "<table border=\"1\" class=\"dataframe\">\n",
       "  <thead>\n",
       "    <tr style=\"text-align: right;\">\n",
       "      <th></th>\n",
       "      <th>comment</th>\n",
       "      <th>comment_clean</th>\n",
       "      <th>target_by_RuBRT-tiny_no_processing</th>\n",
       "      <th>target_by_stars</th>\n",
       "    </tr>\n",
       "  </thead>\n",
       "  <tbody>\n",
       "    <tr>\n",
       "      <th>1846</th>\n",
       "      <td>Сезон наверное закончился не вкусные</td>\n",
       "      <td>сезон наверное закончиться не вкусный</td>\n",
       "      <td>0</td>\n",
       "      <td>0</td>\n",
       "    </tr>\n",
       "    <tr>\n",
       "      <th>1662</th>\n",
       "      <td>Лично мне привезли гнилую голубику, хотя было ...</td>\n",
       "      <td>лично привезти гнилой голубика хотя написать о...</td>\n",
       "      <td>0</td>\n",
       "      <td>0</td>\n",
       "    </tr>\n",
       "    <tr>\n",
       "      <th>1099</th>\n",
       "      <td>Хорошие, большущие и сочные апельсины, которым...</td>\n",
       "      <td>хороший большущий сочный апельсин незаслуженно...</td>\n",
       "      <td>1</td>\n",
       "      <td>1</td>\n",
       "    </tr>\n",
       "  </tbody>\n",
       "</table>\n",
       "</div>"
      ],
      "text/plain": [
       "                                                comment  \\\n",
       "1846               Сезон наверное закончился не вкусные   \n",
       "1662  Лично мне привезли гнилую голубику, хотя было ...   \n",
       "1099  Хорошие, большущие и сочные апельсины, которым...   \n",
       "\n",
       "                                          comment_clean  \\\n",
       "1846              сезон наверное закончиться не вкусный   \n",
       "1662  лично привезти гнилой голубика хотя написать о...   \n",
       "1099  хороший большущий сочный апельсин незаслуженно...   \n",
       "\n",
       "      target_by_RuBRT-tiny_no_processing  target_by_stars  \n",
       "1846                                   0                0  \n",
       "1662                                   0                0  \n",
       "1099                                   1                1  "
      ]
     },
     "execution_count": 30,
     "metadata": {},
     "output_type": "execute_result"
    }
   ],
   "source": [
    "df[['comment', 'comment_clean','target_by_RuBRT-tiny_no_processing', 'target_by_stars']].sample(3)"
   ]
  },
  {
   "cell_type": "markdown",
   "id": "487b7276-8080-452f-8ae4-418c90a48e90",
   "metadata": {},
   "source": [
    "### 3. Построим разметку нейросетью RuBERT-tiny2 по предобработанному признаку 'comment_clean'"
   ]
  },
  {
   "cell_type": "code",
   "execution_count": 31,
   "id": "237f90d0-f375-4abc-a092-5064adc3e0b5",
   "metadata": {
    "tags": []
   },
   "outputs": [
    {
     "data": {
      "application/vnd.jupyter.widget-view+json": {
       "model_id": "478b776da8ee41bf8b29f973af59a395",
       "version_major": 2,
       "version_minor": 0
      },
      "text/plain": [
       "  0%|          | 0/4395 [00:00<?, ?it/s]"
      ]
     },
     "metadata": {},
     "output_type": "display_data"
    }
   ],
   "source": [
    "# Создаем колонку с целевой переменной \"target_by_RuBRT-tiny_processing\". Разметим комментарии с использованием нейросети RuBRT-tiny\n",
    "df['target_by_RuBRT-tiny_processing'] = df['comment_clean'].progress_apply(lambda x: get_label_bert(x, model(x))).astype('int8')"
   ]
  },
  {
   "cell_type": "code",
   "execution_count": 32,
   "id": "e263e3b1-1abf-44d3-9953-9375254b45d1",
   "metadata": {
    "tags": []
   },
   "outputs": [
    {
     "data": {
      "text/html": [
       "<div>\n",
       "<style scoped>\n",
       "    .dataframe tbody tr th:only-of-type {\n",
       "        vertical-align: middle;\n",
       "    }\n",
       "\n",
       "    .dataframe tbody tr th {\n",
       "        vertical-align: top;\n",
       "    }\n",
       "\n",
       "    .dataframe thead th {\n",
       "        text-align: right;\n",
       "    }\n",
       "</style>\n",
       "<table border=\"1\" class=\"dataframe\">\n",
       "  <thead>\n",
       "    <tr style=\"text-align: right;\">\n",
       "      <th></th>\n",
       "      <th>comment</th>\n",
       "      <th>comment_clean</th>\n",
       "      <th>target_by_RuBRT-tiny_no_processing</th>\n",
       "      <th>target_by_RuBRT-tiny_processing</th>\n",
       "      <th>target_by_stars</th>\n",
       "    </tr>\n",
       "  </thead>\n",
       "  <tbody>\n",
       "    <tr>\n",
       "      <th>890</th>\n",
       "      <td>Не спелый и не сладкий. Мякоть красная( только...</td>\n",
       "      <td>не спелый не сладкий мякоть красный напоминать...</td>\n",
       "      <td>0</td>\n",
       "      <td>0</td>\n",
       "      <td>0</td>\n",
       "    </tr>\n",
       "    <tr>\n",
       "      <th>2335</th>\n",
       "      <td>Немного должны полежать, но даже недозрелые вк...</td>\n",
       "      <td>немного полежать недозрелый вкусный</td>\n",
       "      <td>1</td>\n",
       "      <td>1</td>\n",
       "      <td>1</td>\n",
       "    </tr>\n",
       "    <tr>\n",
       "      <th>4206</th>\n",
       "      <td>Бананы, они везде бананы)</td>\n",
       "      <td>банан везде банан</td>\n",
       "      <td>0</td>\n",
       "      <td>0</td>\n",
       "      <td>1</td>\n",
       "    </tr>\n",
       "    <tr>\n",
       "      <th>3260</th>\n",
       "      <td>хорошие и не дорогие помидоры, запах помидора ...</td>\n",
       "      <td>хороший не дорогой помидор запах помидор веточ...</td>\n",
       "      <td>1</td>\n",
       "      <td>1</td>\n",
       "      <td>1</td>\n",
       "    </tr>\n",
       "    <tr>\n",
       "      <th>1467</th>\n",
       "      <td>Очень кислый попался</td>\n",
       "      <td>очень кислый попасться</td>\n",
       "      <td>0</td>\n",
       "      <td>0</td>\n",
       "      <td>0</td>\n",
       "    </tr>\n",
       "    <tr>\n",
       "      <th>1408</th>\n",
       "      <td>Кисловат, по сравнению с фото более удлиненная...</td>\n",
       "      <td>кисловатый сравнение фото удлинённый форма</td>\n",
       "      <td>0</td>\n",
       "      <td>0</td>\n",
       "      <td>1</td>\n",
       "    </tr>\n",
       "    <tr>\n",
       "      <th>937</th>\n",
       "      <td>Спасибо огромное сборщикам, привезли на достав...</td>\n",
       "      <td>спасибо огромный сборщик привезти доставка отл...</td>\n",
       "      <td>1</td>\n",
       "      <td>1</td>\n",
       "      <td>1</td>\n",
       "    </tr>\n",
       "    <tr>\n",
       "      <th>946</th>\n",
       "      <td>Хороший , сладкий , сочный арбуз 🍉</td>\n",
       "      <td>хороший сладкий сочный арбуз</td>\n",
       "      <td>1</td>\n",
       "      <td>1</td>\n",
       "      <td>1</td>\n",
       "    </tr>\n",
       "    <tr>\n",
       "      <th>3211</th>\n",
       "      <td>Лук прошлого сезона уже кончается, а нового ещ...</td>\n",
       "      <td>лук прошлое сезон кончаться новый поэтому не о...</td>\n",
       "      <td>0</td>\n",
       "      <td>0</td>\n",
       "      <td>1</td>\n",
       "    </tr>\n",
       "    <tr>\n",
       "      <th>1174</th>\n",
       "      <td>Выглядят прекрасно, на вкус - трава травой. То...</td>\n",
       "      <td>выглядеть прекрасно вкус трава трава случай об...</td>\n",
       "      <td>1</td>\n",
       "      <td>1</td>\n",
       "      <td>0</td>\n",
       "    </tr>\n",
       "  </tbody>\n",
       "</table>\n",
       "</div>"
      ],
      "text/plain": [
       "                                                comment  \\\n",
       "890   Не спелый и не сладкий. Мякоть красная( только...   \n",
       "2335  Немного должны полежать, но даже недозрелые вк...   \n",
       "4206                          Бананы, они везде бананы)   \n",
       "3260  хорошие и не дорогие помидоры, запах помидора ...   \n",
       "1467                               Очень кислый попался   \n",
       "1408  Кисловат, по сравнению с фото более удлиненная...   \n",
       "937   Спасибо огромное сборщикам, привезли на достав...   \n",
       "946                  Хороший , сладкий , сочный арбуз 🍉   \n",
       "3211  Лук прошлого сезона уже кончается, а нового ещ...   \n",
       "1174  Выглядят прекрасно, на вкус - трава травой. То...   \n",
       "\n",
       "                                          comment_clean  \\\n",
       "890   не спелый не сладкий мякоть красный напоминать...   \n",
       "2335                немного полежать недозрелый вкусный   \n",
       "4206                                  банан везде банан   \n",
       "3260  хороший не дорогой помидор запах помидор веточ...   \n",
       "1467                             очень кислый попасться   \n",
       "1408         кисловатый сравнение фото удлинённый форма   \n",
       "937   спасибо огромный сборщик привезти доставка отл...   \n",
       "946                        хороший сладкий сочный арбуз   \n",
       "3211  лук прошлое сезон кончаться новый поэтому не о...   \n",
       "1174  выглядеть прекрасно вкус трава трава случай об...   \n",
       "\n",
       "      target_by_RuBRT-tiny_no_processing  target_by_RuBRT-tiny_processing  \\\n",
       "890                                    0                                0   \n",
       "2335                                   1                                1   \n",
       "4206                                   0                                0   \n",
       "3260                                   1                                1   \n",
       "1467                                   0                                0   \n",
       "1408                                   0                                0   \n",
       "937                                    1                                1   \n",
       "946                                    1                                1   \n",
       "3211                                   0                                0   \n",
       "1174                                   1                                1   \n",
       "\n",
       "      target_by_stars  \n",
       "890                 0  \n",
       "2335                1  \n",
       "4206                1  \n",
       "3260                1  \n",
       "1467                0  \n",
       "1408                1  \n",
       "937                 1  \n",
       "946                 1  \n",
       "3211                1  \n",
       "1174                0  "
      ]
     },
     "execution_count": 32,
     "metadata": {},
     "output_type": "execute_result"
    }
   ],
   "source": [
    "df[['comment', 'comment_clean','target_by_RuBRT-tiny_no_processing', 'target_by_RuBRT-tiny_processing', 'target_by_stars']].sample(10)"
   ]
  },
  {
   "cell_type": "code",
   "execution_count": 33,
   "id": "f1b388bf-d1b7-4e3f-a1ed-a1325d60335e",
   "metadata": {
    "tags": []
   },
   "outputs": [],
   "source": [
    "# Переместим признак 'comment_clean' и переименуем в comment_pre_processing\n",
    "comment = df['comment_clean']\n",
    "df.drop('comment_clean', axis=1, inplace=True)\n",
    "df.insert(2, 'comment_pre_processing', comment)"
   ]
  },
  {
   "cell_type": "code",
   "execution_count": 34,
   "id": "a7e3fcea-a000-462c-b17c-b1c53d36576f",
   "metadata": {},
   "outputs": [
    {
     "data": {
      "text/html": [
       "<div>\n",
       "<style scoped>\n",
       "    .dataframe tbody tr th:only-of-type {\n",
       "        vertical-align: middle;\n",
       "    }\n",
       "\n",
       "    .dataframe tbody tr th {\n",
       "        vertical-align: top;\n",
       "    }\n",
       "\n",
       "    .dataframe thead th {\n",
       "        text-align: right;\n",
       "    }\n",
       "</style>\n",
       "<table border=\"1\" class=\"dataframe\">\n",
       "  <thead>\n",
       "    <tr style=\"text-align: right;\">\n",
       "      <th></th>\n",
       "      <th>author</th>\n",
       "      <th>comment</th>\n",
       "      <th>comment_pre_processing</th>\n",
       "      <th>date</th>\n",
       "      <th>url</th>\n",
       "      <th>product</th>\n",
       "      <th>stars</th>\n",
       "      <th>price</th>\n",
       "      <th>currency</th>\n",
       "      <th>weight</th>\n",
       "      <th>target_by_RuBRT-tiny_no_processing</th>\n",
       "      <th>target_by_stars</th>\n",
       "      <th>target_by_RuBRT-tiny_processing</th>\n",
       "    </tr>\n",
       "  </thead>\n",
       "  <tbody>\n",
       "    <tr>\n",
       "      <th>3119</th>\n",
       "      <td>Наталья</td>\n",
       "      <td>Очень вкусная дыня,в сезон такую поискать надо...</td>\n",
       "      <td>очень вкусный дынять сезон поискать очень дово...</td>\n",
       "      <td>21 мар 2025  · Карта: xxx15</td>\n",
       "      <td>https://vkusvill.ru/goods/dynya-medovaya-aziya...</td>\n",
       "      <td>Дыня Медовая Азия</td>\n",
       "      <td>5</td>\n",
       "      <td>365</td>\n",
       "      <td>руб</td>\n",
       "      <td>/кг</td>\n",
       "      <td>1</td>\n",
       "      <td>1</td>\n",
       "      <td>1</td>\n",
       "    </tr>\n",
       "    <tr>\n",
       "      <th>2861</th>\n",
       "      <td>Светлана</td>\n",
       "      <td>Водянистая картошка. Не понравилась</td>\n",
       "      <td>водянистый картошка не понравиться</td>\n",
       "      <td>23 апр 2025  · Карта: xxx19</td>\n",
       "      <td>https://vkusvill.ru/goods/kartofel-mytyy-fasov...</td>\n",
       "      <td>Картофель мытый фасованный, 2,5 кг</td>\n",
       "      <td>3</td>\n",
       "      <td>410</td>\n",
       "      <td>руб</td>\n",
       "      <td>/шт</td>\n",
       "      <td>0</td>\n",
       "      <td>0</td>\n",
       "      <td>0</td>\n",
       "    </tr>\n",
       "    <tr>\n",
       "      <th>1812</th>\n",
       "      <td>Екатерина</td>\n",
       "      <td>Привезли гнилые. Возврат</td>\n",
       "      <td>привезти гнилой возврат</td>\n",
       "      <td>04 мая 2025  · Карта: xxx85</td>\n",
       "      <td>https://vkusvill.ru/goods/mandariny-nadorkott-...</td>\n",
       "      <td>Мандарины Надоркотт</td>\n",
       "      <td>1</td>\n",
       "      <td>305</td>\n",
       "      <td>руб</td>\n",
       "      <td>/кг</td>\n",
       "      <td>0</td>\n",
       "      <td>0</td>\n",
       "      <td>0</td>\n",
       "    </tr>\n",
       "  </tbody>\n",
       "</table>\n",
       "</div>"
      ],
      "text/plain": [
       "         author                                            comment  \\\n",
       "3119    Наталья  Очень вкусная дыня,в сезон такую поискать надо...   \n",
       "2861   Светлана                Водянистая картошка. Не понравилась   \n",
       "1812  Екатерина                           Привезли гнилые. Возврат   \n",
       "\n",
       "                                 comment_pre_processing  \\\n",
       "3119  очень вкусный дынять сезон поискать очень дово...   \n",
       "2861                 водянистый картошка не понравиться   \n",
       "1812                            привезти гнилой возврат   \n",
       "\n",
       "                             date  \\\n",
       "3119  21 мар 2025  · Карта: xxx15   \n",
       "2861  23 апр 2025  · Карта: xxx19   \n",
       "1812  04 мая 2025  · Карта: xxx85   \n",
       "\n",
       "                                                    url  \\\n",
       "3119  https://vkusvill.ru/goods/dynya-medovaya-aziya...   \n",
       "2861  https://vkusvill.ru/goods/kartofel-mytyy-fasov...   \n",
       "1812  https://vkusvill.ru/goods/mandariny-nadorkott-...   \n",
       "\n",
       "                                 product  stars  price currency weight  \\\n",
       "3119                   Дыня Медовая Азия      5    365      руб    /кг   \n",
       "2861  Картофель мытый фасованный, 2,5 кг      3    410      руб    /шт   \n",
       "1812                 Мандарины Надоркотт      1    305      руб    /кг   \n",
       "\n",
       "      target_by_RuBRT-tiny_no_processing  target_by_stars  \\\n",
       "3119                                   1                1   \n",
       "2861                                   0                0   \n",
       "1812                                   0                0   \n",
       "\n",
       "      target_by_RuBRT-tiny_processing  \n",
       "3119                                1  \n",
       "2861                                0  \n",
       "1812                                0  "
      ]
     },
     "execution_count": 34,
     "metadata": {},
     "output_type": "execute_result"
    }
   ],
   "source": [
    "df.sample(3)"
   ]
  },
  {
   "cell_type": "markdown",
   "id": "ee7ef805-cd81-4663-a978-8c58f154b0c8",
   "metadata": {},
   "source": [
    "### Построим графики распределений целевых переменных"
   ]
  },
  {
   "cell_type": "code",
   "execution_count": 35,
   "id": "ac5f3674-199d-466f-b886-b76ddf9ecc19",
   "metadata": {
    "tags": []
   },
   "outputs": [],
   "source": [
    "import matplotlib\n",
    "import matplotlib.pyplot as plt\n",
    "%matplotlib inline"
   ]
  },
  {
   "cell_type": "code",
   "execution_count": 36,
   "id": "de57ddfd-71bd-468e-9381-f086dd79ad59",
   "metadata": {
    "tags": []
   },
   "outputs": [
    {
     "data": {
      "image/png": "[encoded data removed]",
      "text/plain": [
       "<Figure size 800x700 with 4 Axes>"
      ]
     },
     "metadata": {},
     "output_type": "display_data"
    }
   ],
   "source": [
    "# Построим графики распределений целевых переменных\n",
    "graphics_df = df[['target_by_RuBRT-tiny_no_processing', 'target_by_RuBRT-tiny_processing', 'target_by_stars']]\n",
    "graphics_df.hist(figsize=(8, 7), bins=6, grid=True, color='gray');"
   ]
  },
  {
   "cell_type": "code",
   "execution_count": 37,
   "id": "f46780d9-45bc-4080-b6cd-0383eecf25f2",
   "metadata": {
    "tags": []
   },
   "outputs": [
    {
     "data": {
      "text/html": [
       "<div>\n",
       "<style scoped>\n",
       "    .dataframe tbody tr th:only-of-type {\n",
       "        vertical-align: middle;\n",
       "    }\n",
       "\n",
       "    .dataframe tbody tr th {\n",
       "        vertical-align: top;\n",
       "    }\n",
       "\n",
       "    .dataframe thead th {\n",
       "        text-align: right;\n",
       "    }\n",
       "</style>\n",
       "<table border=\"1\" class=\"dataframe\">\n",
       "  <thead>\n",
       "    <tr style=\"text-align: right;\">\n",
       "      <th></th>\n",
       "      <th>target</th>\n",
       "      <th>negative</th>\n",
       "      <th>positive</th>\n",
       "    </tr>\n",
       "  </thead>\n",
       "  <tbody>\n",
       "    <tr>\n",
       "      <th>0</th>\n",
       "      <td>target_by_RuBRT-tiny_no_processing</td>\n",
       "      <td>2444</td>\n",
       "      <td>1951</td>\n",
       "    </tr>\n",
       "    <tr>\n",
       "      <th>1</th>\n",
       "      <td>target_by_RuBRT-tiny_processing</td>\n",
       "      <td>2509</td>\n",
       "      <td>1886</td>\n",
       "    </tr>\n",
       "    <tr>\n",
       "      <th>2</th>\n",
       "      <td>target_by_stars</td>\n",
       "      <td>2207</td>\n",
       "      <td>2188</td>\n",
       "    </tr>\n",
       "  </tbody>\n",
       "</table>\n",
       "</div>"
      ],
      "text/plain": [
       "                               target  negative  positive\n",
       "0  target_by_RuBRT-tiny_no_processing      2444      1951\n",
       "1     target_by_RuBRT-tiny_processing      2509      1886\n",
       "2                     target_by_stars      2207      2188"
      ]
     },
     "execution_count": 37,
     "metadata": {},
     "output_type": "execute_result"
    }
   ],
   "source": [
    "data_target = []\n",
    "for col in graphics_df:\n",
    "    target_dict = {\n",
    "    'target': col,\n",
    "    'negative': df[col].value_counts()[0],\n",
    "    'positive': df[col].value_counts()[1],\n",
    "    }\n",
    "    data_target.append(target_dict)\n",
    "    \n",
    "pd.DataFrame(data_target)"
   ]
  },
  {
   "cell_type": "markdown",
   "id": "464441aa-ec77-44a7-9bb3-b8d1269cb1ab",
   "metadata": {
    "tags": []
   },
   "source": [
    "После всех преобразований мы получили 3 целевых признака. Признаки `target_by_RuBRT-tiny_no_processing`, `target_by_RuBRT-tiny_processing` распределились примерно одинаково, при этом негативных отзывов больше, чем позитивных. У признака `target_by_stars` количество позитивных и негативных почти равны. "
   ]
  },
  {
   "cell_type": "code",
   "execution_count": 41,
   "id": "47b831c0-c4dc-4edb-a76c-cd3e5b1d4caf",
   "metadata": {
    "tags": []
   },
   "outputs": [],
   "source": [
    "# сохраним полученный датафрейм для обработки\n",
    "#df.to_csv('df_marking.csv', encoding='utf8', index=False)"
   ]
  }
 ],
 "metadata": {
  "kernelspec": {
   "display_name": "Python 3 (ipykernel)",
   "language": "python",
   "name": "python3"
  },
  "language_info": {
   "codemirror_mode": {
    "name": "ipython",
    "version": 3
   },
   "file_extension": ".py",
   "mimetype": "text/x-python",
   "name": "python",
   "nbconvert_exporter": "python",
   "pygments_lexer": "ipython3",
   "version": "3.9.17"
  }
 },
 "nbformat": 4,
 "nbformat_minor": 5
}
