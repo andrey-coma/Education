{
 "cells": [
  {
   "cell_type": "markdown",
   "id": "553105d0-51f6-4ba4-bde6-6a5899d02a91",
   "metadata": {},
   "source": [
    "### Объединение собранных данных (csv файлов) в единый датафрейм"
   ]
  },
  {
   "cell_type": "code",
   "execution_count": 52,
   "id": "acdb771a-e7d2-4864-8fb4-3e5581268980",
   "metadata": {},
   "outputs": [],
   "source": [
    "import pandas as pd\n",
    "import glob"
   ]
  },
  {
   "cell_type": "code",
   "execution_count": 69,
   "id": "30ef231d-a599-4d63-ae2e-7b306b33bdc3",
   "metadata": {},
   "outputs": [],
   "source": [
    "# получим путь и инема файлов с расширением csv\n",
    "files_csv = glob.glob('data_pars/' + '*.csv')"
   ]
  },
  {
   "cell_type": "code",
   "execution_count": 70,
   "id": "11562aea-aab6-4702-93ba-29f70e503c1a",
   "metadata": {},
   "outputs": [
    {
     "data": {
      "text/plain": [
       "['data_pars/products_persik_36720.csv',\n",
       " 'data_pars/products_chesnok.csv',\n",
       " 'data_pars/products_kokos.csv',\n",
       " 'data_pars/products_avakado.csv',\n",
       " 'data_pars/products_abrikos_77144.csv',\n",
       " 'data_pars/products_sliva.csv',\n",
       " 'data_pars/products_ogurtsy_110649.csv',\n",
       " 'data_pars/products_morkov.csv',\n",
       " 'data_pars/products_ananas.csv',\n",
       " 'data_pars/products_arbuz.csv',\n",
       " 'data_pars/products_apelsin.csv',\n",
       " 'data_pars/products_svekla.csv',\n",
       " 'data_pars/products_vinograd.csv',\n",
       " 'data_pars/products_golubika_88589.csv',\n",
       " 'data_pars/products_mandarin.csv',\n",
       " 'data_pars/products_ogurtsy_16645.csv',\n",
       " 'data_pars/products_grusha.csv',\n",
       " 'data_pars/products_kapusta.csv',\n",
       " 'data_pars/products_kartofel_41728.csv',\n",
       " 'data_pars/products_perets_21005.csv',\n",
       " 'data_pars/products_kartoshka.csv',\n",
       " 'data_pars/products_dina.csv',\n",
       " 'data_pars/products_luk_605.csv',\n",
       " 'data_pars/products_tomats.csv',\n",
       " 'data_pars/products_klubnika.csv',\n",
       " 'data_pars/products_yabloki.csv',\n",
       " 'data_pars/products_abrikos.csv',\n",
       " 'data_pars/products_banans.csv',\n",
       " 'data_pars/products_kivi.csv']"
      ]
     },
     "execution_count": 70,
     "metadata": {},
     "output_type": "execute_result"
    }
   ],
   "source": [
    "files_csv"
   ]
  },
  {
   "cell_type": "code",
   "execution_count": 71,
   "id": "46335255-de83-4ff4-9198-258988b62241",
   "metadata": {
    "scrolled": true
   },
   "outputs": [],
   "source": [
    "# объединим все датафреймы в один\n",
    "dfs = []\n",
    "for item in files_csv:\n",
    "    df = pd.read_csv(item, parse_dates=True)\n",
    "    dfs.append(df)\n",
    "\n",
    "df_vv = pd.concat(dfs, axis=0)"
   ]
  },
  {
   "cell_type": "code",
   "execution_count": 72,
   "id": "c90ee0c8-e60b-4c85-9355-9ae14d3eb7fb",
   "metadata": {},
   "outputs": [
    {
     "data": {
      "text/plain": [
       "(4395, 9)"
      ]
     },
     "execution_count": 72,
     "metadata": {},
     "output_type": "execute_result"
    }
   ],
   "source": [
    "df_vv.shape"
   ]
  },
  {
   "cell_type": "code",
   "execution_count": 73,
   "id": "6e2be98b-79f5-48ae-97fc-dd8808ed89ae",
   "metadata": {},
   "outputs": [
    {
     "data": {
      "text/plain": [
       "product\n",
       "Яблоко Гала                           400\n",
       "Мандарины Надоркотт                   300\n",
       "Груша Вильямс                         300\n",
       "Бананы                                300\n",
       "Клубника Краснодар                    300\n",
       "Виноград белый без косточки, 500 г    300\n",
       "Слива красная                         200\n",
       "Дыня Медовая Азия                     200\n",
       "Апельсины крупные                     200\n",
       "Картофель мытый фасованный, 2,5 кг    200\n",
       "Авокадо Хасс, 2 шт                    150\n",
       "Арбуз Иран                            150\n",
       "Капуста белокочанная                  150\n",
       "Лук репчатый                          100\n",
       "Перец красный сладкий                 100\n",
       "Картофель молодой Египет              100\n",
       "Персик Египет                         100\n",
       "Огурцы гладкие                        100\n",
       "Чеснок Фермерский,100 г               100\n",
       "Голубика «ВВ Отборное», 125 г         100\n",
       "Ананас очищенный, 500 г               100\n",
       "Морковь мытая                         100\n",
       "Томаты красные на ветке                90\n",
       "Кокос питьевой, шт                     80\n",
       "Киви Голд, 2 шт                        50\n",
       "Свекла молодая, 600 г                  40\n",
       "Огурцы Ботаника, 420 г                 39\n",
       "Абрикос Мерсин, 500 г                  30\n",
       "Абрикос Ферганский, 500 г              16\n",
       "Name: count, dtype: int64"
      ]
     },
     "execution_count": 73,
     "metadata": {},
     "output_type": "execute_result"
    }
   ],
   "source": [
    "df_vv['product'].value_counts()"
   ]
  },
  {
   "cell_type": "code",
   "execution_count": 74,
   "id": "15da6669-9d9c-47a9-ad60-5d21cf07cdc3",
   "metadata": {},
   "outputs": [
    {
     "data": {
      "text/plain": [
       "stars\n",
       "5    1718\n",
       "1     885\n",
       "3     843\n",
       "2     479\n",
       "4     470\n",
       "Name: count, dtype: int64"
      ]
     },
     "execution_count": 74,
     "metadata": {},
     "output_type": "execute_result"
    }
   ],
   "source": [
    "df_vv['stars'].value_counts()"
   ]
  },
  {
   "cell_type": "code",
   "execution_count": 75,
   "id": "25fc308b-427a-408a-8940-6fc6df55ecd6",
   "metadata": {},
   "outputs": [
    {
     "data": {
      "text/html": [
       "<div>\n",
       "<style scoped>\n",
       "    .dataframe tbody tr th:only-of-type {\n",
       "        vertical-align: middle;\n",
       "    }\n",
       "\n",
       "    .dataframe tbody tr th {\n",
       "        vertical-align: top;\n",
       "    }\n",
       "\n",
       "    .dataframe thead th {\n",
       "        text-align: right;\n",
       "    }\n",
       "</style>\n",
       "<table border=\"1\" class=\"dataframe\">\n",
       "  <thead>\n",
       "    <tr style=\"text-align: right;\">\n",
       "      <th></th>\n",
       "      <th>author</th>\n",
       "      <th>comment</th>\n",
       "      <th>date</th>\n",
       "      <th>url</th>\n",
       "      <th>product</th>\n",
       "      <th>stars</th>\n",
       "      <th>price</th>\n",
       "      <th>currency</th>\n",
       "      <th>weight</th>\n",
       "    </tr>\n",
       "  </thead>\n",
       "  <tbody>\n",
       "    <tr>\n",
       "      <th>54</th>\n",
       "      <td>Мария</td>\n",
       "      <td>Безвкусная трава со вкусом кислоты</td>\n",
       "      <td>05 мая 2025  · Карта: xxx23</td>\n",
       "      <td>https://vkusvill.ru/goods/ananas-ochishchennyy...</td>\n",
       "      <td>Ананас очищенный, 500 г</td>\n",
       "      <td>1</td>\n",
       "      <td>710</td>\n",
       "      <td>руб</td>\n",
       "      <td>/шт</td>\n",
       "    </tr>\n",
       "    <tr>\n",
       "      <th>79</th>\n",
       "      <td>Наталья</td>\n",
       "      <td>Брала по ЗЦ, мандарины уже подвядшие и совсем ...</td>\n",
       "      <td>11 мая 2025  · Карта: xxx74</td>\n",
       "      <td>https://vkusvill.ru/goods/mandariny-nadorkott-...</td>\n",
       "      <td>Мандарины Надоркотт</td>\n",
       "      <td>3</td>\n",
       "      <td>305</td>\n",
       "      <td>руб</td>\n",
       "      <td>/кг</td>\n",
       "    </tr>\n",
       "    <tr>\n",
       "      <th>155</th>\n",
       "      <td>Оксана</td>\n",
       "      <td>Всегда покупаю мандарины этого сорта. Но почем...</td>\n",
       "      <td>02 мая 2025  · Карта: xxx44</td>\n",
       "      <td>https://vkusvill.ru/goods/mandariny-nadorkott-...</td>\n",
       "      <td>Мандарины Надоркотт</td>\n",
       "      <td>1</td>\n",
       "      <td>305</td>\n",
       "      <td>руб</td>\n",
       "      <td>/кг</td>\n",
       "    </tr>\n",
       "    <tr>\n",
       "      <th>81</th>\n",
       "      <td>Ольга</td>\n",
       "      <td>Хороший. Плотный, сухой.</td>\n",
       "      <td>16 мар 2025  · Карта: xxx74</td>\n",
       "      <td>https://vkusvill.ru/goods/chesnok-fermerskiy-1...</td>\n",
       "      <td>Чеснок Фермерский,100 г</td>\n",
       "      <td>5</td>\n",
       "      <td>143</td>\n",
       "      <td>руб</td>\n",
       "      <td>/шт</td>\n",
       "    </tr>\n",
       "    <tr>\n",
       "      <th>141</th>\n",
       "      <td>Жулав Юлия Сергеевна</td>\n",
       "      <td>Вкусная,сочная,сладкая,всегда покупаю.</td>\n",
       "      <td>24 апр 2025  · Карта: xxx19</td>\n",
       "      <td>https://vkusvill.ru/goods/grusha-vilyams-22334...</td>\n",
       "      <td>Груша Вильямс</td>\n",
       "      <td>5</td>\n",
       "      <td>342</td>\n",
       "      <td>руб</td>\n",
       "      <td>/кг</td>\n",
       "    </tr>\n",
       "  </tbody>\n",
       "</table>\n",
       "</div>"
      ],
      "text/plain": [
       "                   author                                            comment  \\\n",
       "54                  Мария                 Безвкусная трава со вкусом кислоты   \n",
       "79                Наталья  Брала по ЗЦ, мандарины уже подвядшие и совсем ...   \n",
       "155                Оксана  Всегда покупаю мандарины этого сорта. Но почем...   \n",
       "81                  Ольга                           Хороший. Плотный, сухой.   \n",
       "141  Жулав Юлия Сергеевна             Вкусная,сочная,сладкая,всегда покупаю.   \n",
       "\n",
       "                            date  \\\n",
       "54   05 мая 2025  · Карта: xxx23   \n",
       "79   11 мая 2025  · Карта: xxx74   \n",
       "155  02 мая 2025  · Карта: xxx44   \n",
       "81   16 мар 2025  · Карта: xxx74   \n",
       "141  24 апр 2025  · Карта: xxx19   \n",
       "\n",
       "                                                   url  \\\n",
       "54   https://vkusvill.ru/goods/ananas-ochishchennyy...   \n",
       "79   https://vkusvill.ru/goods/mandariny-nadorkott-...   \n",
       "155  https://vkusvill.ru/goods/mandariny-nadorkott-...   \n",
       "81   https://vkusvill.ru/goods/chesnok-fermerskiy-1...   \n",
       "141  https://vkusvill.ru/goods/grusha-vilyams-22334...   \n",
       "\n",
       "                     product  stars  price currency weight  \n",
       "54   Ананас очищенный, 500 г      1    710      руб    /шт  \n",
       "79       Мандарины Надоркотт      3    305      руб    /кг  \n",
       "155      Мандарины Надоркотт      1    305      руб    /кг  \n",
       "81   Чеснок Фермерский,100 г      5    143      руб    /шт  \n",
       "141            Груша Вильямс      5    342      руб    /кг  "
      ]
     },
     "execution_count": 75,
     "metadata": {},
     "output_type": "execute_result"
    }
   ],
   "source": [
    "df_vv.sample(5)"
   ]
  },
  {
   "cell_type": "code",
   "execution_count": 76,
   "id": "9095bfd3-f2e6-46a6-8b0f-e58b5f025996",
   "metadata": {},
   "outputs": [],
   "source": [
    "# сохрание полученного датафрейма\n",
    "df_vv.to_csv('data/vkus_vils_products.csv', encoding='utf-8', index=False)"
   ]
  }
 ],
 "metadata": {
  "kernelspec": {
   "display_name": "Python 3 (ipykernel)",
   "language": "python",
   "name": "python3"
  },
  "language_info": {
   "codemirror_mode": {
    "name": "ipython",
    "version": 3
   },
   "file_extension": ".py",
   "mimetype": "text/x-python",
   "name": "python",
   "nbconvert_exporter": "python",
   "pygments_lexer": "ipython3",
   "version": "3.9.17"
  }
 },
 "nbformat": 4,
 "nbformat_minor": 5
}
