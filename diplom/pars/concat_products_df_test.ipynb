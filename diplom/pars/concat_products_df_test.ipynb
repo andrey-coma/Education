{
 "cells": [
  {
   "cell_type": "markdown",
   "id": "553105d0-51f6-4ba4-bde6-6a5899d02a91",
   "metadata": {},
   "source": [
    "### Объединение собранных данных (csv файлов) в единый датафрейм"
   ]
  },
  {
   "cell_type": "code",
   "execution_count": 82,
   "id": "acdb771a-e7d2-4864-8fb4-3e5581268980",
   "metadata": {},
   "outputs": [],
   "source": [
    "import pandas as pd\n",
    "import glob"
   ]
  },
  {
   "cell_type": "code",
   "execution_count": 83,
   "id": "30ef231d-a599-4d63-ae2e-7b306b33bdc3",
   "metadata": {},
   "outputs": [],
   "source": [
    "# получим путь и инема файлов с расширением csv\n",
    "files_csv = glob.glob('data_pars_test/' + '*.csv')"
   ]
  },
  {
   "cell_type": "code",
   "execution_count": 84,
   "id": "11562aea-aab6-4702-93ba-29f70e503c1a",
   "metadata": {},
   "outputs": [
    {
     "data": {
      "text/plain": [
       "['data_pars_test/products_salat_29850.csv',\n",
       " 'data_pars_test/products_banany_57587.csv',\n",
       " 'data_pars_test/products_petrushka_15196.csv',\n",
       " 'data_pars_test/products_malina_18641.csv',\n",
       " 'data_pars_test/products_konfety_53126.csv',\n",
       " 'data_pars_test/products_baton_34217.csv',\n",
       " 'data_pars_test/products_miks_108246.csv']"
      ]
     },
     "execution_count": 84,
     "metadata": {},
     "output_type": "execute_result"
    }
   ],
   "source": [
    "files_csv"
   ]
  },
  {
   "cell_type": "code",
   "execution_count": 85,
   "id": "46335255-de83-4ff4-9198-258988b62241",
   "metadata": {
    "scrolled": true
   },
   "outputs": [],
   "source": [
    "# объединим все датафреймы в один\n",
    "dfs = []\n",
    "for item in files_csv:\n",
    "    df = pd.read_csv(item, parse_dates=True)\n",
    "    dfs.append(df)\n",
    "\n",
    "df_vv = pd.concat(dfs, axis=0)"
   ]
  },
  {
   "cell_type": "code",
   "execution_count": 86,
   "id": "c90ee0c8-e60b-4c85-9355-9ae14d3eb7fb",
   "metadata": {},
   "outputs": [
    {
     "data": {
      "text/plain": [
       "(690, 10)"
      ]
     },
     "execution_count": 86,
     "metadata": {},
     "output_type": "execute_result"
    }
   ],
   "source": [
    "df_vv.shape"
   ]
  },
  {
   "cell_type": "code",
   "execution_count": 87,
   "id": "6e2be98b-79f5-48ae-97fc-dd8808ed89ae",
   "metadata": {},
   "outputs": [
    {
     "data": {
      "text/plain": [
       "Батон нарезной, половинка                         200\n",
       "Салат Рукола, 125 г                               130\n",
       "Петрушка, 50 г                                    130\n",
       "Бананы зеленые                                    100\n",
       "Микс салатный «Зелёная богиня», 50 г              100\n",
       "Малина, 125 г                                      20\n",
       "Конфеты молочные «Сливочный каприз» на сливках     10\n",
       "Name: product, dtype: int64"
      ]
     },
     "execution_count": 87,
     "metadata": {},
     "output_type": "execute_result"
    }
   ],
   "source": [
    "df_vv['product'].value_counts()"
   ]
  },
  {
   "cell_type": "code",
   "execution_count": 88,
   "id": "15da6669-9d9c-47a9-ad60-5d21cf07cdc3",
   "metadata": {},
   "outputs": [
    {
     "data": {
      "text/plain": [
       "5    345\n",
       "3    123\n",
       "1    101\n",
       "4     64\n",
       "2     57\n",
       "Name: stars, dtype: int64"
      ]
     },
     "execution_count": 88,
     "metadata": {},
     "output_type": "execute_result"
    }
   ],
   "source": [
    "df_vv['stars'].value_counts()"
   ]
  },
  {
   "cell_type": "code",
   "execution_count": 89,
   "id": "25fc308b-427a-408a-8940-6fc6df55ecd6",
   "metadata": {},
   "outputs": [
    {
     "data": {
      "text/html": [
       "<div>\n",
       "<style scoped>\n",
       "    .dataframe tbody tr th:only-of-type {\n",
       "        vertical-align: middle;\n",
       "    }\n",
       "\n",
       "    .dataframe tbody tr th {\n",
       "        vertical-align: top;\n",
       "    }\n",
       "\n",
       "    .dataframe thead th {\n",
       "        text-align: right;\n",
       "    }\n",
       "</style>\n",
       "<table border=\"1\" class=\"dataframe\">\n",
       "  <thead>\n",
       "    <tr style=\"text-align: right;\">\n",
       "      <th></th>\n",
       "      <th>author</th>\n",
       "      <th>comment</th>\n",
       "      <th>date</th>\n",
       "      <th>url</th>\n",
       "      <th>product</th>\n",
       "      <th>category</th>\n",
       "      <th>stars</th>\n",
       "      <th>price</th>\n",
       "      <th>currency</th>\n",
       "      <th>weight</th>\n",
       "    </tr>\n",
       "  </thead>\n",
       "  <tbody>\n",
       "    <tr>\n",
       "      <th>89</th>\n",
       "      <td>Журавицкая Ольга</td>\n",
       "      <td>Очень мягкий</td>\n",
       "      <td>16 мая 2025  · Карта: xxx20</td>\n",
       "      <td>https://vkusvill.ru/goods/baton-nareznoy-polov...</td>\n",
       "      <td>Батон нарезной, половинка</td>\n",
       "      <td>Особое</td>\n",
       "      <td>5</td>\n",
       "      <td>41</td>\n",
       "      <td>руб</td>\n",
       "      <td>/шт</td>\n",
       "    </tr>\n",
       "    <tr>\n",
       "      <th>75</th>\n",
       "      <td>Покупатель</td>\n",
       "      <td>Хлеб постоянно твердый, как- будто неделями лежит</td>\n",
       "      <td>17 мая 2025  · Карта: xxx56</td>\n",
       "      <td>https://vkusvill.ru/goods/baton-nareznoy-polov...</td>\n",
       "      <td>Батон нарезной, половинка</td>\n",
       "      <td>Особое</td>\n",
       "      <td>3</td>\n",
       "      <td>41</td>\n",
       "      <td>руб</td>\n",
       "      <td>/шт</td>\n",
       "    </tr>\n",
       "    <tr>\n",
       "      <th>67</th>\n",
       "      <td>Ирина</td>\n",
       "      <td>Хлебушек хоть и вчерашний очень мягкий, свежий...</td>\n",
       "      <td>17 мая 2025  · Карта: xxx89</td>\n",
       "      <td>https://vkusvill.ru/goods/baton-nareznoy-polov...</td>\n",
       "      <td>Батон нарезной, половинка</td>\n",
       "      <td>Особое</td>\n",
       "      <td>5</td>\n",
       "      <td>41</td>\n",
       "      <td>руб</td>\n",
       "      <td>/шт</td>\n",
       "    </tr>\n",
       "    <tr>\n",
       "      <th>116</th>\n",
       "      <td>Ксения</td>\n",
       "      <td>Вялая тряпочка вся в мусорку</td>\n",
       "      <td>12 мар 2025  · Карта: xxx14</td>\n",
       "      <td>https://vkusvill.ru/goods/petrushka-50-g-15196...</td>\n",
       "      <td>Петрушка, 50 г</td>\n",
       "      <td>Овощи</td>\n",
       "      <td>1</td>\n",
       "      <td>73</td>\n",
       "      <td>руб</td>\n",
       "      <td>/шт</td>\n",
       "    </tr>\n",
       "    <tr>\n",
       "      <th>75</th>\n",
       "      <td>Екатерина</td>\n",
       "      <td>По зеленому ценнику выходит 109р/кг, внешне ни...</td>\n",
       "      <td>15 мая 2025  · Карта: xxx47</td>\n",
       "      <td>https://vkusvill.ru/goods/banany-zelenye-57587...</td>\n",
       "      <td>Бананы зеленые</td>\n",
       "      <td>Овощи</td>\n",
       "      <td>5</td>\n",
       "      <td>178</td>\n",
       "      <td>руб</td>\n",
       "      <td>/кг</td>\n",
       "    </tr>\n",
       "  </tbody>\n",
       "</table>\n",
       "</div>"
      ],
      "text/plain": [
       "               author                                            comment  \\\n",
       "89   Журавицкая Ольга                                       Очень мягкий   \n",
       "75         Покупатель  Хлеб постоянно твердый, как- будто неделями лежит   \n",
       "67              Ирина  Хлебушек хоть и вчерашний очень мягкий, свежий...   \n",
       "116            Ксения                       Вялая тряпочка вся в мусорку   \n",
       "75          Екатерина  По зеленому ценнику выходит 109р/кг, внешне ни...   \n",
       "\n",
       "                            date  \\\n",
       "89   16 мая 2025  · Карта: xxx20   \n",
       "75   17 мая 2025  · Карта: xxx56   \n",
       "67   17 мая 2025  · Карта: xxx89   \n",
       "116  12 мар 2025  · Карта: xxx14   \n",
       "75   15 мая 2025  · Карта: xxx47   \n",
       "\n",
       "                                                   url  \\\n",
       "89   https://vkusvill.ru/goods/baton-nareznoy-polov...   \n",
       "75   https://vkusvill.ru/goods/baton-nareznoy-polov...   \n",
       "67   https://vkusvill.ru/goods/baton-nareznoy-polov...   \n",
       "116  https://vkusvill.ru/goods/petrushka-50-g-15196...   \n",
       "75   https://vkusvill.ru/goods/banany-zelenye-57587...   \n",
       "\n",
       "                       product category  stars  price currency weight  \n",
       "89   Батон нарезной, половинка   Особое      5     41      руб    /шт  \n",
       "75   Батон нарезной, половинка   Особое      3     41      руб    /шт  \n",
       "67   Батон нарезной, половинка   Особое      5     41      руб    /шт  \n",
       "116             Петрушка, 50 г    Овощи      1     73      руб    /шт  \n",
       "75              Бананы зеленые    Овощи      5    178      руб    /кг  "
      ]
     },
     "execution_count": 89,
     "metadata": {},
     "output_type": "execute_result"
    }
   ],
   "source": [
    "df_vv.sample(5)"
   ]
  },
  {
   "cell_type": "code",
   "execution_count": 90,
   "id": "9095bfd3-f2e6-46a6-8b0f-e58b5f025996",
   "metadata": {},
   "outputs": [],
   "source": [
    "# сохрание полученного датафрейма\n",
    "df_vv.to_csv('data_test/test.csv', encoding='utf-8', index=False)"
   ]
  }
 ],
 "metadata": {
  "kernelspec": {
   "display_name": "Python 3 (ipykernel)",
   "language": "python",
   "name": "python3"
  },
  "language_info": {
   "codemirror_mode": {
    "name": "ipython",
    "version": 3
   },
   "file_extension": ".py",
   "mimetype": "text/x-python",
   "name": "python",
   "nbconvert_exporter": "python",
   "pygments_lexer": "ipython3",
   "version": "3.9.17"
  }
 },
 "nbformat": 4,
 "nbformat_minor": 5
}
