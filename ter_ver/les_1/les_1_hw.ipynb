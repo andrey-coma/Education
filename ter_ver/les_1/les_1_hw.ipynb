{
 "cells": [
  {
   "cell_type": "code",
   "execution_count": 1,
   "id": "1e903fc2-f27b-45cb-8ce6-39abc9dd7c3a",
   "metadata": {
    "tags": []
   },
   "outputs": [],
   "source": [
    "import math"
   ]
  },
  {
   "cell_type": "raw",
   "id": "4f3b59f0-2c5e-4f5c-9eba-f9a80e57bc8b",
   "metadata": {},
   "source": [
    "Задание 1.\n",
    "Из колоды в 52 карты извлекаются случайным образом 4 карты."
   ]
  },
  {
   "cell_type": "code",
   "execution_count": 2,
   "id": "9e9ab3dd-39ad-4c9a-af39-f6b77464d074",
   "metadata": {},
   "outputs": [],
   "source": [
    "# a) Найти вероятность того, что все карты – крести."
   ]
  },
  {
   "cell_type": "code",
   "execution_count": 3,
   "id": "ea6b6876-88ff-4530-8cfd-376f6f53b492",
   "metadata": {
    "tags": []
   },
   "outputs": [
    {
     "data": {
      "text/plain": [
       "13.0"
      ]
     },
     "execution_count": 3,
     "metadata": {},
     "output_type": "execute_result"
    }
   ],
   "source": [
    "52 / 4"
   ]
  },
  {
   "cell_type": "code",
   "execution_count": 4,
   "id": "cd2c8254-620e-4718-a964-c2dc5eb43ac1",
   "metadata": {
    "tags": []
   },
   "outputs": [
    {
     "data": {
      "text/plain": [
       "270725"
      ]
     },
     "execution_count": 4,
     "metadata": {},
     "output_type": "execute_result"
    }
   ],
   "source": [
    "n = math.comb(52, 4)\n",
    "n"
   ]
  },
  {
   "cell_type": "code",
   "execution_count": 5,
   "id": "7630c618-313c-43c9-b3e9-691b2f335da1",
   "metadata": {
    "tags": []
   },
   "outputs": [
    {
     "data": {
      "text/plain": [
       "715"
      ]
     },
     "execution_count": 5,
     "metadata": {},
     "output_type": "execute_result"
    }
   ],
   "source": [
    "m = math.comb(13, 4)\n",
    "m"
   ]
  },
  {
   "cell_type": "code",
   "execution_count": 6,
   "id": "9832c06a-e786-4d1e-a59b-d639d34ddf9d",
   "metadata": {
    "tags": []
   },
   "outputs": [
    {
     "data": {
      "text/plain": [
       "0.2641"
      ]
     },
     "execution_count": 6,
     "metadata": {},
     "output_type": "execute_result"
    }
   ],
   "source": [
    "p = m / n * 100\n",
    "round(p, 4)"
   ]
  },
  {
   "cell_type": "code",
   "execution_count": 7,
   "id": "a33fb465-8cec-4eae-8cd8-99088daf55a7",
   "metadata": {
    "tags": []
   },
   "outputs": [],
   "source": [
    "# б) Найти вероятность, что среди 4-х карт окажется хотя бы один туз"
   ]
  },
  {
   "cell_type": "code",
   "execution_count": 8,
   "id": "8b4142f5-6a2d-478a-99bb-68ba860358b8",
   "metadata": {
    "tags": []
   },
   "outputs": [
    {
     "data": {
      "text/plain": [
       "270725"
      ]
     },
     "execution_count": 8,
     "metadata": {},
     "output_type": "execute_result"
    }
   ],
   "source": [
    "n = math.comb(52, 4)\n",
    "n"
   ]
  },
  {
   "cell_type": "code",
   "execution_count": 9,
   "id": "46299a2c-02cb-4b5d-bc9f-e078d9308dd6",
   "metadata": {
    "tags": []
   },
   "outputs": [
    {
     "data": {
      "text/plain": [
       "28.1263"
      ]
     },
     "execution_count": 9,
     "metadata": {},
     "output_type": "execute_result"
    }
   ],
   "source": [
    "m = math.comb(48, 4)\n",
    "p = (1 - (m / n)) * 100\n",
    "round(p, 4)"
   ]
  },
  {
   "cell_type": "raw",
   "id": "3346c290-90c2-4f66-86e0-3e063147b8a7",
   "metadata": {
    "tags": []
   },
   "source": [
    "Задание 2\n",
    "На входной двери подъезда установлен кодовый замок, содержащий десять кнопок с\n",
    "цифрами от 0 до 9. Код содержит три цифры, которые нужно нажать одновременно.\n",
    "Какова вероятность того, что человек, не знающий код, откроет дверь с первой\n",
    "попытки?"
   ]
  },
  {
   "cell_type": "code",
   "execution_count": 10,
   "id": "af340b15-a247-4e74-b5ee-6c3aa967b9b7",
   "metadata": {
    "tags": []
   },
   "outputs": [
    {
     "data": {
      "text/plain": [
       "(1, 120)"
      ]
     },
     "execution_count": 10,
     "metadata": {},
     "output_type": "execute_result"
    }
   ],
   "source": [
    "m = 1\n",
    "n = math.comb(10, 3)\n",
    "m, n"
   ]
  },
  {
   "cell_type": "code",
   "execution_count": 11,
   "id": "2847c786-f3cb-455c-89f8-e0265ff67ee2",
   "metadata": {
    "tags": []
   },
   "outputs": [
    {
     "data": {
      "text/plain": [
       "0.833"
      ]
     },
     "execution_count": 11,
     "metadata": {},
     "output_type": "execute_result"
    }
   ],
   "source": [
    "p = (m / n) * 100\n",
    "round(p, 3)"
   ]
  },
  {
   "cell_type": "raw",
   "id": "7a5af5e7-442c-40b3-93a0-033bb52ab3d4",
   "metadata": {},
   "source": [
    "Задача 3.\n",
    "В ящике имеется 15 деталей, из которых 9 окрашены. Рабочий случайным образом\n",
    "извлекает 3 детали. Какова вероятность того, что все извлеченные детали окрашены"
   ]
  },
  {
   "cell_type": "code",
   "execution_count": 13,
   "id": "77d2bc50-5967-45bf-9ceb-db8c67367e2d",
   "metadata": {
    "tags": []
   },
   "outputs": [
    {
     "data": {
      "text/plain": [
       "18.462"
      ]
     },
     "execution_count": 13,
     "metadata": {},
     "output_type": "execute_result"
    }
   ],
   "source": [
    "n = math.comb(15, 3)\n",
    "m = math.comb(9, 3)\n",
    "p = m / n * 100\n",
    "round(p, 3)"
   ]
  },
  {
   "cell_type": "raw",
   "id": "a417fcb1-2011-483b-afd8-bb8fe8450810",
   "metadata": {},
   "source": [
    "Задача 4.\n",
    "В лотерее 100 билетов. Из них 2 выигрышных. Какова вероятность того, что 2\n",
    "приобретенных билета окажутся выигрышными?"
   ]
  },
  {
   "cell_type": "code",
   "execution_count": 18,
   "id": "de7e7bba-1c1c-45fc-8b1c-60e0c6f2aecc",
   "metadata": {
    "tags": []
   },
   "outputs": [
    {
     "data": {
      "text/plain": [
       "(1, 4950)"
      ]
     },
     "execution_count": 18,
     "metadata": {},
     "output_type": "execute_result"
    }
   ],
   "source": [
    "m = math.comb(2, 2)\n",
    "n = math.comb(100, 2)\n",
    "m, n"
   ]
  },
  {
   "cell_type": "code",
   "execution_count": 19,
   "id": "a5f501ef-0122-4e92-8354-b8959fac1944",
   "metadata": {
    "tags": []
   },
   "outputs": [
    {
     "data": {
      "text/plain": [
       "0.02"
      ]
     },
     "execution_count": 19,
     "metadata": {},
     "output_type": "execute_result"
    }
   ],
   "source": [
    "p = m / n * 100\n",
    "round(p, 3)"
   ]
  }
 ],
 "metadata": {
  "kernelspec": {
   "display_name": "Python 3 (ipykernel)",
   "language": "python",
   "name": "python3"
  },
  "language_info": {
   "codemirror_mode": {
    "name": "ipython",
    "version": 3
   },
   "file_extension": ".py",
   "mimetype": "text/x-python",
   "name": "python",
   "nbconvert_exporter": "python",
   "pygments_lexer": "ipython3",
   "version": "3.9.17"
  }
 },
 "nbformat": 4,
 "nbformat_minor": 5
}
