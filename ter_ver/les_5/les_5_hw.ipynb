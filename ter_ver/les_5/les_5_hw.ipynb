{
 "cells": [
  {
   "cell_type": "code",
   "execution_count": 1,
   "id": "eb7f4175-236d-483a-8cb3-a68c14eae83c",
   "metadata": {
    "tags": []
   },
   "outputs": [],
   "source": [
    "import numpy as np\n",
    "import math\n",
    "import scipy.stats as stats"
   ]
  },
  {
   "cell_type": "markdown",
   "id": "5e3dcd2d-d06d-4d85-9e89-9c543cfc4f1e",
   "metadata": {},
   "source": [
    "Задача 1. \n",
    "Утверждается, что шарики для подшипников, изготовленные автоматическим станком, имеют средний диаметр 17 мм.\n",
    "Используя односторонний критерий с α=0,05, проверить эту гипотезу, если в выборке из n=100 шариков средний диаметр\n",
    "оказался равным 17.5 мм, а дисперсия известна и равна 4 мм."
   ]
  },
  {
   "cell_type": "code",
   "execution_count": 2,
   "id": "10c28c45-498f-4579-81c5-4606dc0b7cdf",
   "metadata": {
    "tags": []
   },
   "outputs": [],
   "source": [
    "alpha = 0.05\n",
    "n = 100\n",
    "M = 17 \n",
    "M_o = 17.5\n",
    "variance = 4\n",
    "sigma = np.sqrt(variance)\n",
    "Zt = 1.65"
   ]
  },
  {
   "cell_type": "code",
   "execution_count": 3,
   "id": "502f9ffc-b22c-418d-81cd-b6e631145392",
   "metadata": {
    "tags": []
   },
   "outputs": [
    {
     "data": {
      "text/plain": [
       "0.2"
      ]
     },
     "execution_count": 3,
     "metadata": {},
     "output_type": "execute_result"
    }
   ],
   "source": [
    "se = sigma / np.sqrt(n)\n",
    "se"
   ]
  },
  {
   "cell_type": "markdown",
   "id": "14bd4e43-e3a6-4795-8d3e-1ae9e7d1215c",
   "metadata": {
    "tags": []
   },
   "source": [
    "* *H0: M = M0*\n",
    "* *H1: M > M0*"
   ]
  },
  {
   "cell_type": "code",
   "execution_count": 4,
   "id": "5e9dc682-25d5-4bea-8972-b39bdf65b1cb",
   "metadata": {
    "tags": []
   },
   "outputs": [
    {
     "data": {
      "text/plain": [
       "2.5"
      ]
     },
     "execution_count": 4,
     "metadata": {},
     "output_type": "execute_result"
    }
   ],
   "source": [
    "Zh = (M_o - M) / se\n",
    "Zh"
   ]
  },
  {
   "cell_type": "markdown",
   "id": "9308b4a5-e522-4e43-b75c-4a2c72e36058",
   "metadata": {
    "tags": []
   },
   "source": [
    "2.5 > 1.65 попадает в область H1, верна альтернативная гипотеза"
   ]
  },
  {
   "cell_type": "markdown",
   "id": "3b5469c4-8f1d-415a-ae5e-b1a65aea45e8",
   "metadata": {},
   "source": [
    "Задача 2.\n",
    "Проведите тест гипотезы. Продавец утверждает, что средний вес пачки печенья\n",
    "составляет 200 г. Из партии извлечена выборка из 10 пачек. Вес каждой пачки\n",
    "составляет: 202, 203, 199, 197, 195, 201, 200, 204, 194, 190. Известно, что их веса\n",
    "распределены нормально. Верно ли утверждение продавца, если учитывать, что\n",
    "доверительная вероятность равна 99%? (Провести двусторонний тест.)"
   ]
  },
  {
   "cell_type": "code",
   "execution_count": 5,
   "id": "37811cdb-4683-4a56-9923-d7d9ede26479",
   "metadata": {
    "tags": []
   },
   "outputs": [],
   "source": [
    "weights = np.array([202, 203, 199, 197, 195, 201, 200, 204, 194, 190])\n",
    "M_o = 200\n",
    "n = 10\n",
    "M = np.mean(weights)"
   ]
  },
  {
   "cell_type": "markdown",
   "id": "32bbfc57-f1f3-4e70-95f6-dcffbee1d40d",
   "metadata": {
    "tags": []
   },
   "source": [
    "    H0: M = M0\n",
    "    H1: M != M0"
   ]
  },
  {
   "cell_type": "markdown",
   "id": "fbe43242-0978-4181-9108-4ae177d3512b",
   "metadata": {
    "tags": []
   },
   "source": [
    "Cигма неизвестна => Стьюдент"
   ]
  },
  {
   "cell_type": "code",
   "execution_count": 6,
   "id": "04bd3010-8fe3-4c2b-b003-f4daf5b54f2c",
   "metadata": {
    "tags": []
   },
   "outputs": [
    {
     "data": {
      "text/plain": [
       "4.453463071962462"
      ]
     },
     "execution_count": 6,
     "metadata": {},
     "output_type": "execute_result"
    }
   ],
   "source": [
    "sigma = np.std(weights, ddof=1)\n",
    "sigma"
   ]
  },
  {
   "cell_type": "code",
   "execution_count": 7,
   "id": "0bc05623-681b-4972-93a9-6a87f71c84d6",
   "metadata": {
    "tags": []
   },
   "outputs": [],
   "source": [
    "alpha = 0.005\n",
    "T_t1 = - 3.25\n",
    "T_t2 = 3.25"
   ]
  },
  {
   "cell_type": "markdown",
   "id": "af86a841-1988-461a-bdc1-f9c31eda8086",
   "metadata": {
    "tags": []
   },
   "source": [
    "T = (M - M_o) / (sigma / np.sqrt(n))\n",
    "T"
   ]
  },
  {
   "cell_type": "markdown",
   "id": "81198cbc-c57d-46b7-84b0-6ffb7f18db74",
   "metadata": {},
   "source": [
    "-1.065 > - 3.25 значение находится в области H0 => верна H0 гипотеза"
   ]
  },
  {
   "cell_type": "markdown",
   "id": "4c572119-6d8b-4c91-9187-4a99c733d14c",
   "metadata": {
    "tags": []
   },
   "source": [
    "Задача 3.\n",
    "Есть ли статистически значимые различия в росте дочерей? Рост матерей 172,\n",
    "177, 158, 170, 178,175, 164, 160, 169, 165 Рост взрослых дочерей: 173, 175, 162, 174,\n",
    "175, 168, 155, 170, 160"
   ]
  },
  {
   "cell_type": "code",
   "execution_count": 8,
   "id": "0577e41f-82e1-466d-a1a0-5745ec156b44",
   "metadata": {
    "tags": []
   },
   "outputs": [],
   "source": [
    "height_moms = np.array([172, 177, 158, 170, 178,175, 164, 160, 169])\n",
    "height_dothers = np.array([173, 175, 162, 174, 175, 168, 155, 170, 160])"
   ]
  },
  {
   "cell_type": "markdown",
   "id": "65501e00-0439-4d16-8801-137fed8487c0",
   "metadata": {
    "tags": []
   },
   "source": [
    "    H0: M1 = M2\n",
    "    H1: M1 != M2"
   ]
  },
  {
   "cell_type": "code",
   "execution_count": 9,
   "id": "8dba5643-878f-4be3-9dc8-f3c8679cf366",
   "metadata": {
    "tags": []
   },
   "outputs": [],
   "source": [
    "a = 0.05\n",
    "n = 9"
   ]
  },
  {
   "cell_type": "code",
   "execution_count": 10,
   "id": "801bcc45-32a6-48d0-ac63-33d44917b584",
   "metadata": {
    "tags": []
   },
   "outputs": [],
   "source": [
    "M_1 = np.mean(height_moms)\n",
    "M_2 = np.mean(height_dothers)"
   ]
  },
  {
   "cell_type": "code",
   "execution_count": 11,
   "id": "78d5cb7f-e47f-498e-9d20-23a63c9d7c9b",
   "metadata": {
    "tags": []
   },
   "outputs": [
    {
     "data": {
      "text/plain": [
       "16"
      ]
     },
     "execution_count": 11,
     "metadata": {},
     "output_type": "execute_result"
    }
   ],
   "source": [
    "df = 2 * (n - 1)\n",
    "df"
   ]
  },
  {
   "cell_type": "code",
   "execution_count": 12,
   "id": "d24245a1-8215-4467-a199-200e7920e92b",
   "metadata": {
    "tags": []
   },
   "outputs": [],
   "source": [
    "T_t1 = - 2.120\n",
    "T_t2 = 2.120"
   ]
  },
  {
   "cell_type": "code",
   "execution_count": 13,
   "id": "ffea8fc8-19ab-47e2-a663-7d2b807a117a",
   "metadata": {
    "tags": []
   },
   "outputs": [
    {
     "data": {
      "text/plain": [
       "0.16764016764025233"
      ]
     },
     "execution_count": 13,
     "metadata": {},
     "output_type": "execute_result"
    }
   ],
   "source": [
    "T = (M_1 - M_2) / np.sqrt(np.var(height_moms) / n + np.var(height_dothers))\n",
    "T"
   ]
  },
  {
   "cell_type": "markdown",
   "id": "df4de7de-cf0e-4ad0-b3fb-8adca6e50570",
   "metadata": {
    "tags": []
   },
   "source": [
    "0.167 > 2.120 значение находится в области H0 => верна H0 гипотеза\n"
   ]
  }
 ],
 "metadata": {
  "kernelspec": {
   "display_name": "Python 3 (ipykernel)",
   "language": "python",
   "name": "python3"
  },
  "language_info": {
   "codemirror_mode": {
    "name": "ipython",
    "version": 3
   },
   "file_extension": ".py",
   "mimetype": "text/x-python",
   "name": "python",
   "nbconvert_exporter": "python",
   "pygments_lexer": "ipython3",
   "version": "3.9.17"
  }
 },
 "nbformat": 4,
 "nbformat_minor": 5
}
