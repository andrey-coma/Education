{
 "cells": [
  {
   "cell_type": "code",
   "execution_count": 1,
   "id": "1dd3dc81-508f-45e9-8b08-52c2aa1c0be1",
   "metadata": {
    "tags": []
   },
   "outputs": [],
   "source": [
    "import numpy as np\n",
    "import scipy.stats as stats"
   ]
  },
  {
   "cell_type": "markdown",
   "id": "fe275fc1-8fe3-44c5-8dc3-81f8452548fd",
   "metadata": {},
   "source": [
    "Задание 1.\n",
    "Даны две независимые выборки. Не соблюдается условие нормальности\n",
    "Сделайте вывод по результатам, полученным с помощью функции"
   ]
  },
  {
   "cell_type": "code",
   "execution_count": 2,
   "id": "8c18698d-82fc-46b2-b9c4-063e27448f1c",
   "metadata": {
    "tags": []
   },
   "outputs": [
    {
     "data": {
      "text/plain": [
       "(array([380, 420, 290]), array([140, 360, 200, 900]))"
      ]
     },
     "execution_count": 2,
     "metadata": {},
     "output_type": "execute_result"
    }
   ],
   "source": [
    "x1 = np.array([380, 420, 290])\n",
    "y1 = np.array([140, 360, 200, 900])\n",
    "x1, y1"
   ]
  },
  {
   "cell_type": "markdown",
   "id": "36957a43-5aec-440c-9a2f-5a152739bcbd",
   "metadata": {},
   "source": [
    "* *H0: M1 = M2*\n",
    "* *H1: M1 != M2*"
   ]
  },
  {
   "cell_type": "code",
   "execution_count": 3,
   "id": "be25e0dc-3d6b-46d9-8bc6-02704841473f",
   "metadata": {
    "tags": []
   },
   "outputs": [],
   "source": [
    "# 2 группы + независимые выборки = Манна-Уитни"
   ]
  },
  {
   "cell_type": "code",
   "execution_count": 4,
   "id": "a24809f8-0f53-4d8b-bc3d-fe1f432c5584",
   "metadata": {
    "tags": []
   },
   "outputs": [
    {
     "data": {
      "text/plain": [
       "MannwhitneyuResult(statistic=8.0, pvalue=0.6285714285714286)"
      ]
     },
     "execution_count": 4,
     "metadata": {},
     "output_type": "execute_result"
    }
   ],
   "source": [
    "stats.mannwhitneyu(x1, y1)"
   ]
  },
  {
   "cell_type": "code",
   "execution_count": 5,
   "id": "7c48637a-620e-4442-8941-ccbca98b8930",
   "metadata": {
    "tags": []
   },
   "outputs": [
    {
     "name": "stdout",
     "output_type": "stream",
     "text": [
      "pvalue=0.628 > 0.05 верна 0 гипотеза стат. отличий нет\n"
     ]
    }
   ],
   "source": [
    "print(f'pvalue=0.628 > 0.05 верна 0 гипотеза стат. отличий нет')"
   ]
  },
  {
   "cell_type": "markdown",
   "id": "88e8a28d-f631-4b0e-be34-49c8f8706aae",
   "metadata": {},
   "source": [
    "Задание 2.\n",
    "Исследовалось влияние препарата на уровень давления пациентов. Сначала\n",
    "измерялось давление до приема препарата, потом через 10 минут и через 30\n",
    "минут. Есть ли статистически значимые различия?\n",
    "1е измерение до приема препарата: 150, 160, 165, 145, 155\n",
    "2е измерение через 10 минут: 140, 155, 150, 130, 135\n",
    "3е измерение через 30 минут: 130, 130, 120, 130, 125"
   ]
  },
  {
   "cell_type": "code",
   "execution_count": 6,
   "id": "b77bed2f-ebba-4b50-b10c-2a815350532a",
   "metadata": {
    "tags": []
   },
   "outputs": [],
   "source": [
    "a = np.array([150, 160, 165, 145, 155])\n",
    "a_10 = np.array([140, 155, 150, 130, 135])\n",
    "a_30 = np.array([130, 130, 120, 130, 125])"
   ]
  },
  {
   "cell_type": "code",
   "execution_count": 7,
   "id": "360936a3-a038-42e7-bad6-1b90478433d0",
   "metadata": {
    "tags": []
   },
   "outputs": [],
   "source": [
    "# Множественные сравнения + повторные измерения = Критерий Фридфмана"
   ]
  },
  {
   "cell_type": "code",
   "execution_count": 8,
   "id": "b33f6da4-7150-486f-8641-a12513410875",
   "metadata": {
    "tags": []
   },
   "outputs": [
    {
     "data": {
      "text/plain": [
       "FriedmanchisquareResult(statistic=9.578947368421062, pvalue=0.00831683351100441)"
      ]
     },
     "execution_count": 8,
     "metadata": {},
     "output_type": "execute_result"
    }
   ],
   "source": [
    "stats.friedmanchisquare(a, a_10, a_30)"
   ]
  },
  {
   "cell_type": "code",
   "execution_count": 9,
   "id": "56ffe129-2874-41ab-ad2a-26a8940e8ee5",
   "metadata": {
    "tags": []
   },
   "outputs": [
    {
     "name": "stdout",
     "output_type": "stream",
     "text": [
      "pvalue=0.0083 < 0.05 верна альт гипотеза стат. отличия есть\n"
     ]
    }
   ],
   "source": [
    "print(f'pvalue=0.0083 < 0.05 верна альт гипотеза стат. отличия есть')"
   ]
  },
  {
   "cell_type": "markdown",
   "id": "69fd9578-87cb-4fc9-aae3-b9c60bc73a58",
   "metadata": {
    "tags": []
   },
   "source": [
    "Задача 3.\n",
    "Сравните 1 и 2 е измерения, предполагая, что 3го измерения через 30 минут не\n",
    "было"
   ]
  },
  {
   "cell_type": "code",
   "execution_count": 10,
   "id": "7477c35c-f466-4f27-b03a-6b9ac58a136a",
   "metadata": {
    "tags": []
   },
   "outputs": [],
   "source": [
    "a = np.array([150, 160, 165, 145, 155])\n",
    "a_10 = np.array([140, 155, 150, 130, 135])"
   ]
  },
  {
   "cell_type": "code",
   "execution_count": 11,
   "id": "051314fd-f21d-4acb-88b5-d143807a9574",
   "metadata": {
    "tags": []
   },
   "outputs": [
    {
     "data": {
      "text/plain": [
       "Ttest_indResult(statistic=2.2294816068526147, pvalue=0.05862975926462081)"
      ]
     },
     "execution_count": 11,
     "metadata": {},
     "output_type": "execute_result"
    }
   ],
   "source": [
    "stats.ttest_ind(a, a_10, equal_var=False)"
   ]
  },
  {
   "cell_type": "code",
   "execution_count": 12,
   "id": "8bd3bf94-a8bd-4a3b-b855-1aa7b9443ba4",
   "metadata": {
    "tags": []
   },
   "outputs": [
    {
     "name": "stdout",
     "output_type": "stream",
     "text": [
      "t-статистика: 2.2294816068526147\n",
      "p-значение: 0.05862975926462081\n",
      "Нет статистически значимых различий между первым и вторым измерением.\n"
     ]
    }
   ],
   "source": [
    "# Данные задач\n",
    "alpha = 0.05\n",
    "first_measurement = [150, 160, 165, 145, 155]\n",
    "second_measurement = [140, 155, 150, 130, 135]\n",
    "# Тест для независимых выборок (хотя данные парные, используем t-тест для независимых выборок)\n",
    "t_stat, p_value = stats.ttest_ind(first_measurement,\n",
    "second_measurement, equal_var=False)\n",
    "print(f\"t-статистика: {t_stat}\")\n",
    "print(f\"p-значение: {p_value}\")\n",
    "if p_value < alpha: \n",
    "    print(\"Есть статистически значимые различия между первым и вторым измерением.\")\n",
    "else:\n",
    "    print(\"Нет статистически значимых различий между первым и вторым измерением.\")"
   ]
  },
  {
   "cell_type": "markdown",
   "id": "becce5dd-8acf-4926-b32d-655553c5fe58",
   "metadata": {},
   "source": [
    "Задача 4.\n",
    "Даны 3 группы учеников плавания.\n",
    "В 1 группе время на дистанцию 50 м составляют:\n",
    "56, 60, 62, 55, 71, 67, 59, 58, 64, 67\n",
    "Вторая группа : 57, 58, 69, 48, 72, 70, 68, 71, 50, 53\n",
    "Третья группа: 57, 67, 49, 48, 47, 55, 66, 51, 54"
   ]
  },
  {
   "cell_type": "code",
   "execution_count": 13,
   "id": "b6ade99b-5221-48c3-aa4f-cced1908c372",
   "metadata": {
    "tags": []
   },
   "outputs": [],
   "source": [
    "gr1 = np.array([56, 60, 62, 55, 71, 67, 59, 58, 64, 67])\n",
    "gr2 = np.array([57, 58, 69, 48, 72, 70, 68, 71, 50, 53])\n",
    "gr3 = np.array([57, 67, 49, 48, 47, 55, 66, 51, 54])"
   ]
  },
  {
   "cell_type": "code",
   "execution_count": 14,
   "id": "83ffbe4e-f879-4049-8b78-436d0df450be",
   "metadata": {
    "tags": []
   },
   "outputs": [],
   "source": [
    "# Множественные сравнения + независимые выборки = Критерий Крускала - Уоллиса"
   ]
  },
  {
   "cell_type": "code",
   "execution_count": 15,
   "id": "797bbaae-56e5-44c6-b577-804190a1d30d",
   "metadata": {
    "tags": []
   },
   "outputs": [
    {
     "data": {
      "text/plain": [
       "KruskalResult(statistic=5.465564058257224, pvalue=0.0650380998590494)"
      ]
     },
     "execution_count": 15,
     "metadata": {},
     "output_type": "execute_result"
    }
   ],
   "source": [
    "stats.kruskal(gr1, gr2, gr3)"
   ]
  },
  {
   "cell_type": "code",
   "execution_count": 16,
   "id": "772cbde3-a753-462c-8cd0-b85940d43d85",
   "metadata": {
    "tags": []
   },
   "outputs": [
    {
     "name": "stdout",
     "output_type": "stream",
     "text": [
      "pvalue=0.065 > 0.05 верна 0 гипотеза стат. отличий нет\n"
     ]
    }
   ],
   "source": [
    "print(f'pvalue=0.065 > 0.05 верна 0 гипотеза стат. отличий нет')"
   ]
  },
  {
   "cell_type": "markdown",
   "id": "c19f7e2d-750e-42b7-9466-bb191a328363",
   "metadata": {},
   "source": [
    "Задача 5.\n",
    "Заявляется, что партия изготавливается со средним арифметическим 2,5 см.\n",
    "Проверить данную гипотезу, если известно, что размеры изделий подчинены\n",
    "нормальному закону распределения. Объем выборки 10, уровень статистической\n",
    "значимости 5%"
   ]
  },
  {
   "cell_type": "code",
   "execution_count": 17,
   "id": "34e72c66-6d8b-41e1-af53-aa9b764204f7",
   "metadata": {
    "tags": []
   },
   "outputs": [],
   "source": [
    "a = np.array([2.51, 2.35, 2.74, 2.56, 2.40, 2.36, 2.65, 2.7, 2.67, 2.34])\n",
    "aplha = 0.05\n",
    "M_o = 2.5\n",
    "n = len(a)\n",
    "x_mean = np.mean(a)"
   ]
  },
  {
   "cell_type": "code",
   "execution_count": 18,
   "id": "90db1e5c-8ca0-49e5-8817-34e1a8c8b4b4",
   "metadata": {
    "tags": []
   },
   "outputs": [
    {
     "data": {
      "text/plain": [
       "0.1572542173961923"
      ]
     },
     "execution_count": 18,
     "metadata": {},
     "output_type": "execute_result"
    }
   ],
   "source": [
    "sigma = np.std(a, ddof=1)\n",
    "sigma"
   ]
  },
  {
   "cell_type": "code",
   "execution_count": 19,
   "id": "99e55da0-62a2-4c94-baf2-fe7feedef218",
   "metadata": {
    "tags": []
   },
   "outputs": [
    {
     "data": {
      "text/plain": [
       "0.5630613661802959"
      ]
     },
     "execution_count": 19,
     "metadata": {},
     "output_type": "execute_result"
    }
   ],
   "source": [
    "Tr = (x_mean - M_o) / (sigma / np.sqrt(n))\n",
    "Tr"
   ]
  },
  {
   "cell_type": "code",
   "execution_count": 20,
   "id": "359f1a2b-1195-44bd-bd4a-41d41f7ccfb4",
   "metadata": {
    "tags": []
   },
   "outputs": [
    {
     "data": {
      "text/plain": [
       "2.2621571627409915"
      ]
     },
     "execution_count": 20,
     "metadata": {},
     "output_type": "execute_result"
    }
   ],
   "source": [
    "Tk = stats.t.ppf(0.975, 9)\n",
    "Tk"
   ]
  },
  {
   "cell_type": "code",
   "execution_count": 21,
   "id": "b3407925-f8b9-4dc5-a14f-d24c7ef40d3a",
   "metadata": {
    "tags": []
   },
   "outputs": [
    {
     "name": "stdout",
     "output_type": "stream",
     "text": [
      "Tr=0.563 < 2.62 верна 0 гипотеза\n"
     ]
    }
   ],
   "source": [
    "print(f'Tr=0.563 < 2.62 верна 0 гипотеза')"
   ]
  }
 ],
 "metadata": {
  "kernelspec": {
   "display_name": "Python 3 (ipykernel)",
   "language": "python",
   "name": "python3"
  },
  "language_info": {
   "codemirror_mode": {
    "name": "ipython",
    "version": 3
   },
   "file_extension": ".py",
   "mimetype": "text/x-python",
   "name": "python",
   "nbconvert_exporter": "python",
   "pygments_lexer": "ipython3",
   "version": "3.9.17"
  }
 },
 "nbformat": 4,
 "nbformat_minor": 5
}
