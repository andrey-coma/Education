{
 "cells": [
  {
   "cell_type": "code",
   "execution_count": 1,
   "id": "e5d1fdd1-16d3-4ce6-ba10-fa4767a2a923",
   "metadata": {
    "tags": []
   },
   "outputs": [],
   "source": [
    "import numpy as np\n",
    "import math\n",
    "import scipy.stats"
   ]
  },
  {
   "cell_type": "markdown",
   "id": "40eaf52a-9ef1-4df6-945b-5e4af2be0f77",
   "metadata": {},
   "source": [
    "#### Задание 1.\n",
    "Известно, что генеральная совокупность распределена нормально со средним\n",
    "квадратическим отклонением, равным 16. Найти доверительный интервал для\n",
    "оценки математического ожидания a с надежностью 0.95, если выборочная\n",
    "средняя M = 80, а объем выборки n = 256"
   ]
  },
  {
   "cell_type": "code",
   "execution_count": 2,
   "id": "02e21edb-0a8b-4dfd-b6ec-bc695c0e26c7",
   "metadata": {
    "tags": []
   },
   "outputs": [],
   "source": [
    "sigma = 16\n",
    "M = 80\n",
    "n = 256\n",
    "Za2 = 1.96\n",
    "a = 0.05"
   ]
  },
  {
   "cell_type": "code",
   "execution_count": 3,
   "id": "5bb6f8ef-d40e-42c9-99d0-80e47f621462",
   "metadata": {
    "tags": []
   },
   "outputs": [
    {
     "name": "stdout",
     "output_type": "stream",
     "text": [
      "[78.04, 81.96]\n"
     ]
    }
   ],
   "source": [
    "X1 = M - Za2 * sigma / math.sqrt(n)\n",
    "X2 = M + Za2 * sigma / math.sqrt(n)\n",
    "\n",
    "print(f'[{X1}, {X2}]')"
   ]
  },
  {
   "cell_type": "markdown",
   "id": "daba22b7-7693-41ab-b0a9-38730519f757",
   "metadata": {},
   "source": [
    "#### Задача 2.\n",
    "В результате 10 независимых измерений некоторой величины X, выполненных с\n",
    "одинаковой точностью, получены опытные данные: 6.9, 6.1, 6.2, 6.8, 7.5, 6.3, 6.4, 6.9, 6.7, 6.1\n",
    "Предполагая, что результаты измерений подчинены нормальному закону распределения\n",
    "вероятностей, оценить истинное значение величины X при помощи доверительного\n",
    "интервала, покрывающего это значение с доверительной вероятностью 0,95."
   ]
  },
  {
   "cell_type": "code",
   "execution_count": 4,
   "id": "78f53b28-b880-4f5a-9de8-d348c9d277be",
   "metadata": {
    "tags": []
   },
   "outputs": [],
   "source": [
    "a = np.array([6.9, 6.1, 6.2, 6.8, 7.5, 6.3, 6.4, 6.9, 6.7, 6.1])"
   ]
  },
  {
   "cell_type": "code",
   "execution_count": 5,
   "id": "f16e2bce-7c88-4a44-9cb1-c197216d6ec6",
   "metadata": {
    "tags": []
   },
   "outputs": [
    {
     "data": {
      "text/plain": [
       "6.590000000000001"
      ]
     },
     "execution_count": 5,
     "metadata": {},
     "output_type": "execute_result"
    }
   ],
   "source": [
    "x_1 = np.mean(a)\n",
    "x_1"
   ]
  },
  {
   "cell_type": "code",
   "execution_count": 6,
   "id": "e97652c4-d6a1-4417-9b7e-3d2757a9f364",
   "metadata": {
    "tags": []
   },
   "outputs": [
    {
     "data": {
      "text/plain": [
       "0.2032222222222223"
      ]
     },
     "execution_count": 6,
     "metadata": {},
     "output_type": "execute_result"
    }
   ],
   "source": [
    "D = np.var(a, ddof=1)\n",
    "D"
   ]
  },
  {
   "cell_type": "code",
   "execution_count": 7,
   "id": "0ff61229-f48e-431c-a52d-a85ef0e3f0d1",
   "metadata": {
    "tags": []
   },
   "outputs": [
    {
     "data": {
      "text/plain": [
       "2.2621571627409915"
      ]
     },
     "execution_count": 7,
     "metadata": {},
     "output_type": "execute_result"
    }
   ],
   "source": [
    "t_1 = scipy.stats.t.ppf(0.975, 9)\n",
    "t_1"
   ]
  },
  {
   "cell_type": "code",
   "execution_count": 8,
   "id": "597040e2-2613-4acc-8936-d43e57cba337",
   "metadata": {
    "tags": []
   },
   "outputs": [
    {
     "name": "stdout",
     "output_type": "stream",
     "text": [
      "[6.267515851415713, 6.912484148584288]\n"
     ]
    }
   ],
   "source": [
    "X1 = x_1 - t_1 * np.sqrt(D/len(a))\n",
    "X2 = x_1 + t_1 * np.sqrt(D/len(a))\n",
    "print(f'[{X1}, {X2}]')"
   ]
  },
  {
   "cell_type": "markdown",
   "id": "11872e78-5ea5-49ce-89fc-da5b67e60b26",
   "metadata": {},
   "source": [
    "#### Задача 3.\n",
    "Рост дочерей 175, 167, 154, 174, 178, 148, 160, 167, 169, 170 Рост матерей 178, 165,\n",
    "165, 173, 168, 155, 160, 164, 178, 175 Используя эти данные построить 95%\n",
    "доверительный интервал для разности среднего роста родителей и детей"
   ]
  },
  {
   "cell_type": "code",
   "execution_count": 9,
   "id": "5bc9dd33-7ef4-4e70-9519-6ea96b27b16d",
   "metadata": {
    "tags": []
   },
   "outputs": [],
   "source": [
    "X_dot = np.array([175, 167, 154, 174, 178, 148, 160, 167, 169, 170])\n",
    "X_mom = np.array([178, 165, 165, 173, 168, 155, 160, 164, 178, 175])\n",
    "a = 0.05"
   ]
  },
  {
   "cell_type": "code",
   "execution_count": 10,
   "id": "1784aefa-11d8-442d-8eed-a616f6fdab9a",
   "metadata": {
    "tags": []
   },
   "outputs": [
    {
     "data": {
      "text/plain": [
       "166.2"
      ]
     },
     "execution_count": 10,
     "metadata": {},
     "output_type": "execute_result"
    }
   ],
   "source": [
    "X_1 = np.mean(X_dot)\n",
    "X_1"
   ]
  },
  {
   "cell_type": "code",
   "execution_count": 11,
   "id": "2c13c6d2-a35d-4296-a0f6-e683e87b1bbe",
   "metadata": {
    "tags": []
   },
   "outputs": [
    {
     "data": {
      "text/plain": [
       "168.1"
      ]
     },
     "execution_count": 11,
     "metadata": {},
     "output_type": "execute_result"
    }
   ],
   "source": [
    "X_2 = np.mean(X_mom)\n",
    "X_2"
   ]
  },
  {
   "cell_type": "code",
   "execution_count": 12,
   "id": "a973e13f-39f5-49c1-b076-eb09e58c927b",
   "metadata": {
    "tags": []
   },
   "outputs": [
    {
     "data": {
      "text/plain": [
       "1.9000000000000057"
      ]
     },
     "execution_count": 12,
     "metadata": {},
     "output_type": "execute_result"
    }
   ],
   "source": [
    "delta = X_2 - X_1\n",
    "delta"
   ]
  },
  {
   "cell_type": "code",
   "execution_count": 13,
   "id": "5dafe934-fff6-42af-bef1-f9095aa703ed",
   "metadata": {
    "tags": []
   },
   "outputs": [
    {
     "data": {
      "text/plain": [
       "91.06666666666666"
      ]
     },
     "execution_count": 13,
     "metadata": {},
     "output_type": "execute_result"
    }
   ],
   "source": [
    "D1 = np.var(X_dot, ddof=1)\n",
    "D1"
   ]
  },
  {
   "cell_type": "code",
   "execution_count": 14,
   "id": "2ffd1042-9105-4dff-bf6e-8b7391bc3ec1",
   "metadata": {
    "tags": []
   },
   "outputs": [
    {
     "data": {
      "text/plain": [
       "60.10000000000001"
      ]
     },
     "execution_count": 14,
     "metadata": {},
     "output_type": "execute_result"
    }
   ],
   "source": [
    "D2 = np.var(X_mom, ddof=1)\n",
    "D2"
   ]
  },
  {
   "cell_type": "code",
   "execution_count": 15,
   "id": "173c1dd6-ff4f-43c1-9ec3-5aec9091ab40",
   "metadata": {
    "tags": []
   },
   "outputs": [
    {
     "data": {
      "text/plain": [
       "75.58333333333334"
      ]
     },
     "execution_count": 15,
     "metadata": {},
     "output_type": "execute_result"
    }
   ],
   "source": [
    "D = (D1 + D2) / 2\n",
    "D"
   ]
  },
  {
   "cell_type": "code",
   "execution_count": 16,
   "id": "e5e04b7f-4d4c-43a0-8e93-a2f5d7abf112",
   "metadata": {
    "tags": []
   },
   "outputs": [
    {
     "data": {
      "text/plain": [
       "3.8880157750022915"
      ]
     },
     "execution_count": 16,
     "metadata": {},
     "output_type": "execute_result"
    }
   ],
   "source": [
    "SE = np.sqrt(D/len(X_dot) + D/len(X_mom))\n",
    "SE"
   ]
  },
  {
   "cell_type": "code",
   "execution_count": 17,
   "id": "46635d95-b433-4982-8520-41a4a3ca22ea",
   "metadata": {
    "tags": []
   },
   "outputs": [
    {
     "data": {
      "text/plain": [
       "2.10092204024096"
      ]
     },
     "execution_count": 17,
     "metadata": {},
     "output_type": "execute_result"
    }
   ],
   "source": [
    "t = scipy.stats.t.ppf(0.975, 18)\n",
    "t"
   ]
  },
  {
   "cell_type": "code",
   "execution_count": 18,
   "id": "c722f34f-fff0-4380-ab2a-d9cf1dab33db",
   "metadata": {
    "tags": []
   },
   "outputs": [],
   "source": [
    "L = delta - t * SE\n",
    "U = delta + t * SE"
   ]
  },
  {
   "cell_type": "code",
   "execution_count": 19,
   "id": "f7cd9dfb-334a-4f8b-a5de-2f7b1c23e044",
   "metadata": {
    "tags": []
   },
   "outputs": [
    {
     "name": "stdout",
     "output_type": "stream",
     "text": [
      "[-6.268418034506846, 10.068418034506857]\n"
     ]
    }
   ],
   "source": [
    "print(f'[{L}, {U}]')"
   ]
  }
 ],
 "metadata": {
  "kernelspec": {
   "display_name": "Python 3 (ipykernel)",
   "language": "python",
   "name": "python3"
  },
  "language_info": {
   "codemirror_mode": {
    "name": "ipython",
    "version": 3
   },
   "file_extension": ".py",
   "mimetype": "text/x-python",
   "name": "python",
   "nbconvert_exporter": "python",
   "pygments_lexer": "ipython3",
   "version": "3.9.17"
  }
 },
 "nbformat": 4,
 "nbformat_minor": 5
}
