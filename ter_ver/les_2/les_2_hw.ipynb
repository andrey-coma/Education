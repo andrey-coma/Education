{
 "cells": [
  {
   "cell_type": "raw",
   "id": "28f88300-3bce-4bd6-aee8-7a045e85274c",
   "metadata": {},
   "source": [
    "Задание 1.\n",
    "Вероятность того, что стрелок попадет в мишень, выстрелив один раз, равна 0.8.\n",
    "Стрелок выстрелил 100 раз. Найдите вероятность того, что стрелок попадет в\n",
    "цель ровно 85 раз."
   ]
  },
  {
   "cell_type": "code",
   "execution_count": 1,
   "id": "2c6c7d6b-9574-4756-94d3-c4ea0bf70188",
   "metadata": {
    "tags": []
   },
   "outputs": [],
   "source": [
    "import math\n",
    "from scipy.stats import binom, poisson\n",
    "import numpy as np"
   ]
  },
  {
   "cell_type": "raw",
   "id": "3055f0c0-9caa-4b15-8ebb-a3bb98cb61b0",
   "metadata": {},
   "source": [
    "Вероятность p > 0.1, n = 100 Применяем формулу Бернули"
   ]
  },
  {
   "cell_type": "markdown",
   "id": "ecff77a9-6766-4118-aa6a-116d84142e30",
   "metadata": {},
   "source": [
    "### Формула Бернули\n",
    "## $$p(X=k) = C_n^kp^kq^{n-k}$$"
   ]
  },
  {
   "cell_type": "code",
   "execution_count": 2,
   "id": "c81a6fac-e04f-4737-853a-c37ed6ad025b",
   "metadata": {
    "tags": []
   },
   "outputs": [],
   "source": [
    "p = 0.8\n",
    "q = 0.2\n",
    "k = 85\n",
    "n = 100"
   ]
  },
  {
   "cell_type": "code",
   "execution_count": 3,
   "id": "4e2e50da-1bb8-4919-bc20-e59ca7053ec7",
   "metadata": {
    "tags": []
   },
   "outputs": [
    {
     "data": {
      "text/plain": [
       "4.806179370074656"
      ]
     },
     "execution_count": 3,
     "metadata": {},
     "output_type": "execute_result"
    }
   ],
   "source": [
    "P = math.comb(n, k) * p ** k * q ** (n - k) *100\n",
    "P"
   ]
  },
  {
   "cell_type": "code",
   "execution_count": 4,
   "id": "56c2027b-02aa-435b-9714-32234e16dfe3",
   "metadata": {
    "tags": []
   },
   "outputs": [
    {
     "data": {
      "text/plain": [
       "4.80617937007464"
      ]
     },
     "execution_count": 4,
     "metadata": {},
     "output_type": "execute_result"
    }
   ],
   "source": [
    "binom.pmf(k, n, p) * 100"
   ]
  },
  {
   "cell_type": "raw",
   "id": "0506257a-f42b-48a4-9f2f-a9dafd3b7010",
   "metadata": {},
   "source": [
    "Задача 2.\n",
    "Вероятность того, что лампочка перегорит в течение первого дня эксплуатации, равна\n",
    "0.0004. В жилом комплексе после ремонта в один день включили 5000 новых лампочек.\n",
    "Какова вероятность, что ни одна из них не перегорит в первый день? Какова вероятность,\n",
    "что перегорят ровно две?"
   ]
  },
  {
   "cell_type": "raw",
   "id": "182451f7-a912-4fc4-b23b-bdceb118e197",
   "metadata": {
    "tags": []
   },
   "source": [
    "Вероятность p < 0.1, n = 5000 Применяем формулу Пуассона"
   ]
  },
  {
   "cell_type": "markdown",
   "id": "436cbe31-29b9-48e0-a9de-02dcaa42e0a3",
   "metadata": {
    "tags": []
   },
   "source": [
    "### Формула Пуассона\n",
    "## $$P_m \\approx \\frac{\\lambda^m}{m!}e^{-\\lambda}$$"
   ]
  },
  {
   "cell_type": "code",
   "execution_count": 5,
   "id": "3d861a9d-cf1f-4648-96ed-2663b23da9ac",
   "metadata": {
    "tags": []
   },
   "outputs": [],
   "source": [
    "# Какова вероятность, что ни одна из них не перегорит в первый день?\n",
    "p = 0.0004\n",
    "n = 5000\n",
    "m = 0\n",
    "lambda_ = n * p"
   ]
  },
  {
   "cell_type": "code",
   "execution_count": 6,
   "id": "2b1959d8-6fb6-4f89-b376-70b00c794c70",
   "metadata": {
    "tags": []
   },
   "outputs": [
    {
     "data": {
      "text/plain": [
       "13.53352832366127"
      ]
     },
     "execution_count": 6,
     "metadata": {},
     "output_type": "execute_result"
    }
   ],
   "source": [
    "P = (lambda_ ** m) / math.factorial(m) * np.exp(-lambda_)\n",
    "P * 100"
   ]
  },
  {
   "cell_type": "code",
   "execution_count": 7,
   "id": "17e0824f-7443-49eb-b23c-e5f88dadb8d8",
   "metadata": {
    "tags": []
   },
   "outputs": [
    {
     "data": {
      "text/plain": [
       "27.06705664732254"
      ]
     },
     "execution_count": 7,
     "metadata": {},
     "output_type": "execute_result"
    }
   ],
   "source": [
    "# Какова вероятность, что перегорят ровно две?\n",
    "m = 2\n",
    "\n",
    "P = (lambda_ ** m) / math.factorial(m) * np.exp(-lambda_)\n",
    "P * 100"
   ]
  },
  {
   "cell_type": "code",
   "execution_count": 8,
   "id": "ec0e321e-0299-49ac-abb5-796e39dfb673",
   "metadata": {
    "tags": []
   },
   "outputs": [
    {
     "data": {
      "text/plain": [
       "13.53352832366127"
      ]
     },
     "execution_count": 8,
     "metadata": {},
     "output_type": "execute_result"
    }
   ],
   "source": [
    "P = poisson.pmf(0, lambda_)\n",
    "P * 100"
   ]
  },
  {
   "cell_type": "code",
   "execution_count": 9,
   "id": "08275f1d-2434-4afe-8031-21de4302b959",
   "metadata": {
    "tags": []
   },
   "outputs": [
    {
     "data": {
      "text/plain": [
       "27.06705664732254"
      ]
     },
     "execution_count": 9,
     "metadata": {},
     "output_type": "execute_result"
    }
   ],
   "source": [
    "P = poisson.pmf(2, lambda_)\n",
    "P * 100"
   ]
  },
  {
   "cell_type": "raw",
   "id": "9af2c6fd-e903-4112-853b-caa500f8fa20",
   "metadata": {},
   "source": [
    "Задача 3.\n",
    "Монету подбросили 144 раза. Какова вероятность, что орел выпадет ровно 70 раз?"
   ]
  },
  {
   "cell_type": "code",
   "execution_count": 10,
   "id": "48885f3a-16b0-4980-a5ce-97585b78154c",
   "metadata": {
    "tags": []
   },
   "outputs": [],
   "source": [
    "n = 144\n",
    "p = 1/2\n",
    "q = 1/2\n",
    "k = 70"
   ]
  },
  {
   "cell_type": "code",
   "execution_count": 11,
   "id": "2a3d9c03-ad11-4a00-8c1b-0a321d9807a3",
   "metadata": {
    "tags": []
   },
   "outputs": [
    {
     "data": {
      "text/plain": [
       "6.281178035144776"
      ]
     },
     "execution_count": 11,
     "metadata": {},
     "output_type": "execute_result"
    }
   ],
   "source": [
    "P = math.comb(n, k) * p ** k * q ** (n - k) *100\n",
    "P"
   ]
  },
  {
   "cell_type": "code",
   "execution_count": 12,
   "id": "2800cf05-4de7-4151-aa0f-7d1bab5cbb6a",
   "metadata": {
    "tags": []
   },
   "outputs": [
    {
     "data": {
      "text/plain": [
       "6.281178035144771"
      ]
     },
     "execution_count": 12,
     "metadata": {},
     "output_type": "execute_result"
    }
   ],
   "source": [
    "binom.pmf(k, n, p) * 100"
   ]
  },
  {
   "cell_type": "raw",
   "id": "e82ee72a-c441-41d9-bead-d11ee22bd7b8",
   "metadata": {},
   "source": [
    "Задача 4.\n",
    "В первом ящике находится 10 мячей, из которых 7 - белые. Во втором ящике - 11\n",
    "мячей, из которых 9 белых. Из каждого ящика вытаскивают случайным образом\n",
    "по два мяча. \n",
    "\n",
    "1) Какова вероятность того, что все мячи белые? \n",
    "2) Какова вероятность того, что ровно два мяча белые? \n",
    "3) Какова вероятность того, что хотя бы один мяч белый?"
   ]
  },
  {
   "cell_type": "code",
   "execution_count": 13,
   "id": "cccf2fcc-79ab-4bdd-b785-2d2629ec357d",
   "metadata": {
    "tags": []
   },
   "outputs": [],
   "source": [
    "# 1) Какова вероятность того, что все мячи белые? "
   ]
  },
  {
   "cell_type": "code",
   "execution_count": 14,
   "id": "1f969467-0b7d-44b0-bc55-fee44dd52ea0",
   "metadata": {
    "tags": []
   },
   "outputs": [
    {
     "data": {
      "text/plain": [
       "30.545454545454543"
      ]
     },
     "execution_count": 14,
     "metadata": {},
     "output_type": "execute_result"
    }
   ],
   "source": [
    "# по формуле условной вероятносли\n",
    "1 * 7/10 * 6/9 * 1 * 9/11 * 8/10 * 100"
   ]
  },
  {
   "cell_type": "code",
   "execution_count": 15,
   "id": "c1532ce5-e49d-4eb8-bea6-644535705e10",
   "metadata": {
    "tags": []
   },
   "outputs": [
    {
     "data": {
      "text/plain": [
       "46.666666666666664"
      ]
     },
     "execution_count": 15,
     "metadata": {},
     "output_type": "execute_result"
    }
   ],
   "source": [
    "# Возвожные сочетания для 1 корзины\n",
    "P_1 = math.comb(7, 2) / math.comb(10, 2)\n",
    "P_1 * 100"
   ]
  },
  {
   "cell_type": "code",
   "execution_count": 16,
   "id": "649efa3f-bb29-4fb4-aa0e-29d6289efda2",
   "metadata": {
    "tags": []
   },
   "outputs": [
    {
     "data": {
      "text/plain": [
       "65.45454545454545"
      ]
     },
     "execution_count": 16,
     "metadata": {},
     "output_type": "execute_result"
    }
   ],
   "source": [
    "# Возвожные сочетания для 2 корзины\n",
    "P_2 = math.comb(9, 2) / math.comb(11, 2)\n",
    "P_2 * 100"
   ]
  },
  {
   "cell_type": "code",
   "execution_count": 17,
   "id": "06aa1db5-2734-4f8b-b46b-2545f7d9f7e5",
   "metadata": {
    "tags": []
   },
   "outputs": [
    {
     "data": {
      "text/plain": [
       "30.545454545454547"
      ]
     },
     "execution_count": 17,
     "metadata": {},
     "output_type": "execute_result"
    }
   ],
   "source": [
    "P = P_1 * P_2 * 100\n",
    "P"
   ]
  },
  {
   "cell_type": "markdown",
   "id": "ad752be4-162b-4d63-9d26-1ee4c9f6294e",
   "metadata": {
    "tags": []
   },
   "source": [
    "### 2) Какова вероятность того, что ровно два мяча белые? \n",
    "\n",
    "Варианты благоприятных исходов может быть 3:\n",
    "##### --- 1 ящ.|   2 ящ.\n",
    "1.  ББ  |  ЧЧ  или\n",
    "2. ЧБ | ЧБ (порядок не важен) или\n",
    "3. ЧЧ | ББ"
   ]
  },
  {
   "cell_type": "code",
   "execution_count": 18,
   "id": "6dc3304f-3083-40f8-95c8-9e513802c745",
   "metadata": {
    "tags": []
   },
   "outputs": [
    {
     "data": {
      "text/plain": [
       "0.4666666666666667"
      ]
     },
     "execution_count": 18,
     "metadata": {},
     "output_type": "execute_result"
    }
   ],
   "source": [
    "# ЧБ | ЧБ 1 кр\n",
    "P_1_white_1_black = math.comb(7, 1) * math.comb(3, 1) / math.comb(10, 2)\n",
    "P_1_white_1_black"
   ]
  },
  {
   "cell_type": "code",
   "execution_count": 19,
   "id": "e0f144f8-7ecb-458f-aba9-963e035da025",
   "metadata": {},
   "outputs": [
    {
     "data": {
      "text/plain": [
       "0.32727272727272727"
      ]
     },
     "execution_count": 19,
     "metadata": {},
     "output_type": "execute_result"
    }
   ],
   "source": [
    "# ЧБ | ЧБ 1 кр\n",
    "P_2_white_2_black = math.comb(9, 1) * math.comb(2, 1) / math.comb(11, 2)\n",
    "P_2_white_2_black"
   ]
  },
  {
   "cell_type": "code",
   "execution_count": 20,
   "id": "8fb7bfa8-8cea-4f37-b459-d75c9a1242be",
   "metadata": {},
   "outputs": [
    {
     "data": {
      "text/plain": [
       "0.06666666666666667"
      ]
     },
     "execution_count": 20,
     "metadata": {},
     "output_type": "execute_result"
    }
   ],
   "source": [
    "P_black_black1 = math.comb(3, 1) / math.comb(10, 2)\n",
    "P_black_black1"
   ]
  },
  {
   "cell_type": "code",
   "execution_count": 21,
   "id": "bbf86c79-dc40-4410-80aa-c8f4136a7a30",
   "metadata": {},
   "outputs": [
    {
     "data": {
      "text/plain": [
       "0.01818181818181818"
      ]
     },
     "execution_count": 21,
     "metadata": {},
     "output_type": "execute_result"
    }
   ],
   "source": [
    "P_black_black2 = math.comb(2, 2) / math.comb(11, 2)\n",
    "P_black_black2"
   ]
  },
  {
   "cell_type": "code",
   "execution_count": 22,
   "id": "dc476028-fbd0-4216-8c3b-9af5bbce590f",
   "metadata": {},
   "outputs": [
    {
     "name": "stdout",
     "output_type": "stream",
     "text": [
      "вероятность того, что ровно два мяча белые 20.48%\n"
     ]
    }
   ],
   "source": [
    "P = (P_1 * P_black_black2) + (P_1_white_1_black * P_2_white_2_black) + (P_black_black1 * P_2)\n",
    "print(f'вероятность того, что ровно два мяча белые {P * 100:.2f}%')"
   ]
  },
  {
   "cell_type": "markdown",
   "id": "a34db8b1-dfe9-45aa-a499-a66fe6b861e8",
   "metadata": {},
   "source": [
    "### 3) Какова вероятность того, что хотя бы один мяч белый?"
   ]
  },
  {
   "cell_type": "code",
   "execution_count": 23,
   "id": "a1f2d86e-e387-4de1-911f-ffc7070aeedd",
   "metadata": {
    "tags": []
   },
   "outputs": [
    {
     "name": "stdout",
     "output_type": "stream",
     "text": [
      "вероятность того, что хотя бы один мяч белый 99.88%\n"
     ]
    }
   ],
   "source": [
    "P_1_white = 1 - math.comb(3, 2) / math.comb(10, 2) * math.comb(2, 2) / math.comb(11, 2)\n",
    "print(f'вероятность того, что хотя бы один мяч белый {P_1_white * 100:.2f}%')"
   ]
  }
 ],
 "metadata": {
  "kernelspec": {
   "display_name": "Python 3 (ipykernel)",
   "language": "python",
   "name": "python3"
  },
  "language_info": {
   "codemirror_mode": {
    "name": "ipython",
    "version": 3
   },
   "file_extension": ".py",
   "mimetype": "text/x-python",
   "name": "python",
   "nbconvert_exporter": "python",
   "pygments_lexer": "ipython3",
   "version": "3.9.17"
  }
 },
 "nbformat": 4,
 "nbformat_minor": 5
}
