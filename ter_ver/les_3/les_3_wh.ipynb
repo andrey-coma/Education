{
 "cells": [
  {
   "cell_type": "code",
   "execution_count": 1,
   "id": "a5e272d0-ef45-4536-8279-5f7fd74bc336",
   "metadata": {
    "tags": []
   },
   "outputs": [],
   "source": [
    "import numpy as np\n",
    "import math"
   ]
  },
  {
   "cell_type": "markdown",
   "id": "b8c1926b-2b1d-4fd7-a906-62a8ba9ef51b",
   "metadata": {},
   "source": [
    "Даны значения зарплат из выборки выпускников: 100, 80, 75, 77, 89, 33, 45, 25, 65, 17, 30, 24, 57, 55, 70, 75, 65, 84, 90, 150. Посчитать (желательно без использования статистических методов наподобие std, var, mean) среднее арифметическое, среднее квадратичное отклонение, смещенную и несмещенную оценки дисперсий для данной выборки."
   ]
  },
  {
   "cell_type": "code",
   "execution_count": 2,
   "id": "a3426ec5-e279-4084-8857-88a99d0d9b38",
   "metadata": {
    "tags": []
   },
   "outputs": [
    {
     "data": {
      "text/plain": [
       "array([100,  80,  75,  77,  89,  33,  45,  25,  65,  17,  30,  24,  57,\n",
       "        55,  70,  75,  65,  84,  90, 150])"
      ]
     },
     "execution_count": 2,
     "metadata": {},
     "output_type": "execute_result"
    }
   ],
   "source": [
    "salary = np.array((100, 80, 75, 77, 89, 33, 45, 25, 65, 17, 30, 24, 57, 55, 70, 75, 65, 84, 90, 150))\n",
    "salary"
   ]
  },
  {
   "cell_type": "markdown",
   "id": "4265ca3b-c5d7-4bb0-949e-67cd387dd858",
   "metadata": {},
   "source": [
    "### Cреднее арифметическое"
   ]
  },
  {
   "cell_type": "code",
   "execution_count": 3,
   "id": "d5a192cd-180a-4583-bbdf-5547a4a1b71d",
   "metadata": {
    "tags": []
   },
   "outputs": [
    {
     "data": {
      "text/plain": [
       "65.3"
      ]
     },
     "execution_count": 3,
     "metadata": {},
     "output_type": "execute_result"
    }
   ],
   "source": [
    "(sum(salary) / len(salary))"
   ]
  },
  {
   "cell_type": "code",
   "execution_count": 4,
   "id": "d3d02b99-3d67-40d0-84df-0bc904221b2c",
   "metadata": {
    "tags": []
   },
   "outputs": [
    {
     "data": {
      "text/plain": [
       "65.3"
      ]
     },
     "execution_count": 4,
     "metadata": {},
     "output_type": "execute_result"
    }
   ],
   "source": [
    "np.mean(salary)"
   ]
  },
  {
   "cell_type": "markdown",
   "id": "2387747a-1f6b-4d08-81b9-635fbf34e89a",
   "metadata": {},
   "source": [
    "### Среднее квадратичное отклонение"
   ]
  },
  {
   "cell_type": "code",
   "execution_count": 5,
   "id": "834cd9aa-9ad4-468c-82e8-b5a1d7558724",
   "metadata": {
    "tags": []
   },
   "outputs": [],
   "source": [
    "result = []\n",
    "for i in salary:\n",
    "    tmp = (i - np.mean(salary)) ** 2\n",
    "    result.append(tmp)"
   ]
  },
  {
   "cell_type": "code",
   "execution_count": 6,
   "id": "57ff490c-8c80-4b3f-af9a-e96cf1251f8f",
   "metadata": {
    "tags": []
   },
   "outputs": [
    {
     "data": {
      "text/plain": [
       "30.823854398825596"
      ]
     },
     "execution_count": 6,
     "metadata": {},
     "output_type": "execute_result"
    }
   ],
   "source": [
    "salary_std = np.sqrt(sum(result) / len(salary))\n",
    "salary_std"
   ]
  },
  {
   "cell_type": "code",
   "execution_count": 7,
   "id": "105e76a1-402c-4417-b4a4-ef290bab0851",
   "metadata": {
    "tags": []
   },
   "outputs": [
    {
     "data": {
      "text/plain": [
       "30.823854398825596"
      ]
     },
     "execution_count": 7,
     "metadata": {},
     "output_type": "execute_result"
    }
   ],
   "source": [
    "np.std(salary)"
   ]
  },
  {
   "cell_type": "markdown",
   "id": "1ed9b624-4922-4760-bf19-44a7643e43e8",
   "metadata": {},
   "source": [
    "### Cмещенная оценка дисперсий для данной выборки"
   ]
  },
  {
   "cell_type": "code",
   "execution_count": 8,
   "id": "a017d1f7-5fb3-4f7f-b261-9a90b314fd34",
   "metadata": {
    "tags": []
   },
   "outputs": [
    {
     "data": {
      "text/plain": [
       "950.11"
      ]
     },
     "execution_count": 8,
     "metadata": {},
     "output_type": "execute_result"
    }
   ],
   "source": [
    "sum(result) / len(salary)"
   ]
  },
  {
   "cell_type": "code",
   "execution_count": 9,
   "id": "0f456e05-d749-4f96-9e04-a2ee8d7e217d",
   "metadata": {
    "tags": []
   },
   "outputs": [
    {
     "data": {
      "text/plain": [
       "950.11"
      ]
     },
     "execution_count": 9,
     "metadata": {},
     "output_type": "execute_result"
    }
   ],
   "source": [
    "np.var(salary)"
   ]
  },
  {
   "cell_type": "markdown",
   "id": "9227a545-7727-4de4-a5fd-2b7f72da25e0",
   "metadata": {},
   "source": [
    "### Несмещенная оценка дисперсий"
   ]
  },
  {
   "cell_type": "code",
   "execution_count": 10,
   "id": "b578bf45-d053-4d03-b86c-07487ef871bc",
   "metadata": {
    "tags": []
   },
   "outputs": [
    {
     "data": {
      "text/plain": [
       "1000.1157894736842"
      ]
     },
     "execution_count": 10,
     "metadata": {},
     "output_type": "execute_result"
    }
   ],
   "source": [
    "sum(result) / (len(salary) - 1)"
   ]
  },
  {
   "cell_type": "code",
   "execution_count": 11,
   "id": "0f8d8bb0-6892-4dc2-9e1b-78b66fd75c05",
   "metadata": {
    "tags": []
   },
   "outputs": [
    {
     "data": {
      "text/plain": [
       "1000.1157894736842"
      ]
     },
     "execution_count": 11,
     "metadata": {},
     "output_type": "execute_result"
    }
   ],
   "source": [
    "np.var(salary, ddof=1)"
   ]
  },
  {
   "cell_type": "markdown",
   "id": "69a575c2-e74b-4d94-a3cf-24768e7b7c9d",
   "metadata": {
    "tags": []
   },
   "source": [
    "В первом ящике находится 8 мячей, из которых 5 - белые. \n",
    "Во втором ящике - 12 мячей, из которых 5 белых. \n",
    "Из первого ящика вытаскивают случайным образом два мяча, из второго - 4. Какова вероятность того, что 3 мяча белые?"
   ]
  },
  {
   "cell_type": "code",
   "execution_count": 12,
   "id": "b4b07df7-f93e-49d3-923f-3599315393b1",
   "metadata": {
    "tags": []
   },
   "outputs": [],
   "source": [
    "# Возможны варианты:\n",
    "# ЧЧ | БББЧ\n",
    "# ББ | БЧЧЧ\n",
    "# ЧБ | ББЧЧ"
   ]
  },
  {
   "cell_type": "code",
   "execution_count": 13,
   "id": "b62b3c69-934d-47b9-8013-f9694ec4d87b",
   "metadata": {},
   "outputs": [
    {
     "data": {
      "text/plain": [
       "0.01515151515151515"
      ]
     },
     "execution_count": 13,
     "metadata": {},
     "output_type": "execute_result"
    }
   ],
   "source": [
    "P_1 = (math.comb(3, 2) / math.comb(8, 2)) * (math.comb(7, 1) * math.comb(5, 3) / math.comb(12, 4))\n",
    "P_1"
   ]
  },
  {
   "cell_type": "code",
   "execution_count": 14,
   "id": "e28cf488-095c-4c2e-8f42-2c439ff20304",
   "metadata": {},
   "outputs": [
    {
     "data": {
      "text/plain": [
       "0.12626262626262627"
      ]
     },
     "execution_count": 14,
     "metadata": {},
     "output_type": "execute_result"
    }
   ],
   "source": [
    "P_2 = (math.comb(5, 2) / math.comb(8, 2)) * (math.comb(7, 3) * math.comb(5, 1) / math.comb(12, 4))\n",
    "P_2"
   ]
  },
  {
   "cell_type": "code",
   "execution_count": 15,
   "id": "f35e3bfa-188a-46b6-a34a-6c741079ee75",
   "metadata": {
    "tags": []
   },
   "outputs": [
    {
     "data": {
      "text/plain": [
       "0.22727272727272727"
      ]
     },
     "execution_count": 15,
     "metadata": {},
     "output_type": "execute_result"
    }
   ],
   "source": [
    "P_3 = (math.comb(5, 1) * math.comb(3, 1) / math.comb(8, 2)) * (math.comb(7, 2) * math.comb(5, 2) / math.comb(12, 4))\n",
    "P_3"
   ]
  },
  {
   "cell_type": "code",
   "execution_count": 16,
   "id": "7543fb83-3b58-4a2d-b394-c96fc26ba7f8",
   "metadata": {
    "tags": []
   },
   "outputs": [
    {
     "name": "stdout",
     "output_type": "stream",
     "text": [
      "Вероятность, что 3 мяча белые 36.87%\n"
     ]
    }
   ],
   "source": [
    "P = P_1 + P_2 + P_3\n",
    "print(f'Вероятность, что 3 мяча белые {round(P * 100, 2)}%')"
   ]
  },
  {
   "cell_type": "markdown",
   "id": "0bbb40e0-dfeb-49f3-a9a4-a2c373438d18",
   "metadata": {},
   "source": [
    "Задача 3.\n",
    "На соревновании по биатлону один из трех спортсменов стреляет и попадает в\n",
    "мишень. Вероятность попадания для первого спортсмена равна 0.9, для второго\n",
    "— 0.8, для третьего — 0.6. Найти вероятность того, что выстрел произведен:\n",
    "a). первым спортсменом\n",
    "б). вторым спортсменом\n",
    "в). третьим спортсменом."
   ]
  },
  {
   "cell_type": "code",
   "execution_count": 17,
   "id": "05379424-3fe9-4ee4-a387-a9b25ea4a482",
   "metadata": {
    "tags": []
   },
   "outputs": [],
   "source": [
    "p_1 = 0.9\n",
    "p_2 = 0.8\n",
    "p_3 = 0.6\n",
    "\n",
    "PB = 1/3 # Вероятности, что выстрел произведен конкретным спортсменом "
   ]
  },
  {
   "cell_type": "code",
   "execution_count": 18,
   "id": "0780c56c-645d-40a7-b1a6-a25e05cba9c3",
   "metadata": {
    "tags": []
   },
   "outputs": [
    {
     "name": "stdout",
     "output_type": "stream",
     "text": [
      "Полная вероятность наступления события 76.67%\n"
     ]
    }
   ],
   "source": [
    "PA = PB * p_1 + PB * p_2 + PB * p_3\n",
    "print(f'Полная вероятность наступления события {round(PA * 100, 2)}%')"
   ]
  },
  {
   "cell_type": "code",
   "execution_count": 19,
   "id": "6c1b649d-7554-4c6b-8e0e-92d93dbdd150",
   "metadata": {
    "tags": []
   },
   "outputs": [],
   "source": [
    "# Теперь с помощью формулы Байеса найдем вероятсноть для кажого события Bn"
   ]
  },
  {
   "cell_type": "code",
   "execution_count": 20,
   "id": "1abad3f2-f5af-4179-a786-75219028d457",
   "metadata": {},
   "outputs": [
    {
     "name": "stdout",
     "output_type": "stream",
     "text": [
      "Выстрел произведен 1 спортсменом 39.13%\n"
     ]
    }
   ],
   "source": [
    "PA_B1 = PB * p_1 / PA\n",
    "print(f'Выстрел произведен 1 спортсменом {round(PA_B1 * 100, 2)}%')"
   ]
  },
  {
   "cell_type": "code",
   "execution_count": 21,
   "id": "ae730484-ea62-4d5e-92ea-83fdf3eedb2a",
   "metadata": {
    "tags": []
   },
   "outputs": [
    {
     "name": "stdout",
     "output_type": "stream",
     "text": [
      "Выстрел произведен 2 спортсменом 34.78%\n"
     ]
    }
   ],
   "source": [
    "PA_B2 = PB * p_2 / PA\n",
    "print(f'Выстрел произведен 2 спортсменом {round(PA_B2 * 100, 2)}%')"
   ]
  },
  {
   "cell_type": "code",
   "execution_count": 22,
   "id": "a172b554-344d-4ac2-9bf0-b1f66d3ce3c6",
   "metadata": {
    "tags": []
   },
   "outputs": [
    {
     "name": "stdout",
     "output_type": "stream",
     "text": [
      "Выстрел произведен 3 спортсменом 26.09%\n"
     ]
    }
   ],
   "source": [
    "PA_B3 = PB * p_3 / PA\n",
    "print(f'Выстрел произведен 3 спортсменом {round(PA_B3 * 100, 2)}%')"
   ]
  },
  {
   "cell_type": "markdown",
   "id": "82d6720e-b97a-4a3b-bded-f91898c00a2b",
   "metadata": {},
   "source": [
    "В университет на факультеты A и B поступило равное количество студентов, а на факультет C студентов поступило столько же, сколько на A и B вместе. Вероятность того, что студент факультета A сдаст первую сессию, равна 0.8. Для студента факультета B эта вероятность равна 0.7, а для студента факультета C - 0.9. Студент сдал первую сессию. Какова вероятность, что он учится: a). на факультете A б). на факультете B в). на факультете C?"
   ]
  },
  {
   "cell_type": "code",
   "execution_count": 23,
   "id": "e3f2e8b0-dc5f-4a40-a57f-61edfc349177",
   "metadata": {},
   "outputs": [],
   "source": [
    "p_1 = 0.8\n",
    "p_2 = 0.7\n",
    "p_3 = 0.9\n",
    "\n",
    "PB_1 = 1/4 #для факультета A и B\n",
    "PB_2 = 1/2 #для факультета С"
   ]
  },
  {
   "cell_type": "code",
   "execution_count": 24,
   "id": "c0641373-6f0f-4493-981c-73fa0b9fcf03",
   "metadata": {},
   "outputs": [
    {
     "name": "stdout",
     "output_type": "stream",
     "text": [
      "Полная вероятность наступления события 0.825%\n"
     ]
    }
   ],
   "source": [
    "# Найдем полную вероятнсть события (по формуле полной вероятности)\n",
    "\n",
    "PA = PB_1 * p_1 + PB_1 * p_2 + PB_2 * p_3\n",
    "print(f'Полная вероятность наступления события {round(PA , 3)}%')"
   ]
  },
  {
   "cell_type": "code",
   "execution_count": 25,
   "id": "d46c94f6-87a2-4723-bf11-4f5b2cbc7642",
   "metadata": {},
   "outputs": [],
   "source": [
    "# Теперь с помощью формулы Байеса найдем вероятсноть для кажого события Bn"
   ]
  },
  {
   "cell_type": "code",
   "execution_count": 26,
   "id": "09642aa3-b9b8-41f0-b158-0a32158e50a2",
   "metadata": {},
   "outputs": [
    {
     "name": "stdout",
     "output_type": "stream",
     "text": [
      "Для студента факультета A 24.24%\n"
     ]
    }
   ],
   "source": [
    "PA_B1 = PB_1 * p_1 / PA\n",
    "print(f'Для студента факультета A {round(PA_B1 * 100, 2)}%')"
   ]
  },
  {
   "cell_type": "code",
   "execution_count": 27,
   "id": "216c76e6-c4a9-4341-aade-3c4d6a25b47e",
   "metadata": {},
   "outputs": [
    {
     "name": "stdout",
     "output_type": "stream",
     "text": [
      "Для студента факультета B 21.21%\n"
     ]
    }
   ],
   "source": [
    "PA_B2 = PB_1 * p_2 / PA\n",
    "print(f'Для студента факультета B {round(PA_B2 * 100, 2)}%')"
   ]
  },
  {
   "cell_type": "code",
   "execution_count": 28,
   "id": "a2993af8-72dd-4e95-b89a-aac991936c43",
   "metadata": {},
   "outputs": [
    {
     "name": "stdout",
     "output_type": "stream",
     "text": [
      "Для студента факультета C 54.55%\n"
     ]
    }
   ],
   "source": [
    "PA_B3 = PB_2 * p_3 / PA\n",
    "print(f'Для студента факультета C {round(PA_B3 * 100, 2)}%')"
   ]
  },
  {
   "cell_type": "markdown",
   "id": "d047b1b8-ad4a-436d-b954-70df42812394",
   "metadata": {},
   "source": [
    "Устройство состоит из трех деталей. Для первой детали вероятность выйти из строя в первый месяц равна 0.1, для второй - 0.2, для третьей - 0.25. Какова вероятность того, что в первый месяц выйдут из строя: а). все детали б). только две детали в). хотя бы одна деталь г). от одной до двух деталей?"
   ]
  },
  {
   "cell_type": "code",
   "execution_count": 29,
   "id": "52d7c657-445c-4575-9068-e7053384cf1f",
   "metadata": {},
   "outputs": [],
   "source": [
    "p_1 = 0.1  # противополож. событие 0.9\n",
    "p_2 = 0.2  # противополож. событие 0.8\n",
    "p_3 = 0.25   # противополож. событие 0.75"
   ]
  },
  {
   "cell_type": "markdown",
   "id": "2c9150e1-6ec0-453d-8cd2-051033f8d09c",
   "metadata": {},
   "source": [
    "### а). все детали"
   ]
  },
  {
   "cell_type": "code",
   "execution_count": 30,
   "id": "b0f8baa3-86c0-4d39-985a-ba1b65d6f7be",
   "metadata": {},
   "outputs": [
    {
     "name": "stdout",
     "output_type": "stream",
     "text": [
      "Выйдут из строя: а) все детали 0.5%\n"
     ]
    }
   ],
   "source": [
    "P_1 = p_1 * p_2 * p_3\n",
    "print(f'Выйдут из строя: а) все детали {round(P_1 * 100, 2)}%')"
   ]
  },
  {
   "cell_type": "markdown",
   "id": "994867e4-95b0-4e7b-8016-5316e147183c",
   "metadata": {},
   "source": [
    "### б) 2 детали"
   ]
  },
  {
   "cell_type": "code",
   "execution_count": 31,
   "id": "16a3abdb-6473-4497-9319-099b1a9e8f73",
   "metadata": {},
   "outputs": [],
   "source": [
    "# Возможны 3 варанта\n",
    "# A1 A2 A3(противополож)\n",
    "# A2 A3 A1(противополож)\n",
    "# A1 A3 A2(противополож)"
   ]
  },
  {
   "cell_type": "code",
   "execution_count": 32,
   "id": "2f50b6cc-e966-4844-8cba-909517987e93",
   "metadata": {},
   "outputs": [
    {
     "name": "stdout",
     "output_type": "stream",
     "text": [
      "Выйдут из строя: б) 2 детали 8.0%\n"
     ]
    }
   ],
   "source": [
    "P_2 = 0.1 * 0.2 * 0.75 + 0.2 * 0.25 * 0.9 + 0.1 * 0.25 * 0.8\n",
    "print(f'Выйдут из строя: б) 2 детали {round(P_2 * 100, 2)}%')"
   ]
  },
  {
   "cell_type": "markdown",
   "id": "204e003a-e0fb-4b68-b807-c61c281c787b",
   "metadata": {},
   "source": [
    "### в) хотя бы 1 деталь"
   ]
  },
  {
   "cell_type": "code",
   "execution_count": 33,
   "id": "09d67687-fb59-4e2c-94b4-2bb233b30d08",
   "metadata": {},
   "outputs": [
    {
     "name": "stdout",
     "output_type": "stream",
     "text": [
      "Не выйдут из строя детали 54.0%\n"
     ]
    }
   ],
   "source": [
    "# Рассмотрим веротяноть, что ни одна деталь не вышла из строя\n",
    "P_3 = 0.9 * 0.8 * 0.75\n",
    "print(f'Не выйдут из строя детали {round(P_3 * 100, 2)}%')"
   ]
  },
  {
   "cell_type": "code",
   "execution_count": 34,
   "id": "0e929598-3cc8-49bd-951f-403d7ae6a50d",
   "metadata": {},
   "outputs": [
    {
     "name": "stdout",
     "output_type": "stream",
     "text": [
      "Выйдут из строя: в) хотя 1 деталь 46.0%\n"
     ]
    }
   ],
   "source": [
    "P_4 = 1 - P_3\n",
    "print(f'Выйдут из строя: в) хотя 1 деталь {round(P_4 * 100, 2)}%')"
   ]
  },
  {
   "cell_type": "markdown",
   "id": "b0d14f6d-a170-49ac-bbab-ae4042b3abec",
   "metadata": {},
   "source": [
    "### г). от одной до двух деталей"
   ]
  },
  {
   "cell_type": "code",
   "execution_count": 35,
   "id": "b384df36-aff2-4510-bf23-b1d36918c713",
   "metadata": {},
   "outputs": [],
   "source": [
    "# Возможны 3 варанта (для одной детали)\n",
    "# A1 A2(противополож) A3(противополож)\n",
    "# A2 A3(противополож) A1(противополож)\n",
    "# A3 A2(противополож) A1(противополож)"
   ]
  },
  {
   "cell_type": "code",
   "execution_count": 36,
   "id": "bb6d651d-f319-4a19-bd17-2bffbbebbebf",
   "metadata": {},
   "outputs": [
    {
     "name": "stdout",
     "output_type": "stream",
     "text": [
      "Выйдет из строя 1 деталь 37.5%\n"
     ]
    }
   ],
   "source": [
    "P_5 = 0.1 * 0.8 * 0.75 + 0.2 * 0.75 * 0.9 + 0.25 * 0.8 * 0.9\n",
    "print(f'Выйдет из строя 1 деталь {round(P_5 * 100, 2)}%')"
   ]
  },
  {
   "cell_type": "code",
   "execution_count": 37,
   "id": "60f5c07b-68b2-41d4-b7f2-8c6cdcaf3a17",
   "metadata": {},
   "outputs": [
    {
     "name": "stdout",
     "output_type": "stream",
     "text": [
      "Выйдет из строя: от одной до двух деталей 45.5%\n"
     ]
    }
   ],
   "source": [
    "P_6 = P_2 + P_5\n",
    "print(f'Выйдет из строя: от одной до двух деталей {round(P_6 * 100, 2)}%')"
   ]
  }
 ],
 "metadata": {
  "kernelspec": {
   "display_name": "Python 3 (ipykernel)",
   "language": "python",
   "name": "python3"
  },
  "language_info": {
   "codemirror_mode": {
    "name": "ipython",
    "version": 3
   },
   "file_extension": ".py",
   "mimetype": "text/x-python",
   "name": "python",
   "nbconvert_exporter": "python",
   "pygments_lexer": "ipython3",
   "version": "3.9.17"
  }
 },
 "nbformat": 4,
 "nbformat_minor": 5
}
