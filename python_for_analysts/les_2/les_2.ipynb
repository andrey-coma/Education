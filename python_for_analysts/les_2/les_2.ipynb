{
 "cells": [
  {
   "cell_type": "code",
   "execution_count": 1,
   "id": "8f021cba-c9e8-4725-9565-d772aa2e5eac",
   "metadata": {
    "tags": []
   },
   "outputs": [
    {
     "name": "stderr",
     "output_type": "stream",
     "text": [
      "/home/w_lander/anaconda3/envs/dowgrade/lib/python3.9/site-packages/pandas/core/arrays/masked.py:60: UserWarning: Pandas requires version '1.3.6' or newer of 'bottleneck' (version '1.3.5' currently installed).\n",
      "  from pandas.core import (\n"
     ]
    }
   ],
   "source": [
    "import numpy as np\n",
    "import pandas as pd"
   ]
  },
  {
   "cell_type": "markdown",
   "id": "af23e563-af7e-4f0e-939e-57ab67d2ad8b",
   "metadata": {
    "tags": []
   },
   "source": [
    "### Задание 1.\n",
    "1. Скачать данные файл laptop_prices.csv (Дополнительный материал)\n",
    "2. Считать данные с помощью pandas\n",
    "3. Вывести на экран первые 5 строк\n",
    "4. Посмотреть на описание признаков и на их содержание\n",
    "Для решения задач вам может понадобиться файл “Расшифровка\n",
    "таблиц” (Дополнительный материал)"
   ]
  },
  {
   "cell_type": "code",
   "execution_count": 2,
   "id": "bf99c5e5-ffce-4b6e-bf07-46fca7e896ae",
   "metadata": {
    "tags": []
   },
   "outputs": [],
   "source": [
    "df = pd.read_csv('datasetes/laptop_price.csv', sep=',', encoding='cp1251', index_col='laptop_ID')"
   ]
  },
  {
   "cell_type": "code",
   "execution_count": 3,
   "id": "76655bd7-e754-4416-91d7-4f5850beab24",
   "metadata": {
    "tags": []
   },
   "outputs": [
    {
     "data": {
      "text/html": [
       "<div>\n",
       "<style scoped>\n",
       "    .dataframe tbody tr th:only-of-type {\n",
       "        vertical-align: middle;\n",
       "    }\n",
       "\n",
       "    .dataframe tbody tr th {\n",
       "        vertical-align: top;\n",
       "    }\n",
       "\n",
       "    .dataframe thead th {\n",
       "        text-align: right;\n",
       "    }\n",
       "</style>\n",
       "<table border=\"1\" class=\"dataframe\">\n",
       "  <thead>\n",
       "    <tr style=\"text-align: right;\">\n",
       "      <th></th>\n",
       "      <th>Company</th>\n",
       "      <th>Product</th>\n",
       "      <th>TypeName</th>\n",
       "      <th>Inches</th>\n",
       "      <th>ScreenResolution</th>\n",
       "      <th>Cpu</th>\n",
       "      <th>Ram</th>\n",
       "      <th>Memory</th>\n",
       "      <th>Gpu</th>\n",
       "      <th>OpSys</th>\n",
       "      <th>Weight</th>\n",
       "      <th>Price_euros</th>\n",
       "    </tr>\n",
       "    <tr>\n",
       "      <th>laptop_ID</th>\n",
       "      <th></th>\n",
       "      <th></th>\n",
       "      <th></th>\n",
       "      <th></th>\n",
       "      <th></th>\n",
       "      <th></th>\n",
       "      <th></th>\n",
       "      <th></th>\n",
       "      <th></th>\n",
       "      <th></th>\n",
       "      <th></th>\n",
       "      <th></th>\n",
       "    </tr>\n",
       "  </thead>\n",
       "  <tbody>\n",
       "    <tr>\n",
       "      <th>1</th>\n",
       "      <td>Apple</td>\n",
       "      <td>MacBook Pro</td>\n",
       "      <td>Ultrabook</td>\n",
       "      <td>13.3</td>\n",
       "      <td>IPS Panel Retina Display 2560x1600</td>\n",
       "      <td>Intel Core i5 2.3GHz</td>\n",
       "      <td>8GB</td>\n",
       "      <td>128GB SSD</td>\n",
       "      <td>Intel Iris Plus Graphics 640</td>\n",
       "      <td>macOS</td>\n",
       "      <td>1.37kg</td>\n",
       "      <td>1339.69</td>\n",
       "    </tr>\n",
       "    <tr>\n",
       "      <th>2</th>\n",
       "      <td>Apple</td>\n",
       "      <td>Macbook Air</td>\n",
       "      <td>Ultrabook</td>\n",
       "      <td>13.3</td>\n",
       "      <td>1440x900</td>\n",
       "      <td>Intel Core i5 1.8GHz</td>\n",
       "      <td>8GB</td>\n",
       "      <td>128GB Flash Storage</td>\n",
       "      <td>Intel HD Graphics 6000</td>\n",
       "      <td>macOS</td>\n",
       "      <td>1.34kg</td>\n",
       "      <td>898.94</td>\n",
       "    </tr>\n",
       "    <tr>\n",
       "      <th>3</th>\n",
       "      <td>HP</td>\n",
       "      <td>250 G6</td>\n",
       "      <td>Notebook</td>\n",
       "      <td>15.6</td>\n",
       "      <td>Full HD 1920x1080</td>\n",
       "      <td>Intel Core i5 7200U 2.5GHz</td>\n",
       "      <td>8GB</td>\n",
       "      <td>256GB SSD</td>\n",
       "      <td>Intel HD Graphics 620</td>\n",
       "      <td>No OS</td>\n",
       "      <td>1.86kg</td>\n",
       "      <td>575.00</td>\n",
       "    </tr>\n",
       "    <tr>\n",
       "      <th>4</th>\n",
       "      <td>Apple</td>\n",
       "      <td>MacBook Pro</td>\n",
       "      <td>Ultrabook</td>\n",
       "      <td>15.4</td>\n",
       "      <td>IPS Panel Retina Display 2880x1800</td>\n",
       "      <td>Intel Core i7 2.7GHz</td>\n",
       "      <td>16GB</td>\n",
       "      <td>512GB SSD</td>\n",
       "      <td>AMD Radeon Pro 455</td>\n",
       "      <td>macOS</td>\n",
       "      <td>1.83kg</td>\n",
       "      <td>2537.45</td>\n",
       "    </tr>\n",
       "    <tr>\n",
       "      <th>5</th>\n",
       "      <td>Apple</td>\n",
       "      <td>MacBook Pro</td>\n",
       "      <td>Ultrabook</td>\n",
       "      <td>13.3</td>\n",
       "      <td>IPS Panel Retina Display 2560x1600</td>\n",
       "      <td>Intel Core i5 3.1GHz</td>\n",
       "      <td>8GB</td>\n",
       "      <td>256GB SSD</td>\n",
       "      <td>Intel Iris Plus Graphics 650</td>\n",
       "      <td>macOS</td>\n",
       "      <td>1.37kg</td>\n",
       "      <td>1803.60</td>\n",
       "    </tr>\n",
       "  </tbody>\n",
       "</table>\n",
       "</div>"
      ],
      "text/plain": [
       "          Company      Product   TypeName  Inches  \\\n",
       "laptop_ID                                           \n",
       "1           Apple  MacBook Pro  Ultrabook    13.3   \n",
       "2           Apple  Macbook Air  Ultrabook    13.3   \n",
       "3              HP       250 G6   Notebook    15.6   \n",
       "4           Apple  MacBook Pro  Ultrabook    15.4   \n",
       "5           Apple  MacBook Pro  Ultrabook    13.3   \n",
       "\n",
       "                             ScreenResolution                         Cpu  \\\n",
       "laptop_ID                                                                   \n",
       "1          IPS Panel Retina Display 2560x1600        Intel Core i5 2.3GHz   \n",
       "2                                    1440x900        Intel Core i5 1.8GHz   \n",
       "3                           Full HD 1920x1080  Intel Core i5 7200U 2.5GHz   \n",
       "4          IPS Panel Retina Display 2880x1800        Intel Core i7 2.7GHz   \n",
       "5          IPS Panel Retina Display 2560x1600        Intel Core i5 3.1GHz   \n",
       "\n",
       "            Ram               Memory                           Gpu  OpSys  \\\n",
       "laptop_ID                                                                   \n",
       "1           8GB            128GB SSD  Intel Iris Plus Graphics 640  macOS   \n",
       "2           8GB  128GB Flash Storage        Intel HD Graphics 6000  macOS   \n",
       "3           8GB            256GB SSD         Intel HD Graphics 620  No OS   \n",
       "4          16GB            512GB SSD            AMD Radeon Pro 455  macOS   \n",
       "5           8GB            256GB SSD  Intel Iris Plus Graphics 650  macOS   \n",
       "\n",
       "           Weight  Price_euros  \n",
       "laptop_ID                       \n",
       "1          1.37kg      1339.69  \n",
       "2          1.34kg       898.94  \n",
       "3          1.86kg       575.00  \n",
       "4          1.83kg      2537.45  \n",
       "5          1.37kg      1803.60  "
      ]
     },
     "execution_count": 3,
     "metadata": {},
     "output_type": "execute_result"
    }
   ],
   "source": [
    "df.head()"
   ]
  },
  {
   "cell_type": "markdown",
   "id": "96628969-95a1-41ca-9ebc-ee63e9b40cdf",
   "metadata": {
    "tags": []
   },
   "source": [
    "#### Ноутбук laptop_prices. csv\n",
    "\n",
    "1.  Company - компания, которая производит ноутбуки\n",
    "2.   Product - имя ноутбука\n",
    "3.  TypeName - тип ноутбука\n",
    "4.  Inches - диагональ\n",
    "5.  ScreenResolution - разрешение ноутбука\n",
    "6.  Cpu - процессор\n",
    "7.  Ram - ОЗУ\n",
    "8.  Memory - память\n",
    "9.  Gpu - видеокарта\n",
    "10.  OpSys - операционная система\n",
    "11.  Weight - вес ноутбука\n",
    "12.  Price_euros - стоимость ноутбука"
   ]
  },
  {
   "cell_type": "markdown",
   "id": "6eddcb75-fb11-4096-8c1c-85886dda3139",
   "metadata": {},
   "source": [
    "### Задание 2.\n",
    "Проведите первичный анализ данных\n",
    "1. Изучите типы данных\n",
    "2. Найдите количество пропущенных ячеек в данных\n",
    "3. Посчитайте основные статистики по всем признакам и поизучайте их"
   ]
  },
  {
   "cell_type": "code",
   "execution_count": 4,
   "id": "d4875ee2-df80-43e7-857e-68667d588046",
   "metadata": {
    "tags": []
   },
   "outputs": [
    {
     "name": "stdout",
     "output_type": "stream",
     "text": [
      "<class 'pandas.core.frame.DataFrame'>\n",
      "Index: 1303 entries, 1 to 1320\n",
      "Data columns (total 12 columns):\n",
      " #   Column            Non-Null Count  Dtype  \n",
      "---  ------            --------------  -----  \n",
      " 0   Company           1303 non-null   object \n",
      " 1   Product           1303 non-null   object \n",
      " 2   TypeName          1303 non-null   object \n",
      " 3   Inches            1303 non-null   float64\n",
      " 4   ScreenResolution  1303 non-null   object \n",
      " 5   Cpu               1303 non-null   object \n",
      " 6   Ram               1303 non-null   object \n",
      " 7   Memory            1303 non-null   object \n",
      " 8   Gpu               1303 non-null   object \n",
      " 9   OpSys             1303 non-null   object \n",
      " 10  Weight            1303 non-null   object \n",
      " 11  Price_euros       1303 non-null   float64\n",
      "dtypes: float64(2), object(10)\n",
      "memory usage: 132.3+ KB\n"
     ]
    }
   ],
   "source": [
    "df.info()"
   ]
  },
  {
   "cell_type": "code",
   "execution_count": 5,
   "id": "0b917e8b-f643-4eb6-ba91-f5806fcf23aa",
   "metadata": {
    "tags": []
   },
   "outputs": [
    {
     "data": {
      "text/html": [
       "<div>\n",
       "<style scoped>\n",
       "    .dataframe tbody tr th:only-of-type {\n",
       "        vertical-align: middle;\n",
       "    }\n",
       "\n",
       "    .dataframe tbody tr th {\n",
       "        vertical-align: top;\n",
       "    }\n",
       "\n",
       "    .dataframe thead th {\n",
       "        text-align: right;\n",
       "    }\n",
       "</style>\n",
       "<table border=\"1\" class=\"dataframe\">\n",
       "  <thead>\n",
       "    <tr style=\"text-align: right;\">\n",
       "      <th></th>\n",
       "      <th>Inches</th>\n",
       "      <th>Price_euros</th>\n",
       "    </tr>\n",
       "  </thead>\n",
       "  <tbody>\n",
       "    <tr>\n",
       "      <th>count</th>\n",
       "      <td>1303.000000</td>\n",
       "      <td>1303.000000</td>\n",
       "    </tr>\n",
       "    <tr>\n",
       "      <th>mean</th>\n",
       "      <td>15.017191</td>\n",
       "      <td>1123.686992</td>\n",
       "    </tr>\n",
       "    <tr>\n",
       "      <th>std</th>\n",
       "      <td>1.426304</td>\n",
       "      <td>699.009043</td>\n",
       "    </tr>\n",
       "    <tr>\n",
       "      <th>min</th>\n",
       "      <td>10.100000</td>\n",
       "      <td>174.000000</td>\n",
       "    </tr>\n",
       "    <tr>\n",
       "      <th>25%</th>\n",
       "      <td>14.000000</td>\n",
       "      <td>599.000000</td>\n",
       "    </tr>\n",
       "    <tr>\n",
       "      <th>50%</th>\n",
       "      <td>15.600000</td>\n",
       "      <td>977.000000</td>\n",
       "    </tr>\n",
       "    <tr>\n",
       "      <th>75%</th>\n",
       "      <td>15.600000</td>\n",
       "      <td>1487.880000</td>\n",
       "    </tr>\n",
       "    <tr>\n",
       "      <th>max</th>\n",
       "      <td>18.400000</td>\n",
       "      <td>6099.000000</td>\n",
       "    </tr>\n",
       "  </tbody>\n",
       "</table>\n",
       "</div>"
      ],
      "text/plain": [
       "            Inches  Price_euros\n",
       "count  1303.000000  1303.000000\n",
       "mean     15.017191  1123.686992\n",
       "std       1.426304   699.009043\n",
       "min      10.100000   174.000000\n",
       "25%      14.000000   599.000000\n",
       "50%      15.600000   977.000000\n",
       "75%      15.600000  1487.880000\n",
       "max      18.400000  6099.000000"
      ]
     },
     "execution_count": 5,
     "metadata": {},
     "output_type": "execute_result"
    }
   ],
   "source": [
    "df.describe()"
   ]
  },
  {
   "cell_type": "code",
   "execution_count": 6,
   "id": "f1575653-8ea5-47b6-867b-dcff89e29557",
   "metadata": {
    "tags": []
   },
   "outputs": [
    {
     "data": {
      "text/html": [
       "<div>\n",
       "<style scoped>\n",
       "    .dataframe tbody tr th:only-of-type {\n",
       "        vertical-align: middle;\n",
       "    }\n",
       "\n",
       "    .dataframe tbody tr th {\n",
       "        vertical-align: top;\n",
       "    }\n",
       "\n",
       "    .dataframe thead th {\n",
       "        text-align: right;\n",
       "    }\n",
       "</style>\n",
       "<table border=\"1\" class=\"dataframe\">\n",
       "  <thead>\n",
       "    <tr style=\"text-align: right;\">\n",
       "      <th></th>\n",
       "      <th>Company</th>\n",
       "      <th>Product</th>\n",
       "      <th>TypeName</th>\n",
       "      <th>ScreenResolution</th>\n",
       "      <th>Cpu</th>\n",
       "      <th>Ram</th>\n",
       "      <th>Memory</th>\n",
       "      <th>Gpu</th>\n",
       "      <th>OpSys</th>\n",
       "      <th>Weight</th>\n",
       "    </tr>\n",
       "  </thead>\n",
       "  <tbody>\n",
       "    <tr>\n",
       "      <th>count</th>\n",
       "      <td>1303</td>\n",
       "      <td>1303</td>\n",
       "      <td>1303</td>\n",
       "      <td>1303</td>\n",
       "      <td>1303</td>\n",
       "      <td>1303</td>\n",
       "      <td>1303</td>\n",
       "      <td>1303</td>\n",
       "      <td>1303</td>\n",
       "      <td>1303</td>\n",
       "    </tr>\n",
       "    <tr>\n",
       "      <th>unique</th>\n",
       "      <td>19</td>\n",
       "      <td>618</td>\n",
       "      <td>6</td>\n",
       "      <td>40</td>\n",
       "      <td>118</td>\n",
       "      <td>9</td>\n",
       "      <td>39</td>\n",
       "      <td>110</td>\n",
       "      <td>9</td>\n",
       "      <td>179</td>\n",
       "    </tr>\n",
       "    <tr>\n",
       "      <th>top</th>\n",
       "      <td>Dell</td>\n",
       "      <td>XPS 13</td>\n",
       "      <td>Notebook</td>\n",
       "      <td>Full HD 1920x1080</td>\n",
       "      <td>Intel Core i5 7200U 2.5GHz</td>\n",
       "      <td>8GB</td>\n",
       "      <td>256GB SSD</td>\n",
       "      <td>Intel HD Graphics 620</td>\n",
       "      <td>Windows 10</td>\n",
       "      <td>2.2kg</td>\n",
       "    </tr>\n",
       "    <tr>\n",
       "      <th>freq</th>\n",
       "      <td>297</td>\n",
       "      <td>30</td>\n",
       "      <td>727</td>\n",
       "      <td>507</td>\n",
       "      <td>190</td>\n",
       "      <td>619</td>\n",
       "      <td>412</td>\n",
       "      <td>281</td>\n",
       "      <td>1072</td>\n",
       "      <td>121</td>\n",
       "    </tr>\n",
       "  </tbody>\n",
       "</table>\n",
       "</div>"
      ],
      "text/plain": [
       "       Company Product  TypeName   ScreenResolution  \\\n",
       "count     1303    1303      1303               1303   \n",
       "unique      19     618         6                 40   \n",
       "top       Dell  XPS 13  Notebook  Full HD 1920x1080   \n",
       "freq       297      30       727                507   \n",
       "\n",
       "                               Cpu   Ram     Memory                    Gpu  \\\n",
       "count                         1303  1303       1303                   1303   \n",
       "unique                         118     9         39                    110   \n",
       "top     Intel Core i5 7200U 2.5GHz   8GB  256GB SSD  Intel HD Graphics 620   \n",
       "freq                           190   619        412                    281   \n",
       "\n",
       "             OpSys Weight  \n",
       "count         1303   1303  \n",
       "unique           9    179  \n",
       "top     Windows 10  2.2kg  \n",
       "freq          1072    121  "
      ]
     },
     "execution_count": 6,
     "metadata": {},
     "output_type": "execute_result"
    }
   ],
   "source": [
    "df.describe(include=['object'])"
   ]
  },
  {
   "cell_type": "markdown",
   "id": "11652f79-22a4-48ca-ad44-244c65144130",
   "metadata": {},
   "source": [
    "### Задание 3.\n",
    "Ответьте на несколько вопросов\n",
    "\n",
    "3.1 Ноутбуков от какой компании больше всего в наборе\n",
    "данных?\n",
    "\n",
    "3.2 Какая минимальная и максимальная стоимость у\n",
    "ноутбуков в данных?\n",
    "\n",
    "3.3 Какой самый дорогой ноутбук в данных?\n",
    "\n",
    "Выведите все характеристики только по этому ноутбуку\n",
    "Если таких ноутбуков несколько, то выводите их всех"
   ]
  },
  {
   "cell_type": "code",
   "execution_count": 7,
   "id": "215c121a-f43a-4a2e-9f26-bc8db99e0673",
   "metadata": {
    "tags": []
   },
   "outputs": [
    {
     "data": {
      "text/plain": [
       "Company\n",
       "Dell         297\n",
       "Lenovo       297\n",
       "HP           274\n",
       "Asus         158\n",
       "Acer         103\n",
       "MSI           54\n",
       "Toshiba       48\n",
       "Apple         21\n",
       "Samsung        9\n",
       "Razer          7\n",
       "Mediacom       7\n",
       "Microsoft      6\n",
       "Xiaomi         4\n",
       "Vero           4\n",
       "Chuwi          3\n",
       "Google         3\n",
       "Fujitsu        3\n",
       "LG             3\n",
       "Huawei         2\n",
       "Name: count, dtype: int64"
      ]
     },
     "execution_count": 7,
     "metadata": {},
     "output_type": "execute_result"
    }
   ],
   "source": [
    "df['Company'].value_counts()"
   ]
  },
  {
   "cell_type": "code",
   "execution_count": 8,
   "id": "8d8c86c4-4c78-46b3-a266-c7844f484827",
   "metadata": {
    "tags": []
   },
   "outputs": [
    {
     "data": {
      "text/plain": [
       "array(['Apple', 'HP', 'Acer', 'Asus', 'Dell', 'Lenovo', 'Chuwi', 'MSI',\n",
       "       'Microsoft', 'Toshiba', 'Huawei', 'Xiaomi', 'Vero', 'Razer',\n",
       "       'Mediacom', 'Samsung', 'Google', 'Fujitsu', 'LG'], dtype=object)"
      ]
     },
     "execution_count": 8,
     "metadata": {},
     "output_type": "execute_result"
    }
   ],
   "source": [
    "df['Company'].unique()"
   ]
  },
  {
   "cell_type": "code",
   "execution_count": 9,
   "id": "5459a3a8-97a4-449a-8971-939f0a83abfe",
   "metadata": {
    "tags": []
   },
   "outputs": [],
   "source": [
    "max_price = df['Price_euros'].max()"
   ]
  },
  {
   "cell_type": "code",
   "execution_count": 10,
   "id": "d7a8e77b-bc92-4345-8787-7f00df5793ef",
   "metadata": {
    "tags": []
   },
   "outputs": [],
   "source": [
    "min_price = df['Price_euros'].min()"
   ]
  },
  {
   "cell_type": "code",
   "execution_count": 11,
   "id": "bb2a3183-e04f-4f21-aaa1-01e54c635f85",
   "metadata": {
    "tags": []
   },
   "outputs": [
    {
     "name": "stdout",
     "output_type": "stream",
     "text": [
      "минимальная цена: 174.0, максимальная цена: 6099.0\n"
     ]
    }
   ],
   "source": [
    "print(f'минимальная цена: {min_price}, максимальная цена: {max_price}')"
   ]
  },
  {
   "cell_type": "code",
   "execution_count": 12,
   "id": "a164dec1-c3bb-4a63-8ddf-804d7e68029f",
   "metadata": {
    "tags": []
   },
   "outputs": [
    {
     "data": {
      "text/html": [
       "<div>\n",
       "<style scoped>\n",
       "    .dataframe tbody tr th:only-of-type {\n",
       "        vertical-align: middle;\n",
       "    }\n",
       "\n",
       "    .dataframe tbody tr th {\n",
       "        vertical-align: top;\n",
       "    }\n",
       "\n",
       "    .dataframe thead th {\n",
       "        text-align: right;\n",
       "    }\n",
       "</style>\n",
       "<table border=\"1\" class=\"dataframe\">\n",
       "  <thead>\n",
       "    <tr style=\"text-align: right;\">\n",
       "      <th></th>\n",
       "      <th>Company</th>\n",
       "      <th>Product</th>\n",
       "      <th>TypeName</th>\n",
       "      <th>Inches</th>\n",
       "      <th>ScreenResolution</th>\n",
       "      <th>Cpu</th>\n",
       "      <th>Ram</th>\n",
       "      <th>Memory</th>\n",
       "      <th>Gpu</th>\n",
       "      <th>OpSys</th>\n",
       "      <th>Weight</th>\n",
       "      <th>Price_euros</th>\n",
       "    </tr>\n",
       "    <tr>\n",
       "      <th>laptop_ID</th>\n",
       "      <th></th>\n",
       "      <th></th>\n",
       "      <th></th>\n",
       "      <th></th>\n",
       "      <th></th>\n",
       "      <th></th>\n",
       "      <th></th>\n",
       "      <th></th>\n",
       "      <th></th>\n",
       "      <th></th>\n",
       "      <th></th>\n",
       "      <th></th>\n",
       "    </tr>\n",
       "  </thead>\n",
       "  <tbody>\n",
       "    <tr>\n",
       "      <th>200</th>\n",
       "      <td>Razer</td>\n",
       "      <td>Blade Pro</td>\n",
       "      <td>Gaming</td>\n",
       "      <td>17.3</td>\n",
       "      <td>4K Ultra HD / Touchscreen 3840x2160</td>\n",
       "      <td>Intel Core i7 7820HK 2.9GHz</td>\n",
       "      <td>32GB</td>\n",
       "      <td>1TB SSD</td>\n",
       "      <td>Nvidia GeForce GTX 1080</td>\n",
       "      <td>Windows 10</td>\n",
       "      <td>3.49kg</td>\n",
       "      <td>6099.0</td>\n",
       "    </tr>\n",
       "  </tbody>\n",
       "</table>\n",
       "</div>"
      ],
      "text/plain": [
       "          Company    Product TypeName  Inches  \\\n",
       "laptop_ID                                       \n",
       "200         Razer  Blade Pro   Gaming    17.3   \n",
       "\n",
       "                              ScreenResolution                          Cpu  \\\n",
       "laptop_ID                                                                     \n",
       "200        4K Ultra HD / Touchscreen 3840x2160  Intel Core i7 7820HK 2.9GHz   \n",
       "\n",
       "            Ram   Memory                      Gpu       OpSys  Weight  \\\n",
       "laptop_ID                                                               \n",
       "200        32GB  1TB SSD  Nvidia GeForce GTX 1080  Windows 10  3.49kg   \n",
       "\n",
       "           Price_euros  \n",
       "laptop_ID               \n",
       "200             6099.0  "
      ]
     },
     "execution_count": 12,
     "metadata": {},
     "output_type": "execute_result"
    }
   ],
   "source": [
    "df[df['Price_euros'] == df['Price_euros'].max()]"
   ]
  },
  {
   "cell_type": "code",
   "execution_count": 13,
   "id": "bf98f850-3554-4a0a-8a46-1cc86a8155cf",
   "metadata": {
    "tags": []
   },
   "outputs": [
    {
     "data": {
      "text/plain": [
       "Company                                           Razer\n",
       "Product                                       Blade Pro\n",
       "TypeName                                         Gaming\n",
       "Inches                                             17.3\n",
       "ScreenResolution    4K Ultra HD / Touchscreen 3840x2160\n",
       "Cpu                         Intel Core i7 7820HK 2.9GHz\n",
       "Ram                                                32GB\n",
       "Memory                                        512GB SSD\n",
       "Gpu                             Nvidia GeForce GTX 1080\n",
       "OpSys                                        Windows 10\n",
       "Weight                                           3.49kg\n",
       "Price_euros                                      5499.0\n",
       "Name: 839, dtype: object"
      ]
     },
     "execution_count": 13,
     "metadata": {},
     "output_type": "execute_result"
    }
   ],
   "source": [
    "df.sort_values('Price_euros', ascending=False).iloc[1]"
   ]
  },
  {
   "cell_type": "code",
   "execution_count": 14,
   "id": "a7bc5dd7-0847-4738-a00e-ab533343a8f0",
   "metadata": {
    "tags": []
   },
   "outputs": [
    {
     "data": {
      "text/html": [
       "<div>\n",
       "<style scoped>\n",
       "    .dataframe tbody tr th:only-of-type {\n",
       "        vertical-align: middle;\n",
       "    }\n",
       "\n",
       "    .dataframe tbody tr th {\n",
       "        vertical-align: top;\n",
       "    }\n",
       "\n",
       "    .dataframe thead th {\n",
       "        text-align: right;\n",
       "    }\n",
       "</style>\n",
       "<table border=\"1\" class=\"dataframe\">\n",
       "  <thead>\n",
       "    <tr style=\"text-align: right;\">\n",
       "      <th></th>\n",
       "      <th>Company</th>\n",
       "      <th>Product</th>\n",
       "      <th>TypeName</th>\n",
       "      <th>Inches</th>\n",
       "      <th>ScreenResolution</th>\n",
       "      <th>Cpu</th>\n",
       "      <th>Ram</th>\n",
       "      <th>Memory</th>\n",
       "      <th>Gpu</th>\n",
       "      <th>OpSys</th>\n",
       "      <th>Weight</th>\n",
       "      <th>Price_euros</th>\n",
       "    </tr>\n",
       "    <tr>\n",
       "      <th>laptop_ID</th>\n",
       "      <th></th>\n",
       "      <th></th>\n",
       "      <th></th>\n",
       "      <th></th>\n",
       "      <th></th>\n",
       "      <th></th>\n",
       "      <th></th>\n",
       "      <th></th>\n",
       "      <th></th>\n",
       "      <th></th>\n",
       "      <th></th>\n",
       "      <th></th>\n",
       "    </tr>\n",
       "  </thead>\n",
       "  <tbody>\n",
       "    <tr>\n",
       "      <th>1233</th>\n",
       "      <td>Acer</td>\n",
       "      <td>C740-C9QX (3205U/2GB/32GB/Chrome</td>\n",
       "      <td>Netbook</td>\n",
       "      <td>11.6</td>\n",
       "      <td>1366x768</td>\n",
       "      <td>Intel Celeron Dual Core 3205U 1.5GHz</td>\n",
       "      <td>2GB</td>\n",
       "      <td>32GB SSD</td>\n",
       "      <td>Intel HD Graphics</td>\n",
       "      <td>Chrome OS</td>\n",
       "      <td>1.3kg</td>\n",
       "      <td>174.0</td>\n",
       "    </tr>\n",
       "  </tbody>\n",
       "</table>\n",
       "</div>"
      ],
      "text/plain": [
       "          Company                           Product TypeName  Inches  \\\n",
       "laptop_ID                                                              \n",
       "1233         Acer  C740-C9QX (3205U/2GB/32GB/Chrome  Netbook    11.6   \n",
       "\n",
       "          ScreenResolution                                   Cpu  Ram  \\\n",
       "laptop_ID                                                               \n",
       "1233              1366x768  Intel Celeron Dual Core 3205U 1.5GHz  2GB   \n",
       "\n",
       "             Memory                Gpu      OpSys Weight  Price_euros  \n",
       "laptop_ID                                                              \n",
       "1233       32GB SSD  Intel HD Graphics  Chrome OS  1.3kg        174.0  "
      ]
     },
     "execution_count": 14,
     "metadata": {},
     "output_type": "execute_result"
    }
   ],
   "source": [
    "df[df['Price_euros'] == df['Price_euros'].min()]"
   ]
  },
  {
   "cell_type": "markdown",
   "id": "c28fb33a-3de5-462c-9938-05de663dd0cd",
   "metadata": {},
   "source": [
    "### Задание 4.\n",
    "Ответьте на несколько вопросов\n",
    "4.1 Найдите ноутбуки с самой маленькой диагональю в\n",
    "данных?\n",
    "Выведите только следующие характеристики:\n",
    "1. Компания\n",
    "2. Типа ноутбука\n",
    "3. Диагональ\n",
    "4. Стоимость\n",
    "Если таких ноутбуков несколько, то выводите их всех\n",
    "\n",
    "4.2 Сколько стоит самый дорогой ноутбук у компании HP?\n",
    "\n",
    "4.3 Как много ноутбуков Ultrabook с 8GB RAM?\n",
    "\n",
    "Найдите сколько таких ультрабуков с 8GB ОЗУ в процентном соотношении\n",
    "относительно всех ультрабуков"
   ]
  },
  {
   "cell_type": "code",
   "execution_count": 15,
   "id": "ac8a1650-12ed-499c-b925-24421f404f35",
   "metadata": {
    "tags": []
   },
   "outputs": [],
   "source": [
    "signs = ['Company', 'TypeName', 'Inches', 'Price_euros']"
   ]
  },
  {
   "cell_type": "code",
   "execution_count": 16,
   "id": "c406dd12-03a4-46e1-8fcb-9d9c011c6b50",
   "metadata": {
    "tags": []
   },
   "outputs": [
    {
     "data": {
      "text/html": [
       "<div>\n",
       "<style scoped>\n",
       "    .dataframe tbody tr th:only-of-type {\n",
       "        vertical-align: middle;\n",
       "    }\n",
       "\n",
       "    .dataframe tbody tr th {\n",
       "        vertical-align: top;\n",
       "    }\n",
       "\n",
       "    .dataframe thead th {\n",
       "        text-align: right;\n",
       "    }\n",
       "</style>\n",
       "<table border=\"1\" class=\"dataframe\">\n",
       "  <thead>\n",
       "    <tr style=\"text-align: right;\">\n",
       "      <th></th>\n",
       "      <th>Company</th>\n",
       "      <th>TypeName</th>\n",
       "      <th>Inches</th>\n",
       "      <th>Price_euros</th>\n",
       "    </tr>\n",
       "    <tr>\n",
       "      <th>laptop_ID</th>\n",
       "      <th></th>\n",
       "      <th></th>\n",
       "      <th></th>\n",
       "      <th></th>\n",
       "    </tr>\n",
       "  </thead>\n",
       "  <tbody>\n",
       "    <tr>\n",
       "      <th>51</th>\n",
       "      <td>Lenovo</td>\n",
       "      <td>2 in 1 Convertible</td>\n",
       "      <td>10.1</td>\n",
       "      <td>319.00</td>\n",
       "    </tr>\n",
       "    <tr>\n",
       "      <th>1097</th>\n",
       "      <td>Lenovo</td>\n",
       "      <td>2 in 1 Convertible</td>\n",
       "      <td>10.1</td>\n",
       "      <td>646.27</td>\n",
       "    </tr>\n",
       "    <tr>\n",
       "      <th>1129</th>\n",
       "      <td>Lenovo</td>\n",
       "      <td>2 in 1 Convertible</td>\n",
       "      <td>10.1</td>\n",
       "      <td>549.00</td>\n",
       "    </tr>\n",
       "    <tr>\n",
       "      <th>1141</th>\n",
       "      <td>Lenovo</td>\n",
       "      <td>2 in 1 Convertible</td>\n",
       "      <td>10.1</td>\n",
       "      <td>479.00</td>\n",
       "    </tr>\n",
       "  </tbody>\n",
       "</table>\n",
       "</div>"
      ],
      "text/plain": [
       "          Company            TypeName  Inches  Price_euros\n",
       "laptop_ID                                                 \n",
       "51         Lenovo  2 in 1 Convertible    10.1       319.00\n",
       "1097       Lenovo  2 in 1 Convertible    10.1       646.27\n",
       "1129       Lenovo  2 in 1 Convertible    10.1       549.00\n",
       "1141       Lenovo  2 in 1 Convertible    10.1       479.00"
      ]
     },
     "execution_count": 16,
     "metadata": {},
     "output_type": "execute_result"
    }
   ],
   "source": [
    "df[df['Inches'] == df['Inches'].min()][signs]"
   ]
  },
  {
   "cell_type": "code",
   "execution_count": 17,
   "id": "ff2f4718-82ed-46bd-8ad0-290ab0ce20d0",
   "metadata": {
    "tags": []
   },
   "outputs": [
    {
     "data": {
      "text/plain": [
       "4389.0"
      ]
     },
     "execution_count": 17,
     "metadata": {},
     "output_type": "execute_result"
    }
   ],
   "source": [
    "df[df['Company'] == 'HP']['Price_euros'].max()"
   ]
  },
  {
   "cell_type": "code",
   "execution_count": 18,
   "id": "4b3aa926-7111-4d48-a39c-8b5ffe007851",
   "metadata": {
    "tags": []
   },
   "outputs": [
    {
     "data": {
      "text/plain": [
       "Ram\n",
       "8GB     140\n",
       "16GB     36\n",
       "4GB      14\n",
       "12GB      3\n",
       "24GB      1\n",
       "32GB      1\n",
       "6GB       1\n",
       "Name: count, dtype: int64"
      ]
     },
     "execution_count": 18,
     "metadata": {},
     "output_type": "execute_result"
    }
   ],
   "source": [
    "df[df['TypeName'] == 'Ultrabook']['Ram'].value_counts()"
   ]
  },
  {
   "cell_type": "code",
   "execution_count": 19,
   "id": "30baf821-d796-42b8-9707-ef4bf3d2f98a",
   "metadata": {
    "tags": []
   },
   "outputs": [],
   "source": [
    "ultra_8 = df[(df['TypeName'] == 'Ultrabook') & (df['Ram'] == '8GB')].shape[0]\n",
    "ultra = df[(df['TypeName'] == 'Ultrabook')].shape[0]"
   ]
  },
  {
   "cell_type": "code",
   "execution_count": 20,
   "id": "94883b51-50f4-4afc-a34e-b0ae0771f04d",
   "metadata": {
    "tags": []
   },
   "outputs": [
    {
     "data": {
      "text/plain": [
       "71.43"
      ]
     },
     "execution_count": 20,
     "metadata": {},
     "output_type": "execute_result"
    }
   ],
   "source": [
    "round(ultra_8 / ultra * 100, 2)"
   ]
  },
  {
   "cell_type": "markdown",
   "id": "ad5cb6b6-debe-4b55-9b6a-a5f8dba426f6",
   "metadata": {},
   "source": [
    "### Задание 5.\n",
    "5.1 Выберите ноутбук клиенту\n",
    "\n",
    "Клиент хочет подобрать ноутбук с 8GB или 16GB ОЗУ на Windows 10 в\n",
    "стоимости до 500 евро, сколько у него вариантов?\n",
    "\n",
    "5.2 Выберите ноутбук клиенту\n",
    "\n",
    "Клиент хочет подобрать ноутбук от MSI, с видеокартой Nvidia GeForce GTX\n",
    "1050 Ti и главное не с диагональю 15.6. В какой ценовой категории вышли\n",
    "подобные ноутбуки?\n",
    "\n",
    "5.3 Что дешевле?\n",
    "\n",
    "В среднем дешевле ноутбуки с CPU Intel Core i7 7700HQ 2.8GHz или с Intel\n",
    "Core i7 7600U 2.8GHz?"
   ]
  },
  {
   "cell_type": "code",
   "execution_count": 21,
   "id": "1ea1b065-cc78-43d3-bd0a-79defb9f1071",
   "metadata": {
    "tags": []
   },
   "outputs": [],
   "source": [
    "lop_top_client = df[\n",
    "    (df['OpSys'] == 'Windows 10') & \n",
    "    (df['Ram'].isin(['8GB', '16GB'])) &\n",
    "    (df['Price_euros'] <= 500)\n",
    "].shape[0]"
   ]
  },
  {
   "cell_type": "code",
   "execution_count": 22,
   "id": "37ca6ace-edc7-4175-80b1-45a2d8ed893d",
   "metadata": {
    "tags": []
   },
   "outputs": [
    {
     "data": {
      "text/plain": [
       "13"
      ]
     },
     "execution_count": 22,
     "metadata": {},
     "output_type": "execute_result"
    }
   ],
   "source": [
    "lop_top_client"
   ]
  },
  {
   "cell_type": "code",
   "execution_count": 23,
   "id": "393916ce-8088-4e88-8026-94a4924463a9",
   "metadata": {
    "tags": []
   },
   "outputs": [],
   "source": [
    "lop_top_client_2 = df[\n",
    "    (df['Company'] == 'MSI') &\n",
    "    (df['Gpu'] == 'Nvidia GeForce GTX 1050 Ti') &\n",
    "    ~(df['Inches'] == 15.6)\n",
    "]"
   ]
  },
  {
   "cell_type": "code",
   "execution_count": 24,
   "id": "025d9af0-8ea2-4e26-a895-22319dbd563e",
   "metadata": {
    "tags": []
   },
   "outputs": [
    {
     "data": {
      "text/plain": [
       "5"
      ]
     },
     "execution_count": 24,
     "metadata": {},
     "output_type": "execute_result"
    }
   ],
   "source": [
    "lop_top_client_2.shape[0]"
   ]
  },
  {
   "cell_type": "code",
   "execution_count": 25,
   "id": "4a2c5ae0-50e5-4331-a67f-ee1f0d68517f",
   "metadata": {
    "tags": []
   },
   "outputs": [
    {
     "data": {
      "text/plain": [
       "(1199.0, 1599.0)"
      ]
     },
     "execution_count": 25,
     "metadata": {},
     "output_type": "execute_result"
    }
   ],
   "source": [
    "lop_top_client_2['Price_euros'].min(), lop_top_client_2['Price_euros'].max()"
   ]
  },
  {
   "cell_type": "code",
   "execution_count": 26,
   "id": "11dde3fd-cba6-40f1-8a3c-4fb41372d041",
   "metadata": {
    "tags": []
   },
   "outputs": [],
   "source": [
    "cpu_1 = df[df['Cpu'] == 'Intel Core i7 7700HQ 2.8GHz']['Price_euros'].mean()"
   ]
  },
  {
   "cell_type": "code",
   "execution_count": 27,
   "id": "c1beb786-1a42-41c7-b812-fb3ca1b3289d",
   "metadata": {
    "tags": []
   },
   "outputs": [],
   "source": [
    "cpu_2 = df[df['Cpu'] == 'Intel Core i7 7600U 2.8GHz']['Price_euros'].mean()"
   ]
  },
  {
   "cell_type": "code",
   "execution_count": 28,
   "id": "f674724b-c268-43d8-9a11-66386d6a009f",
   "metadata": {
    "tags": []
   },
   "outputs": [
    {
     "data": {
      "text/plain": [
       "(1760.41, 1915.71)"
      ]
     },
     "execution_count": 28,
     "metadata": {},
     "output_type": "execute_result"
    }
   ],
   "source": [
    "round(cpu_1, 2), round(cpu_2, 2)"
   ]
  },
  {
   "cell_type": "code",
   "execution_count": 29,
   "id": "1b99c1e9-9af4-49bc-9ee0-0d76dcf960e0",
   "metadata": {
    "tags": []
   },
   "outputs": [
    {
     "data": {
      "text/html": [
       "<div>\n",
       "<style scoped>\n",
       "    .dataframe tbody tr th:only-of-type {\n",
       "        vertical-align: middle;\n",
       "    }\n",
       "\n",
       "    .dataframe tbody tr th {\n",
       "        vertical-align: top;\n",
       "    }\n",
       "\n",
       "    .dataframe thead th {\n",
       "        text-align: right;\n",
       "    }\n",
       "</style>\n",
       "<table border=\"1\" class=\"dataframe\">\n",
       "  <thead>\n",
       "    <tr style=\"text-align: right;\">\n",
       "      <th></th>\n",
       "      <th>Company</th>\n",
       "      <th>Product</th>\n",
       "      <th>TypeName</th>\n",
       "      <th>Inches</th>\n",
       "      <th>ScreenResolution</th>\n",
       "      <th>Cpu</th>\n",
       "      <th>Ram</th>\n",
       "      <th>Memory</th>\n",
       "      <th>Gpu</th>\n",
       "      <th>OpSys</th>\n",
       "      <th>Weight</th>\n",
       "      <th>Price_euros</th>\n",
       "    </tr>\n",
       "    <tr>\n",
       "      <th>laptop_ID</th>\n",
       "      <th></th>\n",
       "      <th></th>\n",
       "      <th></th>\n",
       "      <th></th>\n",
       "      <th></th>\n",
       "      <th></th>\n",
       "      <th></th>\n",
       "      <th></th>\n",
       "      <th></th>\n",
       "      <th></th>\n",
       "      <th></th>\n",
       "      <th></th>\n",
       "    </tr>\n",
       "  </thead>\n",
       "  <tbody>\n",
       "    <tr>\n",
       "      <th>1</th>\n",
       "      <td>Apple</td>\n",
       "      <td>MacBook Pro</td>\n",
       "      <td>Ultrabook</td>\n",
       "      <td>13.3</td>\n",
       "      <td>IPS Panel Retina Display 2560x1600</td>\n",
       "      <td>Intel Core i5 2.3GHz</td>\n",
       "      <td>8GB</td>\n",
       "      <td>128GB SSD</td>\n",
       "      <td>Intel Iris Plus Graphics 640</td>\n",
       "      <td>macOS</td>\n",
       "      <td>1.37kg</td>\n",
       "      <td>1339.69</td>\n",
       "    </tr>\n",
       "    <tr>\n",
       "      <th>2</th>\n",
       "      <td>Apple</td>\n",
       "      <td>Macbook Air</td>\n",
       "      <td>Ultrabook</td>\n",
       "      <td>13.3</td>\n",
       "      <td>1440x900</td>\n",
       "      <td>Intel Core i5 1.8GHz</td>\n",
       "      <td>8GB</td>\n",
       "      <td>128GB Flash Storage</td>\n",
       "      <td>Intel HD Graphics 6000</td>\n",
       "      <td>macOS</td>\n",
       "      <td>1.34kg</td>\n",
       "      <td>898.94</td>\n",
       "    </tr>\n",
       "    <tr>\n",
       "      <th>3</th>\n",
       "      <td>HP</td>\n",
       "      <td>250 G6</td>\n",
       "      <td>Notebook</td>\n",
       "      <td>15.6</td>\n",
       "      <td>Full HD 1920x1080</td>\n",
       "      <td>Intel Core i5 7200U 2.5GHz</td>\n",
       "      <td>8GB</td>\n",
       "      <td>256GB SSD</td>\n",
       "      <td>Intel HD Graphics 620</td>\n",
       "      <td>No OS</td>\n",
       "      <td>1.86kg</td>\n",
       "      <td>575.00</td>\n",
       "    </tr>\n",
       "    <tr>\n",
       "      <th>4</th>\n",
       "      <td>Apple</td>\n",
       "      <td>MacBook Pro</td>\n",
       "      <td>Ultrabook</td>\n",
       "      <td>15.4</td>\n",
       "      <td>IPS Panel Retina Display 2880x1800</td>\n",
       "      <td>Intel Core i7 2.7GHz</td>\n",
       "      <td>16GB</td>\n",
       "      <td>512GB SSD</td>\n",
       "      <td>AMD Radeon Pro 455</td>\n",
       "      <td>macOS</td>\n",
       "      <td>1.83kg</td>\n",
       "      <td>2537.45</td>\n",
       "    </tr>\n",
       "    <tr>\n",
       "      <th>5</th>\n",
       "      <td>Apple</td>\n",
       "      <td>MacBook Pro</td>\n",
       "      <td>Ultrabook</td>\n",
       "      <td>13.3</td>\n",
       "      <td>IPS Panel Retina Display 2560x1600</td>\n",
       "      <td>Intel Core i5 3.1GHz</td>\n",
       "      <td>8GB</td>\n",
       "      <td>256GB SSD</td>\n",
       "      <td>Intel Iris Plus Graphics 650</td>\n",
       "      <td>macOS</td>\n",
       "      <td>1.37kg</td>\n",
       "      <td>1803.60</td>\n",
       "    </tr>\n",
       "  </tbody>\n",
       "</table>\n",
       "</div>"
      ],
      "text/plain": [
       "          Company      Product   TypeName  Inches  \\\n",
       "laptop_ID                                           \n",
       "1           Apple  MacBook Pro  Ultrabook    13.3   \n",
       "2           Apple  Macbook Air  Ultrabook    13.3   \n",
       "3              HP       250 G6   Notebook    15.6   \n",
       "4           Apple  MacBook Pro  Ultrabook    15.4   \n",
       "5           Apple  MacBook Pro  Ultrabook    13.3   \n",
       "\n",
       "                             ScreenResolution                         Cpu  \\\n",
       "laptop_ID                                                                   \n",
       "1          IPS Panel Retina Display 2560x1600        Intel Core i5 2.3GHz   \n",
       "2                                    1440x900        Intel Core i5 1.8GHz   \n",
       "3                           Full HD 1920x1080  Intel Core i5 7200U 2.5GHz   \n",
       "4          IPS Panel Retina Display 2880x1800        Intel Core i7 2.7GHz   \n",
       "5          IPS Panel Retina Display 2560x1600        Intel Core i5 3.1GHz   \n",
       "\n",
       "            Ram               Memory                           Gpu  OpSys  \\\n",
       "laptop_ID                                                                   \n",
       "1           8GB            128GB SSD  Intel Iris Plus Graphics 640  macOS   \n",
       "2           8GB  128GB Flash Storage        Intel HD Graphics 6000  macOS   \n",
       "3           8GB            256GB SSD         Intel HD Graphics 620  No OS   \n",
       "4          16GB            512GB SSD            AMD Radeon Pro 455  macOS   \n",
       "5           8GB            256GB SSD  Intel Iris Plus Graphics 650  macOS   \n",
       "\n",
       "           Weight  Price_euros  \n",
       "laptop_ID                       \n",
       "1          1.37kg      1339.69  \n",
       "2          1.34kg       898.94  \n",
       "3          1.86kg       575.00  \n",
       "4          1.83kg      2537.45  \n",
       "5          1.37kg      1803.60  "
      ]
     },
     "execution_count": 29,
     "metadata": {},
     "output_type": "execute_result"
    }
   ],
   "source": [
    "df.head()"
   ]
  },
  {
   "cell_type": "code",
   "execution_count": 35,
   "id": "aa3c555b-972e-456b-95ea-dcfbb9619bce",
   "metadata": {
    "tags": []
   },
   "outputs": [],
   "source": [
    "df['Weight'] = df['Weight'].str.replace('kg', '')"
   ]
  },
  {
   "cell_type": "code",
   "execution_count": 41,
   "id": "dd1af92a-1f67-4610-b29f-e0df0d64ff6d",
   "metadata": {
    "tags": []
   },
   "outputs": [
    {
     "data": {
      "text/html": [
       "<div>\n",
       "<style scoped>\n",
       "    .dataframe tbody tr th:only-of-type {\n",
       "        vertical-align: middle;\n",
       "    }\n",
       "\n",
       "    .dataframe tbody tr th {\n",
       "        vertical-align: top;\n",
       "    }\n",
       "\n",
       "    .dataframe thead th {\n",
       "        text-align: right;\n",
       "    }\n",
       "</style>\n",
       "<table border=\"1\" class=\"dataframe\">\n",
       "  <thead>\n",
       "    <tr style=\"text-align: right;\">\n",
       "      <th></th>\n",
       "      <th>Company</th>\n",
       "      <th>Product</th>\n",
       "      <th>TypeName</th>\n",
       "      <th>Inches</th>\n",
       "      <th>ScreenResolution</th>\n",
       "      <th>Cpu</th>\n",
       "      <th>Ram</th>\n",
       "      <th>Memory</th>\n",
       "      <th>Gpu</th>\n",
       "      <th>OpSys</th>\n",
       "      <th>Weight</th>\n",
       "      <th>Price_euros</th>\n",
       "    </tr>\n",
       "    <tr>\n",
       "      <th>laptop_ID</th>\n",
       "      <th></th>\n",
       "      <th></th>\n",
       "      <th></th>\n",
       "      <th></th>\n",
       "      <th></th>\n",
       "      <th></th>\n",
       "      <th></th>\n",
       "      <th></th>\n",
       "      <th></th>\n",
       "      <th></th>\n",
       "      <th></th>\n",
       "      <th></th>\n",
       "    </tr>\n",
       "  </thead>\n",
       "  <tbody>\n",
       "    <tr>\n",
       "      <th>51</th>\n",
       "      <td>Lenovo</td>\n",
       "      <td>Yoga Book</td>\n",
       "      <td>2 in 1 Convertible</td>\n",
       "      <td>10.1</td>\n",
       "      <td>IPS Panel Touchscreen 1920x1200</td>\n",
       "      <td>Intel Atom x5-Z8550 1.44GHz</td>\n",
       "      <td>4GB</td>\n",
       "      <td>64GB Flash Storage</td>\n",
       "      <td>Intel HD Graphics 400</td>\n",
       "      <td>Android</td>\n",
       "      <td>0.69</td>\n",
       "      <td>319.00</td>\n",
       "    </tr>\n",
       "    <tr>\n",
       "      <th>1097</th>\n",
       "      <td>Lenovo</td>\n",
       "      <td>Yoga Book</td>\n",
       "      <td>2 in 1 Convertible</td>\n",
       "      <td>10.1</td>\n",
       "      <td>IPS Panel Touchscreen 1920x1200</td>\n",
       "      <td>Intel Atom x5-Z8550 1.44GHz</td>\n",
       "      <td>4GB</td>\n",
       "      <td>64GB Flash Storage</td>\n",
       "      <td>Intel HD Graphics 400</td>\n",
       "      <td>Windows 10</td>\n",
       "      <td>0.69</td>\n",
       "      <td>646.27</td>\n",
       "    </tr>\n",
       "    <tr>\n",
       "      <th>1129</th>\n",
       "      <td>Lenovo</td>\n",
       "      <td>Yoga Book</td>\n",
       "      <td>2 in 1 Convertible</td>\n",
       "      <td>10.1</td>\n",
       "      <td>IPS Panel Touchscreen 1920x1200</td>\n",
       "      <td>Intel Atom x5-Z8550 1.44GHz</td>\n",
       "      <td>4GB</td>\n",
       "      <td>64GB Flash Storage</td>\n",
       "      <td>Intel HD Graphics 400</td>\n",
       "      <td>Android</td>\n",
       "      <td>0.69</td>\n",
       "      <td>549.00</td>\n",
       "    </tr>\n",
       "    <tr>\n",
       "      <th>1141</th>\n",
       "      <td>Lenovo</td>\n",
       "      <td>Yoga Book</td>\n",
       "      <td>2 in 1 Convertible</td>\n",
       "      <td>10.1</td>\n",
       "      <td>IPS Panel Touchscreen 1920x1200</td>\n",
       "      <td>Intel Atom x5-Z8550 1.44GHz</td>\n",
       "      <td>4GB</td>\n",
       "      <td>64GB Flash Storage</td>\n",
       "      <td>Intel HD Graphics 400</td>\n",
       "      <td>Windows 10</td>\n",
       "      <td>0.69</td>\n",
       "      <td>479.00</td>\n",
       "    </tr>\n",
       "  </tbody>\n",
       "</table>\n",
       "</div>"
      ],
      "text/plain": [
       "          Company    Product            TypeName  Inches  \\\n",
       "laptop_ID                                                  \n",
       "51         Lenovo  Yoga Book  2 in 1 Convertible    10.1   \n",
       "1097       Lenovo  Yoga Book  2 in 1 Convertible    10.1   \n",
       "1129       Lenovo  Yoga Book  2 in 1 Convertible    10.1   \n",
       "1141       Lenovo  Yoga Book  2 in 1 Convertible    10.1   \n",
       "\n",
       "                          ScreenResolution                          Cpu  Ram  \\\n",
       "laptop_ID                                                                      \n",
       "51         IPS Panel Touchscreen 1920x1200  Intel Atom x5-Z8550 1.44GHz  4GB   \n",
       "1097       IPS Panel Touchscreen 1920x1200  Intel Atom x5-Z8550 1.44GHz  4GB   \n",
       "1129       IPS Panel Touchscreen 1920x1200  Intel Atom x5-Z8550 1.44GHz  4GB   \n",
       "1141       IPS Panel Touchscreen 1920x1200  Intel Atom x5-Z8550 1.44GHz  4GB   \n",
       "\n",
       "                       Memory                    Gpu       OpSys Weight  \\\n",
       "laptop_ID                                                                 \n",
       "51         64GB Flash Storage  Intel HD Graphics 400     Android   0.69   \n",
       "1097       64GB Flash Storage  Intel HD Graphics 400  Windows 10   0.69   \n",
       "1129       64GB Flash Storage  Intel HD Graphics 400     Android   0.69   \n",
       "1141       64GB Flash Storage  Intel HD Graphics 400  Windows 10   0.69   \n",
       "\n",
       "           Price_euros  \n",
       "laptop_ID               \n",
       "51              319.00  \n",
       "1097            646.27  \n",
       "1129            549.00  \n",
       "1141            479.00  "
      ]
     },
     "execution_count": 41,
     "metadata": {},
     "output_type": "execute_result"
    }
   ],
   "source": [
    "df[df['Weight'] == df['Weight'].min()]"
   ]
  },
  {
   "cell_type": "code",
   "execution_count": 43,
   "id": "2f11a70c-c177-40d4-8292-0b23036d84e9",
   "metadata": {
    "tags": []
   },
   "outputs": [],
   "source": [
    "df['Weight'] = df['Weight'].astype('float64')"
   ]
  },
  {
   "cell_type": "code",
   "execution_count": 45,
   "id": "485c9308-2a7a-4e3f-91be-d73ef78e34a9",
   "metadata": {
    "tags": []
   },
   "outputs": [
    {
     "data": {
      "text/html": [
       "<div>\n",
       "<style scoped>\n",
       "    .dataframe tbody tr th:only-of-type {\n",
       "        vertical-align: middle;\n",
       "    }\n",
       "\n",
       "    .dataframe tbody tr th {\n",
       "        vertical-align: top;\n",
       "    }\n",
       "\n",
       "    .dataframe thead th {\n",
       "        text-align: right;\n",
       "    }\n",
       "</style>\n",
       "<table border=\"1\" class=\"dataframe\">\n",
       "  <thead>\n",
       "    <tr style=\"text-align: right;\">\n",
       "      <th></th>\n",
       "      <th>Company</th>\n",
       "      <th>Product</th>\n",
       "      <th>TypeName</th>\n",
       "      <th>Inches</th>\n",
       "      <th>ScreenResolution</th>\n",
       "      <th>Cpu</th>\n",
       "      <th>Ram</th>\n",
       "      <th>Memory</th>\n",
       "      <th>Gpu</th>\n",
       "      <th>OpSys</th>\n",
       "      <th>Weight</th>\n",
       "      <th>Price_euros</th>\n",
       "    </tr>\n",
       "    <tr>\n",
       "      <th>laptop_ID</th>\n",
       "      <th></th>\n",
       "      <th></th>\n",
       "      <th></th>\n",
       "      <th></th>\n",
       "      <th></th>\n",
       "      <th></th>\n",
       "      <th></th>\n",
       "      <th></th>\n",
       "      <th></th>\n",
       "      <th></th>\n",
       "      <th></th>\n",
       "      <th></th>\n",
       "    </tr>\n",
       "  </thead>\n",
       "  <tbody>\n",
       "    <tr>\n",
       "      <th>51</th>\n",
       "      <td>Lenovo</td>\n",
       "      <td>Yoga Book</td>\n",
       "      <td>2 in 1 Convertible</td>\n",
       "      <td>10.1</td>\n",
       "      <td>IPS Panel Touchscreen 1920x1200</td>\n",
       "      <td>Intel Atom x5-Z8550 1.44GHz</td>\n",
       "      <td>4GB</td>\n",
       "      <td>64GB Flash Storage</td>\n",
       "      <td>Intel HD Graphics 400</td>\n",
       "      <td>Android</td>\n",
       "      <td>0.69</td>\n",
       "      <td>319.00</td>\n",
       "    </tr>\n",
       "    <tr>\n",
       "      <th>1097</th>\n",
       "      <td>Lenovo</td>\n",
       "      <td>Yoga Book</td>\n",
       "      <td>2 in 1 Convertible</td>\n",
       "      <td>10.1</td>\n",
       "      <td>IPS Panel Touchscreen 1920x1200</td>\n",
       "      <td>Intel Atom x5-Z8550 1.44GHz</td>\n",
       "      <td>4GB</td>\n",
       "      <td>64GB Flash Storage</td>\n",
       "      <td>Intel HD Graphics 400</td>\n",
       "      <td>Windows 10</td>\n",
       "      <td>0.69</td>\n",
       "      <td>646.27</td>\n",
       "    </tr>\n",
       "    <tr>\n",
       "      <th>1129</th>\n",
       "      <td>Lenovo</td>\n",
       "      <td>Yoga Book</td>\n",
       "      <td>2 in 1 Convertible</td>\n",
       "      <td>10.1</td>\n",
       "      <td>IPS Panel Touchscreen 1920x1200</td>\n",
       "      <td>Intel Atom x5-Z8550 1.44GHz</td>\n",
       "      <td>4GB</td>\n",
       "      <td>64GB Flash Storage</td>\n",
       "      <td>Intel HD Graphics 400</td>\n",
       "      <td>Android</td>\n",
       "      <td>0.69</td>\n",
       "      <td>549.00</td>\n",
       "    </tr>\n",
       "    <tr>\n",
       "      <th>1141</th>\n",
       "      <td>Lenovo</td>\n",
       "      <td>Yoga Book</td>\n",
       "      <td>2 in 1 Convertible</td>\n",
       "      <td>10.1</td>\n",
       "      <td>IPS Panel Touchscreen 1920x1200</td>\n",
       "      <td>Intel Atom x5-Z8550 1.44GHz</td>\n",
       "      <td>4GB</td>\n",
       "      <td>64GB Flash Storage</td>\n",
       "      <td>Intel HD Graphics 400</td>\n",
       "      <td>Windows 10</td>\n",
       "      <td>0.69</td>\n",
       "      <td>479.00</td>\n",
       "    </tr>\n",
       "  </tbody>\n",
       "</table>\n",
       "</div>"
      ],
      "text/plain": [
       "          Company    Product            TypeName  Inches  \\\n",
       "laptop_ID                                                  \n",
       "51         Lenovo  Yoga Book  2 in 1 Convertible    10.1   \n",
       "1097       Lenovo  Yoga Book  2 in 1 Convertible    10.1   \n",
       "1129       Lenovo  Yoga Book  2 in 1 Convertible    10.1   \n",
       "1141       Lenovo  Yoga Book  2 in 1 Convertible    10.1   \n",
       "\n",
       "                          ScreenResolution                          Cpu  Ram  \\\n",
       "laptop_ID                                                                      \n",
       "51         IPS Panel Touchscreen 1920x1200  Intel Atom x5-Z8550 1.44GHz  4GB   \n",
       "1097       IPS Panel Touchscreen 1920x1200  Intel Atom x5-Z8550 1.44GHz  4GB   \n",
       "1129       IPS Panel Touchscreen 1920x1200  Intel Atom x5-Z8550 1.44GHz  4GB   \n",
       "1141       IPS Panel Touchscreen 1920x1200  Intel Atom x5-Z8550 1.44GHz  4GB   \n",
       "\n",
       "                       Memory                    Gpu       OpSys  Weight  \\\n",
       "laptop_ID                                                                  \n",
       "51         64GB Flash Storage  Intel HD Graphics 400     Android    0.69   \n",
       "1097       64GB Flash Storage  Intel HD Graphics 400  Windows 10    0.69   \n",
       "1129       64GB Flash Storage  Intel HD Graphics 400     Android    0.69   \n",
       "1141       64GB Flash Storage  Intel HD Graphics 400  Windows 10    0.69   \n",
       "\n",
       "           Price_euros  \n",
       "laptop_ID               \n",
       "51              319.00  \n",
       "1097            646.27  \n",
       "1129            549.00  \n",
       "1141            479.00  "
      ]
     },
     "execution_count": 45,
     "metadata": {},
     "output_type": "execute_result"
    }
   ],
   "source": [
    "df[df['Weight'] == df['Weight'].min()]"
   ]
  }
 ],
 "metadata": {
  "kernelspec": {
   "display_name": "Python 3 (ipykernel)",
   "language": "python",
   "name": "python3"
  },
  "language_info": {
   "codemirror_mode": {
    "name": "ipython",
    "version": 3
   },
   "file_extension": ".py",
   "mimetype": "text/x-python",
   "name": "python",
   "nbconvert_exporter": "python",
   "pygments_lexer": "ipython3",
   "version": "3.9.17"
  }
 },
 "nbformat": 4,
 "nbformat_minor": 5
}
